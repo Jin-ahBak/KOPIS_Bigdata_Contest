{
  "nbformat": 4,
  "nbformat_minor": 0,
  "metadata": {
    "colab": {
      "provenance": [],
      "collapsed_sections": [
        "dO47JLAEYmY1",
        "y-yU0ux_Zqo4"
      ]
    },
    "kernelspec": {
      "name": "python3",
      "display_name": "Python 3"
    },
    "language_info": {
      "name": "python"
    }
  },
  "cells": [
    {
      "cell_type": "markdown",
      "metadata": {
        "id": "dO47JLAEYmY1"
      },
      "source": [
        "## Setting"
      ]
    },
    {
      "cell_type": "markdown",
      "metadata": {
        "id": "mJYf-PSUg9UZ"
      },
      "source": [
        "### 모듈임포트"
      ]
    },
    {
      "cell_type": "code",
      "execution_count": null,
      "metadata": {
        "colab": {
          "base_uri": "https://localhost:8080/"
        },
        "id": "UEmpu9N9-mBC",
        "outputId": "d00fbab3-78d3-41ee-c6a1-9ced270d037a"
      },
      "outputs": [
        {
          "output_type": "stream",
          "name": "stdout",
          "text": [
            "Mounted at /content/drive\n"
          ]
        }
      ],
      "source": [
        "from google.colab import drive\n",
        "drive.mount('/content/drive')"
      ]
    },
    {
      "cell_type": "code",
      "execution_count": null,
      "metadata": {
        "id": "m_Zplqbv8vmm"
      },
      "outputs": [],
      "source": [
        "#io와 pandas 모듈 import\n",
        "import io\n",
        "import pandas as pd\n",
        "import numpy  as np\n",
        "import matplotlib.pyplot as plt\n",
        "import seaborn as sns"
      ]
    },
    {
      "cell_type": "markdown",
      "metadata": {
        "id": "DYtrVlOihAnT"
      },
      "source": [
        "### 데이터불러오기"
      ]
    },
    {
      "cell_type": "code",
      "source": [
        "df = pd.read_excel(\"/content/drive/MyDrive/(데이터)'19년 하반기~ '22년 상반기 공모전 raw데이터_2022_06_21_30_725,021.xlsx\")"
      ],
      "metadata": {
        "id": "B3F0vzl4545x"
      },
      "execution_count": null,
      "outputs": []
    },
    {
      "cell_type": "code",
      "execution_count": null,
      "metadata": {
        "colab": {
          "base_uri": "https://localhost:8080/"
        },
        "id": "eQn5GM-5AeiP",
        "outputId": "952fc992-c154-4c3b-cf64-5dc0b724c68b"
      },
      "outputs": [
        {
          "output_type": "stream",
          "name": "stdout",
          "text": [
            "/content/drive/MyDrive/예술경영 빅데이터 공모전\n"
          ]
        }
      ],
      "source": [
        "%cd '/content/drive/MyDrive/예술경영 빅데이터 공모전'"
      ]
    },
    {
      "cell_type": "code",
      "execution_count": null,
      "metadata": {
        "id": "6sd1nWP99Lsj"
      },
      "outputs": [],
      "source": [
        "#pd.read_excel로 xlsx파일 불러오기\n",
        "data1 = pd.read_excel('test_2206_21_30.xlsx') # 불러오기 소요시간: colab은 12m 44s, local은 11m 8s\n",
        "data1.to_csv(\"data.csv\")"
      ]
    },
    {
      "cell_type": "code",
      "source": [
        "sometrend = pd.read_csv('예술경영_빅데이터공모전.ver진영(긍부정).csv')"
      ],
      "metadata": {
        "id": "cM8K8OgRTgMe"
      },
      "execution_count": null,
      "outputs": []
    },
    {
      "cell_type": "code",
      "source": [
        "data = data1 # 날라가는거 무서우니까 복사."
      ],
      "metadata": {
        "id": "sEdAUrAGEmd7"
      },
      "execution_count": null,
      "outputs": []
    },
    {
      "cell_type": "markdown",
      "metadata": {
        "id": "y-yU0ux_Zqo4"
      },
      "source": [
        "## 데이터정보확인"
      ]
    },
    {
      "cell_type": "code",
      "execution_count": null,
      "metadata": {
        "colab": {
          "base_uri": "https://localhost:8080/"
        },
        "id": "VitPxACz9NC7",
        "outputId": "dea2a531-dd86-49a8-97a4-e7f8ad418e2e"
      },
      "outputs": [
        {
          "output_type": "execute_result",
          "data": {
            "text/plain": [
              "(725021, 68)"
            ]
          },
          "metadata": {},
          "execution_count": 60
        }
      ],
      "source": [
        "data.shape"
      ]
    },
    {
      "cell_type": "code",
      "execution_count": null,
      "metadata": {
        "colab": {
          "base_uri": "https://localhost:8080/"
        },
        "id": "5D7oqgfudeZc",
        "outputId": "66c37568-d381-4d2f-a357-626aff8724da"
      },
      "outputs": [
        {
          "output_type": "stream",
          "name": "stdout",
          "text": [
            "<class 'pandas.core.frame.DataFrame'>\n",
            "RangeIndex: 725021 entries, 0 to 725020\n",
            "Data columns (total 68 columns):\n",
            " #   Column            Non-Null Count   Dtype  \n",
            "---  ------            --------------   -----  \n",
            " 0   전송사업자코드           725021 non-null  object \n",
            " 1   전송사업자명            725021 non-null  object \n",
            " 2   공연시설코드            725021 non-null  object \n",
            " 3   시설특성              725021 non-null  object \n",
            " 4   개관연도              712899 non-null  float64\n",
            " 5   주소                725021 non-null  object \n",
            " 6   편의시설_레스토랑 여부      725021 non-null  object \n",
            " 7   편의시설_카페 여부        725021 non-null  object \n",
            " 8   편의시설_편의점 여부       725021 non-null  object \n",
            " 9   편의시설_놀이방 여부       725021 non-null  object \n",
            " 10  편의시설_수유실 여부       725021 non-null  object \n",
            " 11  장애인시설_주차장 여부      725021 non-null  object \n",
            " 12  장애인시설_화장실 여부      725021 non-null  object \n",
            " 13  장애인시설_경사로 여부      725021 non-null  object \n",
            " 14  장애인시설_전용엘리베이터 여부  725021 non-null  object \n",
            " 15  주차시설_자체 여부        725021 non-null  object \n",
            " 16  주차시설_공영 여부        725021 non-null  object \n",
            " 17  공연장코드             725021 non-null  object \n",
            " 18  좌석수               725021 non-null  int64  \n",
            " 19  장애인석              725021 non-null  object \n",
            " 20  무대시설_오케스트라피트 여부   725021 non-null  object \n",
            " 21  무대시설_연습실 여부       725021 non-null  object \n",
            " 22  무대시설_분장실 여부       725021 non-null  object \n",
            " 23  무대시설_무대넓이         496166 non-null  object \n",
            " 24  공연코드              725021 non-null  object \n",
            " 25  공연회차              725021 non-null  int64  \n",
            " 26  공연일시              725021 non-null  object \n",
            " 27  입장권고유번호           725021 non-null  object \n",
            " 28  예매/취소일시           725021 non-null  object \n",
            " 29  예매/취소구분           725021 non-null  int64  \n",
            " 30  예매/취소매수           725021 non-null  int64  \n",
            " 31  예매/취소금액           725021 non-null  int64  \n",
            " 32  예매/취소방식코드         725021 non-null  int64  \n",
            " 33  예매/취소방식명(관리시스템)   725021 non-null  object \n",
            " 34  예매/취소방식명(전송처)     724574 non-null  object \n",
            " 35  결제수단코드            725021 non-null  int64  \n",
            " 36  결제수단명(관리시스템)      725021 non-null  object \n",
            " 37  결제수단명(전송처)        717559 non-null  object \n",
            " 38  할인금액              725021 non-null  int64  \n",
            " 39  할인종류코드            725021 non-null  int64  \n",
            " 40  할인종류명(관리시스템)      725021 non-null  object \n",
            " 41  할인종류명(전송처)        205006 non-null  object \n",
            " 42  장당금액              725021 non-null  int64  \n",
            " 43  성별                725021 non-null  int64  \n",
            " 44  연령                725021 non-null  int64  \n",
            " 45  공연시작일자            725021 non-null  object \n",
            " 46  공연종료일자            725021 non-null  object \n",
            " 47  소요시간              712482 non-null  object \n",
            " 48  장르명               725021 non-null  object \n",
            " 49  세부장르명             725021 non-null  object \n",
            " 50  공연지역명             725021 non-null  object \n",
            " 51  출연진내용             582303 non-null  object \n",
            " 52  제작진내용             468945 non-null  object \n",
            " 53  기획제작사명            713768 non-null  object \n",
            " 54  원작자명              55735 non-null   object \n",
            " 55  극작가명              21355 non-null   object \n",
            " 56  수상실적              29527 non-null   object \n",
            " 57  관람연령              724875 non-null  object \n",
            " 58  아동공연 여부           725021 non-null  object \n",
            " 59  축제 여부             725021 non-null  object \n",
            " 60  내한공연 여부           725021 non-null  object \n",
            " 61  오픈런 여부            725021 non-null  object \n",
            " 62  판매시작일시            720849 non-null  object \n",
            " 63  판매종료일시            720849 non-null  object \n",
            " 64  좌석등급              685261 non-null  object \n",
            " 65  단독판매여부            725021 non-null  object \n",
            " 66  판매좌석수             702448 non-null  object \n",
            " 67  판매페이지URL          720952 non-null  object \n",
            "dtypes: float64(1), int64(12), object(55)\n",
            "memory usage: 376.1+ MB\n"
          ]
        }
      ],
      "source": [
        "data.info()"
      ]
    },
    {
      "cell_type": "code",
      "execution_count": null,
      "metadata": {
        "colab": {
          "base_uri": "https://localhost:8080/"
        },
        "id": "1kO2CGfEa_pX",
        "outputId": "718c7711-d3eb-4ada-8135-19b56536accb"
      },
      "outputs": [
        {
          "output_type": "execute_result",
          "data": {
            "text/plain": [
              "Index(['전송사업자코드', '전송사업자명', '공연시설코드', '시설특성', '개관연도', '주소', '편의시설_레스토랑 여부',\n",
              "       '편의시설_카페 여부', '편의시설_편의점 여부', '편의시설_놀이방 여부', '편의시설_수유실 여부',\n",
              "       '장애인시설_주차장 여부', '장애인시설_화장실 여부', '장애인시설_경사로 여부', '장애인시설_전용엘리베이터 여부',\n",
              "       '주차시설_자체 여부', '주차시설_공영 여부', '공연장코드', '좌석수', '장애인석', '무대시설_오케스트라피트 여부',\n",
              "       '무대시설_연습실 여부', '무대시설_분장실 여부', '무대시설_무대넓이', '공연코드', '공연회차', '공연일시',\n",
              "       '입장권고유번호', '예매/취소일시', '예매/취소구분', '예매/취소매수', '예매/취소금액', '예매/취소방식코드',\n",
              "       '예매/취소방식명(관리시스템)', '예매/취소방식명(전송처)', '결제수단코드', '결제수단명(관리시스템)',\n",
              "       '결제수단명(전송처)', '할인금액', '할인종류코드', '할인종류명(관리시스템)', '할인종류명(전송처)', '장당금액',\n",
              "       '성별', '연령', '공연시작일자', '공연종료일자', '소요시간', '장르명', '세부장르명', '공연지역명',\n",
              "       '출연진내용', '제작진내용', '기획제작사명', '원작자명', '극작가명', '수상실적', '관람연령', '아동공연 여부',\n",
              "       '축제 여부', '내한공연 여부', '오픈런 여부', '판매시작일시', '판매종료일시', '좌석등급', '단독판매여부',\n",
              "       '판매좌석수', '판매페이지URL'],\n",
              "      dtype='object')"
            ]
          },
          "metadata": {},
          "execution_count": 62
        }
      ],
      "source": [
        "data.columns"
      ]
    },
    {
      "cell_type": "markdown",
      "source": [
        "# ⭐전처리(통합)"
      ],
      "metadata": {
        "id": "KM-RXZ9hTvSr"
      }
    },
    {
      "cell_type": "markdown",
      "source": [
        "1. 크롤링 데이터 처리\n",
        " - bias(긍정, 부정, 중립), bias_perc(%) → 컬럼 생성\n",
        " - 원본 데이터 해당 위치에 join\n",
        " - indicator != both → drop\n",
        "\n",
        "2. 원본 데이터 처리\n",
        " - 공연SW : 소요시간, 장르명, 세부장르명, 공연지역명, 무대시설_4가지\n",
        " - 서비스 : 오픈런여부(티켓팅용이성)\n",
        "\n",
        "\n",
        "(1) 공연HW 입력데이터 전처리   \n",
        "(2) [공연장코드&공연코드] 거래데이터 병합  \n",
        "(3) 회귀분석, 클러스터링 & EDA"
      ],
      "metadata": {
        "id": "6HKkEnnR-sBl"
      }
    },
    {
      "cell_type": "markdown",
      "source": [
        "## 변수 처리"
      ],
      "metadata": {
        "id": "6AgKPYaHaHTz"
      }
    },
    {
      "cell_type": "markdown",
      "metadata": {
        "id": "9Dsv1rNcgIG3"
      },
      "source": [
        "### 라벨 인코딩"
      ]
    },
    {
      "cell_type": "markdown",
      "source": [
        "- 편의시설, 장애시설, 주차시설, 무대시설, 아동공연, 축제, 내한공연, 오픈런, 단독판매여부<br>\n",
        "    → Y=1 / N=0으로 라벨인코딩. Y일 때 WTP와 양의 관계가 있을 것으로 가정할 수 있다. 따라서, 1이 수치적으로 가중의 의미/서열척도로서 의미를 갖도록 0,1라벨링을 진행한다. 주차 시설이 있을 때 높은 점수를 책정하기 때문에 0과 1은 서열척도로서 의미를 갖는다고 본다."
      ],
      "metadata": {
        "id": "O0SGEfvwZN7V"
      }
    },
    {
      "cell_type": "code",
      "execution_count": null,
      "metadata": {
        "id": "E0YJs9gxY9ZL"
      },
      "outputs": [],
      "source": [
        "def label_encoding(df):\n",
        "    result = df.replace({\n",
        "            '편의시설_레스토랑 여부' : {'N' : 0, 'Y': 1},\n",
        "            '편의시설_카페 여부' : {'N' : 0, 'Y': 1},\n",
        "            '편의시설_편의점 여부' : {'N' : 0, 'Y': 1}, \n",
        "            '편의시설_놀이방 여부' : {'N' : 0, 'Y': 1}, \n",
        "            '편의시설_수유실 여부' : {'N' : 0, 'Y': 1},\n",
        "            '장애인시설_주차장 여부' : {'N' : 0, 'Y': 1}, \n",
        "            '장애인시설_화장실 여부' : {'N' : 0, 'Y': 1}, \n",
        "            '장애인시설_경사로 여부' : {'N' : 0, 'Y': 1}, \n",
        "            '장애인시설_전용엘리베이터 여부' : {'N' : 0, 'Y': 1},\n",
        "            '주차시설_자체 여부' : {'N' : 0, 'Y': 1}, \n",
        "            '주차시설_공영 여부' : {'N' : 0, 'Y': 1}, \n",
        "            '무대시설_오케스트라피트 여부' : {'N' : 0, 'Y': 1},\n",
        "            '무대시설_연습실 여부' : {'N' : 0, 'Y': 1}, \n",
        "            '무대시설_분장실 여부' : {'N' : 0, 'Y': 1},\n",
        "            '아동공연 여부'\t: {'N' : 0, 'Y': 1},\n",
        "            '축제 여부'\t: {'N' : 0, 'Y': 1},\n",
        "            '내한공연 여부'\t: {'N' : 0, 'Y': 1},\n",
        "            '오픈런 여부': {'N' : 0, 'Y': 1},\n",
        "            '단독판매여부': {'N' : 0, 'Y': 1},\n",
        "            })    \n",
        "    return result"
      ]
    },
    {
      "cell_type": "code",
      "execution_count": null,
      "metadata": {
        "id": "IN69rtS2Jsn0"
      },
      "outputs": [],
      "source": [
        "data = label_encoding(data)"
      ]
    },
    {
      "cell_type": "code",
      "source": [
        "data.head(1)"
      ],
      "metadata": {
        "colab": {
          "base_uri": "https://localhost:8080/",
          "height": 591
        },
        "id": "LllxijTtUqxu",
        "outputId": "2644784c-2446-4d29-a452-c0134cf30fba"
      },
      "execution_count": null,
      "outputs": [
        {
          "output_type": "execute_result",
          "data": {
            "text/plain": [
              "    전송사업자코드 전송사업자명    공연시설코드      시설특성    개관연도                         주소  \\\n",
              "0  SE000102   티켓링크  FC223315  공공(문예회관)  1975.0  대구광역시 중구 태평로 141 (태평로2가)    \n",
              "\n",
              "   편의시설_레스토랑 여부  편의시설_카페 여부  편의시설_편의점 여부  편의시설_놀이방 여부  ...  아동공연 여부  축제 여부  \\\n",
              "0             0           1            0            0  ...        0      0   \n",
              "\n",
              "   내한공연 여부  오픈런 여부               판매시작일시               판매종료일시     좌석등급 단독판매여부  \\\n",
              "0        0       0  2022/06/09 00:00:00  2022/06/20 17:00:00  전석무료(0)      N   \n",
              "\n",
              "   판매좌석수                                   판매페이지URL  \n",
              "0     1석  http://www.ticketlink.co.kr/product/38972  \n",
              "\n",
              "[1 rows x 68 columns]"
            ],
            "text/html": [
              "\n",
              "  <div id=\"df-5221ad2a-e9a1-4640-9104-7814ee1b14a8\">\n",
              "    <div class=\"colab-df-container\">\n",
              "      <div>\n",
              "<style scoped>\n",
              "    .dataframe tbody tr th:only-of-type {\n",
              "        vertical-align: middle;\n",
              "    }\n",
              "\n",
              "    .dataframe tbody tr th {\n",
              "        vertical-align: top;\n",
              "    }\n",
              "\n",
              "    .dataframe thead th {\n",
              "        text-align: right;\n",
              "    }\n",
              "</style>\n",
              "<table border=\"1\" class=\"dataframe\">\n",
              "  <thead>\n",
              "    <tr style=\"text-align: right;\">\n",
              "      <th></th>\n",
              "      <th>전송사업자코드</th>\n",
              "      <th>전송사업자명</th>\n",
              "      <th>공연시설코드</th>\n",
              "      <th>시설특성</th>\n",
              "      <th>개관연도</th>\n",
              "      <th>주소</th>\n",
              "      <th>편의시설_레스토랑 여부</th>\n",
              "      <th>편의시설_카페 여부</th>\n",
              "      <th>편의시설_편의점 여부</th>\n",
              "      <th>편의시설_놀이방 여부</th>\n",
              "      <th>...</th>\n",
              "      <th>아동공연 여부</th>\n",
              "      <th>축제 여부</th>\n",
              "      <th>내한공연 여부</th>\n",
              "      <th>오픈런 여부</th>\n",
              "      <th>판매시작일시</th>\n",
              "      <th>판매종료일시</th>\n",
              "      <th>좌석등급</th>\n",
              "      <th>단독판매여부</th>\n",
              "      <th>판매좌석수</th>\n",
              "      <th>판매페이지URL</th>\n",
              "    </tr>\n",
              "  </thead>\n",
              "  <tbody>\n",
              "    <tr>\n",
              "      <th>0</th>\n",
              "      <td>SE000102</td>\n",
              "      <td>티켓링크</td>\n",
              "      <td>FC223315</td>\n",
              "      <td>공공(문예회관)</td>\n",
              "      <td>1975.0</td>\n",
              "      <td>대구광역시 중구 태평로 141 (태평로2가)</td>\n",
              "      <td>0</td>\n",
              "      <td>1</td>\n",
              "      <td>0</td>\n",
              "      <td>0</td>\n",
              "      <td>...</td>\n",
              "      <td>0</td>\n",
              "      <td>0</td>\n",
              "      <td>0</td>\n",
              "      <td>0</td>\n",
              "      <td>2022/06/09 00:00:00</td>\n",
              "      <td>2022/06/20 17:00:00</td>\n",
              "      <td>전석무료(0)</td>\n",
              "      <td>N</td>\n",
              "      <td>1석</td>\n",
              "      <td>http://www.ticketlink.co.kr/product/38972</td>\n",
              "    </tr>\n",
              "  </tbody>\n",
              "</table>\n",
              "<p>1 rows × 68 columns</p>\n",
              "</div>\n",
              "      <button class=\"colab-df-convert\" onclick=\"convertToInteractive('df-5221ad2a-e9a1-4640-9104-7814ee1b14a8')\"\n",
              "              title=\"Convert this dataframe to an interactive table.\"\n",
              "              style=\"display:none;\">\n",
              "        \n",
              "  <svg xmlns=\"http://www.w3.org/2000/svg\" height=\"24px\"viewBox=\"0 0 24 24\"\n",
              "       width=\"24px\">\n",
              "    <path d=\"M0 0h24v24H0V0z\" fill=\"none\"/>\n",
              "    <path d=\"M18.56 5.44l.94 2.06.94-2.06 2.06-.94-2.06-.94-.94-2.06-.94 2.06-2.06.94zm-11 1L8.5 8.5l.94-2.06 2.06-.94-2.06-.94L8.5 2.5l-.94 2.06-2.06.94zm10 10l.94 2.06.94-2.06 2.06-.94-2.06-.94-.94-2.06-.94 2.06-2.06.94z\"/><path d=\"M17.41 7.96l-1.37-1.37c-.4-.4-.92-.59-1.43-.59-.52 0-1.04.2-1.43.59L10.3 9.45l-7.72 7.72c-.78.78-.78 2.05 0 2.83L4 21.41c.39.39.9.59 1.41.59.51 0 1.02-.2 1.41-.59l7.78-7.78 2.81-2.81c.8-.78.8-2.07 0-2.86zM5.41 20L4 18.59l7.72-7.72 1.47 1.35L5.41 20z\"/>\n",
              "  </svg>\n",
              "      </button>\n",
              "      \n",
              "  <style>\n",
              "    .colab-df-container {\n",
              "      display:flex;\n",
              "      flex-wrap:wrap;\n",
              "      gap: 12px;\n",
              "    }\n",
              "\n",
              "    .colab-df-convert {\n",
              "      background-color: #E8F0FE;\n",
              "      border: none;\n",
              "      border-radius: 50%;\n",
              "      cursor: pointer;\n",
              "      display: none;\n",
              "      fill: #1967D2;\n",
              "      height: 32px;\n",
              "      padding: 0 0 0 0;\n",
              "      width: 32px;\n",
              "    }\n",
              "\n",
              "    .colab-df-convert:hover {\n",
              "      background-color: #E2EBFA;\n",
              "      box-shadow: 0px 1px 2px rgba(60, 64, 67, 0.3), 0px 1px 3px 1px rgba(60, 64, 67, 0.15);\n",
              "      fill: #174EA6;\n",
              "    }\n",
              "\n",
              "    [theme=dark] .colab-df-convert {\n",
              "      background-color: #3B4455;\n",
              "      fill: #D2E3FC;\n",
              "    }\n",
              "\n",
              "    [theme=dark] .colab-df-convert:hover {\n",
              "      background-color: #434B5C;\n",
              "      box-shadow: 0px 1px 3px 1px rgba(0, 0, 0, 0.15);\n",
              "      filter: drop-shadow(0px 1px 2px rgba(0, 0, 0, 0.3));\n",
              "      fill: #FFFFFF;\n",
              "    }\n",
              "  </style>\n",
              "\n",
              "      <script>\n",
              "        const buttonEl =\n",
              "          document.querySelector('#df-5221ad2a-e9a1-4640-9104-7814ee1b14a8 button.colab-df-convert');\n",
              "        buttonEl.style.display =\n",
              "          google.colab.kernel.accessAllowed ? 'block' : 'none';\n",
              "\n",
              "        async function convertToInteractive(key) {\n",
              "          const element = document.querySelector('#df-5221ad2a-e9a1-4640-9104-7814ee1b14a8');\n",
              "          const dataTable =\n",
              "            await google.colab.kernel.invokeFunction('convertToInteractive',\n",
              "                                                     [key], {});\n",
              "          if (!dataTable) return;\n",
              "\n",
              "          const docLinkHtml = 'Like what you see? Visit the ' +\n",
              "            '<a target=\"_blank\" href=https://colab.research.google.com/notebooks/data_table.ipynb>data table notebook</a>'\n",
              "            + ' to learn more about interactive tables.';\n",
              "          element.innerHTML = '';\n",
              "          dataTable['output_type'] = 'display_data';\n",
              "          await google.colab.output.renderOutput(dataTable, element);\n",
              "          const docLink = document.createElement('div');\n",
              "          docLink.innerHTML = docLinkHtml;\n",
              "          element.appendChild(docLink);\n",
              "        }\n",
              "      </script>\n",
              "    </div>\n",
              "  </div>\n",
              "  "
            ]
          },
          "metadata": {},
          "execution_count": 65
        }
      ]
    },
    {
      "cell_type": "markdown",
      "metadata": {
        "id": "745AOSvSgPIA"
      },
      "source": [
        "### 원-핫 인코딩<br>\n",
        "- 장르명, 시설특성, 성별, 공연지역명 미진행"
      ]
    },
    {
      "cell_type": "markdown",
      "metadata": {
        "id": "2iJKj36Mhna3"
      },
      "source": [
        "#### 시설특성"
      ]
    },
    {
      "cell_type": "code",
      "execution_count": null,
      "metadata": {
        "colab": {
          "base_uri": "https://localhost:8080/"
        },
        "id": "OsYcqjeb-ZvW",
        "outputId": "2543c297-6260-4be3-aa48-40330d513076"
      },
      "outputs": [
        {
          "output_type": "execute_result",
          "data": {
            "text/plain": [
              "array([[0., 1., 0., 0., 0., 0.],\n",
              "       [0., 1., 0., 0., 0., 0.],\n",
              "       [0., 1., 0., 0., 0., 0.],\n",
              "       ...,\n",
              "       [0., 0., 1., 0., 0., 0.],\n",
              "       [0., 0., 1., 0., 0., 0.],\n",
              "       [0., 0., 1., 0., 0., 0.]])"
            ]
          },
          "metadata": {},
          "execution_count": 91
        }
      ],
      "source": [
        "from sklearn.preprocessing import OneHotEncoder\n",
        "\n",
        "ohe = OneHotEncoder(sparse=False)\n",
        "# fit_transform은 train에만 사용하고 test에는 학습된 인코더에 fit만 해야한다\n",
        "df_pre_ohe = ohe.fit_transform(df_pre[['시설특성']])\n",
        "df_pre_ohe"
      ]
    },
    {
      "cell_type": "code",
      "execution_count": null,
      "metadata": {
        "colab": {
          "base_uri": "https://localhost:8080/"
        },
        "id": "cTOExkM3eMle",
        "outputId": "3160537e-7849-49b0-a84e-ee9dcbc2b9a8"
      },
      "outputs": [
        {
          "output_type": "execute_result",
          "data": {
            "text/plain": [
              "[array(['공공(기타)', '공공(문예회관)', '국립', '기타(비공연장)', '민간(대학로 외)', '민간(대학로)'],\n",
              "       dtype=object)]"
            ]
          },
          "metadata": {},
          "execution_count": 92
        }
      ],
      "source": [
        "ohe.categories_"
      ]
    },
    {
      "cell_type": "code",
      "execution_count": null,
      "metadata": {
        "colab": {
          "base_uri": "https://localhost:8080/"
        },
        "id": "kQsBVvSmeQy_",
        "outputId": "b656729f-9f76-4872-f10f-1664593e8a7d"
      },
      "outputs": [
        {
          "output_type": "execute_result",
          "data": {
            "text/plain": [
              "   시설특성공공(기타)  시설특성공공(문예회관)  시설특성국립  시설특성기타(비공연장)  시설특성민간(대학로 외)  시설특성민간(대학로)\n",
              "0         0.0           1.0     0.0           0.0            0.0          0.0\n",
              "1         0.0           1.0     0.0           0.0            0.0          0.0\n",
              "2         0.0           1.0     0.0           0.0            0.0          0.0\n",
              "3         0.0           1.0     0.0           0.0            0.0          0.0\n",
              "4         0.0           1.0     0.0           0.0            0.0          0.0"
            ],
            "text/html": [
              "\n",
              "  <div id=\"df-a782241d-9b6c-4b21-8c69-f7884d15d59a\">\n",
              "    <div class=\"colab-df-container\">\n",
              "      <div>\n",
              "<style scoped>\n",
              "    .dataframe tbody tr th:only-of-type {\n",
              "        vertical-align: middle;\n",
              "    }\n",
              "\n",
              "    .dataframe tbody tr th {\n",
              "        vertical-align: top;\n",
              "    }\n",
              "\n",
              "    .dataframe thead th {\n",
              "        text-align: right;\n",
              "    }\n",
              "</style>\n",
              "<table border=\"1\" class=\"dataframe\">\n",
              "  <thead>\n",
              "    <tr style=\"text-align: right;\">\n",
              "      <th></th>\n",
              "      <th>시설특성공공(기타)</th>\n",
              "      <th>시설특성공공(문예회관)</th>\n",
              "      <th>시설특성국립</th>\n",
              "      <th>시설특성기타(비공연장)</th>\n",
              "      <th>시설특성민간(대학로 외)</th>\n",
              "      <th>시설특성민간(대학로)</th>\n",
              "    </tr>\n",
              "  </thead>\n",
              "  <tbody>\n",
              "    <tr>\n",
              "      <th>0</th>\n",
              "      <td>0.0</td>\n",
              "      <td>1.0</td>\n",
              "      <td>0.0</td>\n",
              "      <td>0.0</td>\n",
              "      <td>0.0</td>\n",
              "      <td>0.0</td>\n",
              "    </tr>\n",
              "    <tr>\n",
              "      <th>1</th>\n",
              "      <td>0.0</td>\n",
              "      <td>1.0</td>\n",
              "      <td>0.0</td>\n",
              "      <td>0.0</td>\n",
              "      <td>0.0</td>\n",
              "      <td>0.0</td>\n",
              "    </tr>\n",
              "    <tr>\n",
              "      <th>2</th>\n",
              "      <td>0.0</td>\n",
              "      <td>1.0</td>\n",
              "      <td>0.0</td>\n",
              "      <td>0.0</td>\n",
              "      <td>0.0</td>\n",
              "      <td>0.0</td>\n",
              "    </tr>\n",
              "    <tr>\n",
              "      <th>3</th>\n",
              "      <td>0.0</td>\n",
              "      <td>1.0</td>\n",
              "      <td>0.0</td>\n",
              "      <td>0.0</td>\n",
              "      <td>0.0</td>\n",
              "      <td>0.0</td>\n",
              "    </tr>\n",
              "    <tr>\n",
              "      <th>4</th>\n",
              "      <td>0.0</td>\n",
              "      <td>1.0</td>\n",
              "      <td>0.0</td>\n",
              "      <td>0.0</td>\n",
              "      <td>0.0</td>\n",
              "      <td>0.0</td>\n",
              "    </tr>\n",
              "  </tbody>\n",
              "</table>\n",
              "</div>\n",
              "      <button class=\"colab-df-convert\" onclick=\"convertToInteractive('df-a782241d-9b6c-4b21-8c69-f7884d15d59a')\"\n",
              "              title=\"Convert this dataframe to an interactive table.\"\n",
              "              style=\"display:none;\">\n",
              "        \n",
              "  <svg xmlns=\"http://www.w3.org/2000/svg\" height=\"24px\"viewBox=\"0 0 24 24\"\n",
              "       width=\"24px\">\n",
              "    <path d=\"M0 0h24v24H0V0z\" fill=\"none\"/>\n",
              "    <path d=\"M18.56 5.44l.94 2.06.94-2.06 2.06-.94-2.06-.94-.94-2.06-.94 2.06-2.06.94zm-11 1L8.5 8.5l.94-2.06 2.06-.94-2.06-.94L8.5 2.5l-.94 2.06-2.06.94zm10 10l.94 2.06.94-2.06 2.06-.94-2.06-.94-.94-2.06-.94 2.06-2.06.94z\"/><path d=\"M17.41 7.96l-1.37-1.37c-.4-.4-.92-.59-1.43-.59-.52 0-1.04.2-1.43.59L10.3 9.45l-7.72 7.72c-.78.78-.78 2.05 0 2.83L4 21.41c.39.39.9.59 1.41.59.51 0 1.02-.2 1.41-.59l7.78-7.78 2.81-2.81c.8-.78.8-2.07 0-2.86zM5.41 20L4 18.59l7.72-7.72 1.47 1.35L5.41 20z\"/>\n",
              "  </svg>\n",
              "      </button>\n",
              "      \n",
              "  <style>\n",
              "    .colab-df-container {\n",
              "      display:flex;\n",
              "      flex-wrap:wrap;\n",
              "      gap: 12px;\n",
              "    }\n",
              "\n",
              "    .colab-df-convert {\n",
              "      background-color: #E8F0FE;\n",
              "      border: none;\n",
              "      border-radius: 50%;\n",
              "      cursor: pointer;\n",
              "      display: none;\n",
              "      fill: #1967D2;\n",
              "      height: 32px;\n",
              "      padding: 0 0 0 0;\n",
              "      width: 32px;\n",
              "    }\n",
              "\n",
              "    .colab-df-convert:hover {\n",
              "      background-color: #E2EBFA;\n",
              "      box-shadow: 0px 1px 2px rgba(60, 64, 67, 0.3), 0px 1px 3px 1px rgba(60, 64, 67, 0.15);\n",
              "      fill: #174EA6;\n",
              "    }\n",
              "\n",
              "    [theme=dark] .colab-df-convert {\n",
              "      background-color: #3B4455;\n",
              "      fill: #D2E3FC;\n",
              "    }\n",
              "\n",
              "    [theme=dark] .colab-df-convert:hover {\n",
              "      background-color: #434B5C;\n",
              "      box-shadow: 0px 1px 3px 1px rgba(0, 0, 0, 0.15);\n",
              "      filter: drop-shadow(0px 1px 2px rgba(0, 0, 0, 0.3));\n",
              "      fill: #FFFFFF;\n",
              "    }\n",
              "  </style>\n",
              "\n",
              "      <script>\n",
              "        const buttonEl =\n",
              "          document.querySelector('#df-a782241d-9b6c-4b21-8c69-f7884d15d59a button.colab-df-convert');\n",
              "        buttonEl.style.display =\n",
              "          google.colab.kernel.accessAllowed ? 'block' : 'none';\n",
              "\n",
              "        async function convertToInteractive(key) {\n",
              "          const element = document.querySelector('#df-a782241d-9b6c-4b21-8c69-f7884d15d59a');\n",
              "          const dataTable =\n",
              "            await google.colab.kernel.invokeFunction('convertToInteractive',\n",
              "                                                     [key], {});\n",
              "          if (!dataTable) return;\n",
              "\n",
              "          const docLinkHtml = 'Like what you see? Visit the ' +\n",
              "            '<a target=\"_blank\" href=https://colab.research.google.com/notebooks/data_table.ipynb>data table notebook</a>'\n",
              "            + ' to learn more about interactive tables.';\n",
              "          element.innerHTML = '';\n",
              "          dataTable['output_type'] = 'display_data';\n",
              "          await google.colab.output.renderOutput(dataTable, element);\n",
              "          const docLink = document.createElement('div');\n",
              "          docLink.innerHTML = docLinkHtml;\n",
              "          element.appendChild(docLink);\n",
              "        }\n",
              "      </script>\n",
              "    </div>\n",
              "  </div>\n",
              "  "
            ]
          },
          "metadata": {},
          "execution_count": 93
        }
      ],
      "source": [
        "ohe_result = pd.DataFrame(df_pre_ohe, columns = ['시설특성' + col for col in ohe.categories_[0]])\n",
        "ohe_result.head()"
      ]
    },
    {
      "cell_type": "code",
      "execution_count": null,
      "metadata": {
        "id": "OLjglKmJfBKo"
      },
      "outputs": [],
      "source": [
        "# column bind\n",
        "df_pre = pd.concat([df_pre, ohe_result], axis = 1)"
      ]
    },
    {
      "cell_type": "code",
      "execution_count": null,
      "metadata": {
        "colab": {
          "base_uri": "https://localhost:8080/"
        },
        "id": "31RkCRsdg0sX",
        "outputId": "89651e45-a70e-476b-d64e-8b77e736aa5d"
      },
      "outputs": [
        {
          "output_type": "execute_result",
          "data": {
            "text/plain": [
              "         전송사업자코드 전송사업자명    공연시설코드 시설특성    개관연도                         주소  \\\n",
              "725020  FC000003   국립극장  FC222225   국립  1973.0  서울특별시 중구 장충단로 59 (장충동2가)    \n",
              "\n",
              "        나이대  편의시설_레스토랑 여부  편의시설_카페 여부  편의시설_편의점 여부  편의시설_놀이방 여부  편의시설_수유실 여부  \\\n",
              "725020    0             0           0            1            0            0   \n",
              "\n",
              "        장애인시설_주차장 여부  장애인시설_화장실 여부  장애인시설_경사로 여부  장애인시설_전용엘리베이터 여부  \\\n",
              "725020             0             1             1                 1   \n",
              "\n",
              "        주차시설_자체 여부  주차시설_공영 여부        공연장코드  좌석수 장애인석  무대시설_오케스트라피트 여부  \\\n",
              "725020           1           0  FC222225-01  627    6                0   \n",
              "\n",
              "        무대시설_연습실 여부  무대시설_분장실 여부 무대시설_무대넓이      공연코드  공연회차  \\\n",
              "725020            1            1      1401  PF313820     1   \n",
              "\n",
              "                      공연일시             입장권고유번호           예매/취소일시  예매/취소구분  \\\n",
              "725020 2022-06-26 13:00:00  280262577541900032  2022-06-25 18:37        1   \n",
              "\n",
              "        예매/취소매수  예매/취소금액  예매/취소방식코드 예매/취소방식명(관리시스템) 예매/취소방식명(전송처)  결제수단코드  \\\n",
              "725020        1        0          3              현장            현장      99   \n",
              "\n",
              "       결제수단명(관리시스템) 결제수단명(전송처)   할인금액  할인종류코드 할인종류명(관리시스템) 할인종류명(전송처)   장당금액  \\\n",
              "725020           기타        NaN  20000      99           기타   초대권 100%  20000   \n",
              "\n",
              "        성별    연령      공연시작일자      공연종료일자 소요시간 장르명 세부장르명 공연지역명  \\\n",
              "725020   0  2023  2022-06-22  2022-06-26  NaN  무용  한국무용    서울   \n",
              "\n",
              "                                      출연진내용 제작진내용  \\\n",
              "725020  박윤미, 김지윤, 신화원, 임은주, 이수진, 홍연지, 장인숙 등   NaN   \n",
              "\n",
              "                                  기획제작사명 원작자명 극작가명 수상실적     관람연령  아동공연 여부  \\\n",
              "725020  (사)보훈무용예술협회(주최), (사)보훈무용예술협회(주관)  NaN  NaN  NaN  만 7세 이상        0   \n",
              "\n",
              "        축제 여부  내한공연 여부  오픈런 여부               판매시작일시               판매종료일시  \\\n",
              "725020      1        0       0  2022/05/18 10:00:00  2022/06/25 17:00:00   \n",
              "\n",
              "                                                     좌석등급  단독판매여부 판매좌석수  \\\n",
              "725020  22,24,25일 공연(50000), 23일 공연(30000), 26일 공연(20000)       0   627   \n",
              "\n",
              "                                                 판매페이지URL  공연일시_연  공연일시_월  \\\n",
              "725020  https://www.ntok.go.kr/kr/Ticket/Performance/D...    2022       6   \n",
              "\n",
              "        공연일시_요일  공연기간  공휴일_기념일_여부  시설특성공공(기타)  시설특성공공(문예회관)  시설특성국립  \\\n",
              "725020        6     5           1         0.0           0.0     1.0   \n",
              "\n",
              "        시설특성기타(비공연장)  시설특성민간(대학로 외)  시설특성민간(대학로)  \n",
              "725020           0.0            0.0          0.0  "
            ],
            "text/html": [
              "\n",
              "  <div id=\"df-06c9bbab-06aa-4f50-8267-9a6ce03ceded\">\n",
              "    <div class=\"colab-df-container\">\n",
              "      <div>\n",
              "<style scoped>\n",
              "    .dataframe tbody tr th:only-of-type {\n",
              "        vertical-align: middle;\n",
              "    }\n",
              "\n",
              "    .dataframe tbody tr th {\n",
              "        vertical-align: top;\n",
              "    }\n",
              "\n",
              "    .dataframe thead th {\n",
              "        text-align: right;\n",
              "    }\n",
              "</style>\n",
              "<table border=\"1\" class=\"dataframe\">\n",
              "  <thead>\n",
              "    <tr style=\"text-align: right;\">\n",
              "      <th></th>\n",
              "      <th>전송사업자코드</th>\n",
              "      <th>전송사업자명</th>\n",
              "      <th>공연시설코드</th>\n",
              "      <th>시설특성</th>\n",
              "      <th>개관연도</th>\n",
              "      <th>주소</th>\n",
              "      <th>나이대</th>\n",
              "      <th>편의시설_레스토랑 여부</th>\n",
              "      <th>편의시설_카페 여부</th>\n",
              "      <th>편의시설_편의점 여부</th>\n",
              "      <th>편의시설_놀이방 여부</th>\n",
              "      <th>편의시설_수유실 여부</th>\n",
              "      <th>장애인시설_주차장 여부</th>\n",
              "      <th>장애인시설_화장실 여부</th>\n",
              "      <th>장애인시설_경사로 여부</th>\n",
              "      <th>장애인시설_전용엘리베이터 여부</th>\n",
              "      <th>주차시설_자체 여부</th>\n",
              "      <th>주차시설_공영 여부</th>\n",
              "      <th>공연장코드</th>\n",
              "      <th>좌석수</th>\n",
              "      <th>장애인석</th>\n",
              "      <th>무대시설_오케스트라피트 여부</th>\n",
              "      <th>무대시설_연습실 여부</th>\n",
              "      <th>무대시설_분장실 여부</th>\n",
              "      <th>무대시설_무대넓이</th>\n",
              "      <th>공연코드</th>\n",
              "      <th>공연회차</th>\n",
              "      <th>공연일시</th>\n",
              "      <th>입장권고유번호</th>\n",
              "      <th>예매/취소일시</th>\n",
              "      <th>예매/취소구분</th>\n",
              "      <th>예매/취소매수</th>\n",
              "      <th>예매/취소금액</th>\n",
              "      <th>예매/취소방식코드</th>\n",
              "      <th>예매/취소방식명(관리시스템)</th>\n",
              "      <th>예매/취소방식명(전송처)</th>\n",
              "      <th>결제수단코드</th>\n",
              "      <th>결제수단명(관리시스템)</th>\n",
              "      <th>결제수단명(전송처)</th>\n",
              "      <th>할인금액</th>\n",
              "      <th>할인종류코드</th>\n",
              "      <th>할인종류명(관리시스템)</th>\n",
              "      <th>할인종류명(전송처)</th>\n",
              "      <th>장당금액</th>\n",
              "      <th>성별</th>\n",
              "      <th>연령</th>\n",
              "      <th>공연시작일자</th>\n",
              "      <th>공연종료일자</th>\n",
              "      <th>소요시간</th>\n",
              "      <th>장르명</th>\n",
              "      <th>세부장르명</th>\n",
              "      <th>공연지역명</th>\n",
              "      <th>출연진내용</th>\n",
              "      <th>제작진내용</th>\n",
              "      <th>기획제작사명</th>\n",
              "      <th>원작자명</th>\n",
              "      <th>극작가명</th>\n",
              "      <th>수상실적</th>\n",
              "      <th>관람연령</th>\n",
              "      <th>아동공연 여부</th>\n",
              "      <th>축제 여부</th>\n",
              "      <th>내한공연 여부</th>\n",
              "      <th>오픈런 여부</th>\n",
              "      <th>판매시작일시</th>\n",
              "      <th>판매종료일시</th>\n",
              "      <th>좌석등급</th>\n",
              "      <th>단독판매여부</th>\n",
              "      <th>판매좌석수</th>\n",
              "      <th>판매페이지URL</th>\n",
              "      <th>공연일시_연</th>\n",
              "      <th>공연일시_월</th>\n",
              "      <th>공연일시_요일</th>\n",
              "      <th>공연기간</th>\n",
              "      <th>공휴일_기념일_여부</th>\n",
              "      <th>시설특성공공(기타)</th>\n",
              "      <th>시설특성공공(문예회관)</th>\n",
              "      <th>시설특성국립</th>\n",
              "      <th>시설특성기타(비공연장)</th>\n",
              "      <th>시설특성민간(대학로 외)</th>\n",
              "      <th>시설특성민간(대학로)</th>\n",
              "    </tr>\n",
              "  </thead>\n",
              "  <tbody>\n",
              "    <tr>\n",
              "      <th>725020</th>\n",
              "      <td>FC000003</td>\n",
              "      <td>국립극장</td>\n",
              "      <td>FC222225</td>\n",
              "      <td>국립</td>\n",
              "      <td>1973.0</td>\n",
              "      <td>서울특별시 중구 장충단로 59 (장충동2가)</td>\n",
              "      <td>0</td>\n",
              "      <td>0</td>\n",
              "      <td>0</td>\n",
              "      <td>1</td>\n",
              "      <td>0</td>\n",
              "      <td>0</td>\n",
              "      <td>0</td>\n",
              "      <td>1</td>\n",
              "      <td>1</td>\n",
              "      <td>1</td>\n",
              "      <td>1</td>\n",
              "      <td>0</td>\n",
              "      <td>FC222225-01</td>\n",
              "      <td>627</td>\n",
              "      <td>6</td>\n",
              "      <td>0</td>\n",
              "      <td>1</td>\n",
              "      <td>1</td>\n",
              "      <td>1401</td>\n",
              "      <td>PF313820</td>\n",
              "      <td>1</td>\n",
              "      <td>2022-06-26 13:00:00</td>\n",
              "      <td>280262577541900032</td>\n",
              "      <td>2022-06-25 18:37</td>\n",
              "      <td>1</td>\n",
              "      <td>1</td>\n",
              "      <td>0</td>\n",
              "      <td>3</td>\n",
              "      <td>현장</td>\n",
              "      <td>현장</td>\n",
              "      <td>99</td>\n",
              "      <td>기타</td>\n",
              "      <td>NaN</td>\n",
              "      <td>20000</td>\n",
              "      <td>99</td>\n",
              "      <td>기타</td>\n",
              "      <td>초대권 100%</td>\n",
              "      <td>20000</td>\n",
              "      <td>0</td>\n",
              "      <td>2023</td>\n",
              "      <td>2022-06-22</td>\n",
              "      <td>2022-06-26</td>\n",
              "      <td>NaN</td>\n",
              "      <td>무용</td>\n",
              "      <td>한국무용</td>\n",
              "      <td>서울</td>\n",
              "      <td>박윤미, 김지윤, 신화원, 임은주, 이수진, 홍연지, 장인숙 등</td>\n",
              "      <td>NaN</td>\n",
              "      <td>(사)보훈무용예술협회(주최), (사)보훈무용예술협회(주관)</td>\n",
              "      <td>NaN</td>\n",
              "      <td>NaN</td>\n",
              "      <td>NaN</td>\n",
              "      <td>만 7세 이상</td>\n",
              "      <td>0</td>\n",
              "      <td>1</td>\n",
              "      <td>0</td>\n",
              "      <td>0</td>\n",
              "      <td>2022/05/18 10:00:00</td>\n",
              "      <td>2022/06/25 17:00:00</td>\n",
              "      <td>22,24,25일 공연(50000), 23일 공연(30000), 26일 공연(20000)</td>\n",
              "      <td>0</td>\n",
              "      <td>627</td>\n",
              "      <td>https://www.ntok.go.kr/kr/Ticket/Performance/D...</td>\n",
              "      <td>2022</td>\n",
              "      <td>6</td>\n",
              "      <td>6</td>\n",
              "      <td>5</td>\n",
              "      <td>1</td>\n",
              "      <td>0.0</td>\n",
              "      <td>0.0</td>\n",
              "      <td>1.0</td>\n",
              "      <td>0.0</td>\n",
              "      <td>0.0</td>\n",
              "      <td>0.0</td>\n",
              "    </tr>\n",
              "  </tbody>\n",
              "</table>\n",
              "</div>\n",
              "      <button class=\"colab-df-convert\" onclick=\"convertToInteractive('df-06c9bbab-06aa-4f50-8267-9a6ce03ceded')\"\n",
              "              title=\"Convert this dataframe to an interactive table.\"\n",
              "              style=\"display:none;\">\n",
              "        \n",
              "  <svg xmlns=\"http://www.w3.org/2000/svg\" height=\"24px\"viewBox=\"0 0 24 24\"\n",
              "       width=\"24px\">\n",
              "    <path d=\"M0 0h24v24H0V0z\" fill=\"none\"/>\n",
              "    <path d=\"M18.56 5.44l.94 2.06.94-2.06 2.06-.94-2.06-.94-.94-2.06-.94 2.06-2.06.94zm-11 1L8.5 8.5l.94-2.06 2.06-.94-2.06-.94L8.5 2.5l-.94 2.06-2.06.94zm10 10l.94 2.06.94-2.06 2.06-.94-2.06-.94-.94-2.06-.94 2.06-2.06.94z\"/><path d=\"M17.41 7.96l-1.37-1.37c-.4-.4-.92-.59-1.43-.59-.52 0-1.04.2-1.43.59L10.3 9.45l-7.72 7.72c-.78.78-.78 2.05 0 2.83L4 21.41c.39.39.9.59 1.41.59.51 0 1.02-.2 1.41-.59l7.78-7.78 2.81-2.81c.8-.78.8-2.07 0-2.86zM5.41 20L4 18.59l7.72-7.72 1.47 1.35L5.41 20z\"/>\n",
              "  </svg>\n",
              "      </button>\n",
              "      \n",
              "  <style>\n",
              "    .colab-df-container {\n",
              "      display:flex;\n",
              "      flex-wrap:wrap;\n",
              "      gap: 12px;\n",
              "    }\n",
              "\n",
              "    .colab-df-convert {\n",
              "      background-color: #E8F0FE;\n",
              "      border: none;\n",
              "      border-radius: 50%;\n",
              "      cursor: pointer;\n",
              "      display: none;\n",
              "      fill: #1967D2;\n",
              "      height: 32px;\n",
              "      padding: 0 0 0 0;\n",
              "      width: 32px;\n",
              "    }\n",
              "\n",
              "    .colab-df-convert:hover {\n",
              "      background-color: #E2EBFA;\n",
              "      box-shadow: 0px 1px 2px rgba(60, 64, 67, 0.3), 0px 1px 3px 1px rgba(60, 64, 67, 0.15);\n",
              "      fill: #174EA6;\n",
              "    }\n",
              "\n",
              "    [theme=dark] .colab-df-convert {\n",
              "      background-color: #3B4455;\n",
              "      fill: #D2E3FC;\n",
              "    }\n",
              "\n",
              "    [theme=dark] .colab-df-convert:hover {\n",
              "      background-color: #434B5C;\n",
              "      box-shadow: 0px 1px 3px 1px rgba(0, 0, 0, 0.15);\n",
              "      filter: drop-shadow(0px 1px 2px rgba(0, 0, 0, 0.3));\n",
              "      fill: #FFFFFF;\n",
              "    }\n",
              "  </style>\n",
              "\n",
              "      <script>\n",
              "        const buttonEl =\n",
              "          document.querySelector('#df-06c9bbab-06aa-4f50-8267-9a6ce03ceded button.colab-df-convert');\n",
              "        buttonEl.style.display =\n",
              "          google.colab.kernel.accessAllowed ? 'block' : 'none';\n",
              "\n",
              "        async function convertToInteractive(key) {\n",
              "          const element = document.querySelector('#df-06c9bbab-06aa-4f50-8267-9a6ce03ceded');\n",
              "          const dataTable =\n",
              "            await google.colab.kernel.invokeFunction('convertToInteractive',\n",
              "                                                     [key], {});\n",
              "          if (!dataTable) return;\n",
              "\n",
              "          const docLinkHtml = 'Like what you see? Visit the ' +\n",
              "            '<a target=\"_blank\" href=https://colab.research.google.com/notebooks/data_table.ipynb>data table notebook</a>'\n",
              "            + ' to learn more about interactive tables.';\n",
              "          element.innerHTML = '';\n",
              "          dataTable['output_type'] = 'display_data';\n",
              "          await google.colab.output.renderOutput(dataTable, element);\n",
              "          const docLink = document.createElement('div');\n",
              "          docLink.innerHTML = docLinkHtml;\n",
              "          element.appendChild(docLink);\n",
              "        }\n",
              "      </script>\n",
              "    </div>\n",
              "  </div>\n",
              "  "
            ]
          },
          "metadata": {},
          "execution_count": 95
        }
      ],
      "source": [
        "df_pre.tail(1)"
      ]
    },
    {
      "cell_type": "markdown",
      "metadata": {
        "id": "hgdz4VGnhqco"
      },
      "source": [
        "#### 성별"
      ]
    },
    {
      "cell_type": "code",
      "execution_count": null,
      "metadata": {
        "id": "PLC_SG8fjRqo"
      },
      "outputs": [],
      "source": [
        "# df_pre_test['성별'] = df_pre['성별'].astype('str')\n",
        "df_pre['성별'] = df_pre['성별'].apply(str)"
      ]
    },
    {
      "cell_type": "code",
      "execution_count": null,
      "metadata": {
        "colab": {
          "base_uri": "https://localhost:8080/"
        },
        "id": "hAgVk_qUKRsK",
        "outputId": "a7aa2e8e-6ee1-4589-d5a1-301ad4a652a8"
      },
      "outputs": [
        {
          "output_type": "execute_result",
          "data": {
            "text/plain": [
              "0    314981\n",
              "2    311584\n",
              "1     98456\n",
              "Name: 성별, dtype: int64"
            ]
          },
          "metadata": {},
          "execution_count": 97
        }
      ],
      "source": [
        "df_pre['성별'].value_counts()"
      ]
    },
    {
      "cell_type": "code",
      "execution_count": null,
      "metadata": {
        "id": "dhpXOslHmkL2"
      },
      "outputs": [],
      "source": [
        "# pd.set_option('display.max_rows', None)"
      ]
    },
    {
      "cell_type": "code",
      "execution_count": null,
      "metadata": {
        "colab": {
          "base_uri": "https://localhost:8080/"
        },
        "id": "D0wvcQK7hp0Q",
        "outputId": "65454a01-4928-49d0-af56-bbe394c0c6dc"
      },
      "outputs": [
        {
          "output_type": "execute_result",
          "data": {
            "text/plain": [
              "array([[1., 0., 0.],\n",
              "       [1., 0., 0.],\n",
              "       [1., 0., 0.],\n",
              "       ...,\n",
              "       [1., 0., 0.],\n",
              "       [1., 0., 0.],\n",
              "       [1., 0., 0.]])"
            ]
          },
          "metadata": {},
          "execution_count": 100
        }
      ],
      "source": [
        "ohe2 = OneHotEncoder(sparse=False)\n",
        "# fit_transform은 train에만 사용하고 test에는 학습된 인코더에 fit만 해야한다\n",
        "df_pre_ohe2 = ohe2.fit_transform(df_pre[['성별']])\n",
        "df_pre_ohe2"
      ]
    },
    {
      "cell_type": "code",
      "execution_count": null,
      "metadata": {
        "colab": {
          "base_uri": "https://localhost:8080/"
        },
        "id": "57RLSJ5Gh6RU",
        "outputId": "0be3e436-0468-4c0d-8cfe-f7c848f025d7"
      },
      "outputs": [
        {
          "output_type": "execute_result",
          "data": {
            "text/plain": [
              "[array(['0', '1', '2'], dtype=object)]"
            ]
          },
          "metadata": {},
          "execution_count": 101
        }
      ],
      "source": [
        "ohe2.categories_"
      ]
    },
    {
      "cell_type": "code",
      "execution_count": null,
      "metadata": {
        "colab": {
          "base_uri": "https://localhost:8080/"
        },
        "id": "YMnJQynAiCKo",
        "outputId": "e78821cb-6c50-4801-dfe9-686289db327e"
      },
      "outputs": [
        {
          "output_type": "execute_result",
          "data": {
            "text/plain": [
              "   성별0  성별1  성별2\n",
              "0  1.0  0.0  0.0\n",
              "1  1.0  0.0  0.0\n",
              "2  1.0  0.0  0.0\n",
              "3  1.0  0.0  0.0\n",
              "4  1.0  0.0  0.0"
            ],
            "text/html": [
              "\n",
              "  <div id=\"df-0f06377d-1858-4dec-9d7a-067d48542c39\">\n",
              "    <div class=\"colab-df-container\">\n",
              "      <div>\n",
              "<style scoped>\n",
              "    .dataframe tbody tr th:only-of-type {\n",
              "        vertical-align: middle;\n",
              "    }\n",
              "\n",
              "    .dataframe tbody tr th {\n",
              "        vertical-align: top;\n",
              "    }\n",
              "\n",
              "    .dataframe thead th {\n",
              "        text-align: right;\n",
              "    }\n",
              "</style>\n",
              "<table border=\"1\" class=\"dataframe\">\n",
              "  <thead>\n",
              "    <tr style=\"text-align: right;\">\n",
              "      <th></th>\n",
              "      <th>성별0</th>\n",
              "      <th>성별1</th>\n",
              "      <th>성별2</th>\n",
              "    </tr>\n",
              "  </thead>\n",
              "  <tbody>\n",
              "    <tr>\n",
              "      <th>0</th>\n",
              "      <td>1.0</td>\n",
              "      <td>0.0</td>\n",
              "      <td>0.0</td>\n",
              "    </tr>\n",
              "    <tr>\n",
              "      <th>1</th>\n",
              "      <td>1.0</td>\n",
              "      <td>0.0</td>\n",
              "      <td>0.0</td>\n",
              "    </tr>\n",
              "    <tr>\n",
              "      <th>2</th>\n",
              "      <td>1.0</td>\n",
              "      <td>0.0</td>\n",
              "      <td>0.0</td>\n",
              "    </tr>\n",
              "    <tr>\n",
              "      <th>3</th>\n",
              "      <td>1.0</td>\n",
              "      <td>0.0</td>\n",
              "      <td>0.0</td>\n",
              "    </tr>\n",
              "    <tr>\n",
              "      <th>4</th>\n",
              "      <td>1.0</td>\n",
              "      <td>0.0</td>\n",
              "      <td>0.0</td>\n",
              "    </tr>\n",
              "  </tbody>\n",
              "</table>\n",
              "</div>\n",
              "      <button class=\"colab-df-convert\" onclick=\"convertToInteractive('df-0f06377d-1858-4dec-9d7a-067d48542c39')\"\n",
              "              title=\"Convert this dataframe to an interactive table.\"\n",
              "              style=\"display:none;\">\n",
              "        \n",
              "  <svg xmlns=\"http://www.w3.org/2000/svg\" height=\"24px\"viewBox=\"0 0 24 24\"\n",
              "       width=\"24px\">\n",
              "    <path d=\"M0 0h24v24H0V0z\" fill=\"none\"/>\n",
              "    <path d=\"M18.56 5.44l.94 2.06.94-2.06 2.06-.94-2.06-.94-.94-2.06-.94 2.06-2.06.94zm-11 1L8.5 8.5l.94-2.06 2.06-.94-2.06-.94L8.5 2.5l-.94 2.06-2.06.94zm10 10l.94 2.06.94-2.06 2.06-.94-2.06-.94-.94-2.06-.94 2.06-2.06.94z\"/><path d=\"M17.41 7.96l-1.37-1.37c-.4-.4-.92-.59-1.43-.59-.52 0-1.04.2-1.43.59L10.3 9.45l-7.72 7.72c-.78.78-.78 2.05 0 2.83L4 21.41c.39.39.9.59 1.41.59.51 0 1.02-.2 1.41-.59l7.78-7.78 2.81-2.81c.8-.78.8-2.07 0-2.86zM5.41 20L4 18.59l7.72-7.72 1.47 1.35L5.41 20z\"/>\n",
              "  </svg>\n",
              "      </button>\n",
              "      \n",
              "  <style>\n",
              "    .colab-df-container {\n",
              "      display:flex;\n",
              "      flex-wrap:wrap;\n",
              "      gap: 12px;\n",
              "    }\n",
              "\n",
              "    .colab-df-convert {\n",
              "      background-color: #E8F0FE;\n",
              "      border: none;\n",
              "      border-radius: 50%;\n",
              "      cursor: pointer;\n",
              "      display: none;\n",
              "      fill: #1967D2;\n",
              "      height: 32px;\n",
              "      padding: 0 0 0 0;\n",
              "      width: 32px;\n",
              "    }\n",
              "\n",
              "    .colab-df-convert:hover {\n",
              "      background-color: #E2EBFA;\n",
              "      box-shadow: 0px 1px 2px rgba(60, 64, 67, 0.3), 0px 1px 3px 1px rgba(60, 64, 67, 0.15);\n",
              "      fill: #174EA6;\n",
              "    }\n",
              "\n",
              "    [theme=dark] .colab-df-convert {\n",
              "      background-color: #3B4455;\n",
              "      fill: #D2E3FC;\n",
              "    }\n",
              "\n",
              "    [theme=dark] .colab-df-convert:hover {\n",
              "      background-color: #434B5C;\n",
              "      box-shadow: 0px 1px 3px 1px rgba(0, 0, 0, 0.15);\n",
              "      filter: drop-shadow(0px 1px 2px rgba(0, 0, 0, 0.3));\n",
              "      fill: #FFFFFF;\n",
              "    }\n",
              "  </style>\n",
              "\n",
              "      <script>\n",
              "        const buttonEl =\n",
              "          document.querySelector('#df-0f06377d-1858-4dec-9d7a-067d48542c39 button.colab-df-convert');\n",
              "        buttonEl.style.display =\n",
              "          google.colab.kernel.accessAllowed ? 'block' : 'none';\n",
              "\n",
              "        async function convertToInteractive(key) {\n",
              "          const element = document.querySelector('#df-0f06377d-1858-4dec-9d7a-067d48542c39');\n",
              "          const dataTable =\n",
              "            await google.colab.kernel.invokeFunction('convertToInteractive',\n",
              "                                                     [key], {});\n",
              "          if (!dataTable) return;\n",
              "\n",
              "          const docLinkHtml = 'Like what you see? Visit the ' +\n",
              "            '<a target=\"_blank\" href=https://colab.research.google.com/notebooks/data_table.ipynb>data table notebook</a>'\n",
              "            + ' to learn more about interactive tables.';\n",
              "          element.innerHTML = '';\n",
              "          dataTable['output_type'] = 'display_data';\n",
              "          await google.colab.output.renderOutput(dataTable, element);\n",
              "          const docLink = document.createElement('div');\n",
              "          docLink.innerHTML = docLinkHtml;\n",
              "          element.appendChild(docLink);\n",
              "        }\n",
              "      </script>\n",
              "    </div>\n",
              "  </div>\n",
              "  "
            ]
          },
          "metadata": {},
          "execution_count": 102
        }
      ],
      "source": [
        "ohe_result2 = pd.DataFrame(df_pre_ohe2, columns = ['성별'+ col for col in ohe2.categories_[0]])\n",
        "ohe_result2.head()"
      ]
    },
    {
      "cell_type": "code",
      "execution_count": null,
      "metadata": {
        "id": "yGcERcFNpoxF"
      },
      "outputs": [],
      "source": [
        "# column bind\n",
        "df_pre = pd.concat([df_pre, ohe_result2], axis = 1)"
      ]
    },
    {
      "cell_type": "code",
      "execution_count": null,
      "metadata": {
        "colab": {
          "base_uri": "https://localhost:8080/"
        },
        "id": "2n4zPr5fptL3",
        "outputId": "e6c59fdd-e28d-400f-9999-0840946fdd84"
      },
      "outputs": [
        {
          "output_type": "execute_result",
          "data": {
            "text/plain": [
              "    전송사업자코드 전송사업자명    공연시설코드      시설특성    개관연도                         주소  \\\n",
              "0  SE000102   티켓링크  FC223315  공공(문예회관)  1975.0  대구광역시 중구 태평로 141 (태평로2가)    \n",
              "\n",
              "   나이대  편의시설_레스토랑 여부  편의시설_카페 여부  편의시설_편의점 여부  편의시설_놀이방 여부  편의시설_수유실 여부  \\\n",
              "0    0             0           1            0            0            1   \n",
              "\n",
              "   장애인시설_주차장 여부  장애인시설_화장실 여부  장애인시설_경사로 여부  장애인시설_전용엘리베이터 여부  주차시설_자체 여부  \\\n",
              "0             1             1             1                 1           1   \n",
              "\n",
              "   주차시설_공영 여부        공연장코드   좌석수 장애인석  무대시설_오케스트라피트 여부  무대시설_연습실 여부  \\\n",
              "0           0  FC223315-01  1284   14                1            1   \n",
              "\n",
              "   무대시설_분장실 여부 무대시설_무대넓이      공연코드  공연회차                공연일시       입장권고유번호  \\\n",
              "0            1       344  PF314870     1 2022-06-21 19:30:00  1431527281_1   \n",
              "\n",
              "            예매/취소일시  예매/취소구분  예매/취소매수  예매/취소금액  예매/취소방식코드 예매/취소방식명(관리시스템)  \\\n",
              "0  2022-06-10 13:40        1        1        0         99              기타   \n",
              "\n",
              "  예매/취소방식명(전송처)  결제수단코드 결제수단명(관리시스템) 결제수단명(전송처)  할인금액  할인종류코드 할인종류명(관리시스템)  \\\n",
              "0        기획사/구단       1           현금         현금     0      99           기타   \n",
              "\n",
              "  할인종류명(전송처)  장당금액 성별    연령      공연시작일자      공연종료일자     소요시간  장르명 세부장르명 공연지역명  \\\n",
              "0        NaN     0  0  2023  2022-06-21  2022-06-21  1시간 30분  클래식    기악   경상도   \n",
              "\n",
              "                  출연진내용 제작진내용                       기획제작사명 원작자명 극작가명 수상실적  \\\n",
              "0  이광호, 이정아, 백민아, 오수진 등   NaN  한국기독교총연합회(주최), CTS기독교TV(주관)  NaN  NaN  NaN   \n",
              "\n",
              "      관람연령  아동공연 여부  축제 여부  내한공연 여부  오픈런 여부               판매시작일시  \\\n",
              "0  만 7세 이상        0      0        0       0  2022/06/09 00:00:00   \n",
              "\n",
              "                판매종료일시     좌석등급  단독판매여부 판매좌석수  \\\n",
              "0  2022/06/20 17:00:00  전석무료(0)       0    1석   \n",
              "\n",
              "                                    판매페이지URL  공연일시_연  공연일시_월  공연일시_요일  공연기간  \\\n",
              "0  http://www.ticketlink.co.kr/product/38972    2022       6        1     1   \n",
              "\n",
              "   공휴일_기념일_여부  시설특성공공(기타)  시설특성공공(문예회관)  시설특성국립  시설특성기타(비공연장)  시설특성민간(대학로 외)  \\\n",
              "0           0         0.0           1.0     0.0           0.0            0.0   \n",
              "\n",
              "   시설특성민간(대학로)  성별0  성별1  성별2  \n",
              "0          0.0  1.0  0.0  0.0  "
            ],
            "text/html": [
              "\n",
              "  <div id=\"df-6e13e5bd-3431-407f-8bb8-5c975d01eba1\">\n",
              "    <div class=\"colab-df-container\">\n",
              "      <div>\n",
              "<style scoped>\n",
              "    .dataframe tbody tr th:only-of-type {\n",
              "        vertical-align: middle;\n",
              "    }\n",
              "\n",
              "    .dataframe tbody tr th {\n",
              "        vertical-align: top;\n",
              "    }\n",
              "\n",
              "    .dataframe thead th {\n",
              "        text-align: right;\n",
              "    }\n",
              "</style>\n",
              "<table border=\"1\" class=\"dataframe\">\n",
              "  <thead>\n",
              "    <tr style=\"text-align: right;\">\n",
              "      <th></th>\n",
              "      <th>전송사업자코드</th>\n",
              "      <th>전송사업자명</th>\n",
              "      <th>공연시설코드</th>\n",
              "      <th>시설특성</th>\n",
              "      <th>개관연도</th>\n",
              "      <th>주소</th>\n",
              "      <th>나이대</th>\n",
              "      <th>편의시설_레스토랑 여부</th>\n",
              "      <th>편의시설_카페 여부</th>\n",
              "      <th>편의시설_편의점 여부</th>\n",
              "      <th>편의시설_놀이방 여부</th>\n",
              "      <th>편의시설_수유실 여부</th>\n",
              "      <th>장애인시설_주차장 여부</th>\n",
              "      <th>장애인시설_화장실 여부</th>\n",
              "      <th>장애인시설_경사로 여부</th>\n",
              "      <th>장애인시설_전용엘리베이터 여부</th>\n",
              "      <th>주차시설_자체 여부</th>\n",
              "      <th>주차시설_공영 여부</th>\n",
              "      <th>공연장코드</th>\n",
              "      <th>좌석수</th>\n",
              "      <th>장애인석</th>\n",
              "      <th>무대시설_오케스트라피트 여부</th>\n",
              "      <th>무대시설_연습실 여부</th>\n",
              "      <th>무대시설_분장실 여부</th>\n",
              "      <th>무대시설_무대넓이</th>\n",
              "      <th>공연코드</th>\n",
              "      <th>공연회차</th>\n",
              "      <th>공연일시</th>\n",
              "      <th>입장권고유번호</th>\n",
              "      <th>예매/취소일시</th>\n",
              "      <th>예매/취소구분</th>\n",
              "      <th>예매/취소매수</th>\n",
              "      <th>예매/취소금액</th>\n",
              "      <th>예매/취소방식코드</th>\n",
              "      <th>예매/취소방식명(관리시스템)</th>\n",
              "      <th>예매/취소방식명(전송처)</th>\n",
              "      <th>결제수단코드</th>\n",
              "      <th>결제수단명(관리시스템)</th>\n",
              "      <th>결제수단명(전송처)</th>\n",
              "      <th>할인금액</th>\n",
              "      <th>할인종류코드</th>\n",
              "      <th>할인종류명(관리시스템)</th>\n",
              "      <th>할인종류명(전송처)</th>\n",
              "      <th>장당금액</th>\n",
              "      <th>성별</th>\n",
              "      <th>연령</th>\n",
              "      <th>공연시작일자</th>\n",
              "      <th>공연종료일자</th>\n",
              "      <th>소요시간</th>\n",
              "      <th>장르명</th>\n",
              "      <th>세부장르명</th>\n",
              "      <th>공연지역명</th>\n",
              "      <th>출연진내용</th>\n",
              "      <th>제작진내용</th>\n",
              "      <th>기획제작사명</th>\n",
              "      <th>원작자명</th>\n",
              "      <th>극작가명</th>\n",
              "      <th>수상실적</th>\n",
              "      <th>관람연령</th>\n",
              "      <th>아동공연 여부</th>\n",
              "      <th>축제 여부</th>\n",
              "      <th>내한공연 여부</th>\n",
              "      <th>오픈런 여부</th>\n",
              "      <th>판매시작일시</th>\n",
              "      <th>판매종료일시</th>\n",
              "      <th>좌석등급</th>\n",
              "      <th>단독판매여부</th>\n",
              "      <th>판매좌석수</th>\n",
              "      <th>판매페이지URL</th>\n",
              "      <th>공연일시_연</th>\n",
              "      <th>공연일시_월</th>\n",
              "      <th>공연일시_요일</th>\n",
              "      <th>공연기간</th>\n",
              "      <th>공휴일_기념일_여부</th>\n",
              "      <th>시설특성공공(기타)</th>\n",
              "      <th>시설특성공공(문예회관)</th>\n",
              "      <th>시설특성국립</th>\n",
              "      <th>시설특성기타(비공연장)</th>\n",
              "      <th>시설특성민간(대학로 외)</th>\n",
              "      <th>시설특성민간(대학로)</th>\n",
              "      <th>성별0</th>\n",
              "      <th>성별1</th>\n",
              "      <th>성별2</th>\n",
              "    </tr>\n",
              "  </thead>\n",
              "  <tbody>\n",
              "    <tr>\n",
              "      <th>0</th>\n",
              "      <td>SE000102</td>\n",
              "      <td>티켓링크</td>\n",
              "      <td>FC223315</td>\n",
              "      <td>공공(문예회관)</td>\n",
              "      <td>1975.0</td>\n",
              "      <td>대구광역시 중구 태평로 141 (태평로2가)</td>\n",
              "      <td>0</td>\n",
              "      <td>0</td>\n",
              "      <td>1</td>\n",
              "      <td>0</td>\n",
              "      <td>0</td>\n",
              "      <td>1</td>\n",
              "      <td>1</td>\n",
              "      <td>1</td>\n",
              "      <td>1</td>\n",
              "      <td>1</td>\n",
              "      <td>1</td>\n",
              "      <td>0</td>\n",
              "      <td>FC223315-01</td>\n",
              "      <td>1284</td>\n",
              "      <td>14</td>\n",
              "      <td>1</td>\n",
              "      <td>1</td>\n",
              "      <td>1</td>\n",
              "      <td>344</td>\n",
              "      <td>PF314870</td>\n",
              "      <td>1</td>\n",
              "      <td>2022-06-21 19:30:00</td>\n",
              "      <td>1431527281_1</td>\n",
              "      <td>2022-06-10 13:40</td>\n",
              "      <td>1</td>\n",
              "      <td>1</td>\n",
              "      <td>0</td>\n",
              "      <td>99</td>\n",
              "      <td>기타</td>\n",
              "      <td>기획사/구단</td>\n",
              "      <td>1</td>\n",
              "      <td>현금</td>\n",
              "      <td>현금</td>\n",
              "      <td>0</td>\n",
              "      <td>99</td>\n",
              "      <td>기타</td>\n",
              "      <td>NaN</td>\n",
              "      <td>0</td>\n",
              "      <td>0</td>\n",
              "      <td>2023</td>\n",
              "      <td>2022-06-21</td>\n",
              "      <td>2022-06-21</td>\n",
              "      <td>1시간 30분</td>\n",
              "      <td>클래식</td>\n",
              "      <td>기악</td>\n",
              "      <td>경상도</td>\n",
              "      <td>이광호, 이정아, 백민아, 오수진 등</td>\n",
              "      <td>NaN</td>\n",
              "      <td>한국기독교총연합회(주최), CTS기독교TV(주관)</td>\n",
              "      <td>NaN</td>\n",
              "      <td>NaN</td>\n",
              "      <td>NaN</td>\n",
              "      <td>만 7세 이상</td>\n",
              "      <td>0</td>\n",
              "      <td>0</td>\n",
              "      <td>0</td>\n",
              "      <td>0</td>\n",
              "      <td>2022/06/09 00:00:00</td>\n",
              "      <td>2022/06/20 17:00:00</td>\n",
              "      <td>전석무료(0)</td>\n",
              "      <td>0</td>\n",
              "      <td>1석</td>\n",
              "      <td>http://www.ticketlink.co.kr/product/38972</td>\n",
              "      <td>2022</td>\n",
              "      <td>6</td>\n",
              "      <td>1</td>\n",
              "      <td>1</td>\n",
              "      <td>0</td>\n",
              "      <td>0.0</td>\n",
              "      <td>1.0</td>\n",
              "      <td>0.0</td>\n",
              "      <td>0.0</td>\n",
              "      <td>0.0</td>\n",
              "      <td>0.0</td>\n",
              "      <td>1.0</td>\n",
              "      <td>0.0</td>\n",
              "      <td>0.0</td>\n",
              "    </tr>\n",
              "  </tbody>\n",
              "</table>\n",
              "</div>\n",
              "      <button class=\"colab-df-convert\" onclick=\"convertToInteractive('df-6e13e5bd-3431-407f-8bb8-5c975d01eba1')\"\n",
              "              title=\"Convert this dataframe to an interactive table.\"\n",
              "              style=\"display:none;\">\n",
              "        \n",
              "  <svg xmlns=\"http://www.w3.org/2000/svg\" height=\"24px\"viewBox=\"0 0 24 24\"\n",
              "       width=\"24px\">\n",
              "    <path d=\"M0 0h24v24H0V0z\" fill=\"none\"/>\n",
              "    <path d=\"M18.56 5.44l.94 2.06.94-2.06 2.06-.94-2.06-.94-.94-2.06-.94 2.06-2.06.94zm-11 1L8.5 8.5l.94-2.06 2.06-.94-2.06-.94L8.5 2.5l-.94 2.06-2.06.94zm10 10l.94 2.06.94-2.06 2.06-.94-2.06-.94-.94-2.06-.94 2.06-2.06.94z\"/><path d=\"M17.41 7.96l-1.37-1.37c-.4-.4-.92-.59-1.43-.59-.52 0-1.04.2-1.43.59L10.3 9.45l-7.72 7.72c-.78.78-.78 2.05 0 2.83L4 21.41c.39.39.9.59 1.41.59.51 0 1.02-.2 1.41-.59l7.78-7.78 2.81-2.81c.8-.78.8-2.07 0-2.86zM5.41 20L4 18.59l7.72-7.72 1.47 1.35L5.41 20z\"/>\n",
              "  </svg>\n",
              "      </button>\n",
              "      \n",
              "  <style>\n",
              "    .colab-df-container {\n",
              "      display:flex;\n",
              "      flex-wrap:wrap;\n",
              "      gap: 12px;\n",
              "    }\n",
              "\n",
              "    .colab-df-convert {\n",
              "      background-color: #E8F0FE;\n",
              "      border: none;\n",
              "      border-radius: 50%;\n",
              "      cursor: pointer;\n",
              "      display: none;\n",
              "      fill: #1967D2;\n",
              "      height: 32px;\n",
              "      padding: 0 0 0 0;\n",
              "      width: 32px;\n",
              "    }\n",
              "\n",
              "    .colab-df-convert:hover {\n",
              "      background-color: #E2EBFA;\n",
              "      box-shadow: 0px 1px 2px rgba(60, 64, 67, 0.3), 0px 1px 3px 1px rgba(60, 64, 67, 0.15);\n",
              "      fill: #174EA6;\n",
              "    }\n",
              "\n",
              "    [theme=dark] .colab-df-convert {\n",
              "      background-color: #3B4455;\n",
              "      fill: #D2E3FC;\n",
              "    }\n",
              "\n",
              "    [theme=dark] .colab-df-convert:hover {\n",
              "      background-color: #434B5C;\n",
              "      box-shadow: 0px 1px 3px 1px rgba(0, 0, 0, 0.15);\n",
              "      filter: drop-shadow(0px 1px 2px rgba(0, 0, 0, 0.3));\n",
              "      fill: #FFFFFF;\n",
              "    }\n",
              "  </style>\n",
              "\n",
              "      <script>\n",
              "        const buttonEl =\n",
              "          document.querySelector('#df-6e13e5bd-3431-407f-8bb8-5c975d01eba1 button.colab-df-convert');\n",
              "        buttonEl.style.display =\n",
              "          google.colab.kernel.accessAllowed ? 'block' : 'none';\n",
              "\n",
              "        async function convertToInteractive(key) {\n",
              "          const element = document.querySelector('#df-6e13e5bd-3431-407f-8bb8-5c975d01eba1');\n",
              "          const dataTable =\n",
              "            await google.colab.kernel.invokeFunction('convertToInteractive',\n",
              "                                                     [key], {});\n",
              "          if (!dataTable) return;\n",
              "\n",
              "          const docLinkHtml = 'Like what you see? Visit the ' +\n",
              "            '<a target=\"_blank\" href=https://colab.research.google.com/notebooks/data_table.ipynb>data table notebook</a>'\n",
              "            + ' to learn more about interactive tables.';\n",
              "          element.innerHTML = '';\n",
              "          dataTable['output_type'] = 'display_data';\n",
              "          await google.colab.output.renderOutput(dataTable, element);\n",
              "          const docLink = document.createElement('div');\n",
              "          docLink.innerHTML = docLinkHtml;\n",
              "          element.appendChild(docLink);\n",
              "        }\n",
              "      </script>\n",
              "    </div>\n",
              "  </div>\n",
              "  "
            ]
          },
          "metadata": {},
          "execution_count": 104
        }
      ],
      "source": [
        "df_pre.head(1)"
      ]
    },
    {
      "cell_type": "markdown",
      "source": [
        "#### 장르명, 공연지역명"
      ],
      "metadata": {
        "id": "RjkpjrglqpNl"
      }
    },
    {
      "cell_type": "markdown",
      "source": [
        "장르명, 공연지역명에 차이를 두지 않고 요인분석을 진행하기 위해 가중치를 부여하지 않는 원핫 인코딩을 한다."
      ],
      "metadata": {
        "id": "fDm4-Gaa6id9"
      }
    },
    {
      "cell_type": "code",
      "source": [
        "# data['장르명'].value_counts()\n",
        "# data['공연지역명'].value_counts()"
      ],
      "metadata": {
        "id": "hQVGyeB_4ILT"
      },
      "execution_count": null,
      "outputs": []
    },
    {
      "cell_type": "code",
      "source": [
        "data = pd.get_dummies(data, columns = ['기획_제작사명','공연지역명', '나이대', '장르명'])"
      ],
      "metadata": {
        "id": "JuTdttTS4R2j"
      },
      "execution_count": null,
      "outputs": []
    },
    {
      "cell_type": "markdown",
      "source": [
        "### 변수 축소, 병합"
      ],
      "metadata": {
        "id": "htEY5Vq23ayd"
      }
    },
    {
      "cell_type": "markdown",
      "source": [
        "- 편의시설_식음료"
      ],
      "metadata": {
        "id": "vtxTtVAq3pML"
      }
    },
    {
      "cell_type": "code",
      "source": [
        "df['편의시설_식음료'] = df['편의시설_레스토랑 여부']+df['편의시설_카페 여부']+df['편의시설_편의점 여부']"
      ],
      "metadata": {
        "id": "2fBEgRMZ3eTr"
      },
      "execution_count": null,
      "outputs": []
    },
    {
      "cell_type": "code",
      "source": [
        "df['편의시설_식음료'].value_counts()"
      ],
      "metadata": {
        "id": "mOx4lVO-3hcd"
      },
      "execution_count": null,
      "outputs": []
    },
    {
      "cell_type": "markdown",
      "source": [
        "- 편의시설_아동"
      ],
      "metadata": {
        "id": "zzXiRd0d3rRT"
      }
    },
    {
      "cell_type": "code",
      "source": [
        "df['편의시설_아동'] = df['편의시설_놀이방 여부']+df['편의시설_수유실 여부']"
      ],
      "metadata": {
        "id": "ZpVYi5NQ3uTW"
      },
      "execution_count": null,
      "outputs": []
    },
    {
      "cell_type": "code",
      "source": [
        "df['편의시설_식음료'].value_counts()"
      ],
      "metadata": {
        "id": "BHdJ6nwd4HAO"
      },
      "execution_count": null,
      "outputs": []
    },
    {
      "cell_type": "markdown",
      "source": [
        "- 장애인시설"
      ],
      "metadata": {
        "id": "ZheeFkAP4LDB"
      }
    },
    {
      "cell_type": "code",
      "source": [
        "df['장애인시설'] = df['장애인시설_주차장 여부']+ df['장애인시설_화장실 여부']+df['장애인시설_경사로 여부']+df['장애인시설_전용엘리베이터 여부']"
      ],
      "metadata": {
        "id": "ZPVaJp7M4QmM"
      },
      "execution_count": null,
      "outputs": []
    },
    {
      "cell_type": "code",
      "source": [
        "df['장애인시설'].value_counts()"
      ],
      "metadata": {
        "id": "6CPCYd7u4m1W"
      },
      "execution_count": null,
      "outputs": []
    },
    {
      "cell_type": "markdown",
      "source": [
        "- SW_무대시설"
      ],
      "metadata": {
        "id": "Kjckb5qs7bP7"
      }
    },
    {
      "cell_type": "code",
      "source": [
        "df['SW_무대시설'] = df['무대시설_오케스트라피트 여부'] + df['무대시설_연습실 여부'] +\tdf['무대시설_분장실 여부']"
      ],
      "metadata": {
        "id": "IozLJcd37dFG"
      },
      "execution_count": null,
      "outputs": []
    },
    {
      "cell_type": "code",
      "source": [
        "df['SW_무대시설'].value_counts()"
      ],
      "metadata": {
        "id": "FB-WuJoD7ei1"
      },
      "execution_count": null,
      "outputs": []
    },
    {
      "cell_type": "markdown",
      "source": [
        "## 변수 생성"
      ],
      "metadata": {
        "id": "-hgXE9My1y2F"
      }
    },
    {
      "cell_type": "code",
      "source": [
        "sometrend.shape # 'Unnamed: 0', '기획_제작사명', '기획_제작사명_긍부정'"
      ],
      "metadata": {
        "colab": {
          "base_uri": "https://localhost:8080/"
        },
        "outputId": "0a53ec12-1b1e-415b-8781-4d4b79fd1c37",
        "id": "PI6sOaISv7Bi"
      },
      "execution_count": null,
      "outputs": [
        {
          "output_type": "execute_result",
          "data": {
            "text/plain": [
              "(406, 71)"
            ]
          },
          "metadata": {},
          "execution_count": 112
        }
      ]
    },
    {
      "cell_type": "code",
      "source": [
        "maker = sometrend[['기획제작사명','기획_제작사명','기획_제작사명_긍부정']]"
      ],
      "metadata": {
        "id": "bzC6IS-nZZrV"
      },
      "execution_count": null,
      "outputs": []
    },
    {
      "cell_type": "code",
      "source": [
        "maker"
      ],
      "metadata": {
        "colab": {
          "base_uri": "https://localhost:8080/",
          "height": 424
        },
        "id": "Q4V5gV8RZqk8",
        "outputId": "4d635fa9-0d9d-4b35-e329-6b63c26a2044"
      },
      "execution_count": null,
      "outputs": [
        {
          "output_type": "execute_result",
          "data": {
            "text/plain": [
              "                                기획제작사명    기획_제작사명 기획_제작사명_긍부정\n",
              "0          한국기독교총연합회(주최), CTS기독교TV(주관)  한국기독교총연합회      부정 56%\n",
              "1                 명음클래식(주최), 명음클래식(주관)      명음클래식          중립\n",
              "2            대구시립예술단(주최), 대구시립교향악단(주관)    대구시립예술단      긍정 84%\n",
              "3     어썸아트앤뉴미디어(주관), (주) 어썸아트앤뉴미디어(주최)  어썸아트앤뉴미디어          중립\n",
              "4             대구시립합창단(주관), 대구시립예술단(주최)    대구시립합창단      긍정 89%\n",
              "..                                 ...        ...         ...\n",
              "401             강릉아트센터(주최), 강릉아트센터(주관)     강릉아트센터      긍정 85%\n",
              "402               극단 해미소(주최), 뜨래기획(주관)      극단해미소     긍정 100%\n",
              "403                         극단 예전(제작사)       극단예전     긍정 100%\n",
              "404                국립극장(주최), 국립창극단(주관)       국립극장      긍정 84%\n",
              "405      보훈무용예술협회(주최), (사)보훈무용예술협회(주관)   보훈무용예술협회      긍정 92%\n",
              "\n",
              "[406 rows x 3 columns]"
            ],
            "text/html": [
              "\n",
              "  <div id=\"df-4d2bc015-5874-4903-ac0d-46b0acbc7a2e\">\n",
              "    <div class=\"colab-df-container\">\n",
              "      <div>\n",
              "<style scoped>\n",
              "    .dataframe tbody tr th:only-of-type {\n",
              "        vertical-align: middle;\n",
              "    }\n",
              "\n",
              "    .dataframe tbody tr th {\n",
              "        vertical-align: top;\n",
              "    }\n",
              "\n",
              "    .dataframe thead th {\n",
              "        text-align: right;\n",
              "    }\n",
              "</style>\n",
              "<table border=\"1\" class=\"dataframe\">\n",
              "  <thead>\n",
              "    <tr style=\"text-align: right;\">\n",
              "      <th></th>\n",
              "      <th>기획제작사명</th>\n",
              "      <th>기획_제작사명</th>\n",
              "      <th>기획_제작사명_긍부정</th>\n",
              "    </tr>\n",
              "  </thead>\n",
              "  <tbody>\n",
              "    <tr>\n",
              "      <th>0</th>\n",
              "      <td>한국기독교총연합회(주최), CTS기독교TV(주관)</td>\n",
              "      <td>한국기독교총연합회</td>\n",
              "      <td>부정 56%</td>\n",
              "    </tr>\n",
              "    <tr>\n",
              "      <th>1</th>\n",
              "      <td>명음클래식(주최), 명음클래식(주관)</td>\n",
              "      <td>명음클래식</td>\n",
              "      <td>중립</td>\n",
              "    </tr>\n",
              "    <tr>\n",
              "      <th>2</th>\n",
              "      <td>대구시립예술단(주최), 대구시립교향악단(주관)</td>\n",
              "      <td>대구시립예술단</td>\n",
              "      <td>긍정 84%</td>\n",
              "    </tr>\n",
              "    <tr>\n",
              "      <th>3</th>\n",
              "      <td>어썸아트앤뉴미디어(주관), (주) 어썸아트앤뉴미디어(주최)</td>\n",
              "      <td>어썸아트앤뉴미디어</td>\n",
              "      <td>중립</td>\n",
              "    </tr>\n",
              "    <tr>\n",
              "      <th>4</th>\n",
              "      <td>대구시립합창단(주관), 대구시립예술단(주최)</td>\n",
              "      <td>대구시립합창단</td>\n",
              "      <td>긍정 89%</td>\n",
              "    </tr>\n",
              "    <tr>\n",
              "      <th>...</th>\n",
              "      <td>...</td>\n",
              "      <td>...</td>\n",
              "      <td>...</td>\n",
              "    </tr>\n",
              "    <tr>\n",
              "      <th>401</th>\n",
              "      <td>강릉아트센터(주최), 강릉아트센터(주관)</td>\n",
              "      <td>강릉아트센터</td>\n",
              "      <td>긍정 85%</td>\n",
              "    </tr>\n",
              "    <tr>\n",
              "      <th>402</th>\n",
              "      <td>극단 해미소(주최), 뜨래기획(주관)</td>\n",
              "      <td>극단해미소</td>\n",
              "      <td>긍정 100%</td>\n",
              "    </tr>\n",
              "    <tr>\n",
              "      <th>403</th>\n",
              "      <td>극단 예전(제작사)</td>\n",
              "      <td>극단예전</td>\n",
              "      <td>긍정 100%</td>\n",
              "    </tr>\n",
              "    <tr>\n",
              "      <th>404</th>\n",
              "      <td>국립극장(주최), 국립창극단(주관)</td>\n",
              "      <td>국립극장</td>\n",
              "      <td>긍정 84%</td>\n",
              "    </tr>\n",
              "    <tr>\n",
              "      <th>405</th>\n",
              "      <td>보훈무용예술협회(주최), (사)보훈무용예술협회(주관)</td>\n",
              "      <td>보훈무용예술협회</td>\n",
              "      <td>긍정 92%</td>\n",
              "    </tr>\n",
              "  </tbody>\n",
              "</table>\n",
              "<p>406 rows × 3 columns</p>\n",
              "</div>\n",
              "      <button class=\"colab-df-convert\" onclick=\"convertToInteractive('df-4d2bc015-5874-4903-ac0d-46b0acbc7a2e')\"\n",
              "              title=\"Convert this dataframe to an interactive table.\"\n",
              "              style=\"display:none;\">\n",
              "        \n",
              "  <svg xmlns=\"http://www.w3.org/2000/svg\" height=\"24px\"viewBox=\"0 0 24 24\"\n",
              "       width=\"24px\">\n",
              "    <path d=\"M0 0h24v24H0V0z\" fill=\"none\"/>\n",
              "    <path d=\"M18.56 5.44l.94 2.06.94-2.06 2.06-.94-2.06-.94-.94-2.06-.94 2.06-2.06.94zm-11 1L8.5 8.5l.94-2.06 2.06-.94-2.06-.94L8.5 2.5l-.94 2.06-2.06.94zm10 10l.94 2.06.94-2.06 2.06-.94-2.06-.94-.94-2.06-.94 2.06-2.06.94z\"/><path d=\"M17.41 7.96l-1.37-1.37c-.4-.4-.92-.59-1.43-.59-.52 0-1.04.2-1.43.59L10.3 9.45l-7.72 7.72c-.78.78-.78 2.05 0 2.83L4 21.41c.39.39.9.59 1.41.59.51 0 1.02-.2 1.41-.59l7.78-7.78 2.81-2.81c.8-.78.8-2.07 0-2.86zM5.41 20L4 18.59l7.72-7.72 1.47 1.35L5.41 20z\"/>\n",
              "  </svg>\n",
              "      </button>\n",
              "      \n",
              "  <style>\n",
              "    .colab-df-container {\n",
              "      display:flex;\n",
              "      flex-wrap:wrap;\n",
              "      gap: 12px;\n",
              "    }\n",
              "\n",
              "    .colab-df-convert {\n",
              "      background-color: #E8F0FE;\n",
              "      border: none;\n",
              "      border-radius: 50%;\n",
              "      cursor: pointer;\n",
              "      display: none;\n",
              "      fill: #1967D2;\n",
              "      height: 32px;\n",
              "      padding: 0 0 0 0;\n",
              "      width: 32px;\n",
              "    }\n",
              "\n",
              "    .colab-df-convert:hover {\n",
              "      background-color: #E2EBFA;\n",
              "      box-shadow: 0px 1px 2px rgba(60, 64, 67, 0.3), 0px 1px 3px 1px rgba(60, 64, 67, 0.15);\n",
              "      fill: #174EA6;\n",
              "    }\n",
              "\n",
              "    [theme=dark] .colab-df-convert {\n",
              "      background-color: #3B4455;\n",
              "      fill: #D2E3FC;\n",
              "    }\n",
              "\n",
              "    [theme=dark] .colab-df-convert:hover {\n",
              "      background-color: #434B5C;\n",
              "      box-shadow: 0px 1px 3px 1px rgba(0, 0, 0, 0.15);\n",
              "      filter: drop-shadow(0px 1px 2px rgba(0, 0, 0, 0.3));\n",
              "      fill: #FFFFFF;\n",
              "    }\n",
              "  </style>\n",
              "\n",
              "      <script>\n",
              "        const buttonEl =\n",
              "          document.querySelector('#df-4d2bc015-5874-4903-ac0d-46b0acbc7a2e button.colab-df-convert');\n",
              "        buttonEl.style.display =\n",
              "          google.colab.kernel.accessAllowed ? 'block' : 'none';\n",
              "\n",
              "        async function convertToInteractive(key) {\n",
              "          const element = document.querySelector('#df-4d2bc015-5874-4903-ac0d-46b0acbc7a2e');\n",
              "          const dataTable =\n",
              "            await google.colab.kernel.invokeFunction('convertToInteractive',\n",
              "                                                     [key], {});\n",
              "          if (!dataTable) return;\n",
              "\n",
              "          const docLinkHtml = 'Like what you see? Visit the ' +\n",
              "            '<a target=\"_blank\" href=https://colab.research.google.com/notebooks/data_table.ipynb>data table notebook</a>'\n",
              "            + ' to learn more about interactive tables.';\n",
              "          element.innerHTML = '';\n",
              "          dataTable['output_type'] = 'display_data';\n",
              "          await google.colab.output.renderOutput(dataTable, element);\n",
              "          const docLink = document.createElement('div');\n",
              "          docLink.innerHTML = docLinkHtml;\n",
              "          element.appendChild(docLink);\n",
              "        }\n",
              "      </script>\n",
              "    </div>\n",
              "  </div>\n",
              "  "
            ]
          },
          "metadata": {},
          "execution_count": 114
        }
      ]
    },
    {
      "cell_type": "code",
      "source": [
        "maker['긍부정'] = maker.기획_제작사명_긍부정.str.split(' ').str[0]\n",
        "maker['비율'] = maker.기획_제작사명_긍부정.str.split(' ').str[1]\n",
        "maker"
      ],
      "metadata": {
        "colab": {
          "base_uri": "https://localhost:8080/",
          "height": 652
        },
        "outputId": "10fcc968-f218-4b3f-9fbc-cedd37390c29",
        "id": "R5v5JjJkv7Bl"
      },
      "execution_count": null,
      "outputs": [
        {
          "output_type": "stream",
          "name": "stderr",
          "text": [
            "/usr/local/lib/python3.7/dist-packages/ipykernel_launcher.py:1: SettingWithCopyWarning: \n",
            "A value is trying to be set on a copy of a slice from a DataFrame.\n",
            "Try using .loc[row_indexer,col_indexer] = value instead\n",
            "\n",
            "See the caveats in the documentation: https://pandas.pydata.org/pandas-docs/stable/user_guide/indexing.html#returning-a-view-versus-a-copy\n",
            "  \"\"\"Entry point for launching an IPython kernel.\n",
            "/usr/local/lib/python3.7/dist-packages/ipykernel_launcher.py:2: SettingWithCopyWarning: \n",
            "A value is trying to be set on a copy of a slice from a DataFrame.\n",
            "Try using .loc[row_indexer,col_indexer] = value instead\n",
            "\n",
            "See the caveats in the documentation: https://pandas.pydata.org/pandas-docs/stable/user_guide/indexing.html#returning-a-view-versus-a-copy\n",
            "  \n"
          ]
        },
        {
          "output_type": "execute_result",
          "data": {
            "text/plain": [
              "                                기획제작사명    기획_제작사명 기획_제작사명_긍부정 긍부정    비율\n",
              "0          한국기독교총연합회(주최), CTS기독교TV(주관)  한국기독교총연합회      부정 56%  부정   56%\n",
              "1                 명음클래식(주최), 명음클래식(주관)      명음클래식          중립  중립   NaN\n",
              "2            대구시립예술단(주최), 대구시립교향악단(주관)    대구시립예술단      긍정 84%  긍정   84%\n",
              "3     어썸아트앤뉴미디어(주관), (주) 어썸아트앤뉴미디어(주최)  어썸아트앤뉴미디어          중립  중립   NaN\n",
              "4             대구시립합창단(주관), 대구시립예술단(주최)    대구시립합창단      긍정 89%  긍정   89%\n",
              "..                                 ...        ...         ...  ..   ...\n",
              "401             강릉아트센터(주최), 강릉아트센터(주관)     강릉아트센터      긍정 85%  긍정   85%\n",
              "402               극단 해미소(주최), 뜨래기획(주관)      극단해미소     긍정 100%  긍정  100%\n",
              "403                         극단 예전(제작사)       극단예전     긍정 100%  긍정  100%\n",
              "404                국립극장(주최), 국립창극단(주관)       국립극장      긍정 84%  긍정   84%\n",
              "405      보훈무용예술협회(주최), (사)보훈무용예술협회(주관)   보훈무용예술협회      긍정 92%  긍정   92%\n",
              "\n",
              "[406 rows x 5 columns]"
            ],
            "text/html": [
              "\n",
              "  <div id=\"df-f20380ce-1e89-4cc6-89d1-e74d984f4ca0\">\n",
              "    <div class=\"colab-df-container\">\n",
              "      <div>\n",
              "<style scoped>\n",
              "    .dataframe tbody tr th:only-of-type {\n",
              "        vertical-align: middle;\n",
              "    }\n",
              "\n",
              "    .dataframe tbody tr th {\n",
              "        vertical-align: top;\n",
              "    }\n",
              "\n",
              "    .dataframe thead th {\n",
              "        text-align: right;\n",
              "    }\n",
              "</style>\n",
              "<table border=\"1\" class=\"dataframe\">\n",
              "  <thead>\n",
              "    <tr style=\"text-align: right;\">\n",
              "      <th></th>\n",
              "      <th>기획제작사명</th>\n",
              "      <th>기획_제작사명</th>\n",
              "      <th>기획_제작사명_긍부정</th>\n",
              "      <th>긍부정</th>\n",
              "      <th>비율</th>\n",
              "    </tr>\n",
              "  </thead>\n",
              "  <tbody>\n",
              "    <tr>\n",
              "      <th>0</th>\n",
              "      <td>한국기독교총연합회(주최), CTS기독교TV(주관)</td>\n",
              "      <td>한국기독교총연합회</td>\n",
              "      <td>부정 56%</td>\n",
              "      <td>부정</td>\n",
              "      <td>56%</td>\n",
              "    </tr>\n",
              "    <tr>\n",
              "      <th>1</th>\n",
              "      <td>명음클래식(주최), 명음클래식(주관)</td>\n",
              "      <td>명음클래식</td>\n",
              "      <td>중립</td>\n",
              "      <td>중립</td>\n",
              "      <td>NaN</td>\n",
              "    </tr>\n",
              "    <tr>\n",
              "      <th>2</th>\n",
              "      <td>대구시립예술단(주최), 대구시립교향악단(주관)</td>\n",
              "      <td>대구시립예술단</td>\n",
              "      <td>긍정 84%</td>\n",
              "      <td>긍정</td>\n",
              "      <td>84%</td>\n",
              "    </tr>\n",
              "    <tr>\n",
              "      <th>3</th>\n",
              "      <td>어썸아트앤뉴미디어(주관), (주) 어썸아트앤뉴미디어(주최)</td>\n",
              "      <td>어썸아트앤뉴미디어</td>\n",
              "      <td>중립</td>\n",
              "      <td>중립</td>\n",
              "      <td>NaN</td>\n",
              "    </tr>\n",
              "    <tr>\n",
              "      <th>4</th>\n",
              "      <td>대구시립합창단(주관), 대구시립예술단(주최)</td>\n",
              "      <td>대구시립합창단</td>\n",
              "      <td>긍정 89%</td>\n",
              "      <td>긍정</td>\n",
              "      <td>89%</td>\n",
              "    </tr>\n",
              "    <tr>\n",
              "      <th>...</th>\n",
              "      <td>...</td>\n",
              "      <td>...</td>\n",
              "      <td>...</td>\n",
              "      <td>...</td>\n",
              "      <td>...</td>\n",
              "    </tr>\n",
              "    <tr>\n",
              "      <th>401</th>\n",
              "      <td>강릉아트센터(주최), 강릉아트센터(주관)</td>\n",
              "      <td>강릉아트센터</td>\n",
              "      <td>긍정 85%</td>\n",
              "      <td>긍정</td>\n",
              "      <td>85%</td>\n",
              "    </tr>\n",
              "    <tr>\n",
              "      <th>402</th>\n",
              "      <td>극단 해미소(주최), 뜨래기획(주관)</td>\n",
              "      <td>극단해미소</td>\n",
              "      <td>긍정 100%</td>\n",
              "      <td>긍정</td>\n",
              "      <td>100%</td>\n",
              "    </tr>\n",
              "    <tr>\n",
              "      <th>403</th>\n",
              "      <td>극단 예전(제작사)</td>\n",
              "      <td>극단예전</td>\n",
              "      <td>긍정 100%</td>\n",
              "      <td>긍정</td>\n",
              "      <td>100%</td>\n",
              "    </tr>\n",
              "    <tr>\n",
              "      <th>404</th>\n",
              "      <td>국립극장(주최), 국립창극단(주관)</td>\n",
              "      <td>국립극장</td>\n",
              "      <td>긍정 84%</td>\n",
              "      <td>긍정</td>\n",
              "      <td>84%</td>\n",
              "    </tr>\n",
              "    <tr>\n",
              "      <th>405</th>\n",
              "      <td>보훈무용예술협회(주최), (사)보훈무용예술협회(주관)</td>\n",
              "      <td>보훈무용예술협회</td>\n",
              "      <td>긍정 92%</td>\n",
              "      <td>긍정</td>\n",
              "      <td>92%</td>\n",
              "    </tr>\n",
              "  </tbody>\n",
              "</table>\n",
              "<p>406 rows × 5 columns</p>\n",
              "</div>\n",
              "      <button class=\"colab-df-convert\" onclick=\"convertToInteractive('df-f20380ce-1e89-4cc6-89d1-e74d984f4ca0')\"\n",
              "              title=\"Convert this dataframe to an interactive table.\"\n",
              "              style=\"display:none;\">\n",
              "        \n",
              "  <svg xmlns=\"http://www.w3.org/2000/svg\" height=\"24px\"viewBox=\"0 0 24 24\"\n",
              "       width=\"24px\">\n",
              "    <path d=\"M0 0h24v24H0V0z\" fill=\"none\"/>\n",
              "    <path d=\"M18.56 5.44l.94 2.06.94-2.06 2.06-.94-2.06-.94-.94-2.06-.94 2.06-2.06.94zm-11 1L8.5 8.5l.94-2.06 2.06-.94-2.06-.94L8.5 2.5l-.94 2.06-2.06.94zm10 10l.94 2.06.94-2.06 2.06-.94-2.06-.94-.94-2.06-.94 2.06-2.06.94z\"/><path d=\"M17.41 7.96l-1.37-1.37c-.4-.4-.92-.59-1.43-.59-.52 0-1.04.2-1.43.59L10.3 9.45l-7.72 7.72c-.78.78-.78 2.05 0 2.83L4 21.41c.39.39.9.59 1.41.59.51 0 1.02-.2 1.41-.59l7.78-7.78 2.81-2.81c.8-.78.8-2.07 0-2.86zM5.41 20L4 18.59l7.72-7.72 1.47 1.35L5.41 20z\"/>\n",
              "  </svg>\n",
              "      </button>\n",
              "      \n",
              "  <style>\n",
              "    .colab-df-container {\n",
              "      display:flex;\n",
              "      flex-wrap:wrap;\n",
              "      gap: 12px;\n",
              "    }\n",
              "\n",
              "    .colab-df-convert {\n",
              "      background-color: #E8F0FE;\n",
              "      border: none;\n",
              "      border-radius: 50%;\n",
              "      cursor: pointer;\n",
              "      display: none;\n",
              "      fill: #1967D2;\n",
              "      height: 32px;\n",
              "      padding: 0 0 0 0;\n",
              "      width: 32px;\n",
              "    }\n",
              "\n",
              "    .colab-df-convert:hover {\n",
              "      background-color: #E2EBFA;\n",
              "      box-shadow: 0px 1px 2px rgba(60, 64, 67, 0.3), 0px 1px 3px 1px rgba(60, 64, 67, 0.15);\n",
              "      fill: #174EA6;\n",
              "    }\n",
              "\n",
              "    [theme=dark] .colab-df-convert {\n",
              "      background-color: #3B4455;\n",
              "      fill: #D2E3FC;\n",
              "    }\n",
              "\n",
              "    [theme=dark] .colab-df-convert:hover {\n",
              "      background-color: #434B5C;\n",
              "      box-shadow: 0px 1px 3px 1px rgba(0, 0, 0, 0.15);\n",
              "      filter: drop-shadow(0px 1px 2px rgba(0, 0, 0, 0.3));\n",
              "      fill: #FFFFFF;\n",
              "    }\n",
              "  </style>\n",
              "\n",
              "      <script>\n",
              "        const buttonEl =\n",
              "          document.querySelector('#df-f20380ce-1e89-4cc6-89d1-e74d984f4ca0 button.colab-df-convert');\n",
              "        buttonEl.style.display =\n",
              "          google.colab.kernel.accessAllowed ? 'block' : 'none';\n",
              "\n",
              "        async function convertToInteractive(key) {\n",
              "          const element = document.querySelector('#df-f20380ce-1e89-4cc6-89d1-e74d984f4ca0');\n",
              "          const dataTable =\n",
              "            await google.colab.kernel.invokeFunction('convertToInteractive',\n",
              "                                                     [key], {});\n",
              "          if (!dataTable) return;\n",
              "\n",
              "          const docLinkHtml = 'Like what you see? Visit the ' +\n",
              "            '<a target=\"_blank\" href=https://colab.research.google.com/notebooks/data_table.ipynb>data table notebook</a>'\n",
              "            + ' to learn more about interactive tables.';\n",
              "          element.innerHTML = '';\n",
              "          dataTable['output_type'] = 'display_data';\n",
              "          await google.colab.output.renderOutput(dataTable, element);\n",
              "          const docLink = document.createElement('div');\n",
              "          docLink.innerHTML = docLinkHtml;\n",
              "          element.appendChild(docLink);\n",
              "        }\n",
              "      </script>\n",
              "    </div>\n",
              "  </div>\n",
              "  "
            ]
          },
          "metadata": {},
          "execution_count": 115
        }
      ]
    },
    {
      "cell_type": "code",
      "source": [
        "neg = maker['긍부정'] == '부정' # 음수\n",
        "neu = maker['긍부정'] == '중립' # 중립"
      ],
      "metadata": {
        "id": "CoP9fTBEnM2E"
      },
      "execution_count": null,
      "outputs": []
    },
    {
      "cell_type": "code",
      "source": [
        "maker['비율'].fillna(0, inplace=True) # NaN값 0으로 대체"
      ],
      "metadata": {
        "colab": {
          "base_uri": "https://localhost:8080/"
        },
        "outputId": "06f9b028-edd2-41a7-bede-2a3095e5c285",
        "id": "MDBj7QnZv7Bm"
      },
      "execution_count": null,
      "outputs": [
        {
          "output_type": "stream",
          "name": "stderr",
          "text": [
            "/usr/local/lib/python3.7/dist-packages/pandas/core/generic.py:6392: SettingWithCopyWarning: \n",
            "A value is trying to be set on a copy of a slice from a DataFrame\n",
            "\n",
            "See the caveats in the documentation: https://pandas.pydata.org/pandas-docs/stable/user_guide/indexing.html#returning-a-view-versus-a-copy\n",
            "  return self._update_inplace(result)\n"
          ]
        }
      ]
    },
    {
      "cell_type": "code",
      "source": [
        "# data.shape\n",
        "# data.columns"
      ],
      "metadata": {
        "id": "Nx_LxrVSWczc"
      },
      "execution_count": null,
      "outputs": []
    },
    {
      "cell_type": "code",
      "source": [
        "data_strd = pd.merge(data, maker, on='기획제작사명', how='left', indicator=True) # data의 '기획제작사명'을 key값으로 left merge, indicator 추가"
      ],
      "metadata": {
        "id": "MI223u42v7Bs"
      },
      "execution_count": null,
      "outputs": []
    },
    {
      "cell_type": "code",
      "source": [
        "data_strd['긍부정'].isnull().sum()"
      ],
      "metadata": {
        "colab": {
          "base_uri": "https://localhost:8080/"
        },
        "id": "87lGjP0bH5Wk",
        "outputId": "b5617ddd-c698-4b82-a07a-47a3643a4326"
      },
      "execution_count": null,
      "outputs": [
        {
          "output_type": "execute_result",
          "data": {
            "text/plain": [
              "501503"
            ]
          },
          "metadata": {},
          "execution_count": 166
        }
      ]
    },
    {
      "cell_type": "code",
      "source": [
        "data_strd['_merge'].value_counts() # \"left_only\" columns drop"
      ],
      "metadata": {
        "colab": {
          "base_uri": "https://localhost:8080/"
        },
        "outputId": "c57a06d6-264a-49c7-b99f-b6450ca12253",
        "id": "6Z5BIbNzv7Bw"
      },
      "execution_count": null,
      "outputs": [
        {
          "output_type": "execute_result",
          "data": {
            "text/plain": [
              "left_only     497763\n",
              "both          227258\n",
              "right_only         0\n",
              "Name: _merge, dtype: int64"
            ]
          },
          "metadata": {},
          "execution_count": 167
        }
      ]
    },
    {
      "cell_type": "code",
      "source": [
        "df = data_strd.dropna(subset = ['긍부정'])"
      ],
      "metadata": {
        "id": "OWVwUm7JJ1N1"
      },
      "execution_count": null,
      "outputs": []
    },
    {
      "cell_type": "code",
      "source": [
        "df.shape\n",
        "# df.columns"
      ],
      "metadata": {
        "colab": {
          "base_uri": "https://localhost:8080/"
        },
        "id": "oJb2AAtvwzHZ",
        "outputId": "9a78ff60-f4af-4c67-8007-5e40a0538175"
      },
      "execution_count": null,
      "outputs": [
        {
          "output_type": "execute_result",
          "data": {
            "text/plain": [
              "(223518, 95)"
            ]
          },
          "metadata": {},
          "execution_count": 175
        }
      ]
    },
    {
      "cell_type": "markdown",
      "source": [
        "### 1번. SOMETREND (부호추가完)"
      ],
      "metadata": {
        "id": "QlutGIEQ7mg6"
      }
    },
    {
      "cell_type": "code",
      "source": [
        "sometrend.shape # 'Unnamed: 0', '기획_제작사명', '기획_제작사명_긍부정'"
      ],
      "metadata": {
        "colab": {
          "base_uri": "https://localhost:8080/"
        },
        "outputId": "aebc650d-f27b-48a6-83ff-de6a47612652",
        "id": "hyCMYSOq7mg7"
      },
      "execution_count": null,
      "outputs": [
        {
          "output_type": "execute_result",
          "data": {
            "text/plain": [
              "(406, 71)"
            ]
          },
          "metadata": {},
          "execution_count": 48
        }
      ]
    },
    {
      "cell_type": "code",
      "source": [
        "sometrend['긍부정'] = sometrend['기획_제작사명_긍부정'].str.split(' ', expand=True)[0] # '긍부정', '비율' 컬럼 생성\n",
        "sometrend['비율'] = sometrend['기획_제작사명_긍부정'].str.split(' ', expand=True)[1]"
      ],
      "metadata": {
        "id": "FDohV0bvqb_9"
      },
      "execution_count": null,
      "outputs": []
    },
    {
      "cell_type": "code",
      "source": [
        "sometrend['비율'] = sometrend[\"비율\"].str[:2] # 부호 '%' 삭제"
      ],
      "metadata": {
        "id": "mbdGPYgz3sAE"
      },
      "execution_count": null,
      "outputs": []
    },
    {
      "cell_type": "code",
      "source": [
        "sometrend['비율'].fillna(0, inplace=True) # None값 0으로 대체"
      ],
      "metadata": {
        "id": "_PA6Fkli3xNL"
      },
      "execution_count": null,
      "outputs": []
    },
    {
      "cell_type": "code",
      "source": [
        "sometrend['비율'] = pd.DataFrame(sometrend['비율'].astype('str').astype('int'))  # 비율 데이터타입 변환"
      ],
      "metadata": {
        "id": "rzbFBFKQs-fZ"
      },
      "execution_count": null,
      "outputs": []
    },
    {
      "cell_type": "code",
      "source": [
        "sometrend.dtypes"
      ],
      "metadata": {
        "colab": {
          "base_uri": "https://localhost:8080/"
        },
        "id": "ZeeY_86YygZv",
        "outputId": "b606d409-3d49-4aa5-cf3d-eb86952652bb"
      },
      "execution_count": null,
      "outputs": [
        {
          "output_type": "execute_result",
          "data": {
            "text/plain": [
              "Unnamed: 0      int64\n",
              "전송사업자코드        object\n",
              "전송사업자명         object\n",
              "공연시설코드         object\n",
              "시설특성           object\n",
              "                ...  \n",
              "판매페이지URL       object\n",
              "기획_제작사명        object\n",
              "기획_제작사명_긍부정    object\n",
              "긍부정            object\n",
              "비율              int64\n",
              "Length: 73, dtype: object"
            ]
          },
          "metadata": {},
          "execution_count": 54
        }
      ]
    },
    {
      "cell_type": "code",
      "source": [
        "sometrend.loc[sometrend['긍부정'] == '부정','비율'] = sometrend['비율'] * (-1) # '부정'에 음수 부호 추가"
      ],
      "metadata": {
        "id": "ERSqXz2W00st"
      },
      "execution_count": null,
      "outputs": []
    },
    {
      "cell_type": "code",
      "source": [
        "sometrend.head(2)"
      ],
      "metadata": {
        "colab": {
          "base_uri": "https://localhost:8080/",
          "height": 411
        },
        "outputId": "b81b9095-f9c2-4302-e912-18d7397ec5c6",
        "id": "SDTw_oVD8CmD"
      },
      "execution_count": null,
      "outputs": [
        {
          "output_type": "execute_result",
          "data": {
            "text/plain": [
              "   Unnamed: 0   전송사업자코드 전송사업자명    공연시설코드      시설특성    개관연도  \\\n",
              "0           0  SE000102   티켓링크  FC223315  공공(문예회관)  1975.0   \n",
              "1           1  SE000102   티켓링크  FC223315  공공(문예회관)  1975.0   \n",
              "\n",
              "                          주소 편의시설_레스토랑 여부 편의시설_카페 여부 편의시설_편의점 여부  ...  \\\n",
              "0  대구광역시 중구 태평로 141 (태평로2가)             N          Y           N  ...   \n",
              "1  대구광역시 중구 태평로 141 (태평로2가)             N          Y           N  ...   \n",
              "\n",
              "            판매시작일시            판매종료일시       좌석등급 단독판매여부 판매좌석수  \\\n",
              "0  2022-06-09 0:00  2022-06-20 17:00    전석무료(0)      N    1석   \n",
              "1  2022-05-18 0:00  2022-06-21 17:00  전석(20000)      N    1석   \n",
              "\n",
              "                                    판매페이지URL    기획_제작사명 기획_제작사명_긍부정 긍부정  비율  \n",
              "0  http://www.ticketlink.co.kr/product/38972  한국기독교총연합회      부정 56%  부정 -56  \n",
              "1  http://www.ticketlink.co.kr/product/38712      명음클래식          중립  중립   0  \n",
              "\n",
              "[2 rows x 73 columns]"
            ],
            "text/html": [
              "\n",
              "  <div id=\"df-a14c6211-9986-47e2-8ef0-03f1c199614b\">\n",
              "    <div class=\"colab-df-container\">\n",
              "      <div>\n",
              "<style scoped>\n",
              "    .dataframe tbody tr th:only-of-type {\n",
              "        vertical-align: middle;\n",
              "    }\n",
              "\n",
              "    .dataframe tbody tr th {\n",
              "        vertical-align: top;\n",
              "    }\n",
              "\n",
              "    .dataframe thead th {\n",
              "        text-align: right;\n",
              "    }\n",
              "</style>\n",
              "<table border=\"1\" class=\"dataframe\">\n",
              "  <thead>\n",
              "    <tr style=\"text-align: right;\">\n",
              "      <th></th>\n",
              "      <th>Unnamed: 0</th>\n",
              "      <th>전송사업자코드</th>\n",
              "      <th>전송사업자명</th>\n",
              "      <th>공연시설코드</th>\n",
              "      <th>시설특성</th>\n",
              "      <th>개관연도</th>\n",
              "      <th>주소</th>\n",
              "      <th>편의시설_레스토랑 여부</th>\n",
              "      <th>편의시설_카페 여부</th>\n",
              "      <th>편의시설_편의점 여부</th>\n",
              "      <th>...</th>\n",
              "      <th>판매시작일시</th>\n",
              "      <th>판매종료일시</th>\n",
              "      <th>좌석등급</th>\n",
              "      <th>단독판매여부</th>\n",
              "      <th>판매좌석수</th>\n",
              "      <th>판매페이지URL</th>\n",
              "      <th>기획_제작사명</th>\n",
              "      <th>기획_제작사명_긍부정</th>\n",
              "      <th>긍부정</th>\n",
              "      <th>비율</th>\n",
              "    </tr>\n",
              "  </thead>\n",
              "  <tbody>\n",
              "    <tr>\n",
              "      <th>0</th>\n",
              "      <td>0</td>\n",
              "      <td>SE000102</td>\n",
              "      <td>티켓링크</td>\n",
              "      <td>FC223315</td>\n",
              "      <td>공공(문예회관)</td>\n",
              "      <td>1975.0</td>\n",
              "      <td>대구광역시 중구 태평로 141 (태평로2가)</td>\n",
              "      <td>N</td>\n",
              "      <td>Y</td>\n",
              "      <td>N</td>\n",
              "      <td>...</td>\n",
              "      <td>2022-06-09 0:00</td>\n",
              "      <td>2022-06-20 17:00</td>\n",
              "      <td>전석무료(0)</td>\n",
              "      <td>N</td>\n",
              "      <td>1석</td>\n",
              "      <td>http://www.ticketlink.co.kr/product/38972</td>\n",
              "      <td>한국기독교총연합회</td>\n",
              "      <td>부정 56%</td>\n",
              "      <td>부정</td>\n",
              "      <td>-56</td>\n",
              "    </tr>\n",
              "    <tr>\n",
              "      <th>1</th>\n",
              "      <td>1</td>\n",
              "      <td>SE000102</td>\n",
              "      <td>티켓링크</td>\n",
              "      <td>FC223315</td>\n",
              "      <td>공공(문예회관)</td>\n",
              "      <td>1975.0</td>\n",
              "      <td>대구광역시 중구 태평로 141 (태평로2가)</td>\n",
              "      <td>N</td>\n",
              "      <td>Y</td>\n",
              "      <td>N</td>\n",
              "      <td>...</td>\n",
              "      <td>2022-05-18 0:00</td>\n",
              "      <td>2022-06-21 17:00</td>\n",
              "      <td>전석(20000)</td>\n",
              "      <td>N</td>\n",
              "      <td>1석</td>\n",
              "      <td>http://www.ticketlink.co.kr/product/38712</td>\n",
              "      <td>명음클래식</td>\n",
              "      <td>중립</td>\n",
              "      <td>중립</td>\n",
              "      <td>0</td>\n",
              "    </tr>\n",
              "  </tbody>\n",
              "</table>\n",
              "<p>2 rows × 73 columns</p>\n",
              "</div>\n",
              "      <button class=\"colab-df-convert\" onclick=\"convertToInteractive('df-a14c6211-9986-47e2-8ef0-03f1c199614b')\"\n",
              "              title=\"Convert this dataframe to an interactive table.\"\n",
              "              style=\"display:none;\">\n",
              "        \n",
              "  <svg xmlns=\"http://www.w3.org/2000/svg\" height=\"24px\"viewBox=\"0 0 24 24\"\n",
              "       width=\"24px\">\n",
              "    <path d=\"M0 0h24v24H0V0z\" fill=\"none\"/>\n",
              "    <path d=\"M18.56 5.44l.94 2.06.94-2.06 2.06-.94-2.06-.94-.94-2.06-.94 2.06-2.06.94zm-11 1L8.5 8.5l.94-2.06 2.06-.94-2.06-.94L8.5 2.5l-.94 2.06-2.06.94zm10 10l.94 2.06.94-2.06 2.06-.94-2.06-.94-.94-2.06-.94 2.06-2.06.94z\"/><path d=\"M17.41 7.96l-1.37-1.37c-.4-.4-.92-.59-1.43-.59-.52 0-1.04.2-1.43.59L10.3 9.45l-7.72 7.72c-.78.78-.78 2.05 0 2.83L4 21.41c.39.39.9.59 1.41.59.51 0 1.02-.2 1.41-.59l7.78-7.78 2.81-2.81c.8-.78.8-2.07 0-2.86zM5.41 20L4 18.59l7.72-7.72 1.47 1.35L5.41 20z\"/>\n",
              "  </svg>\n",
              "      </button>\n",
              "      \n",
              "  <style>\n",
              "    .colab-df-container {\n",
              "      display:flex;\n",
              "      flex-wrap:wrap;\n",
              "      gap: 12px;\n",
              "    }\n",
              "\n",
              "    .colab-df-convert {\n",
              "      background-color: #E8F0FE;\n",
              "      border: none;\n",
              "      border-radius: 50%;\n",
              "      cursor: pointer;\n",
              "      display: none;\n",
              "      fill: #1967D2;\n",
              "      height: 32px;\n",
              "      padding: 0 0 0 0;\n",
              "      width: 32px;\n",
              "    }\n",
              "\n",
              "    .colab-df-convert:hover {\n",
              "      background-color: #E2EBFA;\n",
              "      box-shadow: 0px 1px 2px rgba(60, 64, 67, 0.3), 0px 1px 3px 1px rgba(60, 64, 67, 0.15);\n",
              "      fill: #174EA6;\n",
              "    }\n",
              "\n",
              "    [theme=dark] .colab-df-convert {\n",
              "      background-color: #3B4455;\n",
              "      fill: #D2E3FC;\n",
              "    }\n",
              "\n",
              "    [theme=dark] .colab-df-convert:hover {\n",
              "      background-color: #434B5C;\n",
              "      box-shadow: 0px 1px 3px 1px rgba(0, 0, 0, 0.15);\n",
              "      filter: drop-shadow(0px 1px 2px rgba(0, 0, 0, 0.3));\n",
              "      fill: #FFFFFF;\n",
              "    }\n",
              "  </style>\n",
              "\n",
              "      <script>\n",
              "        const buttonEl =\n",
              "          document.querySelector('#df-a14c6211-9986-47e2-8ef0-03f1c199614b button.colab-df-convert');\n",
              "        buttonEl.style.display =\n",
              "          google.colab.kernel.accessAllowed ? 'block' : 'none';\n",
              "\n",
              "        async function convertToInteractive(key) {\n",
              "          const element = document.querySelector('#df-a14c6211-9986-47e2-8ef0-03f1c199614b');\n",
              "          const dataTable =\n",
              "            await google.colab.kernel.invokeFunction('convertToInteractive',\n",
              "                                                     [key], {});\n",
              "          if (!dataTable) return;\n",
              "\n",
              "          const docLinkHtml = 'Like what you see? Visit the ' +\n",
              "            '<a target=\"_blank\" href=https://colab.research.google.com/notebooks/data_table.ipynb>data table notebook</a>'\n",
              "            + ' to learn more about interactive tables.';\n",
              "          element.innerHTML = '';\n",
              "          dataTable['output_type'] = 'display_data';\n",
              "          await google.colab.output.renderOutput(dataTable, element);\n",
              "          const docLink = document.createElement('div');\n",
              "          docLink.innerHTML = docLinkHtml;\n",
              "          element.appendChild(docLink);\n",
              "        }\n",
              "      </script>\n",
              "    </div>\n",
              "  </div>\n",
              "  "
            ]
          },
          "metadata": {},
          "execution_count": 62
        }
      ]
    },
    {
      "cell_type": "code",
      "source": [
        "data_strd = pd.merge(data, sometrend, on='기획제작사명', how='left', indicator=True) # data의 '기획제작사명'을 key값으로 left merge, indicator 추가"
      ],
      "metadata": {
        "id": "OTac-ZZA7mhB"
      },
      "execution_count": null,
      "outputs": []
    },
    {
      "cell_type": "code",
      "source": [
        "data_strd['긍부정'].isnull().sum()"
      ],
      "metadata": {
        "colab": {
          "base_uri": "https://localhost:8080/"
        },
        "outputId": "ec371a0e-ef55-4efc-b4b7-a14827c8ed1b",
        "id": "AUL8QHgm7mhB"
      },
      "execution_count": null,
      "outputs": [
        {
          "output_type": "execute_result",
          "data": {
            "text/plain": [
              "501503"
            ]
          },
          "metadata": {},
          "execution_count": 58
        }
      ]
    },
    {
      "cell_type": "code",
      "source": [
        "df = data_strd.dropna(subset = ['긍부정'])"
      ],
      "metadata": {
        "id": "Iucltlr87mhC"
      },
      "execution_count": null,
      "outputs": []
    },
    {
      "cell_type": "code",
      "source": [
        "df.shape\n",
        "# df.columns"
      ],
      "metadata": {
        "colab": {
          "base_uri": "https://localhost:8080/"
        },
        "outputId": "2b5449d9-7ef0-4422-fe12-6ea602182504",
        "id": "vCXTAxFv7mhC"
      },
      "execution_count": null,
      "outputs": [
        {
          "output_type": "execute_result",
          "data": {
            "text/plain": [
              "(223518, 90)"
            ]
          },
          "metadata": {},
          "execution_count": 61
        }
      ]
    },
    {
      "cell_type": "markdown",
      "source": [
        "기획제작사에 대한 긍부정 크롤링 데이터 활용을 위해 원본 데이터에 파생변수 '기획_제작사명_긍부정', '긍부정', '비율' 을 추가하였다."
      ],
      "metadata": {
        "id": "ZA8ZJUbMxF43"
      }
    },
    {
      "cell_type": "markdown",
      "metadata": {
        "id": "PSzBt2lWgfKU"
      },
      "source": [
        "### 2번. 주말/공휴일/기념일 여부\n"
      ]
    },
    {
      "cell_type": "markdown",
      "source": [
        "EDA 및 모델링을 위해 연, 월, 일을 각각 분리해 파생 변수로 처리한다. 또한, 공연 관람 수요에 영향을 줄 수 있는 요일 정보를 추가로 생성한다.\n",
        "\n",
        "- 공연일시 = 결제한 공연의 일시로 ‘YYYY-MM-DD HH:MM:SS’ 로 표기\n",
        "- 예매일시 = 결제한 일시로 ‘YYYY-MM-DD HH:MM:SS’ 로 표기\n",
        "\n"
      ],
      "metadata": {
        "id": "T2oCOBuXcsE1"
      }
    },
    {
      "cell_type": "code",
      "source": [
        "'''1. 연, 월,요일 파생변수 생성'''\n",
        "\n",
        "def make_date(df):\n",
        "  df['공연일시'] = pd.to_datetime(df['공연일시'])\n",
        "  df['공연일시_연'] = df['공연일시'].apply(lambda x: x.year)\n",
        "  df['공연일시_월'] = df['공연일시'].apply(lambda x: x.month)\n",
        "  df['공연일시_요일'] = df['공연일시'].apply(lambda x: x.weekday())\n",
        "  return df\n",
        "\n",
        "# 월:0 ~ 일:6"
      ],
      "metadata": {
        "id": "NvOZf4VMa2nd"
      },
      "execution_count": null,
      "outputs": []
    },
    {
      "cell_type": "code",
      "source": [
        "'''2. 공연기간 (일 수) 파생변수 생성'''\n",
        "\n",
        "from datetime import datetime, timedelta\n",
        "\n",
        "def make_period(df):\n",
        "  a = pd.to_datetime(df['공연시작일자'])  \n",
        "  b = pd.to_datetime(df['공연종료일자'])\n",
        "\n",
        "  df['공연기간'] = b - a + timedelta(days=1)\n",
        "  df['공연기간'] = df['공연기간'].dt.days # timedelta를 int로 변경\n",
        "  # df['공연규모'] =  ( df['공연기간'] * df['좌석수'] ) # int * int\n",
        "  return df"
      ],
      "metadata": {
        "id": "Y1V6X-HoZZpn"
      },
      "execution_count": null,
      "outputs": []
    },
    {
      "cell_type": "code",
      "execution_count": null,
      "metadata": {
        "id": "gy0MGtQsg4uY"
      },
      "outputs": [],
      "source": [
        "'''3. 주말, 공휴일, 기념일 여부 (N:0, Y:1) 파생변수 생성'''\n",
        "\n",
        "# 공휴일 & 기념일이면 1, 아닌 날은 0으로 라벨링\n",
        "def make_holiday_anniversay(df):\n",
        "  tmp = []\n",
        "  # 주말\n",
        "  for i in range(len(df)):\n",
        "    if df['공연일시_요일'][i]==5 or df['공연일시_요일'][i]==6: # 주말이면\n",
        "        tmp.append(df['공연일시'][i])\n",
        "# 21년도, 22년도 기준 공휴일 & 기념일 & 대체휴일\n",
        "  공휴일 = ['2021-01-01','2021-02-11','2021-02-12', '2021-02-13','2021-02-14','2021-03-01','2021-03-14','2021-05-05','2021-05-08','2021-06-06', '2021-08-15','2021-08-16','2021-09-20','2021-09-21','2021-09-22','2021-10-03','2021-10-04','2021-10-09','2021-10-11','2021-12-24','2021-12-25',\n",
        "         '2022-01-01', '2022-01.31', '2022-02-01', '2022-02-02', '2022-03-01', '2022-05-05', '2022-05-08', '2022-06-06', '2022-08-15', '2022-09-09', '2022-09-10', '2022-09-11', '2022-09-12', '2022-10-03', '2022-10-09', '2022-10-10', '2022-12-25']\n",
        "\n",
        "  tmp.extend(공휴일)\n",
        " \n",
        "  tmp = list(set(tmp)) #중복제거\n",
        "  \n",
        "  holiday_anniversary = []\n",
        "  for i in range(len(df)):\n",
        "    if df['공연일시'][i] in tmp:\n",
        "      holiday_anniversary.append(1)\n",
        "    else:\n",
        "      holiday_anniversary.append(0)\n",
        "\n",
        "  df['공휴일_기념일_여부'] = holiday_anniversary\n",
        "  return df"
      ]
    },
    {
      "cell_type": "code",
      "source": [
        "df_pre = make_date(data)\n",
        "df_pre = make_period(df_pre)\n",
        "df_pre = make_holiday_anniversay(df_pre)"
      ],
      "metadata": {
        "id": "MeixY3WXgKRB"
      },
      "execution_count": null,
      "outputs": []
    },
    {
      "cell_type": "code",
      "source": [
        "df_pre.tail()"
      ],
      "metadata": {
        "colab": {
          "base_uri": "https://localhost:8080/"
        },
        "id": "J-GIoLIMgZ0O",
        "outputId": "c80066ea-e083-483d-a1fd-3eb023c1dc42"
      },
      "execution_count": null,
      "outputs": [
        {
          "output_type": "execute_result",
          "data": {
            "text/plain": [
              "         전송사업자코드 전송사업자명    공연시설코드    개관연도                         주소  \\\n",
              "725016  FC000003   국립극장  FC222225  1973.0  서울특별시 중구 장충단로 59 (장충동2가)    \n",
              "725017  FC000003   국립극장  FC222225  1973.0  서울특별시 중구 장충단로 59 (장충동2가)    \n",
              "725018  FC000003   국립극장  FC222225  1973.0  서울특별시 중구 장충단로 59 (장충동2가)    \n",
              "725019  FC000003   국립극장  FC222225  1973.0  서울특별시 중구 장충단로 59 (장충동2가)    \n",
              "725020  FC000003   국립극장  FC222225  1973.0  서울특별시 중구 장충단로 59 (장충동2가)    \n",
              "\n",
              "        편의시설_레스토랑 여부  편의시설_카페 여부  편의시설_편의점 여부  편의시설_놀이방 여부  편의시설_수유실 여부  ...  \\\n",
              "725016             0           0            1            0            0  ...   \n",
              "725017             0           0            1            0            0  ...   \n",
              "725018             0           0            1            0            0  ...   \n",
              "725019             0           0            1            0            0  ...   \n",
              "725020             0           0            1            0            0  ...   \n",
              "\n",
              "        공연일시_월  공연일시_요일  공연기간  공휴일_기념일_여부  시설특성_공공(기타)  시설특성_공공(문예회관) 시설특성_국립  \\\n",
              "725016       6        6     5           1            0              0       1   \n",
              "725017       6        6     5           1            0              0       1   \n",
              "725018       6        6     5           1            0              0       1   \n",
              "725019       6        6     5           1            0              0       1   \n",
              "725020       6        6     5           1            0              0       1   \n",
              "\n",
              "        시설특성_기타(비공연장) 시설특성_민간(대학로 외)  시설특성_민간(대학로)  \n",
              "725016              0              0             0  \n",
              "725017              0              0             0  \n",
              "725018              0              0             0  \n",
              "725019              0              0             0  \n",
              "725020              0              0             0  \n",
              "\n",
              "[5 rows x 90 columns]"
            ],
            "text/html": [
              "\n",
              "  <div id=\"df-e508253b-0ed5-4a54-81d3-d2878ccb8459\">\n",
              "    <div class=\"colab-df-container\">\n",
              "      <div>\n",
              "<style scoped>\n",
              "    .dataframe tbody tr th:only-of-type {\n",
              "        vertical-align: middle;\n",
              "    }\n",
              "\n",
              "    .dataframe tbody tr th {\n",
              "        vertical-align: top;\n",
              "    }\n",
              "\n",
              "    .dataframe thead th {\n",
              "        text-align: right;\n",
              "    }\n",
              "</style>\n",
              "<table border=\"1\" class=\"dataframe\">\n",
              "  <thead>\n",
              "    <tr style=\"text-align: right;\">\n",
              "      <th></th>\n",
              "      <th>전송사업자코드</th>\n",
              "      <th>전송사업자명</th>\n",
              "      <th>공연시설코드</th>\n",
              "      <th>개관연도</th>\n",
              "      <th>주소</th>\n",
              "      <th>편의시설_레스토랑 여부</th>\n",
              "      <th>편의시설_카페 여부</th>\n",
              "      <th>편의시설_편의점 여부</th>\n",
              "      <th>편의시설_놀이방 여부</th>\n",
              "      <th>편의시설_수유실 여부</th>\n",
              "      <th>...</th>\n",
              "      <th>공연일시_월</th>\n",
              "      <th>공연일시_요일</th>\n",
              "      <th>공연기간</th>\n",
              "      <th>공휴일_기념일_여부</th>\n",
              "      <th>시설특성_공공(기타)</th>\n",
              "      <th>시설특성_공공(문예회관)</th>\n",
              "      <th>시설특성_국립</th>\n",
              "      <th>시설특성_기타(비공연장)</th>\n",
              "      <th>시설특성_민간(대학로 외)</th>\n",
              "      <th>시설특성_민간(대학로)</th>\n",
              "    </tr>\n",
              "  </thead>\n",
              "  <tbody>\n",
              "    <tr>\n",
              "      <th>725016</th>\n",
              "      <td>FC000003</td>\n",
              "      <td>국립극장</td>\n",
              "      <td>FC222225</td>\n",
              "      <td>1973.0</td>\n",
              "      <td>서울특별시 중구 장충단로 59 (장충동2가)</td>\n",
              "      <td>0</td>\n",
              "      <td>0</td>\n",
              "      <td>1</td>\n",
              "      <td>0</td>\n",
              "      <td>0</td>\n",
              "      <td>...</td>\n",
              "      <td>6</td>\n",
              "      <td>6</td>\n",
              "      <td>5</td>\n",
              "      <td>1</td>\n",
              "      <td>0</td>\n",
              "      <td>0</td>\n",
              "      <td>1</td>\n",
              "      <td>0</td>\n",
              "      <td>0</td>\n",
              "      <td>0</td>\n",
              "    </tr>\n",
              "    <tr>\n",
              "      <th>725017</th>\n",
              "      <td>FC000003</td>\n",
              "      <td>국립극장</td>\n",
              "      <td>FC222225</td>\n",
              "      <td>1973.0</td>\n",
              "      <td>서울특별시 중구 장충단로 59 (장충동2가)</td>\n",
              "      <td>0</td>\n",
              "      <td>0</td>\n",
              "      <td>1</td>\n",
              "      <td>0</td>\n",
              "      <td>0</td>\n",
              "      <td>...</td>\n",
              "      <td>6</td>\n",
              "      <td>6</td>\n",
              "      <td>5</td>\n",
              "      <td>1</td>\n",
              "      <td>0</td>\n",
              "      <td>0</td>\n",
              "      <td>1</td>\n",
              "      <td>0</td>\n",
              "      <td>0</td>\n",
              "      <td>0</td>\n",
              "    </tr>\n",
              "    <tr>\n",
              "      <th>725018</th>\n",
              "      <td>FC000003</td>\n",
              "      <td>국립극장</td>\n",
              "      <td>FC222225</td>\n",
              "      <td>1973.0</td>\n",
              "      <td>서울특별시 중구 장충단로 59 (장충동2가)</td>\n",
              "      <td>0</td>\n",
              "      <td>0</td>\n",
              "      <td>1</td>\n",
              "      <td>0</td>\n",
              "      <td>0</td>\n",
              "      <td>...</td>\n",
              "      <td>6</td>\n",
              "      <td>6</td>\n",
              "      <td>5</td>\n",
              "      <td>1</td>\n",
              "      <td>0</td>\n",
              "      <td>0</td>\n",
              "      <td>1</td>\n",
              "      <td>0</td>\n",
              "      <td>0</td>\n",
              "      <td>0</td>\n",
              "    </tr>\n",
              "    <tr>\n",
              "      <th>725019</th>\n",
              "      <td>FC000003</td>\n",
              "      <td>국립극장</td>\n",
              "      <td>FC222225</td>\n",
              "      <td>1973.0</td>\n",
              "      <td>서울특별시 중구 장충단로 59 (장충동2가)</td>\n",
              "      <td>0</td>\n",
              "      <td>0</td>\n",
              "      <td>1</td>\n",
              "      <td>0</td>\n",
              "      <td>0</td>\n",
              "      <td>...</td>\n",
              "      <td>6</td>\n",
              "      <td>6</td>\n",
              "      <td>5</td>\n",
              "      <td>1</td>\n",
              "      <td>0</td>\n",
              "      <td>0</td>\n",
              "      <td>1</td>\n",
              "      <td>0</td>\n",
              "      <td>0</td>\n",
              "      <td>0</td>\n",
              "    </tr>\n",
              "    <tr>\n",
              "      <th>725020</th>\n",
              "      <td>FC000003</td>\n",
              "      <td>국립극장</td>\n",
              "      <td>FC222225</td>\n",
              "      <td>1973.0</td>\n",
              "      <td>서울특별시 중구 장충단로 59 (장충동2가)</td>\n",
              "      <td>0</td>\n",
              "      <td>0</td>\n",
              "      <td>1</td>\n",
              "      <td>0</td>\n",
              "      <td>0</td>\n",
              "      <td>...</td>\n",
              "      <td>6</td>\n",
              "      <td>6</td>\n",
              "      <td>5</td>\n",
              "      <td>1</td>\n",
              "      <td>0</td>\n",
              "      <td>0</td>\n",
              "      <td>1</td>\n",
              "      <td>0</td>\n",
              "      <td>0</td>\n",
              "      <td>0</td>\n",
              "    </tr>\n",
              "  </tbody>\n",
              "</table>\n",
              "<p>5 rows × 90 columns</p>\n",
              "</div>\n",
              "      <button class=\"colab-df-convert\" onclick=\"convertToInteractive('df-e508253b-0ed5-4a54-81d3-d2878ccb8459')\"\n",
              "              title=\"Convert this dataframe to an interactive table.\"\n",
              "              style=\"display:none;\">\n",
              "        \n",
              "  <svg xmlns=\"http://www.w3.org/2000/svg\" height=\"24px\"viewBox=\"0 0 24 24\"\n",
              "       width=\"24px\">\n",
              "    <path d=\"M0 0h24v24H0V0z\" fill=\"none\"/>\n",
              "    <path d=\"M18.56 5.44l.94 2.06.94-2.06 2.06-.94-2.06-.94-.94-2.06-.94 2.06-2.06.94zm-11 1L8.5 8.5l.94-2.06 2.06-.94-2.06-.94L8.5 2.5l-.94 2.06-2.06.94zm10 10l.94 2.06.94-2.06 2.06-.94-2.06-.94-.94-2.06-.94 2.06-2.06.94z\"/><path d=\"M17.41 7.96l-1.37-1.37c-.4-.4-.92-.59-1.43-.59-.52 0-1.04.2-1.43.59L10.3 9.45l-7.72 7.72c-.78.78-.78 2.05 0 2.83L4 21.41c.39.39.9.59 1.41.59.51 0 1.02-.2 1.41-.59l7.78-7.78 2.81-2.81c.8-.78.8-2.07 0-2.86zM5.41 20L4 18.59l7.72-7.72 1.47 1.35L5.41 20z\"/>\n",
              "  </svg>\n",
              "      </button>\n",
              "      \n",
              "  <style>\n",
              "    .colab-df-container {\n",
              "      display:flex;\n",
              "      flex-wrap:wrap;\n",
              "      gap: 12px;\n",
              "    }\n",
              "\n",
              "    .colab-df-convert {\n",
              "      background-color: #E8F0FE;\n",
              "      border: none;\n",
              "      border-radius: 50%;\n",
              "      cursor: pointer;\n",
              "      display: none;\n",
              "      fill: #1967D2;\n",
              "      height: 32px;\n",
              "      padding: 0 0 0 0;\n",
              "      width: 32px;\n",
              "    }\n",
              "\n",
              "    .colab-df-convert:hover {\n",
              "      background-color: #E2EBFA;\n",
              "      box-shadow: 0px 1px 2px rgba(60, 64, 67, 0.3), 0px 1px 3px 1px rgba(60, 64, 67, 0.15);\n",
              "      fill: #174EA6;\n",
              "    }\n",
              "\n",
              "    [theme=dark] .colab-df-convert {\n",
              "      background-color: #3B4455;\n",
              "      fill: #D2E3FC;\n",
              "    }\n",
              "\n",
              "    [theme=dark] .colab-df-convert:hover {\n",
              "      background-color: #434B5C;\n",
              "      box-shadow: 0px 1px 3px 1px rgba(0, 0, 0, 0.15);\n",
              "      filter: drop-shadow(0px 1px 2px rgba(0, 0, 0, 0.3));\n",
              "      fill: #FFFFFF;\n",
              "    }\n",
              "  </style>\n",
              "\n",
              "      <script>\n",
              "        const buttonEl =\n",
              "          document.querySelector('#df-e508253b-0ed5-4a54-81d3-d2878ccb8459 button.colab-df-convert');\n",
              "        buttonEl.style.display =\n",
              "          google.colab.kernel.accessAllowed ? 'block' : 'none';\n",
              "\n",
              "        async function convertToInteractive(key) {\n",
              "          const element = document.querySelector('#df-e508253b-0ed5-4a54-81d3-d2878ccb8459');\n",
              "          const dataTable =\n",
              "            await google.colab.kernel.invokeFunction('convertToInteractive',\n",
              "                                                     [key], {});\n",
              "          if (!dataTable) return;\n",
              "\n",
              "          const docLinkHtml = 'Like what you see? Visit the ' +\n",
              "            '<a target=\"_blank\" href=https://colab.research.google.com/notebooks/data_table.ipynb>data table notebook</a>'\n",
              "            + ' to learn more about interactive tables.';\n",
              "          element.innerHTML = '';\n",
              "          dataTable['output_type'] = 'display_data';\n",
              "          await google.colab.output.renderOutput(dataTable, element);\n",
              "          const docLink = document.createElement('div');\n",
              "          docLink.innerHTML = docLinkHtml;\n",
              "          element.appendChild(docLink);\n",
              "        }\n",
              "      </script>\n",
              "    </div>\n",
              "  </div>\n",
              "  "
            ]
          },
          "metadata": {},
          "execution_count": 180
        }
      ]
    },
    {
      "cell_type": "markdown",
      "source": [
        "### 3번. 연령 -> 나이대 파생 변수"
      ],
      "metadata": {
        "id": "qOid_nLC98dv"
      }
    },
    {
      "cell_type": "code",
      "execution_count": null,
      "metadata": {
        "id": "F3eTV-A2I_l2"
      },
      "outputs": [],
      "source": [
        "df_pre['연령'] = 2022 - df_pre['연령'] +1"
      ]
    },
    {
      "cell_type": "code",
      "execution_count": null,
      "metadata": {
        "id": "lfvPeGkIksZm"
      },
      "outputs": [],
      "source": [
        "def age_categorize(age):\n",
        "  age = (age//10)*10\n",
        "  return age"
      ]
    },
    {
      "cell_type": "code",
      "execution_count": null,
      "metadata": {
        "id": "kVHju7JWldUI"
      },
      "outputs": [],
      "source": [
        "age_category = df_pre['연령'].apply(age_categorize)"
      ]
    },
    {
      "cell_type": "code",
      "execution_count": null,
      "metadata": {
        "id": "WgsojTnAqoTh"
      },
      "outputs": [],
      "source": [
        "age_category = age_category.astype('category')"
      ]
    },
    {
      "cell_type": "code",
      "execution_count": null,
      "metadata": {
        "id": "KENA2EgurU2B"
      },
      "outputs": [],
      "source": [
        "df_pre.insert(6, '나이대', age_category)"
      ]
    },
    {
      "cell_type": "code",
      "execution_count": null,
      "metadata": {
        "colab": {
          "base_uri": "https://localhost:8080/"
        },
        "id": "IDRo52fUuF6t",
        "outputId": "6ae57429-ef9b-4aef-9758-a0978f570a3f"
      },
      "outputs": [
        {
          "output_type": "execute_result",
          "data": {
            "text/plain": [
              "2020    322557\n",
              "30      141818\n",
              "20      106049\n",
              "40       97630\n",
              "50       32966\n",
              "60       12656\n",
              "0         4261\n",
              "10        3248\n",
              "70        2663\n",
              "80         463\n",
              "110        271\n",
              "120        219\n",
              "90         186\n",
              "100         34\n",
              "Name: 나이대, dtype: int64"
            ]
          },
          "metadata": {},
          "execution_count": 84
        }
      ],
      "source": [
        "df_pre['나이대'].value_counts()"
      ]
    },
    {
      "cell_type": "code",
      "execution_count": null,
      "metadata": {
        "colab": {
          "base_uri": "https://localhost:8080/"
        },
        "id": "0CCXFEuavib0",
        "outputId": "26113843-957b-499a-8751-8255f786b389"
      },
      "outputs": [
        {
          "output_type": "execute_result",
          "data": {
            "text/plain": [
              "14"
            ]
          },
          "metadata": {},
          "execution_count": 85
        }
      ],
      "source": [
        "df_pre['나이대'].nunique()"
      ]
    },
    {
      "cell_type": "code",
      "execution_count": null,
      "metadata": {
        "colab": {
          "base_uri": "https://localhost:8080/"
        },
        "id": "KunGxoQTKFnj",
        "outputId": "2c792091-03ef-40af-f979-c836e77345b4"
      },
      "outputs": [
        {
          "output_type": "execute_result",
          "data": {
            "text/plain": [
              "<bound method IndexOpsMixin.value_counts of 0         0\n",
              "1         0\n",
              "2         0\n",
              "3         0\n",
              "4         0\n",
              "         ..\n",
              "725016    0\n",
              "725017    0\n",
              "725018    0\n",
              "725019    0\n",
              "725020    0\n",
              "Name: 성별, Length: 725021, dtype: int64>"
            ]
          },
          "metadata": {},
          "execution_count": 87
        }
      ],
      "source": [
        "df_pre['성별'].value_counts"
      ]
    },
    {
      "cell_type": "code",
      "execution_count": null,
      "metadata": {
        "id": "Fjcx5hyXhjN0"
      },
      "outputs": [],
      "source": [
        "# 연령 라벨링\n",
        "df_pre.replace({'나이대': { 2020 : 0, \n",
        "                            0 : 1, 10 : 1,\n",
        "                            20 : 2, 30 : 2, 40 : 2, \n",
        "                            50 : 3, 60 : 3, 70 : 3, \n",
        "                            80 : 4, 90 : 4, 100 : 4, 110 : 4, 120 : 4}},inplace=True)"
      ]
    },
    {
      "cell_type": "markdown",
      "source": [
        "### 4번. 공연지속률 = (공연종료일자 - 공연시작일자)/365"
      ],
      "metadata": {
        "id": "YcSu6WNVrWAP"
      }
    },
    {
      "cell_type": "code",
      "execution_count": null,
      "metadata": {
        "id": "gDhGT-HBzLnm"
      },
      "outputs": [],
      "source": [
        "# 공연지속률 = 공연기간/365\n",
        "df_pre = df_pre.assign(공연지속률 = df_pre['공연기간']/365)"
      ]
    },
    {
      "cell_type": "markdown",
      "source": [
        "## 변수 선택(1차,df)"
      ],
      "metadata": {
        "id": "lpbyAe3D2i1r"
      }
    },
    {
      "cell_type": "code",
      "source": [
        "df.columns"
      ],
      "metadata": {
        "colab": {
          "base_uri": "https://localhost:8080/"
        },
        "id": "DtSANxNg9lL_",
        "outputId": "98edd2ad-9dce-4994-b708-4a10d8047070"
      },
      "execution_count": null,
      "outputs": [
        {
          "output_type": "execute_result",
          "data": {
            "text/plain": [
              "Index(['전송사업자코드', '전송사업자명', '공연시설코드', '개관연도', '주소', '편의시설_레스토랑 여부',\n",
              "       '편의시설_카페 여부', '편의시설_편의점 여부', '편의시설_놀이방 여부', '편의시설_수유실 여부',\n",
              "       '장애인시설_주차장 여부', '장애인시설_화장실 여부', '장애인시설_경사로 여부', '장애인시설_전용엘리베이터 여부',\n",
              "       '주차시설_자체 여부', '주차시설_공영 여부', '공연장코드', '좌석수', '장애인석', '무대시설_오케스트라피트 여부',\n",
              "       '무대시설_연습실 여부', '무대시설_분장실 여부', '무대시설_무대넓이', '공연코드', '공연회차', '공연일시',\n",
              "       '입장권고유번호', '예매/취소일시', '예매/취소구분', '예매/취소매수', '예매/취소금액', '예매/취소방식코드',\n",
              "       '예매/취소방식명(관리시스템)', '예매/취소방식명(전송처)', '결제수단코드', '결제수단명(관리시스템)',\n",
              "       '결제수단명(전송처)', '할인금액', '할인종류코드', '할인종류명(관리시스템)', '할인종류명(전송처)', '장당금액',\n",
              "       '성별', '연령', '공연시작일자', '공연종료일자', '소요시간', '세부장르명', '출연진내용', '제작진내용',\n",
              "       '기획제작사명', '원작자명', '극작가명', '수상실적', '관람연령', '아동공연 여부', '축제 여부', '내한공연 여부',\n",
              "       '오픈런 여부', '판매시작일시', '판매종료일시', '좌석등급', '단독판매여부', '판매좌석수', '판매페이지URL',\n",
              "       '장르명_국악', '장르명_무용', '장르명_뮤지컬', '장르명_복합', '장르명_연극', '장르명_오페라', '장르명_클래식',\n",
              "       '공연지역명_강원도', '공연지역명_경기도', '공연지역명_경상도', '공연지역명_서울', '공연지역명_전라도',\n",
              "       '공연지역명_제주도', '공연지역명_충청도', '공연일시_연', '공연일시_월', '공연일시_요일', '공연기간',\n",
              "       '공휴일_기념일_여부', '시설특성_공공(기타)', '시설특성_공공(문예회관)', '시설특성_국립',\n",
              "       '시설특성_기타(비공연장)', '시설특성_민간(대학로 외)', '시설특성_민간(대학로)', '기획_제작사명',\n",
              "       '기획_제작사명_긍부정', '긍부정', '비율', '_merge'],\n",
              "      dtype='object')"
            ]
          },
          "metadata": {},
          "execution_count": 181
        }
      ]
    },
    {
      "cell_type": "markdown",
      "source": [
        "**변수 선별 단계**  \n",
        "- 공연 HW, 공연 SW, 서비스의 3가지 소분류에 부합하는 변수\n",
        "  - *지역뮤지컬 공연 지불의사 분석 (2014, 이종수)*   \n",
        "- WTP에 해당하는 변수는 고객이 실제로 지불한 '예매금액'\n",
        "  - 결제/취소 시, 결제한 최종금액(할인 포함)  \n",
        "- 인구통계학 정보 분류에 해당하는 변수 '성별', '연령'\n",
        "- SOMETREND 관련 변수\n",
        "- 등등"
      ],
      "metadata": {
        "id": "N9PFClwRxflw"
      }
    },
    {
      "cell_type": "code",
      "source": [
        "# 사용할 데이터 칼럼 1차 선별 : df\n",
        "\n",
        "df = df[['공연장코드','공연코드', # \"단위\"\n",
        "         \n",
        "       '기획_제작사명', '기획_제작사명_긍부정', '긍부정', '비율', # 썸트렌드         \n",
        "         \n",
        "       '시설특성_공공(기타)', '시설특성_공공(문예회관)', '시설특성_국립', # HW_공공_3\n",
        "       '시설특성_기타(비공연장)', '시설특성_민간(대학로 외)', '시설특성_민간(대학로)', # HW_민간_2\n",
        "       '편의시설_레스토랑 여부','편의시설_카페 여부', '편의시설_편의점 여부', '편의시설_놀이방 여부', '편의시설_수유실 여부', # HW_편의시설_5\n",
        "       '장애인시설_주차장 여부', '장애인시설_화장실 여부', '장애인시설_경사로 여부', '장애인시설_전용엘리베이터 여부', # HW_장애인시설_4\n",
        "       '주차시설_자체 여부', '주차시설_공영 여부', # HW_주차시설_2\n",
        "\n",
        "       '장당금액', # WTP\n",
        "\n",
        "       '성별', # 인구통계정보\n",
        "       '연령', # 인구통계정보\n",
        "    \n",
        "       '장르명_국악', '장르명_무용', '장르명_뮤지컬', '장르명_복합', '장르명_연극', '장르명_오페라', '장르명_클래식', # SW_장르명_7\n",
        "       '공연지역명_강원도', '공연지역명_경기도', '공연지역명_경상도', '공연지역명_서울', '공연지역명_전라도', '공연지역명_제주도', '공연지역명_충청도', # SW_공연지역명_7\n",
        "       '무대시설_오케스트라피트 여부','무대시설_연습실 여부', '무대시설_분장실 여부', # SW_무대시설_3\n",
        "\n",
        "       '오픈런 여부', # 서비스\n",
        "\n",
        "       '아동공연 여부', '축제 여부', '내한공연 여부' # 기타 공연 특성\n",
        "       ]]  "
      ],
      "metadata": {
        "id": "0DpHDNHVXHzX"
      },
      "execution_count": null,
      "outputs": []
    },
    {
      "cell_type": "markdown",
      "source": [
        "**변수 관련 사항**  \n",
        "- 'SW_무대시설_무대넓이' 삭제"
      ],
      "metadata": {
        "id": "U-Dm1YhsKjCV"
      }
    },
    {
      "cell_type": "code",
      "source": [
        "df.shape"
      ],
      "metadata": {
        "colab": {
          "base_uri": "https://localhost:8080/"
        },
        "id": "aSlSdjgCEANp",
        "outputId": "f7631c04-144d-47cd-8fa5-e56af9197cd7"
      },
      "execution_count": null,
      "outputs": [
        {
          "output_type": "execute_result",
          "data": {
            "text/plain": [
              "(223518, 47)"
            ]
          },
          "metadata": {},
          "execution_count": 184
        }
      ]
    },
    {
      "cell_type": "markdown",
      "source": [
        "**‘오픈런’ 공연**은 공연이 끝나는 기간이 정해지지 않은 채 무기한으로 진행하는 공연 형식.  \n",
        "\n",
        "주로 전용극장을 가진 대학로 소극장 공연들에서 쉽게 볼 수 있는 형식(메카 브로드웨이)  \n",
        "\n",
        "예시: <오백에삼십>, <옥탑방고양이>, <라이어>, <김종욱찾기>  \n",
        "강점: 계속해서 완성도를 높이고 문제점을 보완할 수 있다\n",
        "\n",
        "<->  \n",
        "'리미티드런' 공연은 공연 기간이 명확하게 정해진 공연 형식  \n",
        "\n",
        "대극장 뮤지컬(세종문화회관, 예술의전당, 국립극장),  \n",
        "연극 공연들이나 짧은 기간동안 선보이는 극단 공연에서 볼 수 있는 형식\n",
        "\n",
        "출처 : 문화뉴스(https://www.mhns.co.kr)"
      ],
      "metadata": {
        "id": "Ie0RX_NotIrA"
      }
    },
    {
      "cell_type": "markdown",
      "source": [
        "## 데이터셋 가공"
      ],
      "metadata": {
        "id": "4tdSJR2-8i75"
      }
    },
    {
      "cell_type": "code",
      "source": [
        "df.isnull().sum()"
      ],
      "metadata": {
        "colab": {
          "base_uri": "https://localhost:8080/"
        },
        "id": "2C1TudLFHcbe",
        "outputId": "9091d07e-eec1-44a8-ae64-590ddb70f84b"
      },
      "execution_count": null,
      "outputs": [
        {
          "output_type": "execute_result",
          "data": {
            "text/plain": [
              "공연장코드               0\n",
              "공연코드                0\n",
              "기획_제작사명             0\n",
              "기획_제작사명_긍부정         0\n",
              "긍부정                 0\n",
              "비율                  0\n",
              "시설특성_공공(기타)         0\n",
              "시설특성_공공(문예회관)       0\n",
              "시설특성_국립             0\n",
              "시설특성_기타(비공연장)       0\n",
              "시설특성_민간(대학로 외)      0\n",
              "시설특성_민간(대학로)        0\n",
              "편의시설_레스토랑 여부        0\n",
              "편의시설_카페 여부          0\n",
              "편의시설_편의점 여부         0\n",
              "편의시설_놀이방 여부         0\n",
              "편의시설_수유실 여부         0\n",
              "장애인시설_주차장 여부        0\n",
              "장애인시설_화장실 여부        0\n",
              "장애인시설_경사로 여부        0\n",
              "장애인시설_전용엘리베이터 여부    0\n",
              "주차시설_자체 여부          0\n",
              "주차시설_공영 여부          0\n",
              "장당금액                0\n",
              "성별                  0\n",
              "연령                  0\n",
              "장르명_국악              0\n",
              "장르명_무용              0\n",
              "장르명_뮤지컬             0\n",
              "장르명_복합              0\n",
              "장르명_연극              0\n",
              "장르명_오페라             0\n",
              "장르명_클래식             0\n",
              "공연지역명_강원도           0\n",
              "공연지역명_경기도           0\n",
              "공연지역명_경상도           0\n",
              "공연지역명_서울            0\n",
              "공연지역명_전라도           0\n",
              "공연지역명_제주도           0\n",
              "공연지역명_충청도           0\n",
              "무대시설_오케스트라피트 여부     0\n",
              "무대시설_연습실 여부         0\n",
              "무대시설_분장실 여부         0\n",
              "오픈런 여부              0\n",
              "아동공연 여부             0\n",
              "축제 여부               0\n",
              "내한공연 여부             0\n",
              "dtype: int64"
            ]
          },
          "metadata": {},
          "execution_count": 172
        }
      ]
    },
    {
      "cell_type": "markdown",
      "metadata": {
        "id": "QtQp9P624Zzq"
      },
      "source": [
        "### 공연 거래 빈도 파생변수 & 공연코드 기준 중복데이터 제거 "
      ]
    },
    {
      "cell_type": "code",
      "execution_count": null,
      "metadata": {
        "colab": {
          "base_uri": "https://localhost:8080/",
          "height": 424
        },
        "id": "B46K1DMJ4lhM",
        "outputId": "dbf04cf9-9072-4e59-e65e-9b334cd28fd9"
      },
      "outputs": [
        {
          "output_type": "execute_result",
          "data": {
            "text/plain": [
              "        index   공연코드\n",
              "0    PF301651  31761\n",
              "1    PF315495  17722\n",
              "2    PF312778  12206\n",
              "3    PF301926  11424\n",
              "4    PF301248  10039\n",
              "..        ...    ...\n",
              "314  PF315048      1\n",
              "315  PF315340      1\n",
              "316  PF315752      1\n",
              "317  PF315590      1\n",
              "318  PF307524      1\n",
              "\n",
              "[319 rows x 2 columns]"
            ],
            "text/html": [
              "\n",
              "  <div id=\"df-b7b83ef3-021e-4e58-a702-39baa5e7559a\">\n",
              "    <div class=\"colab-df-container\">\n",
              "      <div>\n",
              "<style scoped>\n",
              "    .dataframe tbody tr th:only-of-type {\n",
              "        vertical-align: middle;\n",
              "    }\n",
              "\n",
              "    .dataframe tbody tr th {\n",
              "        vertical-align: top;\n",
              "    }\n",
              "\n",
              "    .dataframe thead th {\n",
              "        text-align: right;\n",
              "    }\n",
              "</style>\n",
              "<table border=\"1\" class=\"dataframe\">\n",
              "  <thead>\n",
              "    <tr style=\"text-align: right;\">\n",
              "      <th></th>\n",
              "      <th>index</th>\n",
              "      <th>공연코드</th>\n",
              "    </tr>\n",
              "  </thead>\n",
              "  <tbody>\n",
              "    <tr>\n",
              "      <th>0</th>\n",
              "      <td>PF301651</td>\n",
              "      <td>31761</td>\n",
              "    </tr>\n",
              "    <tr>\n",
              "      <th>1</th>\n",
              "      <td>PF315495</td>\n",
              "      <td>17722</td>\n",
              "    </tr>\n",
              "    <tr>\n",
              "      <th>2</th>\n",
              "      <td>PF312778</td>\n",
              "      <td>12206</td>\n",
              "    </tr>\n",
              "    <tr>\n",
              "      <th>3</th>\n",
              "      <td>PF301926</td>\n",
              "      <td>11424</td>\n",
              "    </tr>\n",
              "    <tr>\n",
              "      <th>4</th>\n",
              "      <td>PF301248</td>\n",
              "      <td>10039</td>\n",
              "    </tr>\n",
              "    <tr>\n",
              "      <th>...</th>\n",
              "      <td>...</td>\n",
              "      <td>...</td>\n",
              "    </tr>\n",
              "    <tr>\n",
              "      <th>314</th>\n",
              "      <td>PF315048</td>\n",
              "      <td>1</td>\n",
              "    </tr>\n",
              "    <tr>\n",
              "      <th>315</th>\n",
              "      <td>PF315340</td>\n",
              "      <td>1</td>\n",
              "    </tr>\n",
              "    <tr>\n",
              "      <th>316</th>\n",
              "      <td>PF315752</td>\n",
              "      <td>1</td>\n",
              "    </tr>\n",
              "    <tr>\n",
              "      <th>317</th>\n",
              "      <td>PF315590</td>\n",
              "      <td>1</td>\n",
              "    </tr>\n",
              "    <tr>\n",
              "      <th>318</th>\n",
              "      <td>PF307524</td>\n",
              "      <td>1</td>\n",
              "    </tr>\n",
              "  </tbody>\n",
              "</table>\n",
              "<p>319 rows × 2 columns</p>\n",
              "</div>\n",
              "      <button class=\"colab-df-convert\" onclick=\"convertToInteractive('df-b7b83ef3-021e-4e58-a702-39baa5e7559a')\"\n",
              "              title=\"Convert this dataframe to an interactive table.\"\n",
              "              style=\"display:none;\">\n",
              "        \n",
              "  <svg xmlns=\"http://www.w3.org/2000/svg\" height=\"24px\"viewBox=\"0 0 24 24\"\n",
              "       width=\"24px\">\n",
              "    <path d=\"M0 0h24v24H0V0z\" fill=\"none\"/>\n",
              "    <path d=\"M18.56 5.44l.94 2.06.94-2.06 2.06-.94-2.06-.94-.94-2.06-.94 2.06-2.06.94zm-11 1L8.5 8.5l.94-2.06 2.06-.94-2.06-.94L8.5 2.5l-.94 2.06-2.06.94zm10 10l.94 2.06.94-2.06 2.06-.94-2.06-.94-.94-2.06-.94 2.06-2.06.94z\"/><path d=\"M17.41 7.96l-1.37-1.37c-.4-.4-.92-.59-1.43-.59-.52 0-1.04.2-1.43.59L10.3 9.45l-7.72 7.72c-.78.78-.78 2.05 0 2.83L4 21.41c.39.39.9.59 1.41.59.51 0 1.02-.2 1.41-.59l7.78-7.78 2.81-2.81c.8-.78.8-2.07 0-2.86zM5.41 20L4 18.59l7.72-7.72 1.47 1.35L5.41 20z\"/>\n",
              "  </svg>\n",
              "      </button>\n",
              "      \n",
              "  <style>\n",
              "    .colab-df-container {\n",
              "      display:flex;\n",
              "      flex-wrap:wrap;\n",
              "      gap: 12px;\n",
              "    }\n",
              "\n",
              "    .colab-df-convert {\n",
              "      background-color: #E8F0FE;\n",
              "      border: none;\n",
              "      border-radius: 50%;\n",
              "      cursor: pointer;\n",
              "      display: none;\n",
              "      fill: #1967D2;\n",
              "      height: 32px;\n",
              "      padding: 0 0 0 0;\n",
              "      width: 32px;\n",
              "    }\n",
              "\n",
              "    .colab-df-convert:hover {\n",
              "      background-color: #E2EBFA;\n",
              "      box-shadow: 0px 1px 2px rgba(60, 64, 67, 0.3), 0px 1px 3px 1px rgba(60, 64, 67, 0.15);\n",
              "      fill: #174EA6;\n",
              "    }\n",
              "\n",
              "    [theme=dark] .colab-df-convert {\n",
              "      background-color: #3B4455;\n",
              "      fill: #D2E3FC;\n",
              "    }\n",
              "\n",
              "    [theme=dark] .colab-df-convert:hover {\n",
              "      background-color: #434B5C;\n",
              "      box-shadow: 0px 1px 3px 1px rgba(0, 0, 0, 0.15);\n",
              "      filter: drop-shadow(0px 1px 2px rgba(0, 0, 0, 0.3));\n",
              "      fill: #FFFFFF;\n",
              "    }\n",
              "  </style>\n",
              "\n",
              "      <script>\n",
              "        const buttonEl =\n",
              "          document.querySelector('#df-b7b83ef3-021e-4e58-a702-39baa5e7559a button.colab-df-convert');\n",
              "        buttonEl.style.display =\n",
              "          google.colab.kernel.accessAllowed ? 'block' : 'none';\n",
              "\n",
              "        async function convertToInteractive(key) {\n",
              "          const element = document.querySelector('#df-b7b83ef3-021e-4e58-a702-39baa5e7559a');\n",
              "          const dataTable =\n",
              "            await google.colab.kernel.invokeFunction('convertToInteractive',\n",
              "                                                     [key], {});\n",
              "          if (!dataTable) return;\n",
              "\n",
              "          const docLinkHtml = 'Like what you see? Visit the ' +\n",
              "            '<a target=\"_blank\" href=https://colab.research.google.com/notebooks/data_table.ipynb>data table notebook</a>'\n",
              "            + ' to learn more about interactive tables.';\n",
              "          element.innerHTML = '';\n",
              "          dataTable['output_type'] = 'display_data';\n",
              "          await google.colab.output.renderOutput(dataTable, element);\n",
              "          const docLink = document.createElement('div');\n",
              "          docLink.innerHTML = docLinkHtml;\n",
              "          element.appendChild(docLink);\n",
              "        }\n",
              "      </script>\n",
              "    </div>\n",
              "  </div>\n",
              "  "
            ]
          },
          "metadata": {},
          "execution_count": 134
        }
      ],
      "source": [
        "counts = df['공연코드'].value_counts().to_frame()\n",
        "counts.reset_index(inplace=True)\n",
        "counts\n",
        "# value_counts(normalize=True) 상대적 비율"
      ]
    },
    {
      "cell_type": "code",
      "execution_count": null,
      "metadata": {
        "id": "jZ8fKoXnFSVt"
      },
      "outputs": [],
      "source": [
        "counts.rename(columns={'공연코드':'공연거래빈도'}, inplace=True)"
      ]
    },
    {
      "cell_type": "code",
      "execution_count": null,
      "metadata": {
        "colab": {
          "base_uri": "https://localhost:8080/",
          "height": 424
        },
        "id": "NOMsON7cF5Ih",
        "outputId": "279782b8-c259-4a8f-adfe-3a901ab6478d"
      },
      "outputs": [
        {
          "output_type": "execute_result",
          "data": {
            "text/plain": [
              "         공연코드  공연거래빈도\n",
              "0    PF301651   31761\n",
              "1    PF315495   17722\n",
              "2    PF312778   12206\n",
              "3    PF301926   11424\n",
              "4    PF301248   10039\n",
              "..        ...     ...\n",
              "314  PF315048       1\n",
              "315  PF315340       1\n",
              "316  PF315752       1\n",
              "317  PF315590       1\n",
              "318  PF307524       1\n",
              "\n",
              "[319 rows x 2 columns]"
            ],
            "text/html": [
              "\n",
              "  <div id=\"df-1887a974-0265-424a-bb52-603abe7c0664\">\n",
              "    <div class=\"colab-df-container\">\n",
              "      <div>\n",
              "<style scoped>\n",
              "    .dataframe tbody tr th:only-of-type {\n",
              "        vertical-align: middle;\n",
              "    }\n",
              "\n",
              "    .dataframe tbody tr th {\n",
              "        vertical-align: top;\n",
              "    }\n",
              "\n",
              "    .dataframe thead th {\n",
              "        text-align: right;\n",
              "    }\n",
              "</style>\n",
              "<table border=\"1\" class=\"dataframe\">\n",
              "  <thead>\n",
              "    <tr style=\"text-align: right;\">\n",
              "      <th></th>\n",
              "      <th>공연코드</th>\n",
              "      <th>공연거래빈도</th>\n",
              "    </tr>\n",
              "  </thead>\n",
              "  <tbody>\n",
              "    <tr>\n",
              "      <th>0</th>\n",
              "      <td>PF301651</td>\n",
              "      <td>31761</td>\n",
              "    </tr>\n",
              "    <tr>\n",
              "      <th>1</th>\n",
              "      <td>PF315495</td>\n",
              "      <td>17722</td>\n",
              "    </tr>\n",
              "    <tr>\n",
              "      <th>2</th>\n",
              "      <td>PF312778</td>\n",
              "      <td>12206</td>\n",
              "    </tr>\n",
              "    <tr>\n",
              "      <th>3</th>\n",
              "      <td>PF301926</td>\n",
              "      <td>11424</td>\n",
              "    </tr>\n",
              "    <tr>\n",
              "      <th>4</th>\n",
              "      <td>PF301248</td>\n",
              "      <td>10039</td>\n",
              "    </tr>\n",
              "    <tr>\n",
              "      <th>...</th>\n",
              "      <td>...</td>\n",
              "      <td>...</td>\n",
              "    </tr>\n",
              "    <tr>\n",
              "      <th>314</th>\n",
              "      <td>PF315048</td>\n",
              "      <td>1</td>\n",
              "    </tr>\n",
              "    <tr>\n",
              "      <th>315</th>\n",
              "      <td>PF315340</td>\n",
              "      <td>1</td>\n",
              "    </tr>\n",
              "    <tr>\n",
              "      <th>316</th>\n",
              "      <td>PF315752</td>\n",
              "      <td>1</td>\n",
              "    </tr>\n",
              "    <tr>\n",
              "      <th>317</th>\n",
              "      <td>PF315590</td>\n",
              "      <td>1</td>\n",
              "    </tr>\n",
              "    <tr>\n",
              "      <th>318</th>\n",
              "      <td>PF307524</td>\n",
              "      <td>1</td>\n",
              "    </tr>\n",
              "  </tbody>\n",
              "</table>\n",
              "<p>319 rows × 2 columns</p>\n",
              "</div>\n",
              "      <button class=\"colab-df-convert\" onclick=\"convertToInteractive('df-1887a974-0265-424a-bb52-603abe7c0664')\"\n",
              "              title=\"Convert this dataframe to an interactive table.\"\n",
              "              style=\"display:none;\">\n",
              "        \n",
              "  <svg xmlns=\"http://www.w3.org/2000/svg\" height=\"24px\"viewBox=\"0 0 24 24\"\n",
              "       width=\"24px\">\n",
              "    <path d=\"M0 0h24v24H0V0z\" fill=\"none\"/>\n",
              "    <path d=\"M18.56 5.44l.94 2.06.94-2.06 2.06-.94-2.06-.94-.94-2.06-.94 2.06-2.06.94zm-11 1L8.5 8.5l.94-2.06 2.06-.94-2.06-.94L8.5 2.5l-.94 2.06-2.06.94zm10 10l.94 2.06.94-2.06 2.06-.94-2.06-.94-.94-2.06-.94 2.06-2.06.94z\"/><path d=\"M17.41 7.96l-1.37-1.37c-.4-.4-.92-.59-1.43-.59-.52 0-1.04.2-1.43.59L10.3 9.45l-7.72 7.72c-.78.78-.78 2.05 0 2.83L4 21.41c.39.39.9.59 1.41.59.51 0 1.02-.2 1.41-.59l7.78-7.78 2.81-2.81c.8-.78.8-2.07 0-2.86zM5.41 20L4 18.59l7.72-7.72 1.47 1.35L5.41 20z\"/>\n",
              "  </svg>\n",
              "      </button>\n",
              "      \n",
              "  <style>\n",
              "    .colab-df-container {\n",
              "      display:flex;\n",
              "      flex-wrap:wrap;\n",
              "      gap: 12px;\n",
              "    }\n",
              "\n",
              "    .colab-df-convert {\n",
              "      background-color: #E8F0FE;\n",
              "      border: none;\n",
              "      border-radius: 50%;\n",
              "      cursor: pointer;\n",
              "      display: none;\n",
              "      fill: #1967D2;\n",
              "      height: 32px;\n",
              "      padding: 0 0 0 0;\n",
              "      width: 32px;\n",
              "    }\n",
              "\n",
              "    .colab-df-convert:hover {\n",
              "      background-color: #E2EBFA;\n",
              "      box-shadow: 0px 1px 2px rgba(60, 64, 67, 0.3), 0px 1px 3px 1px rgba(60, 64, 67, 0.15);\n",
              "      fill: #174EA6;\n",
              "    }\n",
              "\n",
              "    [theme=dark] .colab-df-convert {\n",
              "      background-color: #3B4455;\n",
              "      fill: #D2E3FC;\n",
              "    }\n",
              "\n",
              "    [theme=dark] .colab-df-convert:hover {\n",
              "      background-color: #434B5C;\n",
              "      box-shadow: 0px 1px 3px 1px rgba(0, 0, 0, 0.15);\n",
              "      filter: drop-shadow(0px 1px 2px rgba(0, 0, 0, 0.3));\n",
              "      fill: #FFFFFF;\n",
              "    }\n",
              "  </style>\n",
              "\n",
              "      <script>\n",
              "        const buttonEl =\n",
              "          document.querySelector('#df-1887a974-0265-424a-bb52-603abe7c0664 button.colab-df-convert');\n",
              "        buttonEl.style.display =\n",
              "          google.colab.kernel.accessAllowed ? 'block' : 'none';\n",
              "\n",
              "        async function convertToInteractive(key) {\n",
              "          const element = document.querySelector('#df-1887a974-0265-424a-bb52-603abe7c0664');\n",
              "          const dataTable =\n",
              "            await google.colab.kernel.invokeFunction('convertToInteractive',\n",
              "                                                     [key], {});\n",
              "          if (!dataTable) return;\n",
              "\n",
              "          const docLinkHtml = 'Like what you see? Visit the ' +\n",
              "            '<a target=\"_blank\" href=https://colab.research.google.com/notebooks/data_table.ipynb>data table notebook</a>'\n",
              "            + ' to learn more about interactive tables.';\n",
              "          element.innerHTML = '';\n",
              "          dataTable['output_type'] = 'display_data';\n",
              "          await google.colab.output.renderOutput(dataTable, element);\n",
              "          const docLink = document.createElement('div');\n",
              "          docLink.innerHTML = docLinkHtml;\n",
              "          element.appendChild(docLink);\n",
              "        }\n",
              "      </script>\n",
              "    </div>\n",
              "  </div>\n",
              "  "
            ]
          },
          "metadata": {},
          "execution_count": 136
        }
      ],
      "source": [
        "counts.rename(columns={'index':'공연코드'}, inplace=True)\n",
        "counts"
      ]
    },
    {
      "cell_type": "code",
      "execution_count": null,
      "metadata": {
        "id": "TrbhA5be7hBq"
      },
      "outputs": [],
      "source": [
        "df2 = df"
      ]
    },
    {
      "cell_type": "code",
      "execution_count": null,
      "metadata": {
        "id": "gTVattu8-O8g",
        "colab": {
          "base_uri": "https://localhost:8080/",
          "height": 328
        },
        "outputId": "63d81be6-ebd3-49af-9ff8-12cc5622f473"
      },
      "outputs": [
        {
          "output_type": "execute_result",
          "data": {
            "text/plain": [
              "         공연장코드      공연코드    기획_제작사명 기획_제작사명_긍부정 긍부정   비율  시설특성_공공(기타)  \\\n",
              "0  FC223315-01  PF314870  한국기독교총연합회      부정 56%  부정  56%            0   \n",
              "\n",
              "   시설특성_공공(문예회관)  시설특성_국립  시설특성_기타(비공연장)  ...  공연지역명_제주도  공연지역명_충청도  \\\n",
              "0              1        0              0  ...          0          0   \n",
              "\n",
              "   무대시설_오케스트라피트 여부  무대시설_연습실 여부  무대시설_분장실 여부  무대시설_무대넓이  오픈런 여부  아동공연 여부  \\\n",
              "0                1            1            1        344       0        0   \n",
              "\n",
              "   축제 여부  내한공연 여부  \n",
              "0      0        0  \n",
              "\n",
              "[1 rows x 48 columns]"
            ],
            "text/html": [
              "\n",
              "  <div id=\"df-54e3ccc6-cdc8-4412-96d0-bd90d7d62992\">\n",
              "    <div class=\"colab-df-container\">\n",
              "      <div>\n",
              "<style scoped>\n",
              "    .dataframe tbody tr th:only-of-type {\n",
              "        vertical-align: middle;\n",
              "    }\n",
              "\n",
              "    .dataframe tbody tr th {\n",
              "        vertical-align: top;\n",
              "    }\n",
              "\n",
              "    .dataframe thead th {\n",
              "        text-align: right;\n",
              "    }\n",
              "</style>\n",
              "<table border=\"1\" class=\"dataframe\">\n",
              "  <thead>\n",
              "    <tr style=\"text-align: right;\">\n",
              "      <th></th>\n",
              "      <th>공연장코드</th>\n",
              "      <th>공연코드</th>\n",
              "      <th>기획_제작사명</th>\n",
              "      <th>기획_제작사명_긍부정</th>\n",
              "      <th>긍부정</th>\n",
              "      <th>비율</th>\n",
              "      <th>시설특성_공공(기타)</th>\n",
              "      <th>시설특성_공공(문예회관)</th>\n",
              "      <th>시설특성_국립</th>\n",
              "      <th>시설특성_기타(비공연장)</th>\n",
              "      <th>...</th>\n",
              "      <th>공연지역명_제주도</th>\n",
              "      <th>공연지역명_충청도</th>\n",
              "      <th>무대시설_오케스트라피트 여부</th>\n",
              "      <th>무대시설_연습실 여부</th>\n",
              "      <th>무대시설_분장실 여부</th>\n",
              "      <th>무대시설_무대넓이</th>\n",
              "      <th>오픈런 여부</th>\n",
              "      <th>아동공연 여부</th>\n",
              "      <th>축제 여부</th>\n",
              "      <th>내한공연 여부</th>\n",
              "    </tr>\n",
              "  </thead>\n",
              "  <tbody>\n",
              "    <tr>\n",
              "      <th>0</th>\n",
              "      <td>FC223315-01</td>\n",
              "      <td>PF314870</td>\n",
              "      <td>한국기독교총연합회</td>\n",
              "      <td>부정 56%</td>\n",
              "      <td>부정</td>\n",
              "      <td>56%</td>\n",
              "      <td>0</td>\n",
              "      <td>1</td>\n",
              "      <td>0</td>\n",
              "      <td>0</td>\n",
              "      <td>...</td>\n",
              "      <td>0</td>\n",
              "      <td>0</td>\n",
              "      <td>1</td>\n",
              "      <td>1</td>\n",
              "      <td>1</td>\n",
              "      <td>344</td>\n",
              "      <td>0</td>\n",
              "      <td>0</td>\n",
              "      <td>0</td>\n",
              "      <td>0</td>\n",
              "    </tr>\n",
              "  </tbody>\n",
              "</table>\n",
              "<p>1 rows × 48 columns</p>\n",
              "</div>\n",
              "      <button class=\"colab-df-convert\" onclick=\"convertToInteractive('df-54e3ccc6-cdc8-4412-96d0-bd90d7d62992')\"\n",
              "              title=\"Convert this dataframe to an interactive table.\"\n",
              "              style=\"display:none;\">\n",
              "        \n",
              "  <svg xmlns=\"http://www.w3.org/2000/svg\" height=\"24px\"viewBox=\"0 0 24 24\"\n",
              "       width=\"24px\">\n",
              "    <path d=\"M0 0h24v24H0V0z\" fill=\"none\"/>\n",
              "    <path d=\"M18.56 5.44l.94 2.06.94-2.06 2.06-.94-2.06-.94-.94-2.06-.94 2.06-2.06.94zm-11 1L8.5 8.5l.94-2.06 2.06-.94-2.06-.94L8.5 2.5l-.94 2.06-2.06.94zm10 10l.94 2.06.94-2.06 2.06-.94-2.06-.94-.94-2.06-.94 2.06-2.06.94z\"/><path d=\"M17.41 7.96l-1.37-1.37c-.4-.4-.92-.59-1.43-.59-.52 0-1.04.2-1.43.59L10.3 9.45l-7.72 7.72c-.78.78-.78 2.05 0 2.83L4 21.41c.39.39.9.59 1.41.59.51 0 1.02-.2 1.41-.59l7.78-7.78 2.81-2.81c.8-.78.8-2.07 0-2.86zM5.41 20L4 18.59l7.72-7.72 1.47 1.35L5.41 20z\"/>\n",
              "  </svg>\n",
              "      </button>\n",
              "      \n",
              "  <style>\n",
              "    .colab-df-container {\n",
              "      display:flex;\n",
              "      flex-wrap:wrap;\n",
              "      gap: 12px;\n",
              "    }\n",
              "\n",
              "    .colab-df-convert {\n",
              "      background-color: #E8F0FE;\n",
              "      border: none;\n",
              "      border-radius: 50%;\n",
              "      cursor: pointer;\n",
              "      display: none;\n",
              "      fill: #1967D2;\n",
              "      height: 32px;\n",
              "      padding: 0 0 0 0;\n",
              "      width: 32px;\n",
              "    }\n",
              "\n",
              "    .colab-df-convert:hover {\n",
              "      background-color: #E2EBFA;\n",
              "      box-shadow: 0px 1px 2px rgba(60, 64, 67, 0.3), 0px 1px 3px 1px rgba(60, 64, 67, 0.15);\n",
              "      fill: #174EA6;\n",
              "    }\n",
              "\n",
              "    [theme=dark] .colab-df-convert {\n",
              "      background-color: #3B4455;\n",
              "      fill: #D2E3FC;\n",
              "    }\n",
              "\n",
              "    [theme=dark] .colab-df-convert:hover {\n",
              "      background-color: #434B5C;\n",
              "      box-shadow: 0px 1px 3px 1px rgba(0, 0, 0, 0.15);\n",
              "      filter: drop-shadow(0px 1px 2px rgba(0, 0, 0, 0.3));\n",
              "      fill: #FFFFFF;\n",
              "    }\n",
              "  </style>\n",
              "\n",
              "      <script>\n",
              "        const buttonEl =\n",
              "          document.querySelector('#df-54e3ccc6-cdc8-4412-96d0-bd90d7d62992 button.colab-df-convert');\n",
              "        buttonEl.style.display =\n",
              "          google.colab.kernel.accessAllowed ? 'block' : 'none';\n",
              "\n",
              "        async function convertToInteractive(key) {\n",
              "          const element = document.querySelector('#df-54e3ccc6-cdc8-4412-96d0-bd90d7d62992');\n",
              "          const dataTable =\n",
              "            await google.colab.kernel.invokeFunction('convertToInteractive',\n",
              "                                                     [key], {});\n",
              "          if (!dataTable) return;\n",
              "\n",
              "          const docLinkHtml = 'Like what you see? Visit the ' +\n",
              "            '<a target=\"_blank\" href=https://colab.research.google.com/notebooks/data_table.ipynb>data table notebook</a>'\n",
              "            + ' to learn more about interactive tables.';\n",
              "          element.innerHTML = '';\n",
              "          dataTable['output_type'] = 'display_data';\n",
              "          await google.colab.output.renderOutput(dataTable, element);\n",
              "          const docLink = document.createElement('div');\n",
              "          docLink.innerHTML = docLinkHtml;\n",
              "          element.appendChild(docLink);\n",
              "        }\n",
              "      </script>\n",
              "    </div>\n",
              "  </div>\n",
              "  "
            ]
          },
          "metadata": {},
          "execution_count": 138
        }
      ],
      "source": [
        "df2.head(1)"
      ]
    },
    {
      "cell_type": "code",
      "execution_count": null,
      "metadata": {
        "id": "uG3Grn_z_MxO",
        "colab": {
          "base_uri": "https://localhost:8080/"
        },
        "outputId": "50ce951c-cc12-43dd-80cf-c4f57661847f"
      },
      "outputs": [
        {
          "output_type": "execute_result",
          "data": {
            "text/plain": [
              "Index(['공연장코드', '공연코드', '기획_제작사명', '기획_제작사명_긍부정', '긍부정', '비율', '시설특성_공공(기타)',\n",
              "       '시설특성_공공(문예회관)', '시설특성_국립', '시설특성_기타(비공연장)', '시설특성_민간(대학로 외)',\n",
              "       '시설특성_민간(대학로)', '편의시설_레스토랑 여부', '편의시설_카페 여부', '편의시설_편의점 여부',\n",
              "       '편의시설_놀이방 여부', '편의시설_수유실 여부', '장애인시설_주차장 여부', '장애인시설_화장실 여부',\n",
              "       '장애인시설_경사로 여부', '장애인시설_전용엘리베이터 여부', '주차시설_자체 여부', '주차시설_공영 여부', '장당금액',\n",
              "       '성별', '연령', '장르명_국악', '장르명_무용', '장르명_뮤지컬', '장르명_복합', '장르명_연극',\n",
              "       '장르명_오페라', '장르명_클래식', '공연지역명_강원도', '공연지역명_경기도', '공연지역명_경상도', '공연지역명_서울',\n",
              "       '공연지역명_전라도', '공연지역명_제주도', '공연지역명_충청도', '무대시설_오케스트라피트 여부', '무대시설_연습실 여부',\n",
              "       '무대시설_분장실 여부', '무대시설_무대넓이', '오픈런 여부', '아동공연 여부', '축제 여부', '내한공연 여부'],\n",
              "      dtype='object')"
            ]
          },
          "metadata": {},
          "execution_count": 139
        }
      ],
      "source": [
        "df2.columns"
      ]
    },
    {
      "cell_type": "code",
      "execution_count": null,
      "metadata": {
        "id": "1fH9nc_V9nlg"
      },
      "outputs": [],
      "source": [
        "df2_dupli = df2.drop_duplicates(subset='공연코드')"
      ]
    },
    {
      "cell_type": "code",
      "execution_count": null,
      "metadata": {
        "colab": {
          "base_uri": "https://localhost:8080/"
        },
        "id": "sR5xGtL1_q1w",
        "outputId": "460a68d6-b432-4b92-cae2-1d97b9ea70d9"
      },
      "outputs": [
        {
          "output_type": "stream",
          "name": "stdout",
          "text": [
            "227258 319 319\n"
          ]
        }
      ],
      "source": [
        "# 공연코드 기준 요약 전 개수/중복제거 후 개수/nunique 개수\n",
        "print(len(df), len(df2_dupli), len(counts))"
      ]
    },
    {
      "cell_type": "code",
      "execution_count": null,
      "metadata": {
        "id": "SESPRElNDOy2"
      },
      "outputs": [],
      "source": [
        "# 공연거래빈도 추가\n",
        "df_merge = pd.merge(df2_dupli, counts, how='left', on='공연코드')"
      ]
    },
    {
      "cell_type": "code",
      "execution_count": null,
      "metadata": {
        "colab": {
          "base_uri": "https://localhost:8080/",
          "height": 328
        },
        "id": "uYtDptrOGqng",
        "outputId": "5b90ad83-d688-4d97-efd6-73aee2ac5620"
      },
      "outputs": [
        {
          "output_type": "execute_result",
          "data": {
            "text/plain": [
              "         공연장코드      공연코드    기획_제작사명 기획_제작사명_긍부정 긍부정   비율  시설특성_공공(기타)  \\\n",
              "0  FC223315-01  PF314870  한국기독교총연합회      부정 56%  부정  56%            0   \n",
              "\n",
              "   시설특성_공공(문예회관)  시설특성_국립  시설특성_기타(비공연장)  ...  공연지역명_충청도  무대시설_오케스트라피트 여부  \\\n",
              "0              1        0              0  ...          0                1   \n",
              "\n",
              "   무대시설_연습실 여부  무대시설_분장실 여부  무대시설_무대넓이  오픈런 여부  아동공연 여부  축제 여부  내한공연 여부  \\\n",
              "0            1            1        344       0        0      0        0   \n",
              "\n",
              "   공연거래빈도  \n",
              "0    1096  \n",
              "\n",
              "[1 rows x 49 columns]"
            ],
            "text/html": [
              "\n",
              "  <div id=\"df-00317ed7-103f-4a89-8dd4-ef3ab33dae85\">\n",
              "    <div class=\"colab-df-container\">\n",
              "      <div>\n",
              "<style scoped>\n",
              "    .dataframe tbody tr th:only-of-type {\n",
              "        vertical-align: middle;\n",
              "    }\n",
              "\n",
              "    .dataframe tbody tr th {\n",
              "        vertical-align: top;\n",
              "    }\n",
              "\n",
              "    .dataframe thead th {\n",
              "        text-align: right;\n",
              "    }\n",
              "</style>\n",
              "<table border=\"1\" class=\"dataframe\">\n",
              "  <thead>\n",
              "    <tr style=\"text-align: right;\">\n",
              "      <th></th>\n",
              "      <th>공연장코드</th>\n",
              "      <th>공연코드</th>\n",
              "      <th>기획_제작사명</th>\n",
              "      <th>기획_제작사명_긍부정</th>\n",
              "      <th>긍부정</th>\n",
              "      <th>비율</th>\n",
              "      <th>시설특성_공공(기타)</th>\n",
              "      <th>시설특성_공공(문예회관)</th>\n",
              "      <th>시설특성_국립</th>\n",
              "      <th>시설특성_기타(비공연장)</th>\n",
              "      <th>...</th>\n",
              "      <th>공연지역명_충청도</th>\n",
              "      <th>무대시설_오케스트라피트 여부</th>\n",
              "      <th>무대시설_연습실 여부</th>\n",
              "      <th>무대시설_분장실 여부</th>\n",
              "      <th>무대시설_무대넓이</th>\n",
              "      <th>오픈런 여부</th>\n",
              "      <th>아동공연 여부</th>\n",
              "      <th>축제 여부</th>\n",
              "      <th>내한공연 여부</th>\n",
              "      <th>공연거래빈도</th>\n",
              "    </tr>\n",
              "  </thead>\n",
              "  <tbody>\n",
              "    <tr>\n",
              "      <th>0</th>\n",
              "      <td>FC223315-01</td>\n",
              "      <td>PF314870</td>\n",
              "      <td>한국기독교총연합회</td>\n",
              "      <td>부정 56%</td>\n",
              "      <td>부정</td>\n",
              "      <td>56%</td>\n",
              "      <td>0</td>\n",
              "      <td>1</td>\n",
              "      <td>0</td>\n",
              "      <td>0</td>\n",
              "      <td>...</td>\n",
              "      <td>0</td>\n",
              "      <td>1</td>\n",
              "      <td>1</td>\n",
              "      <td>1</td>\n",
              "      <td>344</td>\n",
              "      <td>0</td>\n",
              "      <td>0</td>\n",
              "      <td>0</td>\n",
              "      <td>0</td>\n",
              "      <td>1096</td>\n",
              "    </tr>\n",
              "  </tbody>\n",
              "</table>\n",
              "<p>1 rows × 49 columns</p>\n",
              "</div>\n",
              "      <button class=\"colab-df-convert\" onclick=\"convertToInteractive('df-00317ed7-103f-4a89-8dd4-ef3ab33dae85')\"\n",
              "              title=\"Convert this dataframe to an interactive table.\"\n",
              "              style=\"display:none;\">\n",
              "        \n",
              "  <svg xmlns=\"http://www.w3.org/2000/svg\" height=\"24px\"viewBox=\"0 0 24 24\"\n",
              "       width=\"24px\">\n",
              "    <path d=\"M0 0h24v24H0V0z\" fill=\"none\"/>\n",
              "    <path d=\"M18.56 5.44l.94 2.06.94-2.06 2.06-.94-2.06-.94-.94-2.06-.94 2.06-2.06.94zm-11 1L8.5 8.5l.94-2.06 2.06-.94-2.06-.94L8.5 2.5l-.94 2.06-2.06.94zm10 10l.94 2.06.94-2.06 2.06-.94-2.06-.94-.94-2.06-.94 2.06-2.06.94z\"/><path d=\"M17.41 7.96l-1.37-1.37c-.4-.4-.92-.59-1.43-.59-.52 0-1.04.2-1.43.59L10.3 9.45l-7.72 7.72c-.78.78-.78 2.05 0 2.83L4 21.41c.39.39.9.59 1.41.59.51 0 1.02-.2 1.41-.59l7.78-7.78 2.81-2.81c.8-.78.8-2.07 0-2.86zM5.41 20L4 18.59l7.72-7.72 1.47 1.35L5.41 20z\"/>\n",
              "  </svg>\n",
              "      </button>\n",
              "      \n",
              "  <style>\n",
              "    .colab-df-container {\n",
              "      display:flex;\n",
              "      flex-wrap:wrap;\n",
              "      gap: 12px;\n",
              "    }\n",
              "\n",
              "    .colab-df-convert {\n",
              "      background-color: #E8F0FE;\n",
              "      border: none;\n",
              "      border-radius: 50%;\n",
              "      cursor: pointer;\n",
              "      display: none;\n",
              "      fill: #1967D2;\n",
              "      height: 32px;\n",
              "      padding: 0 0 0 0;\n",
              "      width: 32px;\n",
              "    }\n",
              "\n",
              "    .colab-df-convert:hover {\n",
              "      background-color: #E2EBFA;\n",
              "      box-shadow: 0px 1px 2px rgba(60, 64, 67, 0.3), 0px 1px 3px 1px rgba(60, 64, 67, 0.15);\n",
              "      fill: #174EA6;\n",
              "    }\n",
              "\n",
              "    [theme=dark] .colab-df-convert {\n",
              "      background-color: #3B4455;\n",
              "      fill: #D2E3FC;\n",
              "    }\n",
              "\n",
              "    [theme=dark] .colab-df-convert:hover {\n",
              "      background-color: #434B5C;\n",
              "      box-shadow: 0px 1px 3px 1px rgba(0, 0, 0, 0.15);\n",
              "      filter: drop-shadow(0px 1px 2px rgba(0, 0, 0, 0.3));\n",
              "      fill: #FFFFFF;\n",
              "    }\n",
              "  </style>\n",
              "\n",
              "      <script>\n",
              "        const buttonEl =\n",
              "          document.querySelector('#df-00317ed7-103f-4a89-8dd4-ef3ab33dae85 button.colab-df-convert');\n",
              "        buttonEl.style.display =\n",
              "          google.colab.kernel.accessAllowed ? 'block' : 'none';\n",
              "\n",
              "        async function convertToInteractive(key) {\n",
              "          const element = document.querySelector('#df-00317ed7-103f-4a89-8dd4-ef3ab33dae85');\n",
              "          const dataTable =\n",
              "            await google.colab.kernel.invokeFunction('convertToInteractive',\n",
              "                                                     [key], {});\n",
              "          if (!dataTable) return;\n",
              "\n",
              "          const docLinkHtml = 'Like what you see? Visit the ' +\n",
              "            '<a target=\"_blank\" href=https://colab.research.google.com/notebooks/data_table.ipynb>data table notebook</a>'\n",
              "            + ' to learn more about interactive tables.';\n",
              "          element.innerHTML = '';\n",
              "          dataTable['output_type'] = 'display_data';\n",
              "          await google.colab.output.renderOutput(dataTable, element);\n",
              "          const docLink = document.createElement('div');\n",
              "          docLink.innerHTML = docLinkHtml;\n",
              "          element.appendChild(docLink);\n",
              "        }\n",
              "      </script>\n",
              "    </div>\n",
              "  </div>\n",
              "  "
            ]
          },
          "metadata": {},
          "execution_count": 143
        }
      ],
      "source": [
        "df_merge.head(1)"
      ]
    },
    {
      "cell_type": "code",
      "execution_count": null,
      "metadata": {
        "colab": {
          "base_uri": "https://localhost:8080/"
        },
        "id": "LcZeVOQHJcQc",
        "outputId": "48d0d50f-b653-4f98-c811-2f44729b02de"
      },
      "outputs": [
        {
          "output_type": "execute_result",
          "data": {
            "text/plain": [
              "FC222234-01    31761\n",
              "FC222397-02    17722\n",
              "FC222220-01    12206\n",
              "FC222233-01    11424\n",
              "FC222335-01    10039\n",
              "               ...  \n",
              "FC222322-01        2\n",
              "FC222952-02        1\n",
              "FC222996-01        1\n",
              "FC222337-01        1\n",
              "FC223626-01        1\n",
              "Name: 공연장코드, Length: 234, dtype: int64"
            ]
          },
          "metadata": {},
          "execution_count": 147
        }
      ],
      "source": [
        "df['공연장코드'].value_counts()"
      ]
    },
    {
      "cell_type": "code",
      "source": [
        "df.nunique(axis=0)"
      ],
      "metadata": {
        "colab": {
          "base_uri": "https://localhost:8080/"
        },
        "id": "JCamvi81Rq8i",
        "outputId": "993b9ef9-dfe0-43ed-f91d-2261dc23a6e2"
      },
      "execution_count": null,
      "outputs": [
        {
          "output_type": "execute_result",
          "data": {
            "text/plain": [
              "공연장코드               223\n",
              "공연코드                303\n",
              "기획_제작사명             274\n",
              "기획_제작사명_긍부정          49\n",
              "긍부정                   3\n",
              "비율                   42\n",
              "시설특성_공공(기타)           2\n",
              "시설특성_공공(문예회관)         2\n",
              "시설특성_국립               2\n",
              "시설특성_기타(비공연장)         2\n",
              "시설특성_민간(대학로 외)        2\n",
              "시설특성_민간(대학로)          2\n",
              "편의시설_레스토랑 여부          2\n",
              "편의시설_카페 여부            2\n",
              "편의시설_편의점 여부           2\n",
              "편의시설_놀이방 여부           2\n",
              "편의시설_수유실 여부           2\n",
              "장애인시설_주차장 여부          2\n",
              "장애인시설_화장실 여부          2\n",
              "장애인시설_경사로 여부          2\n",
              "장애인시설_전용엘리베이터 여부      2\n",
              "주차시설_자체 여부            2\n",
              "주차시설_공영 여부            2\n",
              "장당금액                178\n",
              "성별                    3\n",
              "연령                   95\n",
              "장르명_국악                2\n",
              "장르명_무용                2\n",
              "장르명_뮤지컬               2\n",
              "장르명_복합                2\n",
              "장르명_연극                2\n",
              "장르명_오페라               2\n",
              "장르명_클래식               2\n",
              "공연지역명_강원도             2\n",
              "공연지역명_경기도             2\n",
              "공연지역명_경상도             2\n",
              "공연지역명_서울              2\n",
              "공연지역명_전라도             2\n",
              "공연지역명_제주도             2\n",
              "공연지역명_충청도             2\n",
              "무대시설_오케스트라피트 여부       2\n",
              "무대시설_연습실 여부           2\n",
              "무대시설_분장실 여부           2\n",
              "오픈런 여부                2\n",
              "아동공연 여부               2\n",
              "축제 여부                 2\n",
              "내한공연 여부               2\n",
              "dtype: int64"
            ]
          },
          "metadata": {},
          "execution_count": 192
        }
      ]
    },
    {
      "cell_type": "markdown",
      "source": [
        "## final_df"
      ],
      "metadata": {
        "id": "7cG6qXiH_3UM"
      }
    },
    {
      "cell_type": "code",
      "source": [],
      "metadata": {
        "id": "1wPH8XJCGcP0"
      },
      "execution_count": null,
      "outputs": []
    }
  ]
}