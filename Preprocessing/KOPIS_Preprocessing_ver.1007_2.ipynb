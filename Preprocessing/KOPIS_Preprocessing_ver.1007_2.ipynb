{
  "nbformat": 4,
  "nbformat_minor": 0,
  "metadata": {
    "colab": {
      "provenance": [],
      "collapsed_sections": [
        "6AgKPYaHaHTz",
        "9Dsv1rNcgIG3",
        "745AOSvSgPIA",
        "2iJKj36Mhna3",
        "hgdz4VGnhqco",
        "RjkpjrglqpNl",
        "htEY5Vq23ayd"
      ]
    },
    "kernelspec": {
      "name": "python3",
      "display_name": "Python 3"
    },
    "language_info": {
      "name": "python"
    }
  },
  "cells": [
    {
      "cell_type": "markdown",
      "metadata": {
        "id": "dO47JLAEYmY1"
      },
      "source": [
        "## Setting"
      ]
    },
    {
      "cell_type": "markdown",
      "metadata": {
        "id": "mJYf-PSUg9UZ"
      },
      "source": [
        "### Module Import"
      ]
    },
    {
      "cell_type": "code",
      "execution_count": 171,
      "metadata": {
        "colab": {
          "base_uri": "https://localhost:8080/"
        },
        "id": "UEmpu9N9-mBC",
        "outputId": "65cee266-a545-45d1-9964-b568985496fa"
      },
      "outputs": [
        {
          "output_type": "stream",
          "name": "stdout",
          "text": [
            "Drive already mounted at /content/drive; to attempt to forcibly remount, call drive.mount(\"/content/drive\", force_remount=True).\n"
          ]
        }
      ],
      "source": [
        "from google.colab import drive\n",
        "drive.mount('/content/drive')"
      ]
    },
    {
      "cell_type": "code",
      "execution_count": 172,
      "metadata": {
        "id": "m_Zplqbv8vmm"
      },
      "outputs": [],
      "source": [
        "#io와 pandas 모듈 import\n",
        "import io\n",
        "import pandas as pd\n",
        "import numpy  as np\n",
        "import matplotlib.pyplot as plt\n",
        "import seaborn as sns"
      ]
    },
    {
      "cell_type": "markdown",
      "metadata": {
        "id": "DYtrVlOihAnT"
      },
      "source": [
        "### 데이터 불러오기"
      ]
    },
    {
      "cell_type": "code",
      "source": [
        "df = pd.read_excel(\"/content/drive/MyDrive/(데이터)'19년 하반기~ '22년 상반기 공모전 raw데이터_2022_06_21_30_725,021.xlsx\")"
      ],
      "metadata": {
        "id": "B3F0vzl4545x"
      },
      "execution_count": 173,
      "outputs": []
    },
    {
      "cell_type": "code",
      "execution_count": null,
      "metadata": {
        "colab": {
          "base_uri": "https://localhost:8080/"
        },
        "id": "eQn5GM-5AeiP",
        "outputId": "952fc992-c154-4c3b-cf64-5dc0b724c68b"
      },
      "outputs": [
        {
          "output_type": "stream",
          "name": "stdout",
          "text": [
            "/content/drive/MyDrive/예술경영 빅데이터 공모전\n"
          ]
        }
      ],
      "source": [
        "%cd '/content/drive/MyDrive/예술경영 빅데이터 공모전'"
      ]
    },
    {
      "cell_type": "code",
      "execution_count": null,
      "metadata": {
        "id": "6sd1nWP99Lsj"
      },
      "outputs": [],
      "source": [
        "# pd.read_excel로 xlsx파일 불러오기\n",
        "# data1 = pd.read_excel('test_2206_21_30.xlsx') # 불러오기 소요시간: colab은 12m 44s, local은 11m 8s\n",
        "# data1.to_csv(\"data.csv\")\n",
        "# data1 자리에 원본 데이터 이름 넣어서"
      ]
    },
    {
      "cell_type": "code",
      "source": [
        "sometrend = pd.read_csv('/content/drive/MyDrive/예술경영_빅데이터공모전.ver크롤링최종(박진영).csv')"
      ],
      "metadata": {
        "id": "cM8K8OgRTgMe"
      },
      "execution_count": 250,
      "outputs": []
    },
    {
      "cell_type": "code",
      "source": [
        "# data = data1 # 날라가는거 무서우니까 복사."
      ],
      "metadata": {
        "id": "sEdAUrAGEmd7"
      },
      "execution_count": null,
      "outputs": []
    },
    {
      "cell_type": "code",
      "source": [
        "data = df"
      ],
      "metadata": {
        "id": "CVslPey-L4j6"
      },
      "execution_count": 169,
      "outputs": []
    },
    {
      "cell_type": "markdown",
      "metadata": {
        "id": "y-yU0ux_Zqo4"
      },
      "source": [
        "### 데이터 정보 확인"
      ]
    },
    {
      "cell_type": "code",
      "execution_count": null,
      "metadata": {
        "colab": {
          "base_uri": "https://localhost:8080/"
        },
        "id": "VitPxACz9NC7",
        "outputId": "dea2a531-dd86-49a8-97a4-e7f8ad418e2e"
      },
      "outputs": [
        {
          "output_type": "execute_result",
          "data": {
            "text/plain": [
              "(725021, 68)"
            ]
          },
          "metadata": {},
          "execution_count": 60
        }
      ],
      "source": [
        "data.shape"
      ]
    },
    {
      "cell_type": "code",
      "execution_count": null,
      "metadata": {
        "colab": {
          "base_uri": "https://localhost:8080/"
        },
        "id": "5D7oqgfudeZc",
        "outputId": "66c37568-d381-4d2f-a357-626aff8724da"
      },
      "outputs": [
        {
          "output_type": "stream",
          "name": "stdout",
          "text": [
            "<class 'pandas.core.frame.DataFrame'>\n",
            "RangeIndex: 725021 entries, 0 to 725020\n",
            "Data columns (total 68 columns):\n",
            " #   Column            Non-Null Count   Dtype  \n",
            "---  ------            --------------   -----  \n",
            " 0   전송사업자코드           725021 non-null  object \n",
            " 1   전송사업자명            725021 non-null  object \n",
            " 2   공연시설코드            725021 non-null  object \n",
            " 3   시설특성              725021 non-null  object \n",
            " 4   개관연도              712899 non-null  float64\n",
            " 5   주소                725021 non-null  object \n",
            " 6   편의시설_레스토랑 여부      725021 non-null  object \n",
            " 7   편의시설_카페 여부        725021 non-null  object \n",
            " 8   편의시설_편의점 여부       725021 non-null  object \n",
            " 9   편의시설_놀이방 여부       725021 non-null  object \n",
            " 10  편의시설_수유실 여부       725021 non-null  object \n",
            " 11  장애인시설_주차장 여부      725021 non-null  object \n",
            " 12  장애인시설_화장실 여부      725021 non-null  object \n",
            " 13  장애인시설_경사로 여부      725021 non-null  object \n",
            " 14  장애인시설_전용엘리베이터 여부  725021 non-null  object \n",
            " 15  주차시설_자체 여부        725021 non-null  object \n",
            " 16  주차시설_공영 여부        725021 non-null  object \n",
            " 17  공연장코드             725021 non-null  object \n",
            " 18  좌석수               725021 non-null  int64  \n",
            " 19  장애인석              725021 non-null  object \n",
            " 20  무대시설_오케스트라피트 여부   725021 non-null  object \n",
            " 21  무대시설_연습실 여부       725021 non-null  object \n",
            " 22  무대시설_분장실 여부       725021 non-null  object \n",
            " 23  무대시설_무대넓이         496166 non-null  object \n",
            " 24  공연코드              725021 non-null  object \n",
            " 25  공연회차              725021 non-null  int64  \n",
            " 26  공연일시              725021 non-null  object \n",
            " 27  입장권고유번호           725021 non-null  object \n",
            " 28  예매/취소일시           725021 non-null  object \n",
            " 29  예매/취소구분           725021 non-null  int64  \n",
            " 30  예매/취소매수           725021 non-null  int64  \n",
            " 31  예매/취소금액           725021 non-null  int64  \n",
            " 32  예매/취소방식코드         725021 non-null  int64  \n",
            " 33  예매/취소방식명(관리시스템)   725021 non-null  object \n",
            " 34  예매/취소방식명(전송처)     724574 non-null  object \n",
            " 35  결제수단코드            725021 non-null  int64  \n",
            " 36  결제수단명(관리시스템)      725021 non-null  object \n",
            " 37  결제수단명(전송처)        717559 non-null  object \n",
            " 38  할인금액              725021 non-null  int64  \n",
            " 39  할인종류코드            725021 non-null  int64  \n",
            " 40  할인종류명(관리시스템)      725021 non-null  object \n",
            " 41  할인종류명(전송처)        205006 non-null  object \n",
            " 42  장당금액              725021 non-null  int64  \n",
            " 43  성별                725021 non-null  int64  \n",
            " 44  연령                725021 non-null  int64  \n",
            " 45  공연시작일자            725021 non-null  object \n",
            " 46  공연종료일자            725021 non-null  object \n",
            " 47  소요시간              712482 non-null  object \n",
            " 48  장르명               725021 non-null  object \n",
            " 49  세부장르명             725021 non-null  object \n",
            " 50  공연지역명             725021 non-null  object \n",
            " 51  출연진내용             582303 non-null  object \n",
            " 52  제작진내용             468945 non-null  object \n",
            " 53  기획제작사명            713768 non-null  object \n",
            " 54  원작자명              55735 non-null   object \n",
            " 55  극작가명              21355 non-null   object \n",
            " 56  수상실적              29527 non-null   object \n",
            " 57  관람연령              724875 non-null  object \n",
            " 58  아동공연 여부           725021 non-null  object \n",
            " 59  축제 여부             725021 non-null  object \n",
            " 60  내한공연 여부           725021 non-null  object \n",
            " 61  오픈런 여부            725021 non-null  object \n",
            " 62  판매시작일시            720849 non-null  object \n",
            " 63  판매종료일시            720849 non-null  object \n",
            " 64  좌석등급              685261 non-null  object \n",
            " 65  단독판매여부            725021 non-null  object \n",
            " 66  판매좌석수             702448 non-null  object \n",
            " 67  판매페이지URL          720952 non-null  object \n",
            "dtypes: float64(1), int64(12), object(55)\n",
            "memory usage: 376.1+ MB\n"
          ]
        }
      ],
      "source": [
        "data.info()"
      ]
    },
    {
      "cell_type": "code",
      "execution_count": null,
      "metadata": {
        "colab": {
          "base_uri": "https://localhost:8080/"
        },
        "id": "1kO2CGfEa_pX",
        "outputId": "718c7711-d3eb-4ada-8135-19b56536accb"
      },
      "outputs": [
        {
          "output_type": "execute_result",
          "data": {
            "text/plain": [
              "Index(['전송사업자코드', '전송사업자명', '공연시설코드', '시설특성', '개관연도', '주소', '편의시설_레스토랑 여부',\n",
              "       '편의시설_카페 여부', '편의시설_편의점 여부', '편의시설_놀이방 여부', '편의시설_수유실 여부',\n",
              "       '장애인시설_주차장 여부', '장애인시설_화장실 여부', '장애인시설_경사로 여부', '장애인시설_전용엘리베이터 여부',\n",
              "       '주차시설_자체 여부', '주차시설_공영 여부', '공연장코드', '좌석수', '장애인석', '무대시설_오케스트라피트 여부',\n",
              "       '무대시설_연습실 여부', '무대시설_분장실 여부', '무대시설_무대넓이', '공연코드', '공연회차', '공연일시',\n",
              "       '입장권고유번호', '예매/취소일시', '예매/취소구분', '예매/취소매수', '예매/취소금액', '예매/취소방식코드',\n",
              "       '예매/취소방식명(관리시스템)', '예매/취소방식명(전송처)', '결제수단코드', '결제수단명(관리시스템)',\n",
              "       '결제수단명(전송처)', '할인금액', '할인종류코드', '할인종류명(관리시스템)', '할인종류명(전송처)', '장당금액',\n",
              "       '성별', '연령', '공연시작일자', '공연종료일자', '소요시간', '장르명', '세부장르명', '공연지역명',\n",
              "       '출연진내용', '제작진내용', '기획제작사명', '원작자명', '극작가명', '수상실적', '관람연령', '아동공연 여부',\n",
              "       '축제 여부', '내한공연 여부', '오픈런 여부', '판매시작일시', '판매종료일시', '좌석등급', '단독판매여부',\n",
              "       '판매좌석수', '판매페이지URL'],\n",
              "      dtype='object')"
            ]
          },
          "metadata": {},
          "execution_count": 62
        }
      ],
      "source": [
        "data.columns"
      ]
    },
    {
      "cell_type": "code",
      "source": [
        "pd.set_option('display.max_columns', None)"
      ],
      "metadata": {
        "id": "xsWuNDgkNJqX"
      },
      "execution_count": 180,
      "outputs": []
    },
    {
      "cell_type": "markdown",
      "source": [
        "# ⭐전처리(통합)"
      ],
      "metadata": {
        "id": "KM-RXZ9hTvSr"
      }
    },
    {
      "cell_type": "markdown",
      "source": [
        "1. 크롤링 데이터 처리\n",
        " - bias(긍정, 부정, 중립), bias_perc(%) → 컬럼 생성\n",
        " - 원본 데이터 해당 위치에 join\n",
        " - indicator != both → drop\n",
        "\n",
        "2. 원본 데이터 처리\n",
        " - 공연SW : 소요시간, 장르명, 세부장르명, 공연지역명, 무대시설_4가지\n",
        " - 서비스 : 오픈런여부(티켓팅용이성)\n",
        "\n",
        "\n",
        "(1) 공연HW 입력데이터 전처리   \n",
        "(2) [공연장코드&공연코드] 거래데이터 병합  \n",
        "(3) 회귀분석, 클러스터링 & EDA"
      ],
      "metadata": {
        "id": "6HKkEnnR-sBl"
      }
    },
    {
      "cell_type": "markdown",
      "source": [
        "## 변수 인코딩"
      ],
      "metadata": {
        "id": "6AgKPYaHaHTz"
      }
    },
    {
      "cell_type": "markdown",
      "metadata": {
        "id": "9Dsv1rNcgIG3"
      },
      "source": [
        "### 1. 라벨 인코딩"
      ]
    },
    {
      "cell_type": "markdown",
      "source": [
        "- 편의시설, 장애시설, 주차시설, 무대시설, 아동공연, 축제, 내한공연, 오픈런, 단독판매여부<br>\n",
        "    → Y=1 / N=0으로 라벨인코딩. Y일 때 WTP와 양의 관계가 있을 것으로 가정할 수 있다. 따라서, 1이 수치적으로 가중의 의미/서열척도로서 의미를 갖도록 0,1라벨링을 진행한다. 주차 시설이 있을 때 높은 점수를 책정하기 때문에 0과 1은 서열척도로서 의미를 갖는다고 본다."
      ],
      "metadata": {
        "id": "O0SGEfvwZN7V"
      }
    },
    {
      "cell_type": "code",
      "execution_count": 175,
      "metadata": {
        "id": "E0YJs9gxY9ZL"
      },
      "outputs": [],
      "source": [
        "def label_encoding(df):\n",
        "    result = df.replace({\n",
        "            '편의시설_레스토랑 여부' : {'N' : 0, 'Y': 1},\n",
        "            '편의시설_카페 여부' : {'N' : 0, 'Y': 1},\n",
        "            '편의시설_편의점 여부' : {'N' : 0, 'Y': 1}, \n",
        "            '편의시설_놀이방 여부' : {'N' : 0, 'Y': 1}, \n",
        "            '편의시설_수유실 여부' : {'N' : 0, 'Y': 1},\n",
        "            '장애인시설_주차장 여부' : {'N' : 0, 'Y': 1}, \n",
        "            '장애인시설_화장실 여부' : {'N' : 0, 'Y': 1}, \n",
        "            '장애인시설_경사로 여부' : {'N' : 0, 'Y': 1}, \n",
        "            '장애인시설_전용엘리베이터 여부' : {'N' : 0, 'Y': 1},\n",
        "            '주차시설_자체 여부' : {'N' : 0, 'Y': 1}, \n",
        "            '주차시설_공영 여부' : {'N' : 0, 'Y': 1}, \n",
        "            '무대시설_오케스트라피트 여부' : {'N' : 0, 'Y': 1},\n",
        "            '무대시설_연습실 여부' : {'N' : 0, 'Y': 1}, \n",
        "            '무대시설_분장실 여부' : {'N' : 0, 'Y': 1},\n",
        "            '아동공연 여부'\t: {'N' : 0, 'Y': 1},\n",
        "            '축제 여부'\t: {'N' : 0, 'Y': 1},\n",
        "            '내한공연 여부'\t: {'N' : 0, 'Y': 1},\n",
        "            '오픈런 여부': {'N' : 0, 'Y': 1},\n",
        "            '단독판매여부': {'N' : 0, 'Y': 1},\n",
        "            })    \n",
        "    return result"
      ]
    },
    {
      "cell_type": "code",
      "execution_count": 176,
      "metadata": {
        "id": "IN69rtS2Jsn0"
      },
      "outputs": [],
      "source": [
        "df = label_encoding(df)"
      ]
    },
    {
      "cell_type": "markdown",
      "metadata": {
        "id": "745AOSvSgPIA"
      },
      "source": [
        "### 2. 원-핫 인코딩"
      ]
    },
    {
      "cell_type": "markdown",
      "metadata": {
        "id": "2iJKj36Mhna3"
      },
      "source": [
        "#### 2-1) 시설특성"
      ]
    },
    {
      "cell_type": "code",
      "execution_count": 177,
      "metadata": {
        "colab": {
          "base_uri": "https://localhost:8080/"
        },
        "id": "OsYcqjeb-ZvW",
        "outputId": "3735b032-5f67-4659-8b60-71544e4b0780"
      },
      "outputs": [
        {
          "output_type": "execute_result",
          "data": {
            "text/plain": [
              "array([[0., 1., 0., 0., 0., 0.],\n",
              "       [0., 1., 0., 0., 0., 0.],\n",
              "       [0., 1., 0., 0., 0., 0.],\n",
              "       ...,\n",
              "       [0., 0., 1., 0., 0., 0.],\n",
              "       [0., 0., 1., 0., 0., 0.],\n",
              "       [0., 0., 1., 0., 0., 0.]])"
            ]
          },
          "metadata": {},
          "execution_count": 177
        }
      ],
      "source": [
        "from sklearn.preprocessing import OneHotEncoder\n",
        "\n",
        "ohe = OneHotEncoder(sparse=False)\n",
        "# fit_transform은 train에만 사용하고 test에는 학습된 인코더에 fit만 해야한다\n",
        "df_pre_ohe = ohe.fit_transform(df[['시설특성']])\n",
        "df_pre_ohe"
      ]
    },
    {
      "cell_type": "code",
      "execution_count": 178,
      "metadata": {
        "colab": {
          "base_uri": "https://localhost:8080/"
        },
        "id": "cTOExkM3eMle",
        "outputId": "fa24d0c4-ca2e-4667-9182-e0f611140f6f"
      },
      "outputs": [
        {
          "output_type": "execute_result",
          "data": {
            "text/plain": [
              "[array(['공공(기타)', '공공(문예회관)', '국립', '기타(비공연장)', '민간(대학로 외)', '민간(대학로)'],\n",
              "       dtype=object)]"
            ]
          },
          "metadata": {},
          "execution_count": 178
        }
      ],
      "source": [
        "ohe.categories_"
      ]
    },
    {
      "cell_type": "code",
      "execution_count": 179,
      "metadata": {
        "colab": {
          "base_uri": "https://localhost:8080/",
          "height": 268
        },
        "id": "kQsBVvSmeQy_",
        "outputId": "5f10f157-6998-46bf-8063-9bfcd8a64ea2"
      },
      "outputs": [
        {
          "output_type": "execute_result",
          "data": {
            "text/plain": [
              "   시설특성공공(기타)  시설특성공공(문예회관)  시설특성국립  시설특성기타(비공연장)  시설특성민간(대학로 외)  시설특성민간(대학로)\n",
              "0         0.0           1.0     0.0           0.0            0.0          0.0\n",
              "1         0.0           1.0     0.0           0.0            0.0          0.0\n",
              "2         0.0           1.0     0.0           0.0            0.0          0.0\n",
              "3         0.0           1.0     0.0           0.0            0.0          0.0\n",
              "4         0.0           1.0     0.0           0.0            0.0          0.0"
            ],
            "text/html": [
              "\n",
              "  <div id=\"df-648f1cb7-d6d0-421a-a308-09423f8b93f6\">\n",
              "    <div class=\"colab-df-container\">\n",
              "      <div>\n",
              "<style scoped>\n",
              "    .dataframe tbody tr th:only-of-type {\n",
              "        vertical-align: middle;\n",
              "    }\n",
              "\n",
              "    .dataframe tbody tr th {\n",
              "        vertical-align: top;\n",
              "    }\n",
              "\n",
              "    .dataframe thead th {\n",
              "        text-align: right;\n",
              "    }\n",
              "</style>\n",
              "<table border=\"1\" class=\"dataframe\">\n",
              "  <thead>\n",
              "    <tr style=\"text-align: right;\">\n",
              "      <th></th>\n",
              "      <th>시설특성공공(기타)</th>\n",
              "      <th>시설특성공공(문예회관)</th>\n",
              "      <th>시설특성국립</th>\n",
              "      <th>시설특성기타(비공연장)</th>\n",
              "      <th>시설특성민간(대학로 외)</th>\n",
              "      <th>시설특성민간(대학로)</th>\n",
              "    </tr>\n",
              "  </thead>\n",
              "  <tbody>\n",
              "    <tr>\n",
              "      <th>0</th>\n",
              "      <td>0.0</td>\n",
              "      <td>1.0</td>\n",
              "      <td>0.0</td>\n",
              "      <td>0.0</td>\n",
              "      <td>0.0</td>\n",
              "      <td>0.0</td>\n",
              "    </tr>\n",
              "    <tr>\n",
              "      <th>1</th>\n",
              "      <td>0.0</td>\n",
              "      <td>1.0</td>\n",
              "      <td>0.0</td>\n",
              "      <td>0.0</td>\n",
              "      <td>0.0</td>\n",
              "      <td>0.0</td>\n",
              "    </tr>\n",
              "    <tr>\n",
              "      <th>2</th>\n",
              "      <td>0.0</td>\n",
              "      <td>1.0</td>\n",
              "      <td>0.0</td>\n",
              "      <td>0.0</td>\n",
              "      <td>0.0</td>\n",
              "      <td>0.0</td>\n",
              "    </tr>\n",
              "    <tr>\n",
              "      <th>3</th>\n",
              "      <td>0.0</td>\n",
              "      <td>1.0</td>\n",
              "      <td>0.0</td>\n",
              "      <td>0.0</td>\n",
              "      <td>0.0</td>\n",
              "      <td>0.0</td>\n",
              "    </tr>\n",
              "    <tr>\n",
              "      <th>4</th>\n",
              "      <td>0.0</td>\n",
              "      <td>1.0</td>\n",
              "      <td>0.0</td>\n",
              "      <td>0.0</td>\n",
              "      <td>0.0</td>\n",
              "      <td>0.0</td>\n",
              "    </tr>\n",
              "  </tbody>\n",
              "</table>\n",
              "</div>\n",
              "      <button class=\"colab-df-convert\" onclick=\"convertToInteractive('df-648f1cb7-d6d0-421a-a308-09423f8b93f6')\"\n",
              "              title=\"Convert this dataframe to an interactive table.\"\n",
              "              style=\"display:none;\">\n",
              "        \n",
              "  <svg xmlns=\"http://www.w3.org/2000/svg\" height=\"24px\"viewBox=\"0 0 24 24\"\n",
              "       width=\"24px\">\n",
              "    <path d=\"M0 0h24v24H0V0z\" fill=\"none\"/>\n",
              "    <path d=\"M18.56 5.44l.94 2.06.94-2.06 2.06-.94-2.06-.94-.94-2.06-.94 2.06-2.06.94zm-11 1L8.5 8.5l.94-2.06 2.06-.94-2.06-.94L8.5 2.5l-.94 2.06-2.06.94zm10 10l.94 2.06.94-2.06 2.06-.94-2.06-.94-.94-2.06-.94 2.06-2.06.94z\"/><path d=\"M17.41 7.96l-1.37-1.37c-.4-.4-.92-.59-1.43-.59-.52 0-1.04.2-1.43.59L10.3 9.45l-7.72 7.72c-.78.78-.78 2.05 0 2.83L4 21.41c.39.39.9.59 1.41.59.51 0 1.02-.2 1.41-.59l7.78-7.78 2.81-2.81c.8-.78.8-2.07 0-2.86zM5.41 20L4 18.59l7.72-7.72 1.47 1.35L5.41 20z\"/>\n",
              "  </svg>\n",
              "      </button>\n",
              "      \n",
              "  <style>\n",
              "    .colab-df-container {\n",
              "      display:flex;\n",
              "      flex-wrap:wrap;\n",
              "      gap: 12px;\n",
              "    }\n",
              "\n",
              "    .colab-df-convert {\n",
              "      background-color: #E8F0FE;\n",
              "      border: none;\n",
              "      border-radius: 50%;\n",
              "      cursor: pointer;\n",
              "      display: none;\n",
              "      fill: #1967D2;\n",
              "      height: 32px;\n",
              "      padding: 0 0 0 0;\n",
              "      width: 32px;\n",
              "    }\n",
              "\n",
              "    .colab-df-convert:hover {\n",
              "      background-color: #E2EBFA;\n",
              "      box-shadow: 0px 1px 2px rgba(60, 64, 67, 0.3), 0px 1px 3px 1px rgba(60, 64, 67, 0.15);\n",
              "      fill: #174EA6;\n",
              "    }\n",
              "\n",
              "    [theme=dark] .colab-df-convert {\n",
              "      background-color: #3B4455;\n",
              "      fill: #D2E3FC;\n",
              "    }\n",
              "\n",
              "    [theme=dark] .colab-df-convert:hover {\n",
              "      background-color: #434B5C;\n",
              "      box-shadow: 0px 1px 3px 1px rgba(0, 0, 0, 0.15);\n",
              "      filter: drop-shadow(0px 1px 2px rgba(0, 0, 0, 0.3));\n",
              "      fill: #FFFFFF;\n",
              "    }\n",
              "  </style>\n",
              "\n",
              "      <script>\n",
              "        const buttonEl =\n",
              "          document.querySelector('#df-648f1cb7-d6d0-421a-a308-09423f8b93f6 button.colab-df-convert');\n",
              "        buttonEl.style.display =\n",
              "          google.colab.kernel.accessAllowed ? 'block' : 'none';\n",
              "\n",
              "        async function convertToInteractive(key) {\n",
              "          const element = document.querySelector('#df-648f1cb7-d6d0-421a-a308-09423f8b93f6');\n",
              "          const dataTable =\n",
              "            await google.colab.kernel.invokeFunction('convertToInteractive',\n",
              "                                                     [key], {});\n",
              "          if (!dataTable) return;\n",
              "\n",
              "          const docLinkHtml = 'Like what you see? Visit the ' +\n",
              "            '<a target=\"_blank\" href=https://colab.research.google.com/notebooks/data_table.ipynb>data table notebook</a>'\n",
              "            + ' to learn more about interactive tables.';\n",
              "          element.innerHTML = '';\n",
              "          dataTable['output_type'] = 'display_data';\n",
              "          await google.colab.output.renderOutput(dataTable, element);\n",
              "          const docLink = document.createElement('div');\n",
              "          docLink.innerHTML = docLinkHtml;\n",
              "          element.appendChild(docLink);\n",
              "        }\n",
              "      </script>\n",
              "    </div>\n",
              "  </div>\n",
              "  "
            ]
          },
          "metadata": {},
          "execution_count": 179
        }
      ],
      "source": [
        "ohe_result = pd.DataFrame(df_pre_ohe, columns = ['시설특성' + col for col in ohe.categories_[0]])\n",
        "ohe_result.head()"
      ]
    },
    {
      "cell_type": "code",
      "execution_count": 183,
      "metadata": {
        "id": "OLjglKmJfBKo"
      },
      "outputs": [],
      "source": [
        "# column bind\n",
        "df = pd.concat([df, ohe_result], axis = 1)"
      ]
    },
    {
      "cell_type": "code",
      "execution_count": 184,
      "metadata": {
        "colab": {
          "base_uri": "https://localhost:8080/",
          "height": 752
        },
        "id": "31RkCRsdg0sX",
        "outputId": "92ad3b0c-fcf4-4c76-f463-6d688ca10674"
      },
      "outputs": [
        {
          "output_type": "execute_result",
          "data": {
            "text/plain": [
              "         전송사업자코드 전송사업자명    공연시설코드 시설특성    개관연도                         주소  \\\n",
              "725020  FC000003   국립극장  FC222225   국립  1973.0  서울특별시 중구 장충단로 59 (장충동2가)    \n",
              "\n",
              "        편의시설_레스토랑 여부  편의시설_카페 여부  편의시설_편의점 여부  편의시설_놀이방 여부  편의시설_수유실 여부  \\\n",
              "725020             0           0            1            0            0   \n",
              "\n",
              "        장애인시설_주차장 여부  장애인시설_화장실 여부  장애인시설_경사로 여부  장애인시설_전용엘리베이터 여부  \\\n",
              "725020             0             1             1                 1   \n",
              "\n",
              "        주차시설_자체 여부  주차시설_공영 여부        공연장코드  좌석수 장애인석  무대시설_오케스트라피트 여부  \\\n",
              "725020           1           0  FC222225-01  627    6                0   \n",
              "\n",
              "        무대시설_연습실 여부  무대시설_분장실 여부 무대시설_무대넓이      공연코드  공연회차              공연일시  \\\n",
              "725020            1            1      1401  PF313820     1  2022-06-26 13:00   \n",
              "\n",
              "                   입장권고유번호           예매/취소일시  예매/취소구분  예매/취소매수  예매/취소금액  \\\n",
              "725020  280262577541900032  2022-06-25 18:37        1        1        0   \n",
              "\n",
              "        예매/취소방식코드 예매/취소방식명(관리시스템) 예매/취소방식명(전송처)  결제수단코드 결제수단명(관리시스템)  \\\n",
              "725020          3              현장            현장      99           기타   \n",
              "\n",
              "       결제수단명(전송처)   할인금액  할인종류코드 할인종류명(관리시스템) 할인종류명(전송처)   장당금액  성별  연령  \\\n",
              "725020        NaN  20000      99           기타   초대권 100%  20000   0   0   \n",
              "\n",
              "            공연시작일자      공연종료일자 소요시간 장르명 세부장르명 공연지역명  \\\n",
              "725020  2022-06-22  2022-06-26  NaN  무용  한국무용    서울   \n",
              "\n",
              "                                      출연진내용 제작진내용  \\\n",
              "725020  박윤미, 김지윤, 신화원, 임은주, 이수진, 홍연지, 장인숙 등   NaN   \n",
              "\n",
              "                                  기획제작사명 원작자명 극작가명 수상실적     관람연령  아동공연 여부  \\\n",
              "725020  (사)보훈무용예술협회(주최), (사)보훈무용예술협회(주관)  NaN  NaN  NaN  만 7세 이상        0   \n",
              "\n",
              "        축제 여부  내한공연 여부  오픈런 여부               판매시작일시               판매종료일시  \\\n",
              "725020      1        0       0  2022/05/18 10:00:00  2022/06/25 17:00:00   \n",
              "\n",
              "                                                     좌석등급  단독판매여부 판매좌석수  \\\n",
              "725020  22,24,25일 공연(50000), 23일 공연(30000), 26일 공연(20000)       0   627   \n",
              "\n",
              "                                                 판매페이지URL  시설특성공공(기타)  \\\n",
              "725020  https://www.ntok.go.kr/kr/Ticket/Performance/D...         0.0   \n",
              "\n",
              "        시설특성공공(문예회관)  시설특성국립  시설특성기타(비공연장)  시설특성민간(대학로 외)  시설특성민간(대학로)  \n",
              "725020           0.0     1.0           0.0            0.0          0.0  "
            ],
            "text/html": [
              "\n",
              "  <div id=\"df-c3b08b2f-570f-432f-86be-099a958d1035\">\n",
              "    <div class=\"colab-df-container\">\n",
              "      <div>\n",
              "<style scoped>\n",
              "    .dataframe tbody tr th:only-of-type {\n",
              "        vertical-align: middle;\n",
              "    }\n",
              "\n",
              "    .dataframe tbody tr th {\n",
              "        vertical-align: top;\n",
              "    }\n",
              "\n",
              "    .dataframe thead th {\n",
              "        text-align: right;\n",
              "    }\n",
              "</style>\n",
              "<table border=\"1\" class=\"dataframe\">\n",
              "  <thead>\n",
              "    <tr style=\"text-align: right;\">\n",
              "      <th></th>\n",
              "      <th>전송사업자코드</th>\n",
              "      <th>전송사업자명</th>\n",
              "      <th>공연시설코드</th>\n",
              "      <th>시설특성</th>\n",
              "      <th>개관연도</th>\n",
              "      <th>주소</th>\n",
              "      <th>편의시설_레스토랑 여부</th>\n",
              "      <th>편의시설_카페 여부</th>\n",
              "      <th>편의시설_편의점 여부</th>\n",
              "      <th>편의시설_놀이방 여부</th>\n",
              "      <th>편의시설_수유실 여부</th>\n",
              "      <th>장애인시설_주차장 여부</th>\n",
              "      <th>장애인시설_화장실 여부</th>\n",
              "      <th>장애인시설_경사로 여부</th>\n",
              "      <th>장애인시설_전용엘리베이터 여부</th>\n",
              "      <th>주차시설_자체 여부</th>\n",
              "      <th>주차시설_공영 여부</th>\n",
              "      <th>공연장코드</th>\n",
              "      <th>좌석수</th>\n",
              "      <th>장애인석</th>\n",
              "      <th>무대시설_오케스트라피트 여부</th>\n",
              "      <th>무대시설_연습실 여부</th>\n",
              "      <th>무대시설_분장실 여부</th>\n",
              "      <th>무대시설_무대넓이</th>\n",
              "      <th>공연코드</th>\n",
              "      <th>공연회차</th>\n",
              "      <th>공연일시</th>\n",
              "      <th>입장권고유번호</th>\n",
              "      <th>예매/취소일시</th>\n",
              "      <th>예매/취소구분</th>\n",
              "      <th>예매/취소매수</th>\n",
              "      <th>예매/취소금액</th>\n",
              "      <th>예매/취소방식코드</th>\n",
              "      <th>예매/취소방식명(관리시스템)</th>\n",
              "      <th>예매/취소방식명(전송처)</th>\n",
              "      <th>결제수단코드</th>\n",
              "      <th>결제수단명(관리시스템)</th>\n",
              "      <th>결제수단명(전송처)</th>\n",
              "      <th>할인금액</th>\n",
              "      <th>할인종류코드</th>\n",
              "      <th>할인종류명(관리시스템)</th>\n",
              "      <th>할인종류명(전송처)</th>\n",
              "      <th>장당금액</th>\n",
              "      <th>성별</th>\n",
              "      <th>연령</th>\n",
              "      <th>공연시작일자</th>\n",
              "      <th>공연종료일자</th>\n",
              "      <th>소요시간</th>\n",
              "      <th>장르명</th>\n",
              "      <th>세부장르명</th>\n",
              "      <th>공연지역명</th>\n",
              "      <th>출연진내용</th>\n",
              "      <th>제작진내용</th>\n",
              "      <th>기획제작사명</th>\n",
              "      <th>원작자명</th>\n",
              "      <th>극작가명</th>\n",
              "      <th>수상실적</th>\n",
              "      <th>관람연령</th>\n",
              "      <th>아동공연 여부</th>\n",
              "      <th>축제 여부</th>\n",
              "      <th>내한공연 여부</th>\n",
              "      <th>오픈런 여부</th>\n",
              "      <th>판매시작일시</th>\n",
              "      <th>판매종료일시</th>\n",
              "      <th>좌석등급</th>\n",
              "      <th>단독판매여부</th>\n",
              "      <th>판매좌석수</th>\n",
              "      <th>판매페이지URL</th>\n",
              "      <th>시설특성공공(기타)</th>\n",
              "      <th>시설특성공공(문예회관)</th>\n",
              "      <th>시설특성국립</th>\n",
              "      <th>시설특성기타(비공연장)</th>\n",
              "      <th>시설특성민간(대학로 외)</th>\n",
              "      <th>시설특성민간(대학로)</th>\n",
              "    </tr>\n",
              "  </thead>\n",
              "  <tbody>\n",
              "    <tr>\n",
              "      <th>725020</th>\n",
              "      <td>FC000003</td>\n",
              "      <td>국립극장</td>\n",
              "      <td>FC222225</td>\n",
              "      <td>국립</td>\n",
              "      <td>1973.0</td>\n",
              "      <td>서울특별시 중구 장충단로 59 (장충동2가)</td>\n",
              "      <td>0</td>\n",
              "      <td>0</td>\n",
              "      <td>1</td>\n",
              "      <td>0</td>\n",
              "      <td>0</td>\n",
              "      <td>0</td>\n",
              "      <td>1</td>\n",
              "      <td>1</td>\n",
              "      <td>1</td>\n",
              "      <td>1</td>\n",
              "      <td>0</td>\n",
              "      <td>FC222225-01</td>\n",
              "      <td>627</td>\n",
              "      <td>6</td>\n",
              "      <td>0</td>\n",
              "      <td>1</td>\n",
              "      <td>1</td>\n",
              "      <td>1401</td>\n",
              "      <td>PF313820</td>\n",
              "      <td>1</td>\n",
              "      <td>2022-06-26 13:00</td>\n",
              "      <td>280262577541900032</td>\n",
              "      <td>2022-06-25 18:37</td>\n",
              "      <td>1</td>\n",
              "      <td>1</td>\n",
              "      <td>0</td>\n",
              "      <td>3</td>\n",
              "      <td>현장</td>\n",
              "      <td>현장</td>\n",
              "      <td>99</td>\n",
              "      <td>기타</td>\n",
              "      <td>NaN</td>\n",
              "      <td>20000</td>\n",
              "      <td>99</td>\n",
              "      <td>기타</td>\n",
              "      <td>초대권 100%</td>\n",
              "      <td>20000</td>\n",
              "      <td>0</td>\n",
              "      <td>0</td>\n",
              "      <td>2022-06-22</td>\n",
              "      <td>2022-06-26</td>\n",
              "      <td>NaN</td>\n",
              "      <td>무용</td>\n",
              "      <td>한국무용</td>\n",
              "      <td>서울</td>\n",
              "      <td>박윤미, 김지윤, 신화원, 임은주, 이수진, 홍연지, 장인숙 등</td>\n",
              "      <td>NaN</td>\n",
              "      <td>(사)보훈무용예술협회(주최), (사)보훈무용예술협회(주관)</td>\n",
              "      <td>NaN</td>\n",
              "      <td>NaN</td>\n",
              "      <td>NaN</td>\n",
              "      <td>만 7세 이상</td>\n",
              "      <td>0</td>\n",
              "      <td>1</td>\n",
              "      <td>0</td>\n",
              "      <td>0</td>\n",
              "      <td>2022/05/18 10:00:00</td>\n",
              "      <td>2022/06/25 17:00:00</td>\n",
              "      <td>22,24,25일 공연(50000), 23일 공연(30000), 26일 공연(20000)</td>\n",
              "      <td>0</td>\n",
              "      <td>627</td>\n",
              "      <td>https://www.ntok.go.kr/kr/Ticket/Performance/D...</td>\n",
              "      <td>0.0</td>\n",
              "      <td>0.0</td>\n",
              "      <td>1.0</td>\n",
              "      <td>0.0</td>\n",
              "      <td>0.0</td>\n",
              "      <td>0.0</td>\n",
              "    </tr>\n",
              "  </tbody>\n",
              "</table>\n",
              "</div>\n",
              "      <button class=\"colab-df-convert\" onclick=\"convertToInteractive('df-c3b08b2f-570f-432f-86be-099a958d1035')\"\n",
              "              title=\"Convert this dataframe to an interactive table.\"\n",
              "              style=\"display:none;\">\n",
              "        \n",
              "  <svg xmlns=\"http://www.w3.org/2000/svg\" height=\"24px\"viewBox=\"0 0 24 24\"\n",
              "       width=\"24px\">\n",
              "    <path d=\"M0 0h24v24H0V0z\" fill=\"none\"/>\n",
              "    <path d=\"M18.56 5.44l.94 2.06.94-2.06 2.06-.94-2.06-.94-.94-2.06-.94 2.06-2.06.94zm-11 1L8.5 8.5l.94-2.06 2.06-.94-2.06-.94L8.5 2.5l-.94 2.06-2.06.94zm10 10l.94 2.06.94-2.06 2.06-.94-2.06-.94-.94-2.06-.94 2.06-2.06.94z\"/><path d=\"M17.41 7.96l-1.37-1.37c-.4-.4-.92-.59-1.43-.59-.52 0-1.04.2-1.43.59L10.3 9.45l-7.72 7.72c-.78.78-.78 2.05 0 2.83L4 21.41c.39.39.9.59 1.41.59.51 0 1.02-.2 1.41-.59l7.78-7.78 2.81-2.81c.8-.78.8-2.07 0-2.86zM5.41 20L4 18.59l7.72-7.72 1.47 1.35L5.41 20z\"/>\n",
              "  </svg>\n",
              "      </button>\n",
              "      \n",
              "  <style>\n",
              "    .colab-df-container {\n",
              "      display:flex;\n",
              "      flex-wrap:wrap;\n",
              "      gap: 12px;\n",
              "    }\n",
              "\n",
              "    .colab-df-convert {\n",
              "      background-color: #E8F0FE;\n",
              "      border: none;\n",
              "      border-radius: 50%;\n",
              "      cursor: pointer;\n",
              "      display: none;\n",
              "      fill: #1967D2;\n",
              "      height: 32px;\n",
              "      padding: 0 0 0 0;\n",
              "      width: 32px;\n",
              "    }\n",
              "\n",
              "    .colab-df-convert:hover {\n",
              "      background-color: #E2EBFA;\n",
              "      box-shadow: 0px 1px 2px rgba(60, 64, 67, 0.3), 0px 1px 3px 1px rgba(60, 64, 67, 0.15);\n",
              "      fill: #174EA6;\n",
              "    }\n",
              "\n",
              "    [theme=dark] .colab-df-convert {\n",
              "      background-color: #3B4455;\n",
              "      fill: #D2E3FC;\n",
              "    }\n",
              "\n",
              "    [theme=dark] .colab-df-convert:hover {\n",
              "      background-color: #434B5C;\n",
              "      box-shadow: 0px 1px 3px 1px rgba(0, 0, 0, 0.15);\n",
              "      filter: drop-shadow(0px 1px 2px rgba(0, 0, 0, 0.3));\n",
              "      fill: #FFFFFF;\n",
              "    }\n",
              "  </style>\n",
              "\n",
              "      <script>\n",
              "        const buttonEl =\n",
              "          document.querySelector('#df-c3b08b2f-570f-432f-86be-099a958d1035 button.colab-df-convert');\n",
              "        buttonEl.style.display =\n",
              "          google.colab.kernel.accessAllowed ? 'block' : 'none';\n",
              "\n",
              "        async function convertToInteractive(key) {\n",
              "          const element = document.querySelector('#df-c3b08b2f-570f-432f-86be-099a958d1035');\n",
              "          const dataTable =\n",
              "            await google.colab.kernel.invokeFunction('convertToInteractive',\n",
              "                                                     [key], {});\n",
              "          if (!dataTable) return;\n",
              "\n",
              "          const docLinkHtml = 'Like what you see? Visit the ' +\n",
              "            '<a target=\"_blank\" href=https://colab.research.google.com/notebooks/data_table.ipynb>data table notebook</a>'\n",
              "            + ' to learn more about interactive tables.';\n",
              "          element.innerHTML = '';\n",
              "          dataTable['output_type'] = 'display_data';\n",
              "          await google.colab.output.renderOutput(dataTable, element);\n",
              "          const docLink = document.createElement('div');\n",
              "          docLink.innerHTML = docLinkHtml;\n",
              "          element.appendChild(docLink);\n",
              "        }\n",
              "      </script>\n",
              "    </div>\n",
              "  </div>\n",
              "  "
            ]
          },
          "metadata": {},
          "execution_count": 184
        }
      ],
      "source": [
        "df.tail(1)"
      ]
    },
    {
      "cell_type": "markdown",
      "metadata": {
        "id": "hgdz4VGnhqco"
      },
      "source": [
        "#### 2-2) 성별"
      ]
    },
    {
      "cell_type": "code",
      "execution_count": 185,
      "metadata": {
        "id": "PLC_SG8fjRqo"
      },
      "outputs": [],
      "source": [
        "# df_pre_test['성별'] = df_pre['성별'].astype('str')\n",
        "df['성별'] = df['성별'].apply(str)"
      ]
    },
    {
      "cell_type": "code",
      "execution_count": 186,
      "metadata": {
        "colab": {
          "base_uri": "https://localhost:8080/"
        },
        "id": "hAgVk_qUKRsK",
        "outputId": "582b16c5-a032-409c-c83e-8de143c96914"
      },
      "outputs": [
        {
          "output_type": "execute_result",
          "data": {
            "text/plain": [
              "0    314981\n",
              "2    311584\n",
              "1     98456\n",
              "Name: 성별, dtype: int64"
            ]
          },
          "metadata": {},
          "execution_count": 186
        }
      ],
      "source": [
        "df['성별'].value_counts()"
      ]
    },
    {
      "cell_type": "code",
      "execution_count": null,
      "metadata": {
        "id": "dhpXOslHmkL2"
      },
      "outputs": [],
      "source": [
        "# pd.set_option('display.max_rows', None)"
      ]
    },
    {
      "cell_type": "code",
      "execution_count": 187,
      "metadata": {
        "colab": {
          "base_uri": "https://localhost:8080/"
        },
        "id": "D0wvcQK7hp0Q",
        "outputId": "088989f0-2c2e-414d-c65a-511970f51069"
      },
      "outputs": [
        {
          "output_type": "execute_result",
          "data": {
            "text/plain": [
              "array([[1., 0., 0.],\n",
              "       [1., 0., 0.],\n",
              "       [1., 0., 0.],\n",
              "       ...,\n",
              "       [1., 0., 0.],\n",
              "       [1., 0., 0.],\n",
              "       [1., 0., 0.]])"
            ]
          },
          "metadata": {},
          "execution_count": 187
        }
      ],
      "source": [
        "ohe2 = OneHotEncoder(sparse=False)\n",
        "# fit_transform은 train에만 사용하고 test에는 학습된 인코더에 fit만 해야한다\n",
        "df_pre_ohe2 = ohe2.fit_transform(df[['성별']])\n",
        "df_pre_ohe2"
      ]
    },
    {
      "cell_type": "code",
      "execution_count": 188,
      "metadata": {
        "colab": {
          "base_uri": "https://localhost:8080/"
        },
        "id": "57RLSJ5Gh6RU",
        "outputId": "7b651566-09f2-4065-ee03-64352bfb12f7"
      },
      "outputs": [
        {
          "output_type": "execute_result",
          "data": {
            "text/plain": [
              "[array(['0', '1', '2'], dtype=object)]"
            ]
          },
          "metadata": {},
          "execution_count": 188
        }
      ],
      "source": [
        "ohe2.categories_"
      ]
    },
    {
      "cell_type": "code",
      "execution_count": 189,
      "metadata": {
        "colab": {
          "base_uri": "https://localhost:8080/",
          "height": 206
        },
        "id": "YMnJQynAiCKo",
        "outputId": "8de09d9a-1942-4063-9e2d-0af0a037baae"
      },
      "outputs": [
        {
          "output_type": "execute_result",
          "data": {
            "text/plain": [
              "   성별0  성별1  성별2\n",
              "0  1.0  0.0  0.0\n",
              "1  1.0  0.0  0.0\n",
              "2  1.0  0.0  0.0\n",
              "3  1.0  0.0  0.0\n",
              "4  1.0  0.0  0.0"
            ],
            "text/html": [
              "\n",
              "  <div id=\"df-7172d42a-9d20-40a6-aa10-89a290ed53d7\">\n",
              "    <div class=\"colab-df-container\">\n",
              "      <div>\n",
              "<style scoped>\n",
              "    .dataframe tbody tr th:only-of-type {\n",
              "        vertical-align: middle;\n",
              "    }\n",
              "\n",
              "    .dataframe tbody tr th {\n",
              "        vertical-align: top;\n",
              "    }\n",
              "\n",
              "    .dataframe thead th {\n",
              "        text-align: right;\n",
              "    }\n",
              "</style>\n",
              "<table border=\"1\" class=\"dataframe\">\n",
              "  <thead>\n",
              "    <tr style=\"text-align: right;\">\n",
              "      <th></th>\n",
              "      <th>성별0</th>\n",
              "      <th>성별1</th>\n",
              "      <th>성별2</th>\n",
              "    </tr>\n",
              "  </thead>\n",
              "  <tbody>\n",
              "    <tr>\n",
              "      <th>0</th>\n",
              "      <td>1.0</td>\n",
              "      <td>0.0</td>\n",
              "      <td>0.0</td>\n",
              "    </tr>\n",
              "    <tr>\n",
              "      <th>1</th>\n",
              "      <td>1.0</td>\n",
              "      <td>0.0</td>\n",
              "      <td>0.0</td>\n",
              "    </tr>\n",
              "    <tr>\n",
              "      <th>2</th>\n",
              "      <td>1.0</td>\n",
              "      <td>0.0</td>\n",
              "      <td>0.0</td>\n",
              "    </tr>\n",
              "    <tr>\n",
              "      <th>3</th>\n",
              "      <td>1.0</td>\n",
              "      <td>0.0</td>\n",
              "      <td>0.0</td>\n",
              "    </tr>\n",
              "    <tr>\n",
              "      <th>4</th>\n",
              "      <td>1.0</td>\n",
              "      <td>0.0</td>\n",
              "      <td>0.0</td>\n",
              "    </tr>\n",
              "  </tbody>\n",
              "</table>\n",
              "</div>\n",
              "      <button class=\"colab-df-convert\" onclick=\"convertToInteractive('df-7172d42a-9d20-40a6-aa10-89a290ed53d7')\"\n",
              "              title=\"Convert this dataframe to an interactive table.\"\n",
              "              style=\"display:none;\">\n",
              "        \n",
              "  <svg xmlns=\"http://www.w3.org/2000/svg\" height=\"24px\"viewBox=\"0 0 24 24\"\n",
              "       width=\"24px\">\n",
              "    <path d=\"M0 0h24v24H0V0z\" fill=\"none\"/>\n",
              "    <path d=\"M18.56 5.44l.94 2.06.94-2.06 2.06-.94-2.06-.94-.94-2.06-.94 2.06-2.06.94zm-11 1L8.5 8.5l.94-2.06 2.06-.94-2.06-.94L8.5 2.5l-.94 2.06-2.06.94zm10 10l.94 2.06.94-2.06 2.06-.94-2.06-.94-.94-2.06-.94 2.06-2.06.94z\"/><path d=\"M17.41 7.96l-1.37-1.37c-.4-.4-.92-.59-1.43-.59-.52 0-1.04.2-1.43.59L10.3 9.45l-7.72 7.72c-.78.78-.78 2.05 0 2.83L4 21.41c.39.39.9.59 1.41.59.51 0 1.02-.2 1.41-.59l7.78-7.78 2.81-2.81c.8-.78.8-2.07 0-2.86zM5.41 20L4 18.59l7.72-7.72 1.47 1.35L5.41 20z\"/>\n",
              "  </svg>\n",
              "      </button>\n",
              "      \n",
              "  <style>\n",
              "    .colab-df-container {\n",
              "      display:flex;\n",
              "      flex-wrap:wrap;\n",
              "      gap: 12px;\n",
              "    }\n",
              "\n",
              "    .colab-df-convert {\n",
              "      background-color: #E8F0FE;\n",
              "      border: none;\n",
              "      border-radius: 50%;\n",
              "      cursor: pointer;\n",
              "      display: none;\n",
              "      fill: #1967D2;\n",
              "      height: 32px;\n",
              "      padding: 0 0 0 0;\n",
              "      width: 32px;\n",
              "    }\n",
              "\n",
              "    .colab-df-convert:hover {\n",
              "      background-color: #E2EBFA;\n",
              "      box-shadow: 0px 1px 2px rgba(60, 64, 67, 0.3), 0px 1px 3px 1px rgba(60, 64, 67, 0.15);\n",
              "      fill: #174EA6;\n",
              "    }\n",
              "\n",
              "    [theme=dark] .colab-df-convert {\n",
              "      background-color: #3B4455;\n",
              "      fill: #D2E3FC;\n",
              "    }\n",
              "\n",
              "    [theme=dark] .colab-df-convert:hover {\n",
              "      background-color: #434B5C;\n",
              "      box-shadow: 0px 1px 3px 1px rgba(0, 0, 0, 0.15);\n",
              "      filter: drop-shadow(0px 1px 2px rgba(0, 0, 0, 0.3));\n",
              "      fill: #FFFFFF;\n",
              "    }\n",
              "  </style>\n",
              "\n",
              "      <script>\n",
              "        const buttonEl =\n",
              "          document.querySelector('#df-7172d42a-9d20-40a6-aa10-89a290ed53d7 button.colab-df-convert');\n",
              "        buttonEl.style.display =\n",
              "          google.colab.kernel.accessAllowed ? 'block' : 'none';\n",
              "\n",
              "        async function convertToInteractive(key) {\n",
              "          const element = document.querySelector('#df-7172d42a-9d20-40a6-aa10-89a290ed53d7');\n",
              "          const dataTable =\n",
              "            await google.colab.kernel.invokeFunction('convertToInteractive',\n",
              "                                                     [key], {});\n",
              "          if (!dataTable) return;\n",
              "\n",
              "          const docLinkHtml = 'Like what you see? Visit the ' +\n",
              "            '<a target=\"_blank\" href=https://colab.research.google.com/notebooks/data_table.ipynb>data table notebook</a>'\n",
              "            + ' to learn more about interactive tables.';\n",
              "          element.innerHTML = '';\n",
              "          dataTable['output_type'] = 'display_data';\n",
              "          await google.colab.output.renderOutput(dataTable, element);\n",
              "          const docLink = document.createElement('div');\n",
              "          docLink.innerHTML = docLinkHtml;\n",
              "          element.appendChild(docLink);\n",
              "        }\n",
              "      </script>\n",
              "    </div>\n",
              "  </div>\n",
              "  "
            ]
          },
          "metadata": {},
          "execution_count": 189
        }
      ],
      "source": [
        "ohe_result2 = pd.DataFrame(df_pre_ohe2, columns = ['성별'+ col for col in ohe2.categories_[0]])\n",
        "ohe_result2.head()"
      ]
    },
    {
      "cell_type": "code",
      "execution_count": 191,
      "metadata": {
        "id": "yGcERcFNpoxF"
      },
      "outputs": [],
      "source": [
        "# column bind\n",
        "df = pd.concat([df, ohe_result2], axis = 1)"
      ]
    },
    {
      "cell_type": "code",
      "execution_count": 192,
      "metadata": {
        "colab": {
          "base_uri": "https://localhost:8080/",
          "height": 631
        },
        "id": "2n4zPr5fptL3",
        "outputId": "5116d35c-2e66-4e76-e357-2136c039ff4e"
      },
      "outputs": [
        {
          "output_type": "execute_result",
          "data": {
            "text/plain": [
              "    전송사업자코드 전송사업자명    공연시설코드      시설특성    개관연도                         주소  \\\n",
              "0  SE000102   티켓링크  FC223315  공공(문예회관)  1975.0  대구광역시 중구 태평로 141 (태평로2가)    \n",
              "\n",
              "   편의시설_레스토랑 여부  편의시설_카페 여부  편의시설_편의점 여부  편의시설_놀이방 여부  편의시설_수유실 여부  \\\n",
              "0             0           1            0            0            1   \n",
              "\n",
              "   장애인시설_주차장 여부  장애인시설_화장실 여부  장애인시설_경사로 여부  장애인시설_전용엘리베이터 여부  주차시설_자체 여부  \\\n",
              "0             1             1             1                 1           1   \n",
              "\n",
              "   주차시설_공영 여부        공연장코드   좌석수 장애인석  무대시설_오케스트라피트 여부  무대시설_연습실 여부  \\\n",
              "0           0  FC223315-01  1284   14                1            1   \n",
              "\n",
              "   무대시설_분장실 여부 무대시설_무대넓이      공연코드  공연회차              공연일시       입장권고유번호  \\\n",
              "0            1       344  PF314870     1  2022-06-21 19:30  1431527281_1   \n",
              "\n",
              "            예매/취소일시  예매/취소구분  예매/취소매수  예매/취소금액  예매/취소방식코드 예매/취소방식명(관리시스템)  \\\n",
              "0  2022-06-10 13:40        1        1        0         99              기타   \n",
              "\n",
              "  예매/취소방식명(전송처)  결제수단코드 결제수단명(관리시스템) 결제수단명(전송처)  할인금액  할인종류코드 할인종류명(관리시스템)  \\\n",
              "0        기획사/구단       1           현금         현금     0      99           기타   \n",
              "\n",
              "  할인종류명(전송처)  장당금액 성별  연령      공연시작일자      공연종료일자     소요시간  장르명 세부장르명 공연지역명  \\\n",
              "0        NaN     0  0   0  2022-06-21  2022-06-21  1시간 30분  클래식    기악   경상도   \n",
              "\n",
              "                  출연진내용 제작진내용                       기획제작사명 원작자명 극작가명 수상실적  \\\n",
              "0  이광호, 이정아, 백민아, 오수진 등   NaN  한국기독교총연합회(주최), CTS기독교TV(주관)  NaN  NaN  NaN   \n",
              "\n",
              "      관람연령  아동공연 여부  축제 여부  내한공연 여부  오픈런 여부               판매시작일시  \\\n",
              "0  만 7세 이상        0      0        0       0  2022/06/09 00:00:00   \n",
              "\n",
              "                판매종료일시     좌석등급  단독판매여부 판매좌석수  \\\n",
              "0  2022/06/20 17:00:00  전석무료(0)       0    1석   \n",
              "\n",
              "                                    판매페이지URL  시설특성공공(기타)  시설특성공공(문예회관)  \\\n",
              "0  http://www.ticketlink.co.kr/product/38972         0.0           1.0   \n",
              "\n",
              "   시설특성국립  시설특성기타(비공연장)  시설특성민간(대학로 외)  시설특성민간(대학로)  성별0  성별1  성별2  \n",
              "0     0.0           0.0            0.0          0.0  1.0  0.0  0.0  "
            ],
            "text/html": [
              "\n",
              "  <div id=\"df-c20d40ca-9481-46d0-9cb9-2cb11027a158\">\n",
              "    <div class=\"colab-df-container\">\n",
              "      <div>\n",
              "<style scoped>\n",
              "    .dataframe tbody tr th:only-of-type {\n",
              "        vertical-align: middle;\n",
              "    }\n",
              "\n",
              "    .dataframe tbody tr th {\n",
              "        vertical-align: top;\n",
              "    }\n",
              "\n",
              "    .dataframe thead th {\n",
              "        text-align: right;\n",
              "    }\n",
              "</style>\n",
              "<table border=\"1\" class=\"dataframe\">\n",
              "  <thead>\n",
              "    <tr style=\"text-align: right;\">\n",
              "      <th></th>\n",
              "      <th>전송사업자코드</th>\n",
              "      <th>전송사업자명</th>\n",
              "      <th>공연시설코드</th>\n",
              "      <th>시설특성</th>\n",
              "      <th>개관연도</th>\n",
              "      <th>주소</th>\n",
              "      <th>편의시설_레스토랑 여부</th>\n",
              "      <th>편의시설_카페 여부</th>\n",
              "      <th>편의시설_편의점 여부</th>\n",
              "      <th>편의시설_놀이방 여부</th>\n",
              "      <th>편의시설_수유실 여부</th>\n",
              "      <th>장애인시설_주차장 여부</th>\n",
              "      <th>장애인시설_화장실 여부</th>\n",
              "      <th>장애인시설_경사로 여부</th>\n",
              "      <th>장애인시설_전용엘리베이터 여부</th>\n",
              "      <th>주차시설_자체 여부</th>\n",
              "      <th>주차시설_공영 여부</th>\n",
              "      <th>공연장코드</th>\n",
              "      <th>좌석수</th>\n",
              "      <th>장애인석</th>\n",
              "      <th>무대시설_오케스트라피트 여부</th>\n",
              "      <th>무대시설_연습실 여부</th>\n",
              "      <th>무대시설_분장실 여부</th>\n",
              "      <th>무대시설_무대넓이</th>\n",
              "      <th>공연코드</th>\n",
              "      <th>공연회차</th>\n",
              "      <th>공연일시</th>\n",
              "      <th>입장권고유번호</th>\n",
              "      <th>예매/취소일시</th>\n",
              "      <th>예매/취소구분</th>\n",
              "      <th>예매/취소매수</th>\n",
              "      <th>예매/취소금액</th>\n",
              "      <th>예매/취소방식코드</th>\n",
              "      <th>예매/취소방식명(관리시스템)</th>\n",
              "      <th>예매/취소방식명(전송처)</th>\n",
              "      <th>결제수단코드</th>\n",
              "      <th>결제수단명(관리시스템)</th>\n",
              "      <th>결제수단명(전송처)</th>\n",
              "      <th>할인금액</th>\n",
              "      <th>할인종류코드</th>\n",
              "      <th>할인종류명(관리시스템)</th>\n",
              "      <th>할인종류명(전송처)</th>\n",
              "      <th>장당금액</th>\n",
              "      <th>성별</th>\n",
              "      <th>연령</th>\n",
              "      <th>공연시작일자</th>\n",
              "      <th>공연종료일자</th>\n",
              "      <th>소요시간</th>\n",
              "      <th>장르명</th>\n",
              "      <th>세부장르명</th>\n",
              "      <th>공연지역명</th>\n",
              "      <th>출연진내용</th>\n",
              "      <th>제작진내용</th>\n",
              "      <th>기획제작사명</th>\n",
              "      <th>원작자명</th>\n",
              "      <th>극작가명</th>\n",
              "      <th>수상실적</th>\n",
              "      <th>관람연령</th>\n",
              "      <th>아동공연 여부</th>\n",
              "      <th>축제 여부</th>\n",
              "      <th>내한공연 여부</th>\n",
              "      <th>오픈런 여부</th>\n",
              "      <th>판매시작일시</th>\n",
              "      <th>판매종료일시</th>\n",
              "      <th>좌석등급</th>\n",
              "      <th>단독판매여부</th>\n",
              "      <th>판매좌석수</th>\n",
              "      <th>판매페이지URL</th>\n",
              "      <th>시설특성공공(기타)</th>\n",
              "      <th>시설특성공공(문예회관)</th>\n",
              "      <th>시설특성국립</th>\n",
              "      <th>시설특성기타(비공연장)</th>\n",
              "      <th>시설특성민간(대학로 외)</th>\n",
              "      <th>시설특성민간(대학로)</th>\n",
              "      <th>성별0</th>\n",
              "      <th>성별1</th>\n",
              "      <th>성별2</th>\n",
              "    </tr>\n",
              "  </thead>\n",
              "  <tbody>\n",
              "    <tr>\n",
              "      <th>0</th>\n",
              "      <td>SE000102</td>\n",
              "      <td>티켓링크</td>\n",
              "      <td>FC223315</td>\n",
              "      <td>공공(문예회관)</td>\n",
              "      <td>1975.0</td>\n",
              "      <td>대구광역시 중구 태평로 141 (태평로2가)</td>\n",
              "      <td>0</td>\n",
              "      <td>1</td>\n",
              "      <td>0</td>\n",
              "      <td>0</td>\n",
              "      <td>1</td>\n",
              "      <td>1</td>\n",
              "      <td>1</td>\n",
              "      <td>1</td>\n",
              "      <td>1</td>\n",
              "      <td>1</td>\n",
              "      <td>0</td>\n",
              "      <td>FC223315-01</td>\n",
              "      <td>1284</td>\n",
              "      <td>14</td>\n",
              "      <td>1</td>\n",
              "      <td>1</td>\n",
              "      <td>1</td>\n",
              "      <td>344</td>\n",
              "      <td>PF314870</td>\n",
              "      <td>1</td>\n",
              "      <td>2022-06-21 19:30</td>\n",
              "      <td>1431527281_1</td>\n",
              "      <td>2022-06-10 13:40</td>\n",
              "      <td>1</td>\n",
              "      <td>1</td>\n",
              "      <td>0</td>\n",
              "      <td>99</td>\n",
              "      <td>기타</td>\n",
              "      <td>기획사/구단</td>\n",
              "      <td>1</td>\n",
              "      <td>현금</td>\n",
              "      <td>현금</td>\n",
              "      <td>0</td>\n",
              "      <td>99</td>\n",
              "      <td>기타</td>\n",
              "      <td>NaN</td>\n",
              "      <td>0</td>\n",
              "      <td>0</td>\n",
              "      <td>0</td>\n",
              "      <td>2022-06-21</td>\n",
              "      <td>2022-06-21</td>\n",
              "      <td>1시간 30분</td>\n",
              "      <td>클래식</td>\n",
              "      <td>기악</td>\n",
              "      <td>경상도</td>\n",
              "      <td>이광호, 이정아, 백민아, 오수진 등</td>\n",
              "      <td>NaN</td>\n",
              "      <td>한국기독교총연합회(주최), CTS기독교TV(주관)</td>\n",
              "      <td>NaN</td>\n",
              "      <td>NaN</td>\n",
              "      <td>NaN</td>\n",
              "      <td>만 7세 이상</td>\n",
              "      <td>0</td>\n",
              "      <td>0</td>\n",
              "      <td>0</td>\n",
              "      <td>0</td>\n",
              "      <td>2022/06/09 00:00:00</td>\n",
              "      <td>2022/06/20 17:00:00</td>\n",
              "      <td>전석무료(0)</td>\n",
              "      <td>0</td>\n",
              "      <td>1석</td>\n",
              "      <td>http://www.ticketlink.co.kr/product/38972</td>\n",
              "      <td>0.0</td>\n",
              "      <td>1.0</td>\n",
              "      <td>0.0</td>\n",
              "      <td>0.0</td>\n",
              "      <td>0.0</td>\n",
              "      <td>0.0</td>\n",
              "      <td>1.0</td>\n",
              "      <td>0.0</td>\n",
              "      <td>0.0</td>\n",
              "    </tr>\n",
              "  </tbody>\n",
              "</table>\n",
              "</div>\n",
              "      <button class=\"colab-df-convert\" onclick=\"convertToInteractive('df-c20d40ca-9481-46d0-9cb9-2cb11027a158')\"\n",
              "              title=\"Convert this dataframe to an interactive table.\"\n",
              "              style=\"display:none;\">\n",
              "        \n",
              "  <svg xmlns=\"http://www.w3.org/2000/svg\" height=\"24px\"viewBox=\"0 0 24 24\"\n",
              "       width=\"24px\">\n",
              "    <path d=\"M0 0h24v24H0V0z\" fill=\"none\"/>\n",
              "    <path d=\"M18.56 5.44l.94 2.06.94-2.06 2.06-.94-2.06-.94-.94-2.06-.94 2.06-2.06.94zm-11 1L8.5 8.5l.94-2.06 2.06-.94-2.06-.94L8.5 2.5l-.94 2.06-2.06.94zm10 10l.94 2.06.94-2.06 2.06-.94-2.06-.94-.94-2.06-.94 2.06-2.06.94z\"/><path d=\"M17.41 7.96l-1.37-1.37c-.4-.4-.92-.59-1.43-.59-.52 0-1.04.2-1.43.59L10.3 9.45l-7.72 7.72c-.78.78-.78 2.05 0 2.83L4 21.41c.39.39.9.59 1.41.59.51 0 1.02-.2 1.41-.59l7.78-7.78 2.81-2.81c.8-.78.8-2.07 0-2.86zM5.41 20L4 18.59l7.72-7.72 1.47 1.35L5.41 20z\"/>\n",
              "  </svg>\n",
              "      </button>\n",
              "      \n",
              "  <style>\n",
              "    .colab-df-container {\n",
              "      display:flex;\n",
              "      flex-wrap:wrap;\n",
              "      gap: 12px;\n",
              "    }\n",
              "\n",
              "    .colab-df-convert {\n",
              "      background-color: #E8F0FE;\n",
              "      border: none;\n",
              "      border-radius: 50%;\n",
              "      cursor: pointer;\n",
              "      display: none;\n",
              "      fill: #1967D2;\n",
              "      height: 32px;\n",
              "      padding: 0 0 0 0;\n",
              "      width: 32px;\n",
              "    }\n",
              "\n",
              "    .colab-df-convert:hover {\n",
              "      background-color: #E2EBFA;\n",
              "      box-shadow: 0px 1px 2px rgba(60, 64, 67, 0.3), 0px 1px 3px 1px rgba(60, 64, 67, 0.15);\n",
              "      fill: #174EA6;\n",
              "    }\n",
              "\n",
              "    [theme=dark] .colab-df-convert {\n",
              "      background-color: #3B4455;\n",
              "      fill: #D2E3FC;\n",
              "    }\n",
              "\n",
              "    [theme=dark] .colab-df-convert:hover {\n",
              "      background-color: #434B5C;\n",
              "      box-shadow: 0px 1px 3px 1px rgba(0, 0, 0, 0.15);\n",
              "      filter: drop-shadow(0px 1px 2px rgba(0, 0, 0, 0.3));\n",
              "      fill: #FFFFFF;\n",
              "    }\n",
              "  </style>\n",
              "\n",
              "      <script>\n",
              "        const buttonEl =\n",
              "          document.querySelector('#df-c20d40ca-9481-46d0-9cb9-2cb11027a158 button.colab-df-convert');\n",
              "        buttonEl.style.display =\n",
              "          google.colab.kernel.accessAllowed ? 'block' : 'none';\n",
              "\n",
              "        async function convertToInteractive(key) {\n",
              "          const element = document.querySelector('#df-c20d40ca-9481-46d0-9cb9-2cb11027a158');\n",
              "          const dataTable =\n",
              "            await google.colab.kernel.invokeFunction('convertToInteractive',\n",
              "                                                     [key], {});\n",
              "          if (!dataTable) return;\n",
              "\n",
              "          const docLinkHtml = 'Like what you see? Visit the ' +\n",
              "            '<a target=\"_blank\" href=https://colab.research.google.com/notebooks/data_table.ipynb>data table notebook</a>'\n",
              "            + ' to learn more about interactive tables.';\n",
              "          element.innerHTML = '';\n",
              "          dataTable['output_type'] = 'display_data';\n",
              "          await google.colab.output.renderOutput(dataTable, element);\n",
              "          const docLink = document.createElement('div');\n",
              "          docLink.innerHTML = docLinkHtml;\n",
              "          element.appendChild(docLink);\n",
              "        }\n",
              "      </script>\n",
              "    </div>\n",
              "  </div>\n",
              "  "
            ]
          },
          "metadata": {},
          "execution_count": 192
        }
      ],
      "source": [
        "df.head(1)"
      ]
    },
    {
      "cell_type": "markdown",
      "source": [
        "#### 2-3) 기획제작사명, 공연지역명, 장르명"
      ],
      "metadata": {
        "id": "RjkpjrglqpNl"
      }
    },
    {
      "cell_type": "markdown",
      "source": [
        "기획제작사명, 공연지역명, 장르명에 차이를 두지 않고 요인분석을 진행하기 위해 가중치를 부여하지 않는 원핫 인코딩을 한다."
      ],
      "metadata": {
        "id": "fDm4-Gaa6id9"
      }
    },
    {
      "cell_type": "code",
      "source": [
        "# data['장르명'].value_counts()\n",
        "# data['공연지역명'].value_counts()"
      ],
      "metadata": {
        "id": "hQVGyeB_4ILT"
      },
      "execution_count": null,
      "outputs": []
    },
    {
      "cell_type": "code",
      "source": [
        "df = pd.get_dummies(df, columns = ['기획_제작사명','공연지역명','장르명'])"
      ],
      "metadata": {
        "id": "JuTdttTS4R2j"
      },
      "execution_count": 263,
      "outputs": []
    },
    {
      "cell_type": "markdown",
      "source": [
        "## 변수 병합"
      ],
      "metadata": {
        "id": "htEY5Vq23ayd"
      }
    },
    {
      "cell_type": "markdown",
      "source": [
        "- 편의시설_식음료"
      ],
      "metadata": {
        "id": "vtxTtVAq3pML"
      }
    },
    {
      "cell_type": "code",
      "source": [
        "df['편의시설_식음료'] = df['편의시설_레스토랑 여부']+df['편의시설_카페 여부']+df['편의시설_편의점 여부']"
      ],
      "metadata": {
        "id": "2fBEgRMZ3eTr"
      },
      "execution_count": 193,
      "outputs": []
    },
    {
      "cell_type": "code",
      "source": [
        "df['편의시설_식음료'].value_counts()"
      ],
      "metadata": {
        "id": "mOx4lVO-3hcd",
        "colab": {
          "base_uri": "https://localhost:8080/"
        },
        "outputId": "7a548658-3d20-45f7-d6af-c017a4f83062"
      },
      "execution_count": 194,
      "outputs": [
        {
          "output_type": "execute_result",
          "data": {
            "text/plain": [
              "0    319666\n",
              "2    174463\n",
              "1    171262\n",
              "3     59630\n",
              "Name: 편의시설_식음료, dtype: int64"
            ]
          },
          "metadata": {},
          "execution_count": 194
        }
      ]
    },
    {
      "cell_type": "markdown",
      "source": [
        "- 편의시설_아동"
      ],
      "metadata": {
        "id": "zzXiRd0d3rRT"
      }
    },
    {
      "cell_type": "code",
      "source": [
        "df['편의시설_아동'] = df['편의시설_놀이방 여부']+df['편의시설_수유실 여부']"
      ],
      "metadata": {
        "id": "ZpVYi5NQ3uTW"
      },
      "execution_count": 195,
      "outputs": []
    },
    {
      "cell_type": "code",
      "source": [
        "df['편의시설_식음료'].value_counts()"
      ],
      "metadata": {
        "id": "BHdJ6nwd4HAO",
        "colab": {
          "base_uri": "https://localhost:8080/"
        },
        "outputId": "80da9ee4-78bd-4d29-efeb-da65a837cca1"
      },
      "execution_count": 196,
      "outputs": [
        {
          "output_type": "execute_result",
          "data": {
            "text/plain": [
              "0    319666\n",
              "2    174463\n",
              "1    171262\n",
              "3     59630\n",
              "Name: 편의시설_식음료, dtype: int64"
            ]
          },
          "metadata": {},
          "execution_count": 196
        }
      ]
    },
    {
      "cell_type": "markdown",
      "source": [
        "- 장애인시설"
      ],
      "metadata": {
        "id": "ZheeFkAP4LDB"
      }
    },
    {
      "cell_type": "code",
      "source": [
        "df['장애인시설'] = df['장애인시설_주차장 여부']+ df['장애인시설_화장실 여부']+df['장애인시설_경사로 여부']+df['장애인시설_전용엘리베이터 여부']"
      ],
      "metadata": {
        "id": "ZPVaJp7M4QmM"
      },
      "execution_count": 197,
      "outputs": []
    },
    {
      "cell_type": "code",
      "source": [
        "df['장애인시설'].value_counts()"
      ],
      "metadata": {
        "id": "6CPCYd7u4m1W",
        "colab": {
          "base_uri": "https://localhost:8080/"
        },
        "outputId": "c1cbebca-2889-411e-b2af-1f604891f720"
      },
      "execution_count": 198,
      "outputs": [
        {
          "output_type": "execute_result",
          "data": {
            "text/plain": [
              "2    198454\n",
              "0    177303\n",
              "4    170226\n",
              "3    130795\n",
              "1     48243\n",
              "Name: 장애인시설, dtype: int64"
            ]
          },
          "metadata": {},
          "execution_count": 198
        }
      ]
    },
    {
      "cell_type": "markdown",
      "source": [
        "- SW_무대시설"
      ],
      "metadata": {
        "id": "Kjckb5qs7bP7"
      }
    },
    {
      "cell_type": "code",
      "source": [
        "df['SW_무대시설'] = df['무대시설_오케스트라피트 여부'] + df['무대시설_연습실 여부'] +\tdf['무대시설_분장실 여부']"
      ],
      "metadata": {
        "id": "IozLJcd37dFG"
      },
      "execution_count": 199,
      "outputs": []
    },
    {
      "cell_type": "code",
      "source": [
        "df['SW_무대시설'].value_counts()"
      ],
      "metadata": {
        "id": "FB-WuJoD7ei1",
        "colab": {
          "base_uri": "https://localhost:8080/"
        },
        "outputId": "08973323-f3cb-40da-fcbd-624fac07d4f5"
      },
      "execution_count": 200,
      "outputs": [
        {
          "output_type": "execute_result",
          "data": {
            "text/plain": [
              "2    305794\n",
              "3    201736\n",
              "1    149844\n",
              "0     67647\n",
              "Name: SW_무대시설, dtype: int64"
            ]
          },
          "metadata": {},
          "execution_count": 200
        }
      ]
    },
    {
      "cell_type": "markdown",
      "source": [
        "## 변수 생성"
      ],
      "metadata": {
        "id": "-hgXE9My1y2F"
      }
    },
    {
      "cell_type": "markdown",
      "metadata": {
        "id": "QlutGIEQ7mg6"
      },
      "source": [
        "### 1번. SOMETREND (부호추가完)"
      ]
    },
    {
      "cell_type": "code",
      "execution_count": 251,
      "metadata": {
        "colab": {
          "base_uri": "https://localhost:8080/"
        },
        "id": "hyCMYSOq7mg7",
        "outputId": "f1a745e9-ad42-4e6e-b2b1-ef7fec9ad5d1"
      },
      "outputs": [
        {
          "output_type": "execute_result",
          "data": {
            "text/plain": [
              "(406, 74)"
            ]
          },
          "metadata": {},
          "execution_count": 251
        }
      ],
      "source": [
        "sometrend.shape # 'Unnamed: 0', '기획_제작사명', '기획_제작사명_긍부정'"
      ]
    },
    {
      "cell_type": "code",
      "source": [
        "maker = sometrend[['기획제작사명','기획_제작사명','기획_제작사명_긍부정', '기획_제작사_ESG키워드', 'ESG키워드_유무']]"
      ],
      "metadata": {
        "id": "yYdM1oMoX_aK"
      },
      "execution_count": 252,
      "outputs": []
    },
    {
      "cell_type": "code",
      "execution_count": 253,
      "metadata": {
        "id": "FDohV0bvqb_9",
        "colab": {
          "base_uri": "https://localhost:8080/"
        },
        "outputId": "431f295f-7f10-4cfd-fa77-32a78a42b17e"
      },
      "outputs": [
        {
          "output_type": "stream",
          "name": "stderr",
          "text": [
            "/usr/local/lib/python3.7/dist-packages/ipykernel_launcher.py:1: SettingWithCopyWarning: \n",
            "A value is trying to be set on a copy of a slice from a DataFrame.\n",
            "Try using .loc[row_indexer,col_indexer] = value instead\n",
            "\n",
            "See the caveats in the documentation: https://pandas.pydata.org/pandas-docs/stable/user_guide/indexing.html#returning-a-view-versus-a-copy\n",
            "  \"\"\"Entry point for launching an IPython kernel.\n",
            "/usr/local/lib/python3.7/dist-packages/ipykernel_launcher.py:2: SettingWithCopyWarning: \n",
            "A value is trying to be set on a copy of a slice from a DataFrame.\n",
            "Try using .loc[row_indexer,col_indexer] = value instead\n",
            "\n",
            "See the caveats in the documentation: https://pandas.pydata.org/pandas-docs/stable/user_guide/indexing.html#returning-a-view-versus-a-copy\n",
            "  \n"
          ]
        }
      ],
      "source": [
        "maker['긍부정'] = maker['기획_제작사명_긍부정'].str.split(' ', expand=True)[0] # '긍부정', '비율' 컬럼 생성\n",
        "maker['비율'] = maker['기획_제작사명_긍부정'].str.split(' ', expand=True)[1]"
      ]
    },
    {
      "cell_type": "code",
      "execution_count": 254,
      "metadata": {
        "id": "mbdGPYgz3sAE",
        "colab": {
          "base_uri": "https://localhost:8080/"
        },
        "outputId": "21b7a46d-3be8-4faf-826f-274cc2e5929b"
      },
      "outputs": [
        {
          "output_type": "stream",
          "name": "stderr",
          "text": [
            "/usr/local/lib/python3.7/dist-packages/ipykernel_launcher.py:1: SettingWithCopyWarning: \n",
            "A value is trying to be set on a copy of a slice from a DataFrame.\n",
            "Try using .loc[row_indexer,col_indexer] = value instead\n",
            "\n",
            "See the caveats in the documentation: https://pandas.pydata.org/pandas-docs/stable/user_guide/indexing.html#returning-a-view-versus-a-copy\n",
            "  \"\"\"Entry point for launching an IPython kernel.\n"
          ]
        }
      ],
      "source": [
        "maker['비율'] = maker[\"비율\"].str[:2] # 부호 '%' 삭제"
      ]
    },
    {
      "cell_type": "code",
      "execution_count": 255,
      "metadata": {
        "id": "_PA6Fkli3xNL"
      },
      "outputs": [],
      "source": [
        "maker['비율'].fillna(0, inplace=True) # None값 0으로 대체"
      ]
    },
    {
      "cell_type": "code",
      "execution_count": 256,
      "metadata": {
        "id": "rzbFBFKQs-fZ",
        "colab": {
          "base_uri": "https://localhost:8080/"
        },
        "outputId": "53e38c94-11e4-4f4f-cb5a-04df2d42a343"
      },
      "outputs": [
        {
          "output_type": "stream",
          "name": "stderr",
          "text": [
            "/usr/local/lib/python3.7/dist-packages/ipykernel_launcher.py:1: SettingWithCopyWarning: \n",
            "A value is trying to be set on a copy of a slice from a DataFrame.\n",
            "Try using .loc[row_indexer,col_indexer] = value instead\n",
            "\n",
            "See the caveats in the documentation: https://pandas.pydata.org/pandas-docs/stable/user_guide/indexing.html#returning-a-view-versus-a-copy\n",
            "  \"\"\"Entry point for launching an IPython kernel.\n"
          ]
        }
      ],
      "source": [
        "maker['비율'] = pd.DataFrame(maker['비율'].astype('str').astype('int'))  # 비율 데이터타입 변환"
      ]
    },
    {
      "cell_type": "code",
      "execution_count": 257,
      "metadata": {
        "colab": {
          "base_uri": "https://localhost:8080/"
        },
        "id": "ZeeY_86YygZv",
        "outputId": "11e27d6a-9b6c-4cd3-d1ba-7ce8b8834041"
      },
      "outputs": [
        {
          "output_type": "execute_result",
          "data": {
            "text/plain": [
              "기획제작사명           object\n",
              "기획_제작사명          object\n",
              "기획_제작사명_긍부정      object\n",
              "기획_제작사_ESG키워드    object\n",
              "ESG키워드_유무         int64\n",
              "긍부정              object\n",
              "비율                int64\n",
              "dtype: object"
            ]
          },
          "metadata": {},
          "execution_count": 257
        }
      ],
      "source": [
        "maker.dtypes"
      ]
    },
    {
      "cell_type": "code",
      "execution_count": 258,
      "metadata": {
        "id": "ERSqXz2W00st",
        "colab": {
          "base_uri": "https://localhost:8080/"
        },
        "outputId": "0d159f5f-4332-460d-8cb7-9a5de89d606a"
      },
      "outputs": [
        {
          "output_type": "stream",
          "name": "stderr",
          "text": [
            "/usr/local/lib/python3.7/dist-packages/pandas/core/indexing.py:1773: SettingWithCopyWarning: \n",
            "A value is trying to be set on a copy of a slice from a DataFrame.\n",
            "Try using .loc[row_indexer,col_indexer] = value instead\n",
            "\n",
            "See the caveats in the documentation: https://pandas.pydata.org/pandas-docs/stable/user_guide/indexing.html#returning-a-view-versus-a-copy\n",
            "  self._setitem_single_column(ilocs[0], value, pi)\n"
          ]
        }
      ],
      "source": [
        "maker.loc[maker['긍부정'] == '부정','비율'] = maker['비율'] * (-1) # '부정'에 음수 부호 추가"
      ]
    },
    {
      "cell_type": "code",
      "execution_count": 259,
      "metadata": {
        "colab": {
          "base_uri": "https://localhost:8080/",
          "height": 208
        },
        "id": "SDTw_oVD8CmD",
        "outputId": "b7c5683d-e6a1-400a-f1b6-a3405133917a"
      },
      "outputs": [
        {
          "output_type": "execute_result",
          "data": {
            "text/plain": [
              "                        기획제작사명    기획_제작사명 기획_제작사명_긍부정  \\\n",
              "0  한국기독교총연합회(주최), CTS기독교TV(주관)  한국기독교총연합회      부정 56%   \n",
              "1         명음클래식(주최), 명음클래식(주관)      명음클래식          중립   \n",
              "\n",
              "                                       기획_제작사_ESG키워드  ESG키워드_유무 긍부정  비율  \n",
              "0  ['한국기독교', '한기총', '회장', '대표', '목사', '지도자', '변호사...          1  부정 -56  \n",
              "1                                                NaN          0  중립   0  "
            ],
            "text/html": [
              "\n",
              "  <div id=\"df-2faf4b35-dffd-4cb8-8c44-b5a08cc39185\">\n",
              "    <div class=\"colab-df-container\">\n",
              "      <div>\n",
              "<style scoped>\n",
              "    .dataframe tbody tr th:only-of-type {\n",
              "        vertical-align: middle;\n",
              "    }\n",
              "\n",
              "    .dataframe tbody tr th {\n",
              "        vertical-align: top;\n",
              "    }\n",
              "\n",
              "    .dataframe thead th {\n",
              "        text-align: right;\n",
              "    }\n",
              "</style>\n",
              "<table border=\"1\" class=\"dataframe\">\n",
              "  <thead>\n",
              "    <tr style=\"text-align: right;\">\n",
              "      <th></th>\n",
              "      <th>기획제작사명</th>\n",
              "      <th>기획_제작사명</th>\n",
              "      <th>기획_제작사명_긍부정</th>\n",
              "      <th>기획_제작사_ESG키워드</th>\n",
              "      <th>ESG키워드_유무</th>\n",
              "      <th>긍부정</th>\n",
              "      <th>비율</th>\n",
              "    </tr>\n",
              "  </thead>\n",
              "  <tbody>\n",
              "    <tr>\n",
              "      <th>0</th>\n",
              "      <td>한국기독교총연합회(주최), CTS기독교TV(주관)</td>\n",
              "      <td>한국기독교총연합회</td>\n",
              "      <td>부정 56%</td>\n",
              "      <td>['한국기독교', '한기총', '회장', '대표', '목사', '지도자', '변호사...</td>\n",
              "      <td>1</td>\n",
              "      <td>부정</td>\n",
              "      <td>-56</td>\n",
              "    </tr>\n",
              "    <tr>\n",
              "      <th>1</th>\n",
              "      <td>명음클래식(주최), 명음클래식(주관)</td>\n",
              "      <td>명음클래식</td>\n",
              "      <td>중립</td>\n",
              "      <td>NaN</td>\n",
              "      <td>0</td>\n",
              "      <td>중립</td>\n",
              "      <td>0</td>\n",
              "    </tr>\n",
              "  </tbody>\n",
              "</table>\n",
              "</div>\n",
              "      <button class=\"colab-df-convert\" onclick=\"convertToInteractive('df-2faf4b35-dffd-4cb8-8c44-b5a08cc39185')\"\n",
              "              title=\"Convert this dataframe to an interactive table.\"\n",
              "              style=\"display:none;\">\n",
              "        \n",
              "  <svg xmlns=\"http://www.w3.org/2000/svg\" height=\"24px\"viewBox=\"0 0 24 24\"\n",
              "       width=\"24px\">\n",
              "    <path d=\"M0 0h24v24H0V0z\" fill=\"none\"/>\n",
              "    <path d=\"M18.56 5.44l.94 2.06.94-2.06 2.06-.94-2.06-.94-.94-2.06-.94 2.06-2.06.94zm-11 1L8.5 8.5l.94-2.06 2.06-.94-2.06-.94L8.5 2.5l-.94 2.06-2.06.94zm10 10l.94 2.06.94-2.06 2.06-.94-2.06-.94-.94-2.06-.94 2.06-2.06.94z\"/><path d=\"M17.41 7.96l-1.37-1.37c-.4-.4-.92-.59-1.43-.59-.52 0-1.04.2-1.43.59L10.3 9.45l-7.72 7.72c-.78.78-.78 2.05 0 2.83L4 21.41c.39.39.9.59 1.41.59.51 0 1.02-.2 1.41-.59l7.78-7.78 2.81-2.81c.8-.78.8-2.07 0-2.86zM5.41 20L4 18.59l7.72-7.72 1.47 1.35L5.41 20z\"/>\n",
              "  </svg>\n",
              "      </button>\n",
              "      \n",
              "  <style>\n",
              "    .colab-df-container {\n",
              "      display:flex;\n",
              "      flex-wrap:wrap;\n",
              "      gap: 12px;\n",
              "    }\n",
              "\n",
              "    .colab-df-convert {\n",
              "      background-color: #E8F0FE;\n",
              "      border: none;\n",
              "      border-radius: 50%;\n",
              "      cursor: pointer;\n",
              "      display: none;\n",
              "      fill: #1967D2;\n",
              "      height: 32px;\n",
              "      padding: 0 0 0 0;\n",
              "      width: 32px;\n",
              "    }\n",
              "\n",
              "    .colab-df-convert:hover {\n",
              "      background-color: #E2EBFA;\n",
              "      box-shadow: 0px 1px 2px rgba(60, 64, 67, 0.3), 0px 1px 3px 1px rgba(60, 64, 67, 0.15);\n",
              "      fill: #174EA6;\n",
              "    }\n",
              "\n",
              "    [theme=dark] .colab-df-convert {\n",
              "      background-color: #3B4455;\n",
              "      fill: #D2E3FC;\n",
              "    }\n",
              "\n",
              "    [theme=dark] .colab-df-convert:hover {\n",
              "      background-color: #434B5C;\n",
              "      box-shadow: 0px 1px 3px 1px rgba(0, 0, 0, 0.15);\n",
              "      filter: drop-shadow(0px 1px 2px rgba(0, 0, 0, 0.3));\n",
              "      fill: #FFFFFF;\n",
              "    }\n",
              "  </style>\n",
              "\n",
              "      <script>\n",
              "        const buttonEl =\n",
              "          document.querySelector('#df-2faf4b35-dffd-4cb8-8c44-b5a08cc39185 button.colab-df-convert');\n",
              "        buttonEl.style.display =\n",
              "          google.colab.kernel.accessAllowed ? 'block' : 'none';\n",
              "\n",
              "        async function convertToInteractive(key) {\n",
              "          const element = document.querySelector('#df-2faf4b35-dffd-4cb8-8c44-b5a08cc39185');\n",
              "          const dataTable =\n",
              "            await google.colab.kernel.invokeFunction('convertToInteractive',\n",
              "                                                     [key], {});\n",
              "          if (!dataTable) return;\n",
              "\n",
              "          const docLinkHtml = 'Like what you see? Visit the ' +\n",
              "            '<a target=\"_blank\" href=https://colab.research.google.com/notebooks/data_table.ipynb>data table notebook</a>'\n",
              "            + ' to learn more about interactive tables.';\n",
              "          element.innerHTML = '';\n",
              "          dataTable['output_type'] = 'display_data';\n",
              "          await google.colab.output.renderOutput(dataTable, element);\n",
              "          const docLink = document.createElement('div');\n",
              "          docLink.innerHTML = docLinkHtml;\n",
              "          element.appendChild(docLink);\n",
              "        }\n",
              "      </script>\n",
              "    </div>\n",
              "  </div>\n",
              "  "
            ]
          },
          "metadata": {},
          "execution_count": 259
        }
      ],
      "source": [
        "maker.head(2)"
      ]
    },
    {
      "cell_type": "code",
      "execution_count": 260,
      "metadata": {
        "id": "OTac-ZZA7mhB",
        "colab": {
          "base_uri": "https://localhost:8080/",
          "height": 345
        },
        "outputId": "42bb0fc9-136a-4b61-acb3-df67573b1331"
      },
      "outputs": [
        {
          "output_type": "error",
          "ename": "ValueError",
          "evalue": "ignored",
          "traceback": [
            "\u001b[0;31m---------------------------------------------------------------------------\u001b[0m",
            "\u001b[0;31mValueError\u001b[0m                                Traceback (most recent call last)",
            "\u001b[0;32m<ipython-input-260-3af19b79ae83>\u001b[0m in \u001b[0;36m<module>\u001b[0;34m\u001b[0m\n\u001b[0;32m----> 1\u001b[0;31m \u001b[0mdata_strd\u001b[0m \u001b[0;34m=\u001b[0m \u001b[0mpd\u001b[0m\u001b[0;34m.\u001b[0m\u001b[0mmerge\u001b[0m\u001b[0;34m(\u001b[0m\u001b[0mdf\u001b[0m\u001b[0;34m,\u001b[0m \u001b[0mmaker\u001b[0m\u001b[0;34m,\u001b[0m \u001b[0mon\u001b[0m\u001b[0;34m=\u001b[0m\u001b[0;34m'기획제작사명'\u001b[0m\u001b[0;34m,\u001b[0m \u001b[0mhow\u001b[0m\u001b[0;34m=\u001b[0m\u001b[0;34m'left'\u001b[0m\u001b[0;34m,\u001b[0m \u001b[0mindicator\u001b[0m\u001b[0;34m=\u001b[0m\u001b[0;32mTrue\u001b[0m\u001b[0;34m)\u001b[0m \u001b[0;31m# data의 '기획제작사명'을 key값으로 left merge, indicator 추가\u001b[0m\u001b[0;34m\u001b[0m\u001b[0;34m\u001b[0m\u001b[0m\n\u001b[0m",
            "\u001b[0;32m/usr/local/lib/python3.7/dist-packages/pandas/core/reshape/merge.py\u001b[0m in \u001b[0;36mmerge\u001b[0;34m(left, right, how, on, left_on, right_on, left_index, right_index, sort, suffixes, copy, indicator, validate)\u001b[0m\n\u001b[1;32m    119\u001b[0m         \u001b[0mvalidate\u001b[0m\u001b[0;34m=\u001b[0m\u001b[0mvalidate\u001b[0m\u001b[0;34m,\u001b[0m\u001b[0;34m\u001b[0m\u001b[0;34m\u001b[0m\u001b[0m\n\u001b[1;32m    120\u001b[0m     )\n\u001b[0;32m--> 121\u001b[0;31m     \u001b[0;32mreturn\u001b[0m \u001b[0mop\u001b[0m\u001b[0;34m.\u001b[0m\u001b[0mget_result\u001b[0m\u001b[0;34m(\u001b[0m\u001b[0;34m)\u001b[0m\u001b[0;34m\u001b[0m\u001b[0;34m\u001b[0m\u001b[0m\n\u001b[0m\u001b[1;32m    122\u001b[0m \u001b[0;34m\u001b[0m\u001b[0m\n\u001b[1;32m    123\u001b[0m \u001b[0;34m\u001b[0m\u001b[0m\n",
            "\u001b[0;32m/usr/local/lib/python3.7/dist-packages/pandas/core/reshape/merge.py\u001b[0m in \u001b[0;36mget_result\u001b[0;34m(self)\u001b[0m\n\u001b[1;32m    711\u001b[0m     \u001b[0;32mdef\u001b[0m \u001b[0mget_result\u001b[0m\u001b[0;34m(\u001b[0m\u001b[0mself\u001b[0m\u001b[0;34m)\u001b[0m \u001b[0;34m->\u001b[0m \u001b[0mDataFrame\u001b[0m\u001b[0;34m:\u001b[0m\u001b[0;34m\u001b[0m\u001b[0;34m\u001b[0m\u001b[0m\n\u001b[1;32m    712\u001b[0m         \u001b[0;32mif\u001b[0m \u001b[0mself\u001b[0m\u001b[0;34m.\u001b[0m\u001b[0mindicator\u001b[0m\u001b[0;34m:\u001b[0m\u001b[0;34m\u001b[0m\u001b[0;34m\u001b[0m\u001b[0m\n\u001b[0;32m--> 713\u001b[0;31m             \u001b[0mself\u001b[0m\u001b[0;34m.\u001b[0m\u001b[0mleft\u001b[0m\u001b[0;34m,\u001b[0m \u001b[0mself\u001b[0m\u001b[0;34m.\u001b[0m\u001b[0mright\u001b[0m \u001b[0;34m=\u001b[0m \u001b[0mself\u001b[0m\u001b[0;34m.\u001b[0m\u001b[0m_indicator_pre_merge\u001b[0m\u001b[0;34m(\u001b[0m\u001b[0mself\u001b[0m\u001b[0;34m.\u001b[0m\u001b[0mleft\u001b[0m\u001b[0;34m,\u001b[0m \u001b[0mself\u001b[0m\u001b[0;34m.\u001b[0m\u001b[0mright\u001b[0m\u001b[0;34m)\u001b[0m\u001b[0;34m\u001b[0m\u001b[0;34m\u001b[0m\u001b[0m\n\u001b[0m\u001b[1;32m    714\u001b[0m \u001b[0;34m\u001b[0m\u001b[0m\n\u001b[1;32m    715\u001b[0m         \u001b[0mjoin_index\u001b[0m\u001b[0;34m,\u001b[0m \u001b[0mleft_indexer\u001b[0m\u001b[0;34m,\u001b[0m \u001b[0mright_indexer\u001b[0m \u001b[0;34m=\u001b[0m \u001b[0mself\u001b[0m\u001b[0;34m.\u001b[0m\u001b[0m_get_join_info\u001b[0m\u001b[0;34m(\u001b[0m\u001b[0;34m)\u001b[0m\u001b[0;34m\u001b[0m\u001b[0;34m\u001b[0m\u001b[0m\n",
            "\u001b[0;32m/usr/local/lib/python3.7/dist-packages/pandas/core/reshape/merge.py\u001b[0m in \u001b[0;36m_indicator_pre_merge\u001b[0;34m(self, left, right)\u001b[0m\n\u001b[1;32m    763\u001b[0m         \u001b[0;32mif\u001b[0m \u001b[0mself\u001b[0m\u001b[0;34m.\u001b[0m\u001b[0mindicator_name\u001b[0m \u001b[0;32min\u001b[0m \u001b[0mcolumns\u001b[0m\u001b[0;34m:\u001b[0m\u001b[0;34m\u001b[0m\u001b[0;34m\u001b[0m\u001b[0m\n\u001b[1;32m    764\u001b[0m             raise ValueError(\n\u001b[0;32m--> 765\u001b[0;31m                 \u001b[0;34m\"Cannot use name of an existing column for indicator column\"\u001b[0m\u001b[0;34m\u001b[0m\u001b[0;34m\u001b[0m\u001b[0m\n\u001b[0m\u001b[1;32m    766\u001b[0m             )\n\u001b[1;32m    767\u001b[0m \u001b[0;34m\u001b[0m\u001b[0m\n",
            "\u001b[0;31mValueError\u001b[0m: Cannot use name of an existing column for indicator column"
          ]
        }
      ],
      "source": [
        "data_strd = pd.merge(df, maker, on='기획제작사명', how='left', indicator=True) # data의 '기획제작사명'을 key값으로 left merge, indicator 추가"
      ]
    },
    {
      "cell_type": "code",
      "execution_count": null,
      "metadata": {
        "id": "AUL8QHgm7mhB"
      },
      "outputs": [],
      "source": [
        "data_strd['긍부정'].isnull().sum()"
      ]
    },
    {
      "cell_type": "code",
      "execution_count": null,
      "metadata": {
        "id": "Iucltlr87mhC"
      },
      "outputs": [],
      "source": [
        "df = data_strd.dropna(subset = ['긍부정'])"
      ]
    },
    {
      "cell_type": "code",
      "execution_count": 262,
      "metadata": {
        "colab": {
          "base_uri": "https://localhost:8080/"
        },
        "id": "vCXTAxFv7mhC",
        "outputId": "22e3e8ee-08d6-4d4f-c1df-ba371b26b6a4"
      },
      "outputs": [
        {
          "output_type": "execute_result",
          "data": {
            "text/plain": [
              "(223518, 86)"
            ]
          },
          "metadata": {},
          "execution_count": 262
        }
      ],
      "source": [
        "df.shape\n",
        "# df.columns"
      ]
    },
    {
      "cell_type": "markdown",
      "metadata": {
        "id": "PSzBt2lWgfKU"
      },
      "source": [
        "### 2번. 주말/공휴일/기념일 여부\n"
      ]
    },
    {
      "cell_type": "markdown",
      "source": [
        "EDA 및 모델링을 위해 연, 월, 일을 각각 분리해 파생 변수로 처리한다. 또한, 공연 관람 수요에 영향을 줄 수 있는 요일 정보를 추가로 생성한다.\n",
        "\n",
        "- 공연일시 = 결제한 공연의 일시로 ‘YYYY-MM-DD HH:MM:SS’ 로 표기\n",
        "- 예매일시 = 결제한 일시로 ‘YYYY-MM-DD HH:MM:SS’ 로 표기\n",
        "\n"
      ],
      "metadata": {
        "id": "T2oCOBuXcsE1"
      }
    },
    {
      "cell_type": "code",
      "source": [
        "'''1. 연, 월,요일 파생변수 생성'''\n",
        "\n",
        "def make_date(df):\n",
        "  df['공연일시'] = pd.to_datetime(df['공연일시'])\n",
        "  df['공연일시_연'] = df['공연일시'].apply(lambda x: x.year)\n",
        "  df['공연일시_월'] = df['공연일시'].apply(lambda x: x.month)\n",
        "  df['공연일시_요일'] = df['공연일시'].apply(lambda x: x.weekday())\n",
        "  return df\n",
        "\n",
        "# 월:0 ~ 일:6"
      ],
      "metadata": {
        "id": "NvOZf4VMa2nd"
      },
      "execution_count": null,
      "outputs": []
    },
    {
      "cell_type": "code",
      "source": [
        "'''2. 공연기간 (일 수) 파생변수 생성'''\n",
        "\n",
        "from datetime import datetime, timedelta\n",
        "\n",
        "def make_period(df):\n",
        "  a = pd.to_datetime(df['공연시작일자'])  \n",
        "  b = pd.to_datetime(df['공연종료일자'])\n",
        "\n",
        "  df['공연기간'] = b - a + timedelta(days=1)\n",
        "  df['공연기간'] = df['공연기간'].dt.days # timedelta를 int로 변경\n",
        "  # df['공연규모'] =  ( df['공연기간'] * df['좌석수'] ) # int * int\n",
        "  return df"
      ],
      "metadata": {
        "id": "Y1V6X-HoZZpn"
      },
      "execution_count": null,
      "outputs": []
    },
    {
      "cell_type": "code",
      "execution_count": null,
      "metadata": {
        "id": "gy0MGtQsg4uY"
      },
      "outputs": [],
      "source": [
        "'''3. 주말, 공휴일, 기념일 여부 (N:0, Y:1) 파생변수 생성'''\n",
        "\n",
        "# 공휴일 & 기념일이면 1, 아닌 날은 0으로 라벨링\n",
        "def make_holiday_anniversay(df):\n",
        "  tmp = []\n",
        "  # 주말\n",
        "  for i in range(len(df)):\n",
        "    if df['공연일시_요일'][i]==5 or df['공연일시_요일'][i]==6: # 주말이면\n",
        "        tmp.append(df['공연일시'][i])\n",
        "# 21년도, 22년도 기준 공휴일 & 기념일 & 대체휴일\n",
        "  공휴일 = ['2021-01-01','2021-02-11','2021-02-12', '2021-02-13','2021-02-14','2021-03-01','2021-03-14','2021-05-05','2021-05-08','2021-06-06', '2021-08-15','2021-08-16','2021-09-20','2021-09-21','2021-09-22','2021-10-03','2021-10-04','2021-10-09','2021-10-11','2021-12-24','2021-12-25',\n",
        "         '2022-01-01', '2022-01.31', '2022-02-01', '2022-02-02', '2022-03-01', '2022-05-05', '2022-05-08', '2022-06-06', '2022-08-15', '2022-09-09', '2022-09-10', '2022-09-11', '2022-09-12', '2022-10-03', '2022-10-09', '2022-10-10', '2022-12-25']\n",
        "\n",
        "  tmp.extend(공휴일)\n",
        " \n",
        "  tmp = list(set(tmp)) #중복제거\n",
        "  \n",
        "  holiday_anniversary = []\n",
        "  for i in range(len(df)):\n",
        "    if df['공연일시'][i] in tmp:\n",
        "      holiday_anniversary.append(1)\n",
        "    else:\n",
        "      holiday_anniversary.append(0)\n",
        "\n",
        "  df['공휴일_기념일_여부'] = holiday_anniversary\n",
        "  return df"
      ]
    },
    {
      "cell_type": "code",
      "source": [
        "df = make_date(df)\n",
        "df = make_period(df)\n",
        "df = make_holiday_anniversay(df)"
      ],
      "metadata": {
        "id": "MeixY3WXgKRB"
      },
      "execution_count": null,
      "outputs": []
    },
    {
      "cell_type": "code",
      "source": [
        "df.tail()"
      ],
      "metadata": {
        "colab": {
          "base_uri": "https://localhost:8080/",
          "height": 1000
        },
        "id": "J-GIoLIMgZ0O",
        "outputId": "2165bc92-42db-4352-da0c-dccc5c53fd0e"
      },
      "execution_count": null,
      "outputs": [
        {
          "output_type": "execute_result",
          "data": {
            "text/plain": [
              "         전송사업자코드 전송사업자명    공연시설코드 시설특성    개관연도                         주소  \\\n",
              "725016  FC000003   국립극장  FC222225   국립  1973.0  서울특별시 중구 장충단로 59 (장충동2가)    \n",
              "725017  FC000003   국립극장  FC222225   국립  1973.0  서울특별시 중구 장충단로 59 (장충동2가)    \n",
              "725018  FC000003   국립극장  FC222225   국립  1973.0  서울특별시 중구 장충단로 59 (장충동2가)    \n",
              "725019  FC000003   국립극장  FC222225   국립  1973.0  서울특별시 중구 장충단로 59 (장충동2가)    \n",
              "725020  FC000003   국립극장  FC222225   국립  1973.0  서울특별시 중구 장충단로 59 (장충동2가)    \n",
              "\n",
              "        편의시설_레스토랑 여부  편의시설_카페 여부  편의시설_편의점 여부  편의시설_놀이방 여부  ...  \\\n",
              "725016             0           0            1            0  ...   \n",
              "725017             0           0            1            0  ...   \n",
              "725018             0           0            1            0  ...   \n",
              "725019             0           0            1            0  ...   \n",
              "725020             0           0            1            0  ...   \n",
              "\n",
              "                     판매종료일시  \\\n",
              "725016  2022/06/25 17:00:00   \n",
              "725017  2022/06/25 17:00:00   \n",
              "725018  2022/06/25 17:00:00   \n",
              "725019  2022/06/25 17:00:00   \n",
              "725020  2022/06/25 17:00:00   \n",
              "\n",
              "                                                     좌석등급  단독판매여부  판매좌석수  \\\n",
              "725016  22,24,25일 공연(50000), 23일 공연(30000), 26일 공연(20000)       0    627   \n",
              "725017  22,24,25일 공연(50000), 23일 공연(30000), 26일 공연(20000)       0    627   \n",
              "725018  22,24,25일 공연(50000), 23일 공연(30000), 26일 공연(20000)       0    627   \n",
              "725019  22,24,25일 공연(50000), 23일 공연(30000), 26일 공연(20000)       0    627   \n",
              "725020  22,24,25일 공연(50000), 23일 공연(30000), 26일 공연(20000)       0    627   \n",
              "\n",
              "                                                 판매페이지URL  공연일시_연  공연일시_월  \\\n",
              "725016  https://www.ntok.go.kr/kr/Ticket/Performance/D...    2022       6   \n",
              "725017  https://www.ntok.go.kr/kr/Ticket/Performance/D...    2022       6   \n",
              "725018  https://www.ntok.go.kr/kr/Ticket/Performance/D...    2022       6   \n",
              "725019  https://www.ntok.go.kr/kr/Ticket/Performance/D...    2022       6   \n",
              "725020  https://www.ntok.go.kr/kr/Ticket/Performance/D...    2022       6   \n",
              "\n",
              "       공연일시_요일  공연기간 공휴일_기념일_여부  \n",
              "725016       6     5          1  \n",
              "725017       6     5          1  \n",
              "725018       6     5          1  \n",
              "725019       6     5          1  \n",
              "725020       6     5          1  \n",
              "\n",
              "[5 rows x 73 columns]"
            ],
            "text/html": [
              "\n",
              "  <div id=\"df-ef1e70d3-8242-489b-86af-0d0e8d5498fb\">\n",
              "    <div class=\"colab-df-container\">\n",
              "      <div>\n",
              "<style scoped>\n",
              "    .dataframe tbody tr th:only-of-type {\n",
              "        vertical-align: middle;\n",
              "    }\n",
              "\n",
              "    .dataframe tbody tr th {\n",
              "        vertical-align: top;\n",
              "    }\n",
              "\n",
              "    .dataframe thead th {\n",
              "        text-align: right;\n",
              "    }\n",
              "</style>\n",
              "<table border=\"1\" class=\"dataframe\">\n",
              "  <thead>\n",
              "    <tr style=\"text-align: right;\">\n",
              "      <th></th>\n",
              "      <th>전송사업자코드</th>\n",
              "      <th>전송사업자명</th>\n",
              "      <th>공연시설코드</th>\n",
              "      <th>시설특성</th>\n",
              "      <th>개관연도</th>\n",
              "      <th>주소</th>\n",
              "      <th>편의시설_레스토랑 여부</th>\n",
              "      <th>편의시설_카페 여부</th>\n",
              "      <th>편의시설_편의점 여부</th>\n",
              "      <th>편의시설_놀이방 여부</th>\n",
              "      <th>...</th>\n",
              "      <th>판매종료일시</th>\n",
              "      <th>좌석등급</th>\n",
              "      <th>단독판매여부</th>\n",
              "      <th>판매좌석수</th>\n",
              "      <th>판매페이지URL</th>\n",
              "      <th>공연일시_연</th>\n",
              "      <th>공연일시_월</th>\n",
              "      <th>공연일시_요일</th>\n",
              "      <th>공연기간</th>\n",
              "      <th>공휴일_기념일_여부</th>\n",
              "    </tr>\n",
              "  </thead>\n",
              "  <tbody>\n",
              "    <tr>\n",
              "      <th>725016</th>\n",
              "      <td>FC000003</td>\n",
              "      <td>국립극장</td>\n",
              "      <td>FC222225</td>\n",
              "      <td>국립</td>\n",
              "      <td>1973.0</td>\n",
              "      <td>서울특별시 중구 장충단로 59 (장충동2가)</td>\n",
              "      <td>0</td>\n",
              "      <td>0</td>\n",
              "      <td>1</td>\n",
              "      <td>0</td>\n",
              "      <td>...</td>\n",
              "      <td>2022/06/25 17:00:00</td>\n",
              "      <td>22,24,25일 공연(50000), 23일 공연(30000), 26일 공연(20000)</td>\n",
              "      <td>0</td>\n",
              "      <td>627</td>\n",
              "      <td>https://www.ntok.go.kr/kr/Ticket/Performance/D...</td>\n",
              "      <td>2022</td>\n",
              "      <td>6</td>\n",
              "      <td>6</td>\n",
              "      <td>5</td>\n",
              "      <td>1</td>\n",
              "    </tr>\n",
              "    <tr>\n",
              "      <th>725017</th>\n",
              "      <td>FC000003</td>\n",
              "      <td>국립극장</td>\n",
              "      <td>FC222225</td>\n",
              "      <td>국립</td>\n",
              "      <td>1973.0</td>\n",
              "      <td>서울특별시 중구 장충단로 59 (장충동2가)</td>\n",
              "      <td>0</td>\n",
              "      <td>0</td>\n",
              "      <td>1</td>\n",
              "      <td>0</td>\n",
              "      <td>...</td>\n",
              "      <td>2022/06/25 17:00:00</td>\n",
              "      <td>22,24,25일 공연(50000), 23일 공연(30000), 26일 공연(20000)</td>\n",
              "      <td>0</td>\n",
              "      <td>627</td>\n",
              "      <td>https://www.ntok.go.kr/kr/Ticket/Performance/D...</td>\n",
              "      <td>2022</td>\n",
              "      <td>6</td>\n",
              "      <td>6</td>\n",
              "      <td>5</td>\n",
              "      <td>1</td>\n",
              "    </tr>\n",
              "    <tr>\n",
              "      <th>725018</th>\n",
              "      <td>FC000003</td>\n",
              "      <td>국립극장</td>\n",
              "      <td>FC222225</td>\n",
              "      <td>국립</td>\n",
              "      <td>1973.0</td>\n",
              "      <td>서울특별시 중구 장충단로 59 (장충동2가)</td>\n",
              "      <td>0</td>\n",
              "      <td>0</td>\n",
              "      <td>1</td>\n",
              "      <td>0</td>\n",
              "      <td>...</td>\n",
              "      <td>2022/06/25 17:00:00</td>\n",
              "      <td>22,24,25일 공연(50000), 23일 공연(30000), 26일 공연(20000)</td>\n",
              "      <td>0</td>\n",
              "      <td>627</td>\n",
              "      <td>https://www.ntok.go.kr/kr/Ticket/Performance/D...</td>\n",
              "      <td>2022</td>\n",
              "      <td>6</td>\n",
              "      <td>6</td>\n",
              "      <td>5</td>\n",
              "      <td>1</td>\n",
              "    </tr>\n",
              "    <tr>\n",
              "      <th>725019</th>\n",
              "      <td>FC000003</td>\n",
              "      <td>국립극장</td>\n",
              "      <td>FC222225</td>\n",
              "      <td>국립</td>\n",
              "      <td>1973.0</td>\n",
              "      <td>서울특별시 중구 장충단로 59 (장충동2가)</td>\n",
              "      <td>0</td>\n",
              "      <td>0</td>\n",
              "      <td>1</td>\n",
              "      <td>0</td>\n",
              "      <td>...</td>\n",
              "      <td>2022/06/25 17:00:00</td>\n",
              "      <td>22,24,25일 공연(50000), 23일 공연(30000), 26일 공연(20000)</td>\n",
              "      <td>0</td>\n",
              "      <td>627</td>\n",
              "      <td>https://www.ntok.go.kr/kr/Ticket/Performance/D...</td>\n",
              "      <td>2022</td>\n",
              "      <td>6</td>\n",
              "      <td>6</td>\n",
              "      <td>5</td>\n",
              "      <td>1</td>\n",
              "    </tr>\n",
              "    <tr>\n",
              "      <th>725020</th>\n",
              "      <td>FC000003</td>\n",
              "      <td>국립극장</td>\n",
              "      <td>FC222225</td>\n",
              "      <td>국립</td>\n",
              "      <td>1973.0</td>\n",
              "      <td>서울특별시 중구 장충단로 59 (장충동2가)</td>\n",
              "      <td>0</td>\n",
              "      <td>0</td>\n",
              "      <td>1</td>\n",
              "      <td>0</td>\n",
              "      <td>...</td>\n",
              "      <td>2022/06/25 17:00:00</td>\n",
              "      <td>22,24,25일 공연(50000), 23일 공연(30000), 26일 공연(20000)</td>\n",
              "      <td>0</td>\n",
              "      <td>627</td>\n",
              "      <td>https://www.ntok.go.kr/kr/Ticket/Performance/D...</td>\n",
              "      <td>2022</td>\n",
              "      <td>6</td>\n",
              "      <td>6</td>\n",
              "      <td>5</td>\n",
              "      <td>1</td>\n",
              "    </tr>\n",
              "  </tbody>\n",
              "</table>\n",
              "<p>5 rows × 73 columns</p>\n",
              "</div>\n",
              "      <button class=\"colab-df-convert\" onclick=\"convertToInteractive('df-ef1e70d3-8242-489b-86af-0d0e8d5498fb')\"\n",
              "              title=\"Convert this dataframe to an interactive table.\"\n",
              "              style=\"display:none;\">\n",
              "        \n",
              "  <svg xmlns=\"http://www.w3.org/2000/svg\" height=\"24px\"viewBox=\"0 0 24 24\"\n",
              "       width=\"24px\">\n",
              "    <path d=\"M0 0h24v24H0V0z\" fill=\"none\"/>\n",
              "    <path d=\"M18.56 5.44l.94 2.06.94-2.06 2.06-.94-2.06-.94-.94-2.06-.94 2.06-2.06.94zm-11 1L8.5 8.5l.94-2.06 2.06-.94-2.06-.94L8.5 2.5l-.94 2.06-2.06.94zm10 10l.94 2.06.94-2.06 2.06-.94-2.06-.94-.94-2.06-.94 2.06-2.06.94z\"/><path d=\"M17.41 7.96l-1.37-1.37c-.4-.4-.92-.59-1.43-.59-.52 0-1.04.2-1.43.59L10.3 9.45l-7.72 7.72c-.78.78-.78 2.05 0 2.83L4 21.41c.39.39.9.59 1.41.59.51 0 1.02-.2 1.41-.59l7.78-7.78 2.81-2.81c.8-.78.8-2.07 0-2.86zM5.41 20L4 18.59l7.72-7.72 1.47 1.35L5.41 20z\"/>\n",
              "  </svg>\n",
              "      </button>\n",
              "      \n",
              "  <style>\n",
              "    .colab-df-container {\n",
              "      display:flex;\n",
              "      flex-wrap:wrap;\n",
              "      gap: 12px;\n",
              "    }\n",
              "\n",
              "    .colab-df-convert {\n",
              "      background-color: #E8F0FE;\n",
              "      border: none;\n",
              "      border-radius: 50%;\n",
              "      cursor: pointer;\n",
              "      display: none;\n",
              "      fill: #1967D2;\n",
              "      height: 32px;\n",
              "      padding: 0 0 0 0;\n",
              "      width: 32px;\n",
              "    }\n",
              "\n",
              "    .colab-df-convert:hover {\n",
              "      background-color: #E2EBFA;\n",
              "      box-shadow: 0px 1px 2px rgba(60, 64, 67, 0.3), 0px 1px 3px 1px rgba(60, 64, 67, 0.15);\n",
              "      fill: #174EA6;\n",
              "    }\n",
              "\n",
              "    [theme=dark] .colab-df-convert {\n",
              "      background-color: #3B4455;\n",
              "      fill: #D2E3FC;\n",
              "    }\n",
              "\n",
              "    [theme=dark] .colab-df-convert:hover {\n",
              "      background-color: #434B5C;\n",
              "      box-shadow: 0px 1px 3px 1px rgba(0, 0, 0, 0.15);\n",
              "      filter: drop-shadow(0px 1px 2px rgba(0, 0, 0, 0.3));\n",
              "      fill: #FFFFFF;\n",
              "    }\n",
              "  </style>\n",
              "\n",
              "      <script>\n",
              "        const buttonEl =\n",
              "          document.querySelector('#df-ef1e70d3-8242-489b-86af-0d0e8d5498fb button.colab-df-convert');\n",
              "        buttonEl.style.display =\n",
              "          google.colab.kernel.accessAllowed ? 'block' : 'none';\n",
              "\n",
              "        async function convertToInteractive(key) {\n",
              "          const element = document.querySelector('#df-ef1e70d3-8242-489b-86af-0d0e8d5498fb');\n",
              "          const dataTable =\n",
              "            await google.colab.kernel.invokeFunction('convertToInteractive',\n",
              "                                                     [key], {});\n",
              "          if (!dataTable) return;\n",
              "\n",
              "          const docLinkHtml = 'Like what you see? Visit the ' +\n",
              "            '<a target=\"_blank\" href=https://colab.research.google.com/notebooks/data_table.ipynb>data table notebook</a>'\n",
              "            + ' to learn more about interactive tables.';\n",
              "          element.innerHTML = '';\n",
              "          dataTable['output_type'] = 'display_data';\n",
              "          await google.colab.output.renderOutput(dataTable, element);\n",
              "          const docLink = document.createElement('div');\n",
              "          docLink.innerHTML = docLinkHtml;\n",
              "          element.appendChild(docLink);\n",
              "        }\n",
              "      </script>\n",
              "    </div>\n",
              "  </div>\n",
              "  "
            ]
          },
          "metadata": {},
          "execution_count": 29
        }
      ]
    },
    {
      "cell_type": "markdown",
      "source": [
        "### 3번. 연령 -> 나이대 파생 변수"
      ],
      "metadata": {
        "id": "qOid_nLC98dv"
      }
    },
    {
      "cell_type": "code",
      "execution_count": null,
      "metadata": {
        "id": "F3eTV-A2I_l2"
      },
      "outputs": [],
      "source": [
        "df['연령'] = 2022 - df['연령'] +1"
      ]
    },
    {
      "cell_type": "code",
      "execution_count": null,
      "metadata": {
        "id": "lfvPeGkIksZm"
      },
      "outputs": [],
      "source": [
        "def age_categorize(age):\n",
        "  age = (age//10)*10\n",
        "  return age"
      ]
    },
    {
      "cell_type": "code",
      "execution_count": null,
      "metadata": {
        "id": "kVHju7JWldUI"
      },
      "outputs": [],
      "source": [
        "age_category = df['연령'].apply(age_categorize)"
      ]
    },
    {
      "cell_type": "code",
      "execution_count": null,
      "metadata": {
        "id": "WgsojTnAqoTh"
      },
      "outputs": [],
      "source": [
        "age_category = age_category.astype('category')"
      ]
    },
    {
      "cell_type": "code",
      "execution_count": null,
      "metadata": {
        "id": "KENA2EgurU2B"
      },
      "outputs": [],
      "source": [
        "df.insert(6, '나이대', age_category)"
      ]
    },
    {
      "cell_type": "code",
      "execution_count": null,
      "metadata": {
        "colab": {
          "base_uri": "https://localhost:8080/"
        },
        "id": "IDRo52fUuF6t",
        "outputId": "9ec21388-b412-47da-8674-98ca2ed4674c"
      },
      "outputs": [
        {
          "output_type": "execute_result",
          "data": {
            "text/plain": [
              "2020    322557\n",
              "30      141818\n",
              "20      106049\n",
              "40       97630\n",
              "50       32966\n",
              "60       12656\n",
              "0         4261\n",
              "10        3248\n",
              "70        2663\n",
              "80         463\n",
              "110        271\n",
              "120        219\n",
              "90         186\n",
              "100         34\n",
              "Name: 나이대, dtype: int64"
            ]
          },
          "metadata": {},
          "execution_count": 35
        }
      ],
      "source": [
        "df['나이대'].value_counts()"
      ]
    },
    {
      "cell_type": "code",
      "execution_count": null,
      "metadata": {
        "colab": {
          "base_uri": "https://localhost:8080/"
        },
        "id": "0CCXFEuavib0",
        "outputId": "13019d41-05eb-4341-8e29-e3ff32d6f79c"
      },
      "outputs": [
        {
          "output_type": "execute_result",
          "data": {
            "text/plain": [
              "14"
            ]
          },
          "metadata": {},
          "execution_count": 36
        }
      ],
      "source": [
        "df['나이대'].nunique()"
      ]
    },
    {
      "cell_type": "code",
      "execution_count": null,
      "metadata": {
        "colab": {
          "base_uri": "https://localhost:8080/"
        },
        "id": "KunGxoQTKFnj",
        "outputId": "09c31103-cf65-4947-8ffa-d1119adf146e"
      },
      "outputs": [
        {
          "output_type": "execute_result",
          "data": {
            "text/plain": [
              "<bound method IndexOpsMixin.value_counts of 0         0\n",
              "1         0\n",
              "2         0\n",
              "3         0\n",
              "4         0\n",
              "         ..\n",
              "725016    0\n",
              "725017    0\n",
              "725018    0\n",
              "725019    0\n",
              "725020    0\n",
              "Name: 성별, Length: 725021, dtype: object>"
            ]
          },
          "metadata": {},
          "execution_count": 37
        }
      ],
      "source": [
        "df['성별'].value_counts"
      ]
    },
    {
      "cell_type": "code",
      "execution_count": null,
      "metadata": {
        "id": "Fjcx5hyXhjN0"
      },
      "outputs": [],
      "source": [
        "# 연령 라벨링\n",
        "df.replace({'나이대': { 2020 : 0, \n",
        "                            0 : 1, 10 : 1,\n",
        "                            20 : 2, 30 : 2, 40 : 2, \n",
        "                            50 : 3, 60 : 3, 70 : 3, \n",
        "                            80 : 4, 90 : 4, 100 : 4, 110 : 4, 120 : 4}},inplace=True)"
      ]
    },
    {
      "cell_type": "markdown",
      "source": [
        "### 4번. 공연지속률 = (공연종료일자 - 공연시작일자)/365"
      ],
      "metadata": {
        "id": "YcSu6WNVrWAP"
      }
    },
    {
      "cell_type": "code",
      "execution_count": 159,
      "metadata": {
        "id": "gDhGT-HBzLnm"
      },
      "outputs": [],
      "source": [
        "# 공연지속률 = 공연기간/365\n",
        "df = df.assign(공연지속률 = df_pre['공연기간']/365)"
      ]
    },
    {
      "cell_type": "markdown",
      "source": [
        "## 변수 선택(1차,df)"
      ],
      "metadata": {
        "id": "lpbyAe3D2i1r"
      }
    },
    {
      "cell_type": "code",
      "source": [
        "df.columns"
      ],
      "metadata": {
        "colab": {
          "base_uri": "https://localhost:8080/"
        },
        "id": "DtSANxNg9lL_",
        "outputId": "98edd2ad-9dce-4994-b708-4a10d8047070"
      },
      "execution_count": null,
      "outputs": [
        {
          "output_type": "execute_result",
          "data": {
            "text/plain": [
              "Index(['전송사업자코드', '전송사업자명', '공연시설코드', '개관연도', '주소', '편의시설_레스토랑 여부',\n",
              "       '편의시설_카페 여부', '편의시설_편의점 여부', '편의시설_놀이방 여부', '편의시설_수유실 여부',\n",
              "       '장애인시설_주차장 여부', '장애인시설_화장실 여부', '장애인시설_경사로 여부', '장애인시설_전용엘리베이터 여부',\n",
              "       '주차시설_자체 여부', '주차시설_공영 여부', '공연장코드', '좌석수', '장애인석', '무대시설_오케스트라피트 여부',\n",
              "       '무대시설_연습실 여부', '무대시설_분장실 여부', '무대시설_무대넓이', '공연코드', '공연회차', '공연일시',\n",
              "       '입장권고유번호', '예매/취소일시', '예매/취소구분', '예매/취소매수', '예매/취소금액', '예매/취소방식코드',\n",
              "       '예매/취소방식명(관리시스템)', '예매/취소방식명(전송처)', '결제수단코드', '결제수단명(관리시스템)',\n",
              "       '결제수단명(전송처)', '할인금액', '할인종류코드', '할인종류명(관리시스템)', '할인종류명(전송처)', '장당금액',\n",
              "       '성별', '연령', '공연시작일자', '공연종료일자', '소요시간', '세부장르명', '출연진내용', '제작진내용',\n",
              "       '기획제작사명', '원작자명', '극작가명', '수상실적', '관람연령', '아동공연 여부', '축제 여부', '내한공연 여부',\n",
              "       '오픈런 여부', '판매시작일시', '판매종료일시', '좌석등급', '단독판매여부', '판매좌석수', '판매페이지URL',\n",
              "       '장르명_국악', '장르명_무용', '장르명_뮤지컬', '장르명_복합', '장르명_연극', '장르명_오페라', '장르명_클래식',\n",
              "       '공연지역명_강원도', '공연지역명_경기도', '공연지역명_경상도', '공연지역명_서울', '공연지역명_전라도',\n",
              "       '공연지역명_제주도', '공연지역명_충청도', '공연일시_연', '공연일시_월', '공연일시_요일', '공연기간',\n",
              "       '공휴일_기념일_여부', '시설특성_공공(기타)', '시설특성_공공(문예회관)', '시설특성_국립',\n",
              "       '시설특성_기타(비공연장)', '시설특성_민간(대학로 외)', '시설특성_민간(대학로)', '기획_제작사명',\n",
              "       '기획_제작사명_긍부정', '긍부정', '비율', '_merge'],\n",
              "      dtype='object')"
            ]
          },
          "metadata": {},
          "execution_count": 181
        }
      ]
    },
    {
      "cell_type": "markdown",
      "source": [
        "**변수 선별 단계**  \n",
        "- 공연 HW, 공연 SW, 서비스의 3가지 소분류에 부합하는 변수\n",
        "  - *지역뮤지컬 공연 지불의사 분석 (2014, 이종수)*   \n",
        "- WTP에 해당하는 변수는 고객이 실제로 지불한 '예매금액'\n",
        "  - 결제/취소 시, 결제한 최종금액(할인 포함)  \n",
        "- 인구통계학 정보 분류에 해당하는 변수 '성별', '연령'\n",
        "- SOMETREND 관련 변수\n",
        "- 등등"
      ],
      "metadata": {
        "id": "N9PFClwRxflw"
      }
    },
    {
      "cell_type": "code",
      "source": [
        "# 사용할 데이터 칼럼 1차 선별 : df\n",
        "\n",
        "df = df[['공연장코드','공연코드', # \"단위\"\n",
        "         \n",
        "       '기획_제작사명', '기획_제작사명_긍부정', '긍부정', '비율', # 썸트렌드         \n",
        "         \n",
        "       '시설특성_공공(기타)', '시설특성_공공(문예회관)', '시설특성_국립', # HW_공공_3\n",
        "       '시설특성_기타(비공연장)', '시설특성_민간(대학로 외)', '시설특성_민간(대학로)', # HW_민간_2\n",
        "       '편의시설_레스토랑 여부','편의시설_카페 여부', '편의시설_편의점 여부', '편의시설_놀이방 여부', '편의시설_수유실 여부', # HW_편의시설_5\n",
        "       '장애인시설_주차장 여부', '장애인시설_화장실 여부', '장애인시설_경사로 여부', '장애인시설_전용엘리베이터 여부', # HW_장애인시설_4\n",
        "       '주차시설_자체 여부', '주차시설_공영 여부', # HW_주차시설_2\n",
        "\n",
        "       '장당금액', # WTP\n",
        "\n",
        "       '성별', # 인구통계정보\n",
        "       '연령', # 인구통계정보\n",
        "    \n",
        "       '장르명_국악', '장르명_무용', '장르명_뮤지컬', '장르명_복합', '장르명_연극', '장르명_오페라', '장르명_클래식', # SW_장르명_7\n",
        "       '공연지역명_강원도', '공연지역명_경기도', '공연지역명_경상도', '공연지역명_서울', '공연지역명_전라도', '공연지역명_제주도', '공연지역명_충청도', # SW_공연지역명_7\n",
        "       '무대시설_오케스트라피트 여부','무대시설_연습실 여부', '무대시설_분장실 여부', # SW_무대시설_3\n",
        "\n",
        "       '오픈런 여부', # 서비스\n",
        "\n",
        "       '아동공연 여부', '축제 여부', '내한공연 여부' # 기타 공연 특성\n",
        "       ]]  "
      ],
      "metadata": {
        "id": "0DpHDNHVXHzX"
      },
      "execution_count": null,
      "outputs": []
    },
    {
      "cell_type": "markdown",
      "source": [
        "**변수 관련 사항**  \n",
        "- 'SW_무대시설_무대넓이' 삭제"
      ],
      "metadata": {
        "id": "U-Dm1YhsKjCV"
      }
    },
    {
      "cell_type": "code",
      "source": [
        "df.shape"
      ],
      "metadata": {
        "colab": {
          "base_uri": "https://localhost:8080/"
        },
        "id": "aSlSdjgCEANp",
        "outputId": "f7631c04-144d-47cd-8fa5-e56af9197cd7"
      },
      "execution_count": null,
      "outputs": [
        {
          "output_type": "execute_result",
          "data": {
            "text/plain": [
              "(223518, 47)"
            ]
          },
          "metadata": {},
          "execution_count": 184
        }
      ]
    },
    {
      "cell_type": "markdown",
      "source": [
        "**‘오픈런’ 공연**은 공연이 끝나는 기간이 정해지지 않은 채 무기한으로 진행하는 공연 형식.  \n",
        "\n",
        "주로 전용극장을 가진 대학로 소극장 공연들에서 쉽게 볼 수 있는 형식(메카 브로드웨이)  \n",
        "\n",
        "예시: <오백에삼십>, <옥탑방고양이>, <라이어>, <김종욱찾기>  \n",
        "강점: 계속해서 완성도를 높이고 문제점을 보완할 수 있다\n",
        "\n",
        "<->  \n",
        "'리미티드런' 공연은 공연 기간이 명확하게 정해진 공연 형식  \n",
        "\n",
        "대극장 뮤지컬(세종문화회관, 예술의전당, 국립극장),  \n",
        "연극 공연들이나 짧은 기간동안 선보이는 극단 공연에서 볼 수 있는 형식\n",
        "\n",
        "출처 : 문화뉴스(https://www.mhns.co.kr)"
      ],
      "metadata": {
        "id": "Ie0RX_NotIrA"
      }
    },
    {
      "cell_type": "markdown",
      "source": [
        "## 데이터셋 가공"
      ],
      "metadata": {
        "id": "4tdSJR2-8i75"
      }
    },
    {
      "cell_type": "code",
      "source": [
        "df.isnull().sum()"
      ],
      "metadata": {
        "colab": {
          "base_uri": "https://localhost:8080/"
        },
        "id": "2C1TudLFHcbe",
        "outputId": "9091d07e-eec1-44a8-ae64-590ddb70f84b"
      },
      "execution_count": null,
      "outputs": [
        {
          "output_type": "execute_result",
          "data": {
            "text/plain": [
              "공연장코드               0\n",
              "공연코드                0\n",
              "기획_제작사명             0\n",
              "기획_제작사명_긍부정         0\n",
              "긍부정                 0\n",
              "비율                  0\n",
              "시설특성_공공(기타)         0\n",
              "시설특성_공공(문예회관)       0\n",
              "시설특성_국립             0\n",
              "시설특성_기타(비공연장)       0\n",
              "시설특성_민간(대학로 외)      0\n",
              "시설특성_민간(대학로)        0\n",
              "편의시설_레스토랑 여부        0\n",
              "편의시설_카페 여부          0\n",
              "편의시설_편의점 여부         0\n",
              "편의시설_놀이방 여부         0\n",
              "편의시설_수유실 여부         0\n",
              "장애인시설_주차장 여부        0\n",
              "장애인시설_화장실 여부        0\n",
              "장애인시설_경사로 여부        0\n",
              "장애인시설_전용엘리베이터 여부    0\n",
              "주차시설_자체 여부          0\n",
              "주차시설_공영 여부          0\n",
              "장당금액                0\n",
              "성별                  0\n",
              "연령                  0\n",
              "장르명_국악              0\n",
              "장르명_무용              0\n",
              "장르명_뮤지컬             0\n",
              "장르명_복합              0\n",
              "장르명_연극              0\n",
              "장르명_오페라             0\n",
              "장르명_클래식             0\n",
              "공연지역명_강원도           0\n",
              "공연지역명_경기도           0\n",
              "공연지역명_경상도           0\n",
              "공연지역명_서울            0\n",
              "공연지역명_전라도           0\n",
              "공연지역명_제주도           0\n",
              "공연지역명_충청도           0\n",
              "무대시설_오케스트라피트 여부     0\n",
              "무대시설_연습실 여부         0\n",
              "무대시설_분장실 여부         0\n",
              "오픈런 여부              0\n",
              "아동공연 여부             0\n",
              "축제 여부               0\n",
              "내한공연 여부             0\n",
              "dtype: int64"
            ]
          },
          "metadata": {},
          "execution_count": 172
        }
      ]
    },
    {
      "cell_type": "markdown",
      "metadata": {
        "id": "QtQp9P624Zzq"
      },
      "source": [
        "### 공연 거래 빈도 파생변수 & 공연코드 기준 중복데이터 제거 "
      ]
    },
    {
      "cell_type": "code",
      "execution_count": null,
      "metadata": {
        "colab": {
          "base_uri": "https://localhost:8080/",
          "height": 424
        },
        "id": "B46K1DMJ4lhM",
        "outputId": "dbf04cf9-9072-4e59-e65e-9b334cd28fd9"
      },
      "outputs": [
        {
          "output_type": "execute_result",
          "data": {
            "text/plain": [
              "        index   공연코드\n",
              "0    PF301651  31761\n",
              "1    PF315495  17722\n",
              "2    PF312778  12206\n",
              "3    PF301926  11424\n",
              "4    PF301248  10039\n",
              "..        ...    ...\n",
              "314  PF315048      1\n",
              "315  PF315340      1\n",
              "316  PF315752      1\n",
              "317  PF315590      1\n",
              "318  PF307524      1\n",
              "\n",
              "[319 rows x 2 columns]"
            ],
            "text/html": [
              "\n",
              "  <div id=\"df-b7b83ef3-021e-4e58-a702-39baa5e7559a\">\n",
              "    <div class=\"colab-df-container\">\n",
              "      <div>\n",
              "<style scoped>\n",
              "    .dataframe tbody tr th:only-of-type {\n",
              "        vertical-align: middle;\n",
              "    }\n",
              "\n",
              "    .dataframe tbody tr th {\n",
              "        vertical-align: top;\n",
              "    }\n",
              "\n",
              "    .dataframe thead th {\n",
              "        text-align: right;\n",
              "    }\n",
              "</style>\n",
              "<table border=\"1\" class=\"dataframe\">\n",
              "  <thead>\n",
              "    <tr style=\"text-align: right;\">\n",
              "      <th></th>\n",
              "      <th>index</th>\n",
              "      <th>공연코드</th>\n",
              "    </tr>\n",
              "  </thead>\n",
              "  <tbody>\n",
              "    <tr>\n",
              "      <th>0</th>\n",
              "      <td>PF301651</td>\n",
              "      <td>31761</td>\n",
              "    </tr>\n",
              "    <tr>\n",
              "      <th>1</th>\n",
              "      <td>PF315495</td>\n",
              "      <td>17722</td>\n",
              "    </tr>\n",
              "    <tr>\n",
              "      <th>2</th>\n",
              "      <td>PF312778</td>\n",
              "      <td>12206</td>\n",
              "    </tr>\n",
              "    <tr>\n",
              "      <th>3</th>\n",
              "      <td>PF301926</td>\n",
              "      <td>11424</td>\n",
              "    </tr>\n",
              "    <tr>\n",
              "      <th>4</th>\n",
              "      <td>PF301248</td>\n",
              "      <td>10039</td>\n",
              "    </tr>\n",
              "    <tr>\n",
              "      <th>...</th>\n",
              "      <td>...</td>\n",
              "      <td>...</td>\n",
              "    </tr>\n",
              "    <tr>\n",
              "      <th>314</th>\n",
              "      <td>PF315048</td>\n",
              "      <td>1</td>\n",
              "    </tr>\n",
              "    <tr>\n",
              "      <th>315</th>\n",
              "      <td>PF315340</td>\n",
              "      <td>1</td>\n",
              "    </tr>\n",
              "    <tr>\n",
              "      <th>316</th>\n",
              "      <td>PF315752</td>\n",
              "      <td>1</td>\n",
              "    </tr>\n",
              "    <tr>\n",
              "      <th>317</th>\n",
              "      <td>PF315590</td>\n",
              "      <td>1</td>\n",
              "    </tr>\n",
              "    <tr>\n",
              "      <th>318</th>\n",
              "      <td>PF307524</td>\n",
              "      <td>1</td>\n",
              "    </tr>\n",
              "  </tbody>\n",
              "</table>\n",
              "<p>319 rows × 2 columns</p>\n",
              "</div>\n",
              "      <button class=\"colab-df-convert\" onclick=\"convertToInteractive('df-b7b83ef3-021e-4e58-a702-39baa5e7559a')\"\n",
              "              title=\"Convert this dataframe to an interactive table.\"\n",
              "              style=\"display:none;\">\n",
              "        \n",
              "  <svg xmlns=\"http://www.w3.org/2000/svg\" height=\"24px\"viewBox=\"0 0 24 24\"\n",
              "       width=\"24px\">\n",
              "    <path d=\"M0 0h24v24H0V0z\" fill=\"none\"/>\n",
              "    <path d=\"M18.56 5.44l.94 2.06.94-2.06 2.06-.94-2.06-.94-.94-2.06-.94 2.06-2.06.94zm-11 1L8.5 8.5l.94-2.06 2.06-.94-2.06-.94L8.5 2.5l-.94 2.06-2.06.94zm10 10l.94 2.06.94-2.06 2.06-.94-2.06-.94-.94-2.06-.94 2.06-2.06.94z\"/><path d=\"M17.41 7.96l-1.37-1.37c-.4-.4-.92-.59-1.43-.59-.52 0-1.04.2-1.43.59L10.3 9.45l-7.72 7.72c-.78.78-.78 2.05 0 2.83L4 21.41c.39.39.9.59 1.41.59.51 0 1.02-.2 1.41-.59l7.78-7.78 2.81-2.81c.8-.78.8-2.07 0-2.86zM5.41 20L4 18.59l7.72-7.72 1.47 1.35L5.41 20z\"/>\n",
              "  </svg>\n",
              "      </button>\n",
              "      \n",
              "  <style>\n",
              "    .colab-df-container {\n",
              "      display:flex;\n",
              "      flex-wrap:wrap;\n",
              "      gap: 12px;\n",
              "    }\n",
              "\n",
              "    .colab-df-convert {\n",
              "      background-color: #E8F0FE;\n",
              "      border: none;\n",
              "      border-radius: 50%;\n",
              "      cursor: pointer;\n",
              "      display: none;\n",
              "      fill: #1967D2;\n",
              "      height: 32px;\n",
              "      padding: 0 0 0 0;\n",
              "      width: 32px;\n",
              "    }\n",
              "\n",
              "    .colab-df-convert:hover {\n",
              "      background-color: #E2EBFA;\n",
              "      box-shadow: 0px 1px 2px rgba(60, 64, 67, 0.3), 0px 1px 3px 1px rgba(60, 64, 67, 0.15);\n",
              "      fill: #174EA6;\n",
              "    }\n",
              "\n",
              "    [theme=dark] .colab-df-convert {\n",
              "      background-color: #3B4455;\n",
              "      fill: #D2E3FC;\n",
              "    }\n",
              "\n",
              "    [theme=dark] .colab-df-convert:hover {\n",
              "      background-color: #434B5C;\n",
              "      box-shadow: 0px 1px 3px 1px rgba(0, 0, 0, 0.15);\n",
              "      filter: drop-shadow(0px 1px 2px rgba(0, 0, 0, 0.3));\n",
              "      fill: #FFFFFF;\n",
              "    }\n",
              "  </style>\n",
              "\n",
              "      <script>\n",
              "        const buttonEl =\n",
              "          document.querySelector('#df-b7b83ef3-021e-4e58-a702-39baa5e7559a button.colab-df-convert');\n",
              "        buttonEl.style.display =\n",
              "          google.colab.kernel.accessAllowed ? 'block' : 'none';\n",
              "\n",
              "        async function convertToInteractive(key) {\n",
              "          const element = document.querySelector('#df-b7b83ef3-021e-4e58-a702-39baa5e7559a');\n",
              "          const dataTable =\n",
              "            await google.colab.kernel.invokeFunction('convertToInteractive',\n",
              "                                                     [key], {});\n",
              "          if (!dataTable) return;\n",
              "\n",
              "          const docLinkHtml = 'Like what you see? Visit the ' +\n",
              "            '<a target=\"_blank\" href=https://colab.research.google.com/notebooks/data_table.ipynb>data table notebook</a>'\n",
              "            + ' to learn more about interactive tables.';\n",
              "          element.innerHTML = '';\n",
              "          dataTable['output_type'] = 'display_data';\n",
              "          await google.colab.output.renderOutput(dataTable, element);\n",
              "          const docLink = document.createElement('div');\n",
              "          docLink.innerHTML = docLinkHtml;\n",
              "          element.appendChild(docLink);\n",
              "        }\n",
              "      </script>\n",
              "    </div>\n",
              "  </div>\n",
              "  "
            ]
          },
          "metadata": {},
          "execution_count": 134
        }
      ],
      "source": [
        "counts = df['공연코드'].value_counts().to_frame()\n",
        "counts.reset_index(inplace=True)\n",
        "counts\n",
        "# value_counts(normalize=True) 상대적 비율"
      ]
    },
    {
      "cell_type": "code",
      "execution_count": null,
      "metadata": {
        "id": "jZ8fKoXnFSVt"
      },
      "outputs": [],
      "source": [
        "counts.rename(columns={'공연코드':'공연거래빈도'}, inplace=True)"
      ]
    },
    {
      "cell_type": "code",
      "execution_count": null,
      "metadata": {
        "colab": {
          "base_uri": "https://localhost:8080/",
          "height": 424
        },
        "id": "NOMsON7cF5Ih",
        "outputId": "279782b8-c259-4a8f-adfe-3a901ab6478d"
      },
      "outputs": [
        {
          "output_type": "execute_result",
          "data": {
            "text/plain": [
              "         공연코드  공연거래빈도\n",
              "0    PF301651   31761\n",
              "1    PF315495   17722\n",
              "2    PF312778   12206\n",
              "3    PF301926   11424\n",
              "4    PF301248   10039\n",
              "..        ...     ...\n",
              "314  PF315048       1\n",
              "315  PF315340       1\n",
              "316  PF315752       1\n",
              "317  PF315590       1\n",
              "318  PF307524       1\n",
              "\n",
              "[319 rows x 2 columns]"
            ],
            "text/html": [
              "\n",
              "  <div id=\"df-1887a974-0265-424a-bb52-603abe7c0664\">\n",
              "    <div class=\"colab-df-container\">\n",
              "      <div>\n",
              "<style scoped>\n",
              "    .dataframe tbody tr th:only-of-type {\n",
              "        vertical-align: middle;\n",
              "    }\n",
              "\n",
              "    .dataframe tbody tr th {\n",
              "        vertical-align: top;\n",
              "    }\n",
              "\n",
              "    .dataframe thead th {\n",
              "        text-align: right;\n",
              "    }\n",
              "</style>\n",
              "<table border=\"1\" class=\"dataframe\">\n",
              "  <thead>\n",
              "    <tr style=\"text-align: right;\">\n",
              "      <th></th>\n",
              "      <th>공연코드</th>\n",
              "      <th>공연거래빈도</th>\n",
              "    </tr>\n",
              "  </thead>\n",
              "  <tbody>\n",
              "    <tr>\n",
              "      <th>0</th>\n",
              "      <td>PF301651</td>\n",
              "      <td>31761</td>\n",
              "    </tr>\n",
              "    <tr>\n",
              "      <th>1</th>\n",
              "      <td>PF315495</td>\n",
              "      <td>17722</td>\n",
              "    </tr>\n",
              "    <tr>\n",
              "      <th>2</th>\n",
              "      <td>PF312778</td>\n",
              "      <td>12206</td>\n",
              "    </tr>\n",
              "    <tr>\n",
              "      <th>3</th>\n",
              "      <td>PF301926</td>\n",
              "      <td>11424</td>\n",
              "    </tr>\n",
              "    <tr>\n",
              "      <th>4</th>\n",
              "      <td>PF301248</td>\n",
              "      <td>10039</td>\n",
              "    </tr>\n",
              "    <tr>\n",
              "      <th>...</th>\n",
              "      <td>...</td>\n",
              "      <td>...</td>\n",
              "    </tr>\n",
              "    <tr>\n",
              "      <th>314</th>\n",
              "      <td>PF315048</td>\n",
              "      <td>1</td>\n",
              "    </tr>\n",
              "    <tr>\n",
              "      <th>315</th>\n",
              "      <td>PF315340</td>\n",
              "      <td>1</td>\n",
              "    </tr>\n",
              "    <tr>\n",
              "      <th>316</th>\n",
              "      <td>PF315752</td>\n",
              "      <td>1</td>\n",
              "    </tr>\n",
              "    <tr>\n",
              "      <th>317</th>\n",
              "      <td>PF315590</td>\n",
              "      <td>1</td>\n",
              "    </tr>\n",
              "    <tr>\n",
              "      <th>318</th>\n",
              "      <td>PF307524</td>\n",
              "      <td>1</td>\n",
              "    </tr>\n",
              "  </tbody>\n",
              "</table>\n",
              "<p>319 rows × 2 columns</p>\n",
              "</div>\n",
              "      <button class=\"colab-df-convert\" onclick=\"convertToInteractive('df-1887a974-0265-424a-bb52-603abe7c0664')\"\n",
              "              title=\"Convert this dataframe to an interactive table.\"\n",
              "              style=\"display:none;\">\n",
              "        \n",
              "  <svg xmlns=\"http://www.w3.org/2000/svg\" height=\"24px\"viewBox=\"0 0 24 24\"\n",
              "       width=\"24px\">\n",
              "    <path d=\"M0 0h24v24H0V0z\" fill=\"none\"/>\n",
              "    <path d=\"M18.56 5.44l.94 2.06.94-2.06 2.06-.94-2.06-.94-.94-2.06-.94 2.06-2.06.94zm-11 1L8.5 8.5l.94-2.06 2.06-.94-2.06-.94L8.5 2.5l-.94 2.06-2.06.94zm10 10l.94 2.06.94-2.06 2.06-.94-2.06-.94-.94-2.06-.94 2.06-2.06.94z\"/><path d=\"M17.41 7.96l-1.37-1.37c-.4-.4-.92-.59-1.43-.59-.52 0-1.04.2-1.43.59L10.3 9.45l-7.72 7.72c-.78.78-.78 2.05 0 2.83L4 21.41c.39.39.9.59 1.41.59.51 0 1.02-.2 1.41-.59l7.78-7.78 2.81-2.81c.8-.78.8-2.07 0-2.86zM5.41 20L4 18.59l7.72-7.72 1.47 1.35L5.41 20z\"/>\n",
              "  </svg>\n",
              "      </button>\n",
              "      \n",
              "  <style>\n",
              "    .colab-df-container {\n",
              "      display:flex;\n",
              "      flex-wrap:wrap;\n",
              "      gap: 12px;\n",
              "    }\n",
              "\n",
              "    .colab-df-convert {\n",
              "      background-color: #E8F0FE;\n",
              "      border: none;\n",
              "      border-radius: 50%;\n",
              "      cursor: pointer;\n",
              "      display: none;\n",
              "      fill: #1967D2;\n",
              "      height: 32px;\n",
              "      padding: 0 0 0 0;\n",
              "      width: 32px;\n",
              "    }\n",
              "\n",
              "    .colab-df-convert:hover {\n",
              "      background-color: #E2EBFA;\n",
              "      box-shadow: 0px 1px 2px rgba(60, 64, 67, 0.3), 0px 1px 3px 1px rgba(60, 64, 67, 0.15);\n",
              "      fill: #174EA6;\n",
              "    }\n",
              "\n",
              "    [theme=dark] .colab-df-convert {\n",
              "      background-color: #3B4455;\n",
              "      fill: #D2E3FC;\n",
              "    }\n",
              "\n",
              "    [theme=dark] .colab-df-convert:hover {\n",
              "      background-color: #434B5C;\n",
              "      box-shadow: 0px 1px 3px 1px rgba(0, 0, 0, 0.15);\n",
              "      filter: drop-shadow(0px 1px 2px rgba(0, 0, 0, 0.3));\n",
              "      fill: #FFFFFF;\n",
              "    }\n",
              "  </style>\n",
              "\n",
              "      <script>\n",
              "        const buttonEl =\n",
              "          document.querySelector('#df-1887a974-0265-424a-bb52-603abe7c0664 button.colab-df-convert');\n",
              "        buttonEl.style.display =\n",
              "          google.colab.kernel.accessAllowed ? 'block' : 'none';\n",
              "\n",
              "        async function convertToInteractive(key) {\n",
              "          const element = document.querySelector('#df-1887a974-0265-424a-bb52-603abe7c0664');\n",
              "          const dataTable =\n",
              "            await google.colab.kernel.invokeFunction('convertToInteractive',\n",
              "                                                     [key], {});\n",
              "          if (!dataTable) return;\n",
              "\n",
              "          const docLinkHtml = 'Like what you see? Visit the ' +\n",
              "            '<a target=\"_blank\" href=https://colab.research.google.com/notebooks/data_table.ipynb>data table notebook</a>'\n",
              "            + ' to learn more about interactive tables.';\n",
              "          element.innerHTML = '';\n",
              "          dataTable['output_type'] = 'display_data';\n",
              "          await google.colab.output.renderOutput(dataTable, element);\n",
              "          const docLink = document.createElement('div');\n",
              "          docLink.innerHTML = docLinkHtml;\n",
              "          element.appendChild(docLink);\n",
              "        }\n",
              "      </script>\n",
              "    </div>\n",
              "  </div>\n",
              "  "
            ]
          },
          "metadata": {},
          "execution_count": 136
        }
      ],
      "source": [
        "counts.rename(columns={'index':'공연코드'}, inplace=True)\n",
        "counts"
      ]
    },
    {
      "cell_type": "code",
      "execution_count": null,
      "metadata": {
        "id": "TrbhA5be7hBq"
      },
      "outputs": [],
      "source": [
        "df2 = df"
      ]
    },
    {
      "cell_type": "code",
      "execution_count": null,
      "metadata": {
        "id": "gTVattu8-O8g",
        "colab": {
          "base_uri": "https://localhost:8080/",
          "height": 328
        },
        "outputId": "63d81be6-ebd3-49af-9ff8-12cc5622f473"
      },
      "outputs": [
        {
          "output_type": "execute_result",
          "data": {
            "text/plain": [
              "         공연장코드      공연코드    기획_제작사명 기획_제작사명_긍부정 긍부정   비율  시설특성_공공(기타)  \\\n",
              "0  FC223315-01  PF314870  한국기독교총연합회      부정 56%  부정  56%            0   \n",
              "\n",
              "   시설특성_공공(문예회관)  시설특성_국립  시설특성_기타(비공연장)  ...  공연지역명_제주도  공연지역명_충청도  \\\n",
              "0              1        0              0  ...          0          0   \n",
              "\n",
              "   무대시설_오케스트라피트 여부  무대시설_연습실 여부  무대시설_분장실 여부  무대시설_무대넓이  오픈런 여부  아동공연 여부  \\\n",
              "0                1            1            1        344       0        0   \n",
              "\n",
              "   축제 여부  내한공연 여부  \n",
              "0      0        0  \n",
              "\n",
              "[1 rows x 48 columns]"
            ],
            "text/html": [
              "\n",
              "  <div id=\"df-54e3ccc6-cdc8-4412-96d0-bd90d7d62992\">\n",
              "    <div class=\"colab-df-container\">\n",
              "      <div>\n",
              "<style scoped>\n",
              "    .dataframe tbody tr th:only-of-type {\n",
              "        vertical-align: middle;\n",
              "    }\n",
              "\n",
              "    .dataframe tbody tr th {\n",
              "        vertical-align: top;\n",
              "    }\n",
              "\n",
              "    .dataframe thead th {\n",
              "        text-align: right;\n",
              "    }\n",
              "</style>\n",
              "<table border=\"1\" class=\"dataframe\">\n",
              "  <thead>\n",
              "    <tr style=\"text-align: right;\">\n",
              "      <th></th>\n",
              "      <th>공연장코드</th>\n",
              "      <th>공연코드</th>\n",
              "      <th>기획_제작사명</th>\n",
              "      <th>기획_제작사명_긍부정</th>\n",
              "      <th>긍부정</th>\n",
              "      <th>비율</th>\n",
              "      <th>시설특성_공공(기타)</th>\n",
              "      <th>시설특성_공공(문예회관)</th>\n",
              "      <th>시설특성_국립</th>\n",
              "      <th>시설특성_기타(비공연장)</th>\n",
              "      <th>...</th>\n",
              "      <th>공연지역명_제주도</th>\n",
              "      <th>공연지역명_충청도</th>\n",
              "      <th>무대시설_오케스트라피트 여부</th>\n",
              "      <th>무대시설_연습실 여부</th>\n",
              "      <th>무대시설_분장실 여부</th>\n",
              "      <th>무대시설_무대넓이</th>\n",
              "      <th>오픈런 여부</th>\n",
              "      <th>아동공연 여부</th>\n",
              "      <th>축제 여부</th>\n",
              "      <th>내한공연 여부</th>\n",
              "    </tr>\n",
              "  </thead>\n",
              "  <tbody>\n",
              "    <tr>\n",
              "      <th>0</th>\n",
              "      <td>FC223315-01</td>\n",
              "      <td>PF314870</td>\n",
              "      <td>한국기독교총연합회</td>\n",
              "      <td>부정 56%</td>\n",
              "      <td>부정</td>\n",
              "      <td>56%</td>\n",
              "      <td>0</td>\n",
              "      <td>1</td>\n",
              "      <td>0</td>\n",
              "      <td>0</td>\n",
              "      <td>...</td>\n",
              "      <td>0</td>\n",
              "      <td>0</td>\n",
              "      <td>1</td>\n",
              "      <td>1</td>\n",
              "      <td>1</td>\n",
              "      <td>344</td>\n",
              "      <td>0</td>\n",
              "      <td>0</td>\n",
              "      <td>0</td>\n",
              "      <td>0</td>\n",
              "    </tr>\n",
              "  </tbody>\n",
              "</table>\n",
              "<p>1 rows × 48 columns</p>\n",
              "</div>\n",
              "      <button class=\"colab-df-convert\" onclick=\"convertToInteractive('df-54e3ccc6-cdc8-4412-96d0-bd90d7d62992')\"\n",
              "              title=\"Convert this dataframe to an interactive table.\"\n",
              "              style=\"display:none;\">\n",
              "        \n",
              "  <svg xmlns=\"http://www.w3.org/2000/svg\" height=\"24px\"viewBox=\"0 0 24 24\"\n",
              "       width=\"24px\">\n",
              "    <path d=\"M0 0h24v24H0V0z\" fill=\"none\"/>\n",
              "    <path d=\"M18.56 5.44l.94 2.06.94-2.06 2.06-.94-2.06-.94-.94-2.06-.94 2.06-2.06.94zm-11 1L8.5 8.5l.94-2.06 2.06-.94-2.06-.94L8.5 2.5l-.94 2.06-2.06.94zm10 10l.94 2.06.94-2.06 2.06-.94-2.06-.94-.94-2.06-.94 2.06-2.06.94z\"/><path d=\"M17.41 7.96l-1.37-1.37c-.4-.4-.92-.59-1.43-.59-.52 0-1.04.2-1.43.59L10.3 9.45l-7.72 7.72c-.78.78-.78 2.05 0 2.83L4 21.41c.39.39.9.59 1.41.59.51 0 1.02-.2 1.41-.59l7.78-7.78 2.81-2.81c.8-.78.8-2.07 0-2.86zM5.41 20L4 18.59l7.72-7.72 1.47 1.35L5.41 20z\"/>\n",
              "  </svg>\n",
              "      </button>\n",
              "      \n",
              "  <style>\n",
              "    .colab-df-container {\n",
              "      display:flex;\n",
              "      flex-wrap:wrap;\n",
              "      gap: 12px;\n",
              "    }\n",
              "\n",
              "    .colab-df-convert {\n",
              "      background-color: #E8F0FE;\n",
              "      border: none;\n",
              "      border-radius: 50%;\n",
              "      cursor: pointer;\n",
              "      display: none;\n",
              "      fill: #1967D2;\n",
              "      height: 32px;\n",
              "      padding: 0 0 0 0;\n",
              "      width: 32px;\n",
              "    }\n",
              "\n",
              "    .colab-df-convert:hover {\n",
              "      background-color: #E2EBFA;\n",
              "      box-shadow: 0px 1px 2px rgba(60, 64, 67, 0.3), 0px 1px 3px 1px rgba(60, 64, 67, 0.15);\n",
              "      fill: #174EA6;\n",
              "    }\n",
              "\n",
              "    [theme=dark] .colab-df-convert {\n",
              "      background-color: #3B4455;\n",
              "      fill: #D2E3FC;\n",
              "    }\n",
              "\n",
              "    [theme=dark] .colab-df-convert:hover {\n",
              "      background-color: #434B5C;\n",
              "      box-shadow: 0px 1px 3px 1px rgba(0, 0, 0, 0.15);\n",
              "      filter: drop-shadow(0px 1px 2px rgba(0, 0, 0, 0.3));\n",
              "      fill: #FFFFFF;\n",
              "    }\n",
              "  </style>\n",
              "\n",
              "      <script>\n",
              "        const buttonEl =\n",
              "          document.querySelector('#df-54e3ccc6-cdc8-4412-96d0-bd90d7d62992 button.colab-df-convert');\n",
              "        buttonEl.style.display =\n",
              "          google.colab.kernel.accessAllowed ? 'block' : 'none';\n",
              "\n",
              "        async function convertToInteractive(key) {\n",
              "          const element = document.querySelector('#df-54e3ccc6-cdc8-4412-96d0-bd90d7d62992');\n",
              "          const dataTable =\n",
              "            await google.colab.kernel.invokeFunction('convertToInteractive',\n",
              "                                                     [key], {});\n",
              "          if (!dataTable) return;\n",
              "\n",
              "          const docLinkHtml = 'Like what you see? Visit the ' +\n",
              "            '<a target=\"_blank\" href=https://colab.research.google.com/notebooks/data_table.ipynb>data table notebook</a>'\n",
              "            + ' to learn more about interactive tables.';\n",
              "          element.innerHTML = '';\n",
              "          dataTable['output_type'] = 'display_data';\n",
              "          await google.colab.output.renderOutput(dataTable, element);\n",
              "          const docLink = document.createElement('div');\n",
              "          docLink.innerHTML = docLinkHtml;\n",
              "          element.appendChild(docLink);\n",
              "        }\n",
              "      </script>\n",
              "    </div>\n",
              "  </div>\n",
              "  "
            ]
          },
          "metadata": {},
          "execution_count": 138
        }
      ],
      "source": [
        "df2.head(1)"
      ]
    },
    {
      "cell_type": "code",
      "execution_count": null,
      "metadata": {
        "id": "uG3Grn_z_MxO",
        "colab": {
          "base_uri": "https://localhost:8080/"
        },
        "outputId": "50ce951c-cc12-43dd-80cf-c4f57661847f"
      },
      "outputs": [
        {
          "output_type": "execute_result",
          "data": {
            "text/plain": [
              "Index(['공연장코드', '공연코드', '기획_제작사명', '기획_제작사명_긍부정', '긍부정', '비율', '시설특성_공공(기타)',\n",
              "       '시설특성_공공(문예회관)', '시설특성_국립', '시설특성_기타(비공연장)', '시설특성_민간(대학로 외)',\n",
              "       '시설특성_민간(대학로)', '편의시설_레스토랑 여부', '편의시설_카페 여부', '편의시설_편의점 여부',\n",
              "       '편의시설_놀이방 여부', '편의시설_수유실 여부', '장애인시설_주차장 여부', '장애인시설_화장실 여부',\n",
              "       '장애인시설_경사로 여부', '장애인시설_전용엘리베이터 여부', '주차시설_자체 여부', '주차시설_공영 여부', '장당금액',\n",
              "       '성별', '연령', '장르명_국악', '장르명_무용', '장르명_뮤지컬', '장르명_복합', '장르명_연극',\n",
              "       '장르명_오페라', '장르명_클래식', '공연지역명_강원도', '공연지역명_경기도', '공연지역명_경상도', '공연지역명_서울',\n",
              "       '공연지역명_전라도', '공연지역명_제주도', '공연지역명_충청도', '무대시설_오케스트라피트 여부', '무대시설_연습실 여부',\n",
              "       '무대시설_분장실 여부', '무대시설_무대넓이', '오픈런 여부', '아동공연 여부', '축제 여부', '내한공연 여부'],\n",
              "      dtype='object')"
            ]
          },
          "metadata": {},
          "execution_count": 139
        }
      ],
      "source": [
        "df2.columns"
      ]
    },
    {
      "cell_type": "code",
      "execution_count": null,
      "metadata": {
        "id": "1fH9nc_V9nlg"
      },
      "outputs": [],
      "source": [
        "df2_dupli = df2.drop_duplicates(subset='공연코드')"
      ]
    },
    {
      "cell_type": "code",
      "execution_count": null,
      "metadata": {
        "colab": {
          "base_uri": "https://localhost:8080/"
        },
        "id": "sR5xGtL1_q1w",
        "outputId": "460a68d6-b432-4b92-cae2-1d97b9ea70d9"
      },
      "outputs": [
        {
          "output_type": "stream",
          "name": "stdout",
          "text": [
            "227258 319 319\n"
          ]
        }
      ],
      "source": [
        "# 공연코드 기준 요약 전 개수/중복제거 후 개수/nunique 개수\n",
        "print(len(df), len(df2_dupli), len(counts))"
      ]
    },
    {
      "cell_type": "code",
      "execution_count": null,
      "metadata": {
        "id": "SESPRElNDOy2"
      },
      "outputs": [],
      "source": [
        "# 공연거래빈도 추가\n",
        "df_merge = pd.merge(df2_dupli, counts, how='left', on='공연코드')"
      ]
    },
    {
      "cell_type": "code",
      "execution_count": null,
      "metadata": {
        "colab": {
          "base_uri": "https://localhost:8080/",
          "height": 328
        },
        "id": "uYtDptrOGqng",
        "outputId": "5b90ad83-d688-4d97-efd6-73aee2ac5620"
      },
      "outputs": [
        {
          "output_type": "execute_result",
          "data": {
            "text/plain": [
              "         공연장코드      공연코드    기획_제작사명 기획_제작사명_긍부정 긍부정   비율  시설특성_공공(기타)  \\\n",
              "0  FC223315-01  PF314870  한국기독교총연합회      부정 56%  부정  56%            0   \n",
              "\n",
              "   시설특성_공공(문예회관)  시설특성_국립  시설특성_기타(비공연장)  ...  공연지역명_충청도  무대시설_오케스트라피트 여부  \\\n",
              "0              1        0              0  ...          0                1   \n",
              "\n",
              "   무대시설_연습실 여부  무대시설_분장실 여부  무대시설_무대넓이  오픈런 여부  아동공연 여부  축제 여부  내한공연 여부  \\\n",
              "0            1            1        344       0        0      0        0   \n",
              "\n",
              "   공연거래빈도  \n",
              "0    1096  \n",
              "\n",
              "[1 rows x 49 columns]"
            ],
            "text/html": [
              "\n",
              "  <div id=\"df-00317ed7-103f-4a89-8dd4-ef3ab33dae85\">\n",
              "    <div class=\"colab-df-container\">\n",
              "      <div>\n",
              "<style scoped>\n",
              "    .dataframe tbody tr th:only-of-type {\n",
              "        vertical-align: middle;\n",
              "    }\n",
              "\n",
              "    .dataframe tbody tr th {\n",
              "        vertical-align: top;\n",
              "    }\n",
              "\n",
              "    .dataframe thead th {\n",
              "        text-align: right;\n",
              "    }\n",
              "</style>\n",
              "<table border=\"1\" class=\"dataframe\">\n",
              "  <thead>\n",
              "    <tr style=\"text-align: right;\">\n",
              "      <th></th>\n",
              "      <th>공연장코드</th>\n",
              "      <th>공연코드</th>\n",
              "      <th>기획_제작사명</th>\n",
              "      <th>기획_제작사명_긍부정</th>\n",
              "      <th>긍부정</th>\n",
              "      <th>비율</th>\n",
              "      <th>시설특성_공공(기타)</th>\n",
              "      <th>시설특성_공공(문예회관)</th>\n",
              "      <th>시설특성_국립</th>\n",
              "      <th>시설특성_기타(비공연장)</th>\n",
              "      <th>...</th>\n",
              "      <th>공연지역명_충청도</th>\n",
              "      <th>무대시설_오케스트라피트 여부</th>\n",
              "      <th>무대시설_연습실 여부</th>\n",
              "      <th>무대시설_분장실 여부</th>\n",
              "      <th>무대시설_무대넓이</th>\n",
              "      <th>오픈런 여부</th>\n",
              "      <th>아동공연 여부</th>\n",
              "      <th>축제 여부</th>\n",
              "      <th>내한공연 여부</th>\n",
              "      <th>공연거래빈도</th>\n",
              "    </tr>\n",
              "  </thead>\n",
              "  <tbody>\n",
              "    <tr>\n",
              "      <th>0</th>\n",
              "      <td>FC223315-01</td>\n",
              "      <td>PF314870</td>\n",
              "      <td>한국기독교총연합회</td>\n",
              "      <td>부정 56%</td>\n",
              "      <td>부정</td>\n",
              "      <td>56%</td>\n",
              "      <td>0</td>\n",
              "      <td>1</td>\n",
              "      <td>0</td>\n",
              "      <td>0</td>\n",
              "      <td>...</td>\n",
              "      <td>0</td>\n",
              "      <td>1</td>\n",
              "      <td>1</td>\n",
              "      <td>1</td>\n",
              "      <td>344</td>\n",
              "      <td>0</td>\n",
              "      <td>0</td>\n",
              "      <td>0</td>\n",
              "      <td>0</td>\n",
              "      <td>1096</td>\n",
              "    </tr>\n",
              "  </tbody>\n",
              "</table>\n",
              "<p>1 rows × 49 columns</p>\n",
              "</div>\n",
              "      <button class=\"colab-df-convert\" onclick=\"convertToInteractive('df-00317ed7-103f-4a89-8dd4-ef3ab33dae85')\"\n",
              "              title=\"Convert this dataframe to an interactive table.\"\n",
              "              style=\"display:none;\">\n",
              "        \n",
              "  <svg xmlns=\"http://www.w3.org/2000/svg\" height=\"24px\"viewBox=\"0 0 24 24\"\n",
              "       width=\"24px\">\n",
              "    <path d=\"M0 0h24v24H0V0z\" fill=\"none\"/>\n",
              "    <path d=\"M18.56 5.44l.94 2.06.94-2.06 2.06-.94-2.06-.94-.94-2.06-.94 2.06-2.06.94zm-11 1L8.5 8.5l.94-2.06 2.06-.94-2.06-.94L8.5 2.5l-.94 2.06-2.06.94zm10 10l.94 2.06.94-2.06 2.06-.94-2.06-.94-.94-2.06-.94 2.06-2.06.94z\"/><path d=\"M17.41 7.96l-1.37-1.37c-.4-.4-.92-.59-1.43-.59-.52 0-1.04.2-1.43.59L10.3 9.45l-7.72 7.72c-.78.78-.78 2.05 0 2.83L4 21.41c.39.39.9.59 1.41.59.51 0 1.02-.2 1.41-.59l7.78-7.78 2.81-2.81c.8-.78.8-2.07 0-2.86zM5.41 20L4 18.59l7.72-7.72 1.47 1.35L5.41 20z\"/>\n",
              "  </svg>\n",
              "      </button>\n",
              "      \n",
              "  <style>\n",
              "    .colab-df-container {\n",
              "      display:flex;\n",
              "      flex-wrap:wrap;\n",
              "      gap: 12px;\n",
              "    }\n",
              "\n",
              "    .colab-df-convert {\n",
              "      background-color: #E8F0FE;\n",
              "      border: none;\n",
              "      border-radius: 50%;\n",
              "      cursor: pointer;\n",
              "      display: none;\n",
              "      fill: #1967D2;\n",
              "      height: 32px;\n",
              "      padding: 0 0 0 0;\n",
              "      width: 32px;\n",
              "    }\n",
              "\n",
              "    .colab-df-convert:hover {\n",
              "      background-color: #E2EBFA;\n",
              "      box-shadow: 0px 1px 2px rgba(60, 64, 67, 0.3), 0px 1px 3px 1px rgba(60, 64, 67, 0.15);\n",
              "      fill: #174EA6;\n",
              "    }\n",
              "\n",
              "    [theme=dark] .colab-df-convert {\n",
              "      background-color: #3B4455;\n",
              "      fill: #D2E3FC;\n",
              "    }\n",
              "\n",
              "    [theme=dark] .colab-df-convert:hover {\n",
              "      background-color: #434B5C;\n",
              "      box-shadow: 0px 1px 3px 1px rgba(0, 0, 0, 0.15);\n",
              "      filter: drop-shadow(0px 1px 2px rgba(0, 0, 0, 0.3));\n",
              "      fill: #FFFFFF;\n",
              "    }\n",
              "  </style>\n",
              "\n",
              "      <script>\n",
              "        const buttonEl =\n",
              "          document.querySelector('#df-00317ed7-103f-4a89-8dd4-ef3ab33dae85 button.colab-df-convert');\n",
              "        buttonEl.style.display =\n",
              "          google.colab.kernel.accessAllowed ? 'block' : 'none';\n",
              "\n",
              "        async function convertToInteractive(key) {\n",
              "          const element = document.querySelector('#df-00317ed7-103f-4a89-8dd4-ef3ab33dae85');\n",
              "          const dataTable =\n",
              "            await google.colab.kernel.invokeFunction('convertToInteractive',\n",
              "                                                     [key], {});\n",
              "          if (!dataTable) return;\n",
              "\n",
              "          const docLinkHtml = 'Like what you see? Visit the ' +\n",
              "            '<a target=\"_blank\" href=https://colab.research.google.com/notebooks/data_table.ipynb>data table notebook</a>'\n",
              "            + ' to learn more about interactive tables.';\n",
              "          element.innerHTML = '';\n",
              "          dataTable['output_type'] = 'display_data';\n",
              "          await google.colab.output.renderOutput(dataTable, element);\n",
              "          const docLink = document.createElement('div');\n",
              "          docLink.innerHTML = docLinkHtml;\n",
              "          element.appendChild(docLink);\n",
              "        }\n",
              "      </script>\n",
              "    </div>\n",
              "  </div>\n",
              "  "
            ]
          },
          "metadata": {},
          "execution_count": 143
        }
      ],
      "source": [
        "df_merge.head(1)"
      ]
    },
    {
      "cell_type": "code",
      "execution_count": null,
      "metadata": {
        "colab": {
          "base_uri": "https://localhost:8080/"
        },
        "id": "LcZeVOQHJcQc",
        "outputId": "48d0d50f-b653-4f98-c811-2f44729b02de"
      },
      "outputs": [
        {
          "output_type": "execute_result",
          "data": {
            "text/plain": [
              "FC222234-01    31761\n",
              "FC222397-02    17722\n",
              "FC222220-01    12206\n",
              "FC222233-01    11424\n",
              "FC222335-01    10039\n",
              "               ...  \n",
              "FC222322-01        2\n",
              "FC222952-02        1\n",
              "FC222996-01        1\n",
              "FC222337-01        1\n",
              "FC223626-01        1\n",
              "Name: 공연장코드, Length: 234, dtype: int64"
            ]
          },
          "metadata": {},
          "execution_count": 147
        }
      ],
      "source": [
        "df['공연장코드'].value_counts()"
      ]
    },
    {
      "cell_type": "code",
      "source": [
        "df.nunique(axis=0)"
      ],
      "metadata": {
        "colab": {
          "base_uri": "https://localhost:8080/"
        },
        "id": "JCamvi81Rq8i",
        "outputId": "993b9ef9-dfe0-43ed-f91d-2261dc23a6e2"
      },
      "execution_count": null,
      "outputs": [
        {
          "output_type": "execute_result",
          "data": {
            "text/plain": [
              "공연장코드               223\n",
              "공연코드                303\n",
              "기획_제작사명             274\n",
              "기획_제작사명_긍부정          49\n",
              "긍부정                   3\n",
              "비율                   42\n",
              "시설특성_공공(기타)           2\n",
              "시설특성_공공(문예회관)         2\n",
              "시설특성_국립               2\n",
              "시설특성_기타(비공연장)         2\n",
              "시설특성_민간(대학로 외)        2\n",
              "시설특성_민간(대학로)          2\n",
              "편의시설_레스토랑 여부          2\n",
              "편의시설_카페 여부            2\n",
              "편의시설_편의점 여부           2\n",
              "편의시설_놀이방 여부           2\n",
              "편의시설_수유실 여부           2\n",
              "장애인시설_주차장 여부          2\n",
              "장애인시설_화장실 여부          2\n",
              "장애인시설_경사로 여부          2\n",
              "장애인시설_전용엘리베이터 여부      2\n",
              "주차시설_자체 여부            2\n",
              "주차시설_공영 여부            2\n",
              "장당금액                178\n",
              "성별                    3\n",
              "연령                   95\n",
              "장르명_국악                2\n",
              "장르명_무용                2\n",
              "장르명_뮤지컬               2\n",
              "장르명_복합                2\n",
              "장르명_연극                2\n",
              "장르명_오페라               2\n",
              "장르명_클래식               2\n",
              "공연지역명_강원도             2\n",
              "공연지역명_경기도             2\n",
              "공연지역명_경상도             2\n",
              "공연지역명_서울              2\n",
              "공연지역명_전라도             2\n",
              "공연지역명_제주도             2\n",
              "공연지역명_충청도             2\n",
              "무대시설_오케스트라피트 여부       2\n",
              "무대시설_연습실 여부           2\n",
              "무대시설_분장실 여부           2\n",
              "오픈런 여부                2\n",
              "아동공연 여부               2\n",
              "축제 여부                 2\n",
              "내한공연 여부               2\n",
              "dtype: int64"
            ]
          },
          "metadata": {},
          "execution_count": 192
        }
      ]
    },
    {
      "cell_type": "markdown",
      "source": [
        "## final_df"
      ],
      "metadata": {
        "id": "7cG6qXiH_3UM"
      }
    },
    {
      "cell_type": "code",
      "source": [
        "df.head(1)"
      ],
      "metadata": {
        "id": "1wPH8XJCGcP0",
        "colab": {
          "base_uri": "https://localhost:8080/",
          "height": 631
        },
        "outputId": "6456c42e-4780-4a0c-98e9-7555ef9db03d"
      },
      "execution_count": null,
      "outputs": [
        {
          "output_type": "execute_result",
          "data": {
            "text/plain": [
              "    전송사업자코드 전송사업자명    공연시설코드      시설특성    개관연도                         주소  \\\n",
              "0  SE000102   티켓링크  FC223315  공공(문예회관)  1975.0  대구광역시 중구 태평로 141 (태평로2가)    \n",
              "\n",
              "   나이대  편의시설_레스토랑 여부  편의시설_카페 여부  편의시설_편의점 여부  편의시설_놀이방 여부  편의시설_수유실 여부  \\\n",
              "0    0             0           1            0            0            1   \n",
              "\n",
              "   장애인시설_주차장 여부  장애인시설_화장실 여부  장애인시설_경사로 여부  장애인시설_전용엘리베이터 여부  주차시설_자체 여부  \\\n",
              "0             1             1             1                 1           1   \n",
              "\n",
              "   주차시설_공영 여부        공연장코드   좌석수 장애인석  무대시설_오케스트라피트 여부  무대시설_연습실 여부  \\\n",
              "0           0  FC223315-01  1284   14                1            1   \n",
              "\n",
              "   무대시설_분장실 여부 무대시설_무대넓이      공연코드  공연회차                공연일시       입장권고유번호  \\\n",
              "0            1       344  PF314870     1 2022-06-21 19:30:00  1431527281_1   \n",
              "\n",
              "            예매/취소일시  예매/취소구분  예매/취소매수  예매/취소금액  예매/취소방식코드 예매/취소방식명(관리시스템)  \\\n",
              "0  2022-06-10 13:40        1        1        0         99              기타   \n",
              "\n",
              "  예매/취소방식명(전송처)  결제수단코드 결제수단명(관리시스템) 결제수단명(전송처)  할인금액  할인종류코드 할인종류명(관리시스템)  \\\n",
              "0        기획사/구단       1           현금         현금     0      99           기타   \n",
              "\n",
              "  할인종류명(전송처)  장당금액 성별    연령      공연시작일자      공연종료일자     소요시간  장르명 세부장르명 공연지역명  \\\n",
              "0        NaN     0  0  2023  2022-06-21  2022-06-21  1시간 30분  클래식    기악   경상도   \n",
              "\n",
              "                  출연진내용 제작진내용                       기획제작사명 원작자명 극작가명 수상실적  \\\n",
              "0  이광호, 이정아, 백민아, 오수진 등   NaN  한국기독교총연합회(주최), CTS기독교TV(주관)  NaN  NaN  NaN   \n",
              "\n",
              "      관람연령  아동공연 여부  축제 여부  내한공연 여부  오픈런 여부               판매시작일시  \\\n",
              "0  만 7세 이상        0      0        0       0  2022/06/09 00:00:00   \n",
              "\n",
              "                판매종료일시     좌석등급  단독판매여부 판매좌석수  \\\n",
              "0  2022/06/20 17:00:00  전석무료(0)       0    1석   \n",
              "\n",
              "                                    판매페이지URL  공연일시_연  공연일시_월  공연일시_요일  공연기간  \\\n",
              "0  http://www.ticketlink.co.kr/product/38972    2022       6        1     1   \n",
              "\n",
              "   공휴일_기념일_여부  편의시설_식음료  편의시설_아동  장애인시설  SW_무대시설  \n",
              "0           0         1        1      4        3  "
            ],
            "text/html": [
              "\n",
              "  <div id=\"df-c137b1db-c9f6-4099-b958-204082927a10\">\n",
              "    <div class=\"colab-df-container\">\n",
              "      <div>\n",
              "<style scoped>\n",
              "    .dataframe tbody tr th:only-of-type {\n",
              "        vertical-align: middle;\n",
              "    }\n",
              "\n",
              "    .dataframe tbody tr th {\n",
              "        vertical-align: top;\n",
              "    }\n",
              "\n",
              "    .dataframe thead th {\n",
              "        text-align: right;\n",
              "    }\n",
              "</style>\n",
              "<table border=\"1\" class=\"dataframe\">\n",
              "  <thead>\n",
              "    <tr style=\"text-align: right;\">\n",
              "      <th></th>\n",
              "      <th>전송사업자코드</th>\n",
              "      <th>전송사업자명</th>\n",
              "      <th>공연시설코드</th>\n",
              "      <th>시설특성</th>\n",
              "      <th>개관연도</th>\n",
              "      <th>주소</th>\n",
              "      <th>나이대</th>\n",
              "      <th>편의시설_레스토랑 여부</th>\n",
              "      <th>편의시설_카페 여부</th>\n",
              "      <th>편의시설_편의점 여부</th>\n",
              "      <th>편의시설_놀이방 여부</th>\n",
              "      <th>편의시설_수유실 여부</th>\n",
              "      <th>장애인시설_주차장 여부</th>\n",
              "      <th>장애인시설_화장실 여부</th>\n",
              "      <th>장애인시설_경사로 여부</th>\n",
              "      <th>장애인시설_전용엘리베이터 여부</th>\n",
              "      <th>주차시설_자체 여부</th>\n",
              "      <th>주차시설_공영 여부</th>\n",
              "      <th>공연장코드</th>\n",
              "      <th>좌석수</th>\n",
              "      <th>장애인석</th>\n",
              "      <th>무대시설_오케스트라피트 여부</th>\n",
              "      <th>무대시설_연습실 여부</th>\n",
              "      <th>무대시설_분장실 여부</th>\n",
              "      <th>무대시설_무대넓이</th>\n",
              "      <th>공연코드</th>\n",
              "      <th>공연회차</th>\n",
              "      <th>공연일시</th>\n",
              "      <th>입장권고유번호</th>\n",
              "      <th>예매/취소일시</th>\n",
              "      <th>예매/취소구분</th>\n",
              "      <th>예매/취소매수</th>\n",
              "      <th>예매/취소금액</th>\n",
              "      <th>예매/취소방식코드</th>\n",
              "      <th>예매/취소방식명(관리시스템)</th>\n",
              "      <th>예매/취소방식명(전송처)</th>\n",
              "      <th>결제수단코드</th>\n",
              "      <th>결제수단명(관리시스템)</th>\n",
              "      <th>결제수단명(전송처)</th>\n",
              "      <th>할인금액</th>\n",
              "      <th>할인종류코드</th>\n",
              "      <th>할인종류명(관리시스템)</th>\n",
              "      <th>할인종류명(전송처)</th>\n",
              "      <th>장당금액</th>\n",
              "      <th>성별</th>\n",
              "      <th>연령</th>\n",
              "      <th>공연시작일자</th>\n",
              "      <th>공연종료일자</th>\n",
              "      <th>소요시간</th>\n",
              "      <th>장르명</th>\n",
              "      <th>세부장르명</th>\n",
              "      <th>공연지역명</th>\n",
              "      <th>출연진내용</th>\n",
              "      <th>제작진내용</th>\n",
              "      <th>기획제작사명</th>\n",
              "      <th>원작자명</th>\n",
              "      <th>극작가명</th>\n",
              "      <th>수상실적</th>\n",
              "      <th>관람연령</th>\n",
              "      <th>아동공연 여부</th>\n",
              "      <th>축제 여부</th>\n",
              "      <th>내한공연 여부</th>\n",
              "      <th>오픈런 여부</th>\n",
              "      <th>판매시작일시</th>\n",
              "      <th>판매종료일시</th>\n",
              "      <th>좌석등급</th>\n",
              "      <th>단독판매여부</th>\n",
              "      <th>판매좌석수</th>\n",
              "      <th>판매페이지URL</th>\n",
              "      <th>공연일시_연</th>\n",
              "      <th>공연일시_월</th>\n",
              "      <th>공연일시_요일</th>\n",
              "      <th>공연기간</th>\n",
              "      <th>공휴일_기념일_여부</th>\n",
              "      <th>편의시설_식음료</th>\n",
              "      <th>편의시설_아동</th>\n",
              "      <th>장애인시설</th>\n",
              "      <th>SW_무대시설</th>\n",
              "    </tr>\n",
              "  </thead>\n",
              "  <tbody>\n",
              "    <tr>\n",
              "      <th>0</th>\n",
              "      <td>SE000102</td>\n",
              "      <td>티켓링크</td>\n",
              "      <td>FC223315</td>\n",
              "      <td>공공(문예회관)</td>\n",
              "      <td>1975.0</td>\n",
              "      <td>대구광역시 중구 태평로 141 (태평로2가)</td>\n",
              "      <td>0</td>\n",
              "      <td>0</td>\n",
              "      <td>1</td>\n",
              "      <td>0</td>\n",
              "      <td>0</td>\n",
              "      <td>1</td>\n",
              "      <td>1</td>\n",
              "      <td>1</td>\n",
              "      <td>1</td>\n",
              "      <td>1</td>\n",
              "      <td>1</td>\n",
              "      <td>0</td>\n",
              "      <td>FC223315-01</td>\n",
              "      <td>1284</td>\n",
              "      <td>14</td>\n",
              "      <td>1</td>\n",
              "      <td>1</td>\n",
              "      <td>1</td>\n",
              "      <td>344</td>\n",
              "      <td>PF314870</td>\n",
              "      <td>1</td>\n",
              "      <td>2022-06-21 19:30:00</td>\n",
              "      <td>1431527281_1</td>\n",
              "      <td>2022-06-10 13:40</td>\n",
              "      <td>1</td>\n",
              "      <td>1</td>\n",
              "      <td>0</td>\n",
              "      <td>99</td>\n",
              "      <td>기타</td>\n",
              "      <td>기획사/구단</td>\n",
              "      <td>1</td>\n",
              "      <td>현금</td>\n",
              "      <td>현금</td>\n",
              "      <td>0</td>\n",
              "      <td>99</td>\n",
              "      <td>기타</td>\n",
              "      <td>NaN</td>\n",
              "      <td>0</td>\n",
              "      <td>0</td>\n",
              "      <td>2023</td>\n",
              "      <td>2022-06-21</td>\n",
              "      <td>2022-06-21</td>\n",
              "      <td>1시간 30분</td>\n",
              "      <td>클래식</td>\n",
              "      <td>기악</td>\n",
              "      <td>경상도</td>\n",
              "      <td>이광호, 이정아, 백민아, 오수진 등</td>\n",
              "      <td>NaN</td>\n",
              "      <td>한국기독교총연합회(주최), CTS기독교TV(주관)</td>\n",
              "      <td>NaN</td>\n",
              "      <td>NaN</td>\n",
              "      <td>NaN</td>\n",
              "      <td>만 7세 이상</td>\n",
              "      <td>0</td>\n",
              "      <td>0</td>\n",
              "      <td>0</td>\n",
              "      <td>0</td>\n",
              "      <td>2022/06/09 00:00:00</td>\n",
              "      <td>2022/06/20 17:00:00</td>\n",
              "      <td>전석무료(0)</td>\n",
              "      <td>0</td>\n",
              "      <td>1석</td>\n",
              "      <td>http://www.ticketlink.co.kr/product/38972</td>\n",
              "      <td>2022</td>\n",
              "      <td>6</td>\n",
              "      <td>1</td>\n",
              "      <td>1</td>\n",
              "      <td>0</td>\n",
              "      <td>1</td>\n",
              "      <td>1</td>\n",
              "      <td>4</td>\n",
              "      <td>3</td>\n",
              "    </tr>\n",
              "  </tbody>\n",
              "</table>\n",
              "</div>\n",
              "      <button class=\"colab-df-convert\" onclick=\"convertToInteractive('df-c137b1db-c9f6-4099-b958-204082927a10')\"\n",
              "              title=\"Convert this dataframe to an interactive table.\"\n",
              "              style=\"display:none;\">\n",
              "        \n",
              "  <svg xmlns=\"http://www.w3.org/2000/svg\" height=\"24px\"viewBox=\"0 0 24 24\"\n",
              "       width=\"24px\">\n",
              "    <path d=\"M0 0h24v24H0V0z\" fill=\"none\"/>\n",
              "    <path d=\"M18.56 5.44l.94 2.06.94-2.06 2.06-.94-2.06-.94-.94-2.06-.94 2.06-2.06.94zm-11 1L8.5 8.5l.94-2.06 2.06-.94-2.06-.94L8.5 2.5l-.94 2.06-2.06.94zm10 10l.94 2.06.94-2.06 2.06-.94-2.06-.94-.94-2.06-.94 2.06-2.06.94z\"/><path d=\"M17.41 7.96l-1.37-1.37c-.4-.4-.92-.59-1.43-.59-.52 0-1.04.2-1.43.59L10.3 9.45l-7.72 7.72c-.78.78-.78 2.05 0 2.83L4 21.41c.39.39.9.59 1.41.59.51 0 1.02-.2 1.41-.59l7.78-7.78 2.81-2.81c.8-.78.8-2.07 0-2.86zM5.41 20L4 18.59l7.72-7.72 1.47 1.35L5.41 20z\"/>\n",
              "  </svg>\n",
              "      </button>\n",
              "      \n",
              "  <style>\n",
              "    .colab-df-container {\n",
              "      display:flex;\n",
              "      flex-wrap:wrap;\n",
              "      gap: 12px;\n",
              "    }\n",
              "\n",
              "    .colab-df-convert {\n",
              "      background-color: #E8F0FE;\n",
              "      border: none;\n",
              "      border-radius: 50%;\n",
              "      cursor: pointer;\n",
              "      display: none;\n",
              "      fill: #1967D2;\n",
              "      height: 32px;\n",
              "      padding: 0 0 0 0;\n",
              "      width: 32px;\n",
              "    }\n",
              "\n",
              "    .colab-df-convert:hover {\n",
              "      background-color: #E2EBFA;\n",
              "      box-shadow: 0px 1px 2px rgba(60, 64, 67, 0.3), 0px 1px 3px 1px rgba(60, 64, 67, 0.15);\n",
              "      fill: #174EA6;\n",
              "    }\n",
              "\n",
              "    [theme=dark] .colab-df-convert {\n",
              "      background-color: #3B4455;\n",
              "      fill: #D2E3FC;\n",
              "    }\n",
              "\n",
              "    [theme=dark] .colab-df-convert:hover {\n",
              "      background-color: #434B5C;\n",
              "      box-shadow: 0px 1px 3px 1px rgba(0, 0, 0, 0.15);\n",
              "      filter: drop-shadow(0px 1px 2px rgba(0, 0, 0, 0.3));\n",
              "      fill: #FFFFFF;\n",
              "    }\n",
              "  </style>\n",
              "\n",
              "      <script>\n",
              "        const buttonEl =\n",
              "          document.querySelector('#df-c137b1db-c9f6-4099-b958-204082927a10 button.colab-df-convert');\n",
              "        buttonEl.style.display =\n",
              "          google.colab.kernel.accessAllowed ? 'block' : 'none';\n",
              "\n",
              "        async function convertToInteractive(key) {\n",
              "          const element = document.querySelector('#df-c137b1db-c9f6-4099-b958-204082927a10');\n",
              "          const dataTable =\n",
              "            await google.colab.kernel.invokeFunction('convertToInteractive',\n",
              "                                                     [key], {});\n",
              "          if (!dataTable) return;\n",
              "\n",
              "          const docLinkHtml = 'Like what you see? Visit the ' +\n",
              "            '<a target=\"_blank\" href=https://colab.research.google.com/notebooks/data_table.ipynb>data table notebook</a>'\n",
              "            + ' to learn more about interactive tables.';\n",
              "          element.innerHTML = '';\n",
              "          dataTable['output_type'] = 'display_data';\n",
              "          await google.colab.output.renderOutput(dataTable, element);\n",
              "          const docLink = document.createElement('div');\n",
              "          docLink.innerHTML = docLinkHtml;\n",
              "          element.appendChild(docLink);\n",
              "        }\n",
              "      </script>\n",
              "    </div>\n",
              "  </div>\n",
              "  "
            ]
          },
          "metadata": {},
          "execution_count": 82
        }
      ]
    },
    {
      "cell_type": "code",
      "source": [
        "df['예매/취소일시'] = pd.to_datetime(df['예매/취소일시'])"
      ],
      "metadata": {
        "id": "NrxPPdBSPOzb"
      },
      "execution_count": null,
      "outputs": []
    },
    {
      "cell_type": "code",
      "source": [
        "df.sort_values(by='예매/취소일시')"
      ],
      "metadata": {
        "id": "ON6Rs9HXQYIt"
      },
      "execution_count": null,
      "outputs": []
    },
    {
      "cell_type": "code",
      "source": [
        "# 예매 후 취소한 거래의 과거 예매 내역 삭제\n",
        "dup = df.drop_duplicates(subset=['입장권고유번호'], keep='last')"
      ],
      "metadata": {
        "id": "PzXevxvmQhQj"
      },
      "execution_count": null,
      "outputs": []
    },
    {
      "cell_type": "code",
      "source": [],
      "metadata": {
        "id": "_XjEMEaoRdsU"
      },
      "execution_count": null,
      "outputs": []
    },
    {
      "cell_type": "code",
      "source": [
        "dup.shape"
      ],
      "metadata": {
        "colab": {
          "base_uri": "https://localhost:8080/"
        },
        "id": "cyGelGaZRTdT",
        "outputId": "5564b131-898f-4d64-911e-62aa2adeb62d"
      },
      "execution_count": null,
      "outputs": [
        {
          "output_type": "execute_result",
          "data": {
            "text/plain": [
              "(545801, 78)"
            ]
          },
          "metadata": {},
          "execution_count": 96
        }
      ]
    },
    {
      "cell_type": "code",
      "source": [
        "# df['wtp'] = df['예매/취소금액']"
      ],
      "metadata": {
        "colab": {
          "base_uri": "https://localhost:8080/"
        },
        "id": "Nu6mzRwxSdaB",
        "outputId": "0bdc9a80-0b9a-4c07-9549-18e380285be4"
      },
      "execution_count": null,
      "outputs": [
        {
          "output_type": "stream",
          "name": "stderr",
          "text": [
            "/usr/local/lib/python3.7/dist-packages/ipykernel_launcher.py:1: SettingWithCopyWarning: \n",
            "A value is trying to be set on a copy of a slice from a DataFrame.\n",
            "Try using .loc[row_indexer,col_indexer] = value instead\n",
            "\n",
            "See the caveats in the documentation: https://pandas.pydata.org/pandas-docs/stable/user_guide/indexing.html#returning-a-view-versus-a-copy\n",
            "  \"\"\"Entry point for launching an IPython kernel.\n"
          ]
        }
      ]
    },
    {
      "cell_type": "code",
      "source": [
        "df.head(1)"
      ],
      "metadata": {
        "colab": {
          "base_uri": "https://localhost:8080/",
          "height": 631
        },
        "id": "BbPCZ_s7S5Uo",
        "outputId": "5f635ed0-2793-4d55-db57-5f1d51b8e390"
      },
      "execution_count": null,
      "outputs": [
        {
          "output_type": "execute_result",
          "data": {
            "text/plain": [
              "    전송사업자코드 전송사업자명    공연시설코드      시설특성    개관연도                         주소  \\\n",
              "0  SE000102   티켓링크  FC223315  공공(문예회관)  1975.0  대구광역시 중구 태평로 141 (태평로2가)    \n",
              "\n",
              "   나이대  편의시설_레스토랑 여부  편의시설_카페 여부  편의시설_편의점 여부  편의시설_놀이방 여부  편의시설_수유실 여부  \\\n",
              "0    0             0           1            0            0            1   \n",
              "\n",
              "   장애인시설_주차장 여부  장애인시설_화장실 여부  장애인시설_경사로 여부  장애인시설_전용엘리베이터 여부  주차시설_자체 여부  \\\n",
              "0             1             1             1                 1           1   \n",
              "\n",
              "   주차시설_공영 여부        공연장코드   좌석수 장애인석  무대시설_오케스트라피트 여부  무대시설_연습실 여부  \\\n",
              "0           0  FC223315-01  1284   14                1            1   \n",
              "\n",
              "   무대시설_분장실 여부 무대시설_무대넓이      공연코드  공연회차                공연일시       입장권고유번호  \\\n",
              "0            1       344  PF314870     1 2022-06-21 19:30:00  1431527281_1   \n",
              "\n",
              "              예매/취소일시  예매/취소구분  예매/취소매수  예매/취소금액  예매/취소방식코드 예매/취소방식명(관리시스템)  \\\n",
              "0 2022-06-10 13:40:00        1        1        0         99              기타   \n",
              "\n",
              "  예매/취소방식명(전송처)  결제수단코드 결제수단명(관리시스템) 결제수단명(전송처)  할인금액  할인종류코드 할인종류명(관리시스템)  \\\n",
              "0        기획사/구단       1           현금         현금     0      99           기타   \n",
              "\n",
              "  할인종류명(전송처)  장당금액 성별    연령      공연시작일자      공연종료일자     소요시간  장르명 세부장르명 공연지역명  \\\n",
              "0        NaN     0  0  2023  2022-06-21  2022-06-21  1시간 30분  클래식    기악   경상도   \n",
              "\n",
              "                  출연진내용 제작진내용                       기획제작사명 원작자명 극작가명 수상실적  \\\n",
              "0  이광호, 이정아, 백민아, 오수진 등   NaN  한국기독교총연합회(주최), CTS기독교TV(주관)  NaN  NaN  NaN   \n",
              "\n",
              "      관람연령  아동공연 여부  축제 여부  내한공연 여부  오픈런 여부               판매시작일시  \\\n",
              "0  만 7세 이상        0      0        0       0  2022/06/09 00:00:00   \n",
              "\n",
              "                판매종료일시     좌석등급  단독판매여부 판매좌석수  \\\n",
              "0  2022/06/20 17:00:00  전석무료(0)       0    1석   \n",
              "\n",
              "                                    판매페이지URL  공연일시_연  공연일시_월  공연일시_요일  공연기간  \\\n",
              "0  http://www.ticketlink.co.kr/product/38972    2022       6        1     1   \n",
              "\n",
              "   공휴일_기념일_여부  편의시설_식음료  편의시설_아동  장애인시설  SW_무대시설  wtp  \n",
              "0           0         1        1      4        3    0  "
            ],
            "text/html": [
              "\n",
              "  <div id=\"df-a98a2534-b388-4c9f-a1af-1688684172a2\">\n",
              "    <div class=\"colab-df-container\">\n",
              "      <div>\n",
              "<style scoped>\n",
              "    .dataframe tbody tr th:only-of-type {\n",
              "        vertical-align: middle;\n",
              "    }\n",
              "\n",
              "    .dataframe tbody tr th {\n",
              "        vertical-align: top;\n",
              "    }\n",
              "\n",
              "    .dataframe thead th {\n",
              "        text-align: right;\n",
              "    }\n",
              "</style>\n",
              "<table border=\"1\" class=\"dataframe\">\n",
              "  <thead>\n",
              "    <tr style=\"text-align: right;\">\n",
              "      <th></th>\n",
              "      <th>전송사업자코드</th>\n",
              "      <th>전송사업자명</th>\n",
              "      <th>공연시설코드</th>\n",
              "      <th>시설특성</th>\n",
              "      <th>개관연도</th>\n",
              "      <th>주소</th>\n",
              "      <th>나이대</th>\n",
              "      <th>편의시설_레스토랑 여부</th>\n",
              "      <th>편의시설_카페 여부</th>\n",
              "      <th>편의시설_편의점 여부</th>\n",
              "      <th>편의시설_놀이방 여부</th>\n",
              "      <th>편의시설_수유실 여부</th>\n",
              "      <th>장애인시설_주차장 여부</th>\n",
              "      <th>장애인시설_화장실 여부</th>\n",
              "      <th>장애인시설_경사로 여부</th>\n",
              "      <th>장애인시설_전용엘리베이터 여부</th>\n",
              "      <th>주차시설_자체 여부</th>\n",
              "      <th>주차시설_공영 여부</th>\n",
              "      <th>공연장코드</th>\n",
              "      <th>좌석수</th>\n",
              "      <th>장애인석</th>\n",
              "      <th>무대시설_오케스트라피트 여부</th>\n",
              "      <th>무대시설_연습실 여부</th>\n",
              "      <th>무대시설_분장실 여부</th>\n",
              "      <th>무대시설_무대넓이</th>\n",
              "      <th>공연코드</th>\n",
              "      <th>공연회차</th>\n",
              "      <th>공연일시</th>\n",
              "      <th>입장권고유번호</th>\n",
              "      <th>예매/취소일시</th>\n",
              "      <th>예매/취소구분</th>\n",
              "      <th>예매/취소매수</th>\n",
              "      <th>예매/취소금액</th>\n",
              "      <th>예매/취소방식코드</th>\n",
              "      <th>예매/취소방식명(관리시스템)</th>\n",
              "      <th>예매/취소방식명(전송처)</th>\n",
              "      <th>결제수단코드</th>\n",
              "      <th>결제수단명(관리시스템)</th>\n",
              "      <th>결제수단명(전송처)</th>\n",
              "      <th>할인금액</th>\n",
              "      <th>할인종류코드</th>\n",
              "      <th>할인종류명(관리시스템)</th>\n",
              "      <th>할인종류명(전송처)</th>\n",
              "      <th>장당금액</th>\n",
              "      <th>성별</th>\n",
              "      <th>연령</th>\n",
              "      <th>공연시작일자</th>\n",
              "      <th>공연종료일자</th>\n",
              "      <th>소요시간</th>\n",
              "      <th>장르명</th>\n",
              "      <th>세부장르명</th>\n",
              "      <th>공연지역명</th>\n",
              "      <th>출연진내용</th>\n",
              "      <th>제작진내용</th>\n",
              "      <th>기획제작사명</th>\n",
              "      <th>원작자명</th>\n",
              "      <th>극작가명</th>\n",
              "      <th>수상실적</th>\n",
              "      <th>관람연령</th>\n",
              "      <th>아동공연 여부</th>\n",
              "      <th>축제 여부</th>\n",
              "      <th>내한공연 여부</th>\n",
              "      <th>오픈런 여부</th>\n",
              "      <th>판매시작일시</th>\n",
              "      <th>판매종료일시</th>\n",
              "      <th>좌석등급</th>\n",
              "      <th>단독판매여부</th>\n",
              "      <th>판매좌석수</th>\n",
              "      <th>판매페이지URL</th>\n",
              "      <th>공연일시_연</th>\n",
              "      <th>공연일시_월</th>\n",
              "      <th>공연일시_요일</th>\n",
              "      <th>공연기간</th>\n",
              "      <th>공휴일_기념일_여부</th>\n",
              "      <th>편의시설_식음료</th>\n",
              "      <th>편의시설_아동</th>\n",
              "      <th>장애인시설</th>\n",
              "      <th>SW_무대시설</th>\n",
              "      <th>wtp</th>\n",
              "    </tr>\n",
              "  </thead>\n",
              "  <tbody>\n",
              "    <tr>\n",
              "      <th>0</th>\n",
              "      <td>SE000102</td>\n",
              "      <td>티켓링크</td>\n",
              "      <td>FC223315</td>\n",
              "      <td>공공(문예회관)</td>\n",
              "      <td>1975.0</td>\n",
              "      <td>대구광역시 중구 태평로 141 (태평로2가)</td>\n",
              "      <td>0</td>\n",
              "      <td>0</td>\n",
              "      <td>1</td>\n",
              "      <td>0</td>\n",
              "      <td>0</td>\n",
              "      <td>1</td>\n",
              "      <td>1</td>\n",
              "      <td>1</td>\n",
              "      <td>1</td>\n",
              "      <td>1</td>\n",
              "      <td>1</td>\n",
              "      <td>0</td>\n",
              "      <td>FC223315-01</td>\n",
              "      <td>1284</td>\n",
              "      <td>14</td>\n",
              "      <td>1</td>\n",
              "      <td>1</td>\n",
              "      <td>1</td>\n",
              "      <td>344</td>\n",
              "      <td>PF314870</td>\n",
              "      <td>1</td>\n",
              "      <td>2022-06-21 19:30:00</td>\n",
              "      <td>1431527281_1</td>\n",
              "      <td>2022-06-10 13:40:00</td>\n",
              "      <td>1</td>\n",
              "      <td>1</td>\n",
              "      <td>0</td>\n",
              "      <td>99</td>\n",
              "      <td>기타</td>\n",
              "      <td>기획사/구단</td>\n",
              "      <td>1</td>\n",
              "      <td>현금</td>\n",
              "      <td>현금</td>\n",
              "      <td>0</td>\n",
              "      <td>99</td>\n",
              "      <td>기타</td>\n",
              "      <td>NaN</td>\n",
              "      <td>0</td>\n",
              "      <td>0</td>\n",
              "      <td>2023</td>\n",
              "      <td>2022-06-21</td>\n",
              "      <td>2022-06-21</td>\n",
              "      <td>1시간 30분</td>\n",
              "      <td>클래식</td>\n",
              "      <td>기악</td>\n",
              "      <td>경상도</td>\n",
              "      <td>이광호, 이정아, 백민아, 오수진 등</td>\n",
              "      <td>NaN</td>\n",
              "      <td>한국기독교총연합회(주최), CTS기독교TV(주관)</td>\n",
              "      <td>NaN</td>\n",
              "      <td>NaN</td>\n",
              "      <td>NaN</td>\n",
              "      <td>만 7세 이상</td>\n",
              "      <td>0</td>\n",
              "      <td>0</td>\n",
              "      <td>0</td>\n",
              "      <td>0</td>\n",
              "      <td>2022/06/09 00:00:00</td>\n",
              "      <td>2022/06/20 17:00:00</td>\n",
              "      <td>전석무료(0)</td>\n",
              "      <td>0</td>\n",
              "      <td>1석</td>\n",
              "      <td>http://www.ticketlink.co.kr/product/38972</td>\n",
              "      <td>2022</td>\n",
              "      <td>6</td>\n",
              "      <td>1</td>\n",
              "      <td>1</td>\n",
              "      <td>0</td>\n",
              "      <td>1</td>\n",
              "      <td>1</td>\n",
              "      <td>4</td>\n",
              "      <td>3</td>\n",
              "      <td>0</td>\n",
              "    </tr>\n",
              "  </tbody>\n",
              "</table>\n",
              "</div>\n",
              "      <button class=\"colab-df-convert\" onclick=\"convertToInteractive('df-a98a2534-b388-4c9f-a1af-1688684172a2')\"\n",
              "              title=\"Convert this dataframe to an interactive table.\"\n",
              "              style=\"display:none;\">\n",
              "        \n",
              "  <svg xmlns=\"http://www.w3.org/2000/svg\" height=\"24px\"viewBox=\"0 0 24 24\"\n",
              "       width=\"24px\">\n",
              "    <path d=\"M0 0h24v24H0V0z\" fill=\"none\"/>\n",
              "    <path d=\"M18.56 5.44l.94 2.06.94-2.06 2.06-.94-2.06-.94-.94-2.06-.94 2.06-2.06.94zm-11 1L8.5 8.5l.94-2.06 2.06-.94-2.06-.94L8.5 2.5l-.94 2.06-2.06.94zm10 10l.94 2.06.94-2.06 2.06-.94-2.06-.94-.94-2.06-.94 2.06-2.06.94z\"/><path d=\"M17.41 7.96l-1.37-1.37c-.4-.4-.92-.59-1.43-.59-.52 0-1.04.2-1.43.59L10.3 9.45l-7.72 7.72c-.78.78-.78 2.05 0 2.83L4 21.41c.39.39.9.59 1.41.59.51 0 1.02-.2 1.41-.59l7.78-7.78 2.81-2.81c.8-.78.8-2.07 0-2.86zM5.41 20L4 18.59l7.72-7.72 1.47 1.35L5.41 20z\"/>\n",
              "  </svg>\n",
              "      </button>\n",
              "      \n",
              "  <style>\n",
              "    .colab-df-container {\n",
              "      display:flex;\n",
              "      flex-wrap:wrap;\n",
              "      gap: 12px;\n",
              "    }\n",
              "\n",
              "    .colab-df-convert {\n",
              "      background-color: #E8F0FE;\n",
              "      border: none;\n",
              "      border-radius: 50%;\n",
              "      cursor: pointer;\n",
              "      display: none;\n",
              "      fill: #1967D2;\n",
              "      height: 32px;\n",
              "      padding: 0 0 0 0;\n",
              "      width: 32px;\n",
              "    }\n",
              "\n",
              "    .colab-df-convert:hover {\n",
              "      background-color: #E2EBFA;\n",
              "      box-shadow: 0px 1px 2px rgba(60, 64, 67, 0.3), 0px 1px 3px 1px rgba(60, 64, 67, 0.15);\n",
              "      fill: #174EA6;\n",
              "    }\n",
              "\n",
              "    [theme=dark] .colab-df-convert {\n",
              "      background-color: #3B4455;\n",
              "      fill: #D2E3FC;\n",
              "    }\n",
              "\n",
              "    [theme=dark] .colab-df-convert:hover {\n",
              "      background-color: #434B5C;\n",
              "      box-shadow: 0px 1px 3px 1px rgba(0, 0, 0, 0.15);\n",
              "      filter: drop-shadow(0px 1px 2px rgba(0, 0, 0, 0.3));\n",
              "      fill: #FFFFFF;\n",
              "    }\n",
              "  </style>\n",
              "\n",
              "      <script>\n",
              "        const buttonEl =\n",
              "          document.querySelector('#df-a98a2534-b388-4c9f-a1af-1688684172a2 button.colab-df-convert');\n",
              "        buttonEl.style.display =\n",
              "          google.colab.kernel.accessAllowed ? 'block' : 'none';\n",
              "\n",
              "        async function convertToInteractive(key) {\n",
              "          const element = document.querySelector('#df-a98a2534-b388-4c9f-a1af-1688684172a2');\n",
              "          const dataTable =\n",
              "            await google.colab.kernel.invokeFunction('convertToInteractive',\n",
              "                                                     [key], {});\n",
              "          if (!dataTable) return;\n",
              "\n",
              "          const docLinkHtml = 'Like what you see? Visit the ' +\n",
              "            '<a target=\"_blank\" href=https://colab.research.google.com/notebooks/data_table.ipynb>data table notebook</a>'\n",
              "            + ' to learn more about interactive tables.';\n",
              "          element.innerHTML = '';\n",
              "          dataTable['output_type'] = 'display_data';\n",
              "          await google.colab.output.renderOutput(dataTable, element);\n",
              "          const docLink = document.createElement('div');\n",
              "          docLink.innerHTML = docLinkHtml;\n",
              "          element.appendChild(docLink);\n",
              "        }\n",
              "      </script>\n",
              "    </div>\n",
              "  </div>\n",
              "  "
            ]
          },
          "metadata": {},
          "execution_count": 106
        }
      ]
    },
    {
      "cell_type": "code",
      "source": [
        "# 취소 내역에 대한 예매금액(wtp) 0으로 설정\n",
        "\n",
        "# for i in range(0, len(df['예매/취소구분'])):\n",
        "#   if df['예매/취소구분'][i] == 2 :\n",
        "#     df = df.loc[i, 'wtp'] = 0\n",
        "#     i += 1\n",
        "#   else: i += 1\n",
        "\n",
        "df.loc[df['예매/취소구분']==2, 'wtp'] = 0"
      ],
      "metadata": {
        "colab": {
          "base_uri": "https://localhost:8080/"
        },
        "id": "dbTnJyhSRpLf",
        "outputId": "51ddec96-3a33-4c45-f00d-636ca37cc379"
      },
      "execution_count": null,
      "outputs": [
        {
          "output_type": "stream",
          "name": "stderr",
          "text": [
            "/usr/local/lib/python3.7/dist-packages/pandas/core/indexing.py:1817: SettingWithCopyWarning: \n",
            "A value is trying to be set on a copy of a slice from a DataFrame.\n",
            "Try using .loc[row_indexer,col_indexer] = value instead\n",
            "\n",
            "See the caveats in the documentation: https://pandas.pydata.org/pandas-docs/stable/user_guide/indexing.html#returning-a-view-versus-a-copy\n",
            "  self._setitem_single_column(loc, value, pi)\n"
          ]
        }
      ]
    },
    {
      "cell_type": "code",
      "source": [
        "check = df[df['예매/취소구분']==2]"
      ],
      "metadata": {
        "id": "ztaQg2ZbVvO1"
      },
      "execution_count": null,
      "outputs": []
    },
    {
      "cell_type": "code",
      "source": [
        "check['wtp'].value_counts()"
      ],
      "metadata": {
        "colab": {
          "base_uri": "https://localhost:8080/"
        },
        "id": "CCGRbJFvV-4S",
        "outputId": "a4c4b7fd-3e0a-4e1e-e86e-6140345c0f87"
      },
      "execution_count": null,
      "outputs": [
        {
          "output_type": "execute_result",
          "data": {
            "text/plain": [
              "0    176146\n",
              "Name: wtp, dtype: int64"
            ]
          },
          "metadata": {},
          "execution_count": 128
        }
      ]
    },
    {
      "cell_type": "code",
      "source": [
        "df['wtp'].value_counts()"
      ],
      "metadata": {
        "colab": {
          "base_uri": "https://localhost:8080/"
        },
        "id": "eFe2u7TaWHLF",
        "outputId": "7f94d151-8ba4-4853-e785-8951ed90b106"
      },
      "execution_count": null,
      "outputs": [
        {
          "output_type": "execute_result",
          "data": {
            "text/plain": [
              "0         265597\n",
              "10000      15721\n",
              "150000     13647\n",
              "100        12822\n",
              "20000      12180\n",
              "           ...  \n",
              "7745           1\n",
              "22832          1\n",
              "29165          1\n",
              "21600          1\n",
              "34900          1\n",
              "Name: wtp, Length: 605, dtype: int64"
            ]
          },
          "metadata": {},
          "execution_count": 133
        }
      ]
    },
    {
      "cell_type": "markdown",
      "source": [
        "## 선형회귀 "
      ],
      "metadata": {
        "id": "vvLp82o5fp6S"
      }
    },
    {
      "cell_type": "code",
      "source": [
        "X = df[['공연장코드','공연코드', # \"단위\"\n",
        "         \n",
        "       '기획_제작사명', '긍부정 비율', 'ESG 이슈 정도(0,1)' # 썸트렌드 # ESG 추가         \n",
        "         \n",
        "       '시설특성'#\n",
        "\n",
        "       '편의시설_레스토랑 여부','편의시설_카페 여부', '편의시설_편의점 여부', '편의시설_놀이방 여부', '편의시설_수유실 여부', # HW_편의시설_5\n",
        "       '장애인시설_주차장 여부', '장애인시설_화장실 여부', '장애인시설_경사로 여부', '장애인시설_전용엘리베이터 여부', # HW_장애인시설_4\n",
        "       '주차시설_자체 여부', '주차시설_공영 여부', # HW_주차시설_2\n",
        "\n",
        "       '장당금액', # WTP\n",
        "\n",
        "       '성별', # 인구통계정보\n",
        "       '나이대', # 인구통계정보\n",
        "    \n",
        "       '장르명', # SW_장르명\n",
        "       '공연지역명', # SW_공연지역명\n",
        "       '무대시설_오케스트라피트 여부','무대시설_연습실 여부', '무대시설_분장실 여부', # SW_무대시설_3\n",
        "\n",
        "       '오픈런 여부', # 서비스\n",
        "\n",
        "       '아동공연 여부', # 기타 공연 특성\n",
        "\t\t\t '축제 여부', \n",
        "\t\t\t '내한공연 여부']]\n",
        "\n",
        "  Y = df['wtp']"
      ],
      "metadata": {
        "id": "0wZH-8M1WdXR"
      },
      "execution_count": null,
      "outputs": []
    },
    {
      "cell_type": "code",
      "source": [
        "from sklearn.model_selection import train_test_split\n",
        "\n",
        "x_train, x_test, y_train, y_test = train_test_split(X,Y, train_size=0.8, test_size=0.2)"
      ],
      "metadata": {
        "id": "sGntq8wYgHPb"
      },
      "execution_count": null,
      "outputs": []
    },
    {
      "cell_type": "code",
      "source": [
        "from sklearn.linear_model import LinearRegression\n",
        "\n",
        "mlr = LinearRegression()\n",
        "mlr.fit(x_train, y_train) "
      ],
      "metadata": {
        "id": "pCrrqmVzgJgp"
      },
      "execution_count": null,
      "outputs": []
    },
    {
      "cell_type": "code",
      "source": [
        "#x_test를 넣어 예측한 y 값들을 y_predict로 저장. 추후에 시험 데이터에 있는 실제 정답, 즉 y_test와 비교해보기 위함\n",
        "y_predict = mlr.predict(x_test)"
      ],
      "metadata": {
        "id": "BeV2kye5gWJO"
      },
      "execution_count": null,
      "outputs": []
    },
    {
      "cell_type": "code",
      "source": [
        "import matplotlib.pyplot as plt\n",
        "plt.scatter(y_test, y_predict, alpha=0.4)\n",
        "plt.xlabel(\"Actual wtp\")\n",
        "plt.ylabel(\"Predicted wtp\")\n",
        "plt.title(\"MULTIPLE LINEAR REGRESSION\")\n",
        "plt.show()"
      ],
      "metadata": {
        "id": "TmaRICaygcOk"
      },
      "execution_count": null,
      "outputs": []
    },
    {
      "cell_type": "code",
      "source": [
        "# 검증데이터에 대한 예측값과 true값 비교 시각화\n",
        "\n",
        "plt.plot(np.array(fit_train1.predict(test_x)),label = \"pred\")\n",
        "plt.plot(np.array(test_y),label = \"true\")\n",
        "plt.legend()\n",
        "plt.show()"
      ],
      "metadata": {
        "id": "AE4xwnNmiYyC"
      },
      "execution_count": null,
      "outputs": []
    },
    {
      "cell_type": "markdown",
      "source": [
        "### 회귀계수, 상수 확인, 상관 살펴보기"
      ],
      "metadata": {
        "id": "6eGMDhQ7ghgL"
      }
    },
    {
      "cell_type": "code",
      "source": [
        "print(mlr.coef_)"
      ],
      "metadata": {
        "id": "P61eimzdgkf4"
      },
      "execution_count": null,
      "outputs": []
    },
    {
      "cell_type": "markdown",
      "source": [
        "![image.png](data:image/png;base64,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)"
      ],
      "metadata": {
        "id": "KktHnC8Zgs6v"
      }
    },
    {
      "cell_type": "code",
      "source": [
        "sns.pairplot(x_data2)\n",
        "plt.show()"
      ],
      "metadata": {
        "id": "0L10jDDqiJll"
      },
      "execution_count": null,
      "outputs": []
    },
    {
      "cell_type": "markdown",
      "source": [
        "위처럼 각 변수별로 시각화 자료 생성하기"
      ],
      "metadata": {
        "id": "_gjwmOvugvRk"
      }
    },
    {
      "cell_type": "markdown",
      "source": [
        "위에서 데이터 세트를 나눠놨기 때문에 학습 시킨 모델을 테스트 할 수 있다.\n",
        "\n",
        "다중선형회귀 모델의 정확도를 평가할 때는 잔차 분석(Analysis)을 하면 된다. 잔차는 실제 값 y와 예측된 값 ŷ의 차 e를 말한다. \n",
        "결정계수 R²가 클수록 실제값과 예측값이 유사함을 의미하며, 데이터를 잘 설명한다고 이해하자.\n",
        "\n",
        "그러니 모델이 얼마나 정확한지 평가할 때도 이 결정계수 R²가 기준이 될 수 있는 거다.\n",
        " 주택 사이즈(“size_sqft”)와 침실 개수(“bedrooms”)를 기준으로 임대료를 예측하는 모델의 R²이 0.72인 경우 그 2개의 변수들이 함께 임대료 변동의 72%를 설명한다는 뜻이다.\n",
        "\n",
        "여기에 다른 x 변수, 주택이 얼마나 오래 전에 지어졌는지(“building_age_yrs”)를 모델에 추가하면 새로운 R²가 0.95로 증가했다고 하자. 그럼 주택 사이즈(“size_sqft”), 침실 개수(“bedrooms”), 얼마나 오래 전에 지어졌는지(“building_age_yrs”) 이 3개의 변수가 함께 임대료 변동의 95%를 설명한다는 거다.\n",
        "최선의 R²는 1이겠지만 그건 말이 안 되고, 일반적으로 0.7 정도면 양호한 것으로 간주"
      ],
      "metadata": {
        "id": "66c9eKlpg69_"
      }
    },
    {
      "cell_type": "code",
      "source": [
        "print(mlr.score(x_train, y_train))"
      ],
      "metadata": {
        "id": "KX7gPqt7g0Tn"
      },
      "execution_count": null,
      "outputs": []
    },
    {
      "cell_type": "markdown",
      "source": [
        "## 다중공선성"
      ],
      "metadata": {
        "id": "yw37fbPJhJ4_"
      }
    },
    {
      "cell_type": "markdown",
      "source": [
        "분산팽창인자 VIF 가 10보다 크면 다중공선성이 존재한다고 판단"
      ],
      "metadata": {
        "id": "wPEWJeiwhYpb"
      }
    },
    {
      "cell_type": "code",
      "source": [
        "from statsmodels.formula.api import ols\n",
        "from statsmodels.stats.outliers_influence import variance_inflation_factor"
      ],
      "metadata": {
        "id": "wUWpYzwxhLLX"
      },
      "execution_count": null,
      "outputs": []
    },
    {
      "cell_type": "code",
      "source": [
        "# 직접 구현\n",
        "\n",
        "def standardize_var(x):\n",
        "    mean = np.mean(x)\n",
        "    std = np.sqrt(np.sum(np.square(x-mean))/(len(x)-1))\n",
        "    return ((x-mean)/std)/np.sqrt(len(x)-1)\n",
        " \n",
        "sdf = df.apply(standardize_var) ## 데이터 표준화\n",
        "sdf_X = sdf[['Tricep_ST', 'Thigh_C', 'Midarm_C']]\n",
        "corr = np.array(sdf_X.corr()) ## 상관계수 행렬\n",
        "corr_inv = np.linalg.inv(corr) ## 상관계수행렬의 역행렬\n",
        " \n",
        "## standardized된 변수들로 이루어진 선형 회귀모형은 절편항이 없다. \n",
        "## 따라서 절편항은 제외한다. 포함시켜도 절편항이 0에 가까운 값으로 추정된다.\n",
        "fit = ols('Body_fat~Tricep_ST+Thigh_C+Midarm_C-1',data=sdf).fit()\n",
        " \n",
        "variables = [] ## 변수 이름\n",
        "reg_coef = [] ## 해당 변수의 회귀 계수\n",
        "vif = [] ## 해당 변수의 분산팽창인자\n",
        "for i in range(len(sdf_X.columns)):\n",
        "    col_name = sdf_X.columns[i]\n",
        "    variables.append(col_name)\n",
        "    reg_coef.append(fit.params[col_name])\n",
        "    vif.append(corr_inv[i][i])\n",
        "    \n",
        "df_res = pd.DataFrame()\n",
        "df_res['Variable'] = variables\n",
        "df_res['Estimate'] = reg_coef\n",
        "df_res['VIF'] = vif"
      ],
      "metadata": {
        "id": "nAB7y81Ghku4"
      },
      "execution_count": null,
      "outputs": []
    },
    {
      "cell_type": "code",
      "source": [
        "# 패키지\n",
        "## 모형 정의(실제적합은 일어나지 않는다.) \n",
        "model = ols('Body_fat~Tricep_ST+Thigh_C+Midarm_C-1',data=sdf)\n",
        " \n",
        "variables = []\n",
        "reg_coef = []\n",
        "vif = []\n",
        "for i in range(len(model.exog_names)):\n",
        "    col_name = model.exog_names[i]\n",
        "    variables.append(col_name)\n",
        "    reg_coef.append(model.fit().params[col_name])\n",
        "    vif.append(variance_inflation_factor(model.exog, i))\n",
        "    \n",
        "df_res = pd.DataFrame()\n",
        "df_res['Variable'] = variables\n",
        "df_res['Estimate'] = reg_coef\n",
        "df_res['VIF'] = vif"
      ],
      "metadata": {
        "id": "2io1iTsChr_e"
      },
      "execution_count": null,
      "outputs": []
    },
    {
      "cell_type": "markdown",
      "source": [
        "![image.png](data:image/png;base64,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)"
      ],
      "metadata": {
        "id": "uVNt5OIVh4OM"
      }
    },
    {
      "cell_type": "markdown",
      "source": [
        "https://zephyrus1111.tistory.com/66"
      ],
      "metadata": {
        "id": "vaqhrC0Wh-k4"
      }
    },
    {
      "cell_type": "markdown",
      "source": [
        "https://todayisbetterthanyesterday.tistory.com/8"
      ],
      "metadata": {
        "id": "X0bJKU1Cic9r"
      }
    }
  ]
}